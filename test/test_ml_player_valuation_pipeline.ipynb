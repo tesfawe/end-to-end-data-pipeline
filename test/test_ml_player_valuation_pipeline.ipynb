{
 "cells": [
  {
   "cell_type": "code",
   "execution_count": 0,
   "metadata": {
    "application/vnd.databricks.v1+cell": {
     "cellMetadata": {
      "byteLimit": 2048000,
      "implicitDf": true,
      "rowLimit": 10000
     },
     "inputWidgets": {},
     "nuid": "48129364-ce0b-4c16-ba3c-043a3c1eab84",
     "showTitle": false,
     "tableResultSettingsMap": {},
     "title": ""
    }
   },
   "outputs": [
    {
     "output_type": "display_data",
     "data": {
      "text/html": [
       "<style scoped>\n",
       "  .table-result-container {\n",
       "    max-height: 300px;\n",
       "    overflow: auto;\n",
       "  }\n",
       "  table, th, td {\n",
       "    border: 1px solid black;\n",
       "    border-collapse: collapse;\n",
       "  }\n",
       "  th, td {\n",
       "    padding: 5px;\n",
       "  }\n",
       "  th {\n",
       "    text-align: left;\n",
       "  }\n",
       "</style><div class='table-result-container'><table class='table-result'><thead style='background-color: white'><tr></tr></thead><tbody></tbody></table></div>"
      ]
     },
     "metadata": {
      "application/vnd.databricks.v1+output": {
       "addedWidgets": {},
       "aggData": [],
       "aggError": "",
       "aggOverflow": false,
       "aggSchema": [],
       "aggSeriesLimitReached": false,
       "aggType": "",
       "arguments": {},
       "columnCustomDisplayInfos": {},
       "data": [],
       "datasetInfos": [],
       "dbfsResultPath": null,
       "isJsonSchema": true,
       "metadata": {
        "dataframeName": null
       },
       "overflow": false,
       "plotOptions": {
        "customPlotOptions": {},
        "displayType": "table",
        "pivotAggregation": null,
        "pivotColumns": null,
        "xColumns": null,
        "yColumns": null
       },
       "removedWidgets": [],
       "schema": [],
       "type": "table"
      }
     },
     "output_type": "display_data"
    }
   ],
   "source": [
    "%sql\n",
    "CREATE SCHEMA IF NOT EXISTS test;"
   ]
  },
  {
   "cell_type": "code",
   "execution_count": 0,
   "metadata": {
    "application/vnd.databricks.v1+cell": {
     "cellMetadata": {
      "byteLimit": 2048000,
      "rowLimit": 10000
     },
     "inputWidgets": {},
     "nuid": "2bb37edc-d6dc-47d2-af01-2c13451f5918",
     "showTitle": false,
     "tableResultSettingsMap": {},
     "title": ""
    }
   },
   "outputs": [
    {
     "output_type": "display_data",
     "data": {
      "application/vnd.jupyter.widget-view+json": {
       "model_id": "6456d7b8707a454895c7e85e517eb600",
       "version_major": 2,
       "version_minor": 0
      },
      "text/plain": [
       "Uploading artifacts:   0%|          | 0/9 [00:00<?, ?it/s]"
      ]
     },
     "metadata": {},
     "output_type": "display_data"
    },
    {
     "output_type": "stream",
     "name": "stderr",
     "output_type": "stream",
     "text": [
      "/databricks/python/lib/python3.12/site-packages/sklearn/metrics/_regression.py:1187: UndefinedMetricWarning: R^2 score is not well-defined with less than two samples.\n  warnings.warn(msg, UndefinedMetricWarning)\n2025/03/23 09:56:35 INFO mlflow.tracking._tracking_service.client: 🏃 View run useful-chimp-794 at: adb-4332105040219628.8.azuredatabricks.net/ml/experiments/1684593945464055/runs/5e43e45ad94e48a7989f3fb0964a4783.\n2025/03/23 09:56:35 INFO mlflow.tracking._tracking_service.client: 🧪 View experiment at: adb-4332105040219628.8.azuredatabricks.net/ml/experiments/1684593945464055.\ntest_data_loading (__main__.TestPlayerValuationPipeline.test_data_loading)\nTest if input data is loaded correctly ... ok\ntest_model_training (__main__.TestPlayerValuationPipeline.test_model_training)\nTest model initialization and training ... ok\ntest_output_generation (__main__.TestPlayerValuationPipeline.test_output_generation)\nTest output table creation ... ok\ntest_preprocessing (__main__.TestPlayerValuationPipeline.test_preprocessing)\nTest feature engineering steps ... ok\ntest_train_test_split (__main__.TestPlayerValuationPipeline.test_train_test_split)\nTest data splitting ... ok\n\n----------------------------------------------------------------------\nRan 5 tests in 19.820s\n\nOK\n"
     ]
    },
    {
     "output_type": "stream",
     "name": "stdout",
     "output_type": "stream",
     "text": [
      "\nMLflow logging verified successfully!\nAll tests passed successfully!\n"
     ]
    }
   ],
   "source": [
    "# Import required libraries\n",
    "import unittest\n",
    "from pyspark.sql import SparkSession\n",
    "from pyspark.sql.types import *\n",
    "import mlflow\n",
    "from xgboost import XGBRegressor\n",
    "from sklearn.metrics import mean_absolute_error, r2_score\n",
    "\n",
    "# Create test tables\n",
    "test_input_table = \"test.player_stats_and_valuations\"\n",
    "test_output_table = \"test.player_predictions\"\n",
    "\n",
    "# Create test data schema\n",
    "schema = StructType([\n",
    "    StructField(\"player_id\", IntegerType()),\n",
    "    StructField(\"first_name\", StringType()),\n",
    "    StructField(\"last_name\", StringType()),\n",
    "    StructField(\"position\", StringType()),\n",
    "    StructField(\"foot\", StringType()),\n",
    "    StructField(\"age\", IntegerType()),\n",
    "    StructField(\"height_in_cm\", IntegerType()),\n",
    "    StructField(\"contract_months_left_to_expire\", IntegerType()),\n",
    "    StructField(\"total_goals\", IntegerType()),\n",
    "    StructField(\"total_assists\", IntegerType()),\n",
    "    StructField(\"avg_minutes_played\", FloatType()),\n",
    "    StructField(\"total_yellow_cards\", IntegerType()),\n",
    "    StructField(\"total_red_cards\", IntegerType()),\n",
    "    StructField(\"total_game_events\", IntegerType()),\n",
    "    StructField(\"max_market_value_at_transfer\", FloatType()),\n",
    "    StructField(\"min_market_value_at_transfer\", FloatType()),\n",
    "    StructField(\"squad_size\", IntegerType()),\n",
    "    StructField(\"average_age\", FloatType()),\n",
    "    StructField(\"foreigners_percentage\", FloatType()),\n",
    "    StructField(\"is_major_national_league\", BooleanType()),\n",
    "    StructField(\"market_value_in_eur\", FloatType())\n",
    "])\n",
    "\n",
    "# Create test data\n",
    "test_data = [\n",
    "    (1, \"Test\", \"Player1\", \"Forward\", \"Right\", 25, 180, 12, 10, 5, 90.0, 2, 0, 20, 1000000.0, 500000.0, 25, 26.0, 50.0, True, 750000.0),\n",
    "    (2, \"Test\", \"Player2\", \"Midfielder\", \"Left\", 28, 175, 6, 5, 10, 85.5, 1, 0, 15, 800000.0, 400000.0, 30, 27.5, 60.0, False, 600000.0)\n",
    "]\n",
    "\n",
    "spark = SparkSession.builder.getOrCreate()\n",
    "test_df = spark.createDataFrame(test_data, schema=schema)\n",
    "test_df.write.format(\"delta\").mode(\"overwrite\").saveAsTable(test_input_table)\n",
    "\n",
    "\n",
    "class TestPlayerValuationPipeline(unittest.TestCase):\n",
    "    \n",
    "    @classmethod\n",
    "    def setUpClass(cls):\n",
    "        cls.spark = SparkSession.builder.getOrCreate()\n",
    "        \n",
    "        # Define parameters here\n",
    "        cls.parameters = {\n",
    "            \"colsample_bytree\": 0.4816791503913271,\n",
    "            \"learning_rate\": 0.012644116888864644,\n",
    "            \"max_depth\": 9,\n",
    "            \"min_child_weight\": 7,\n",
    "            \"n_estimators\": 656,\n",
    "            \"n_jobs\": 100,\n",
    "            \"subsample\": 0.5964879726165608,\n",
    "            \"verbosity\": 0,\n",
    "            \"random_state\": 614612684,\n",
    "        }\n",
    "\n",
    "        # Run the production pipeline with test data\n",
    "        global input_table, output_table\n",
    "        input_table = test_input_table\n",
    "        output_table = test_output_table\n",
    "        \n",
    "        try:\n",
    "            # Load input data\n",
    "            cls.data = cls.spark.read.format(\"delta\").table(input_table)\n",
    "            \n",
    "            # Preprocessing\n",
    "            from pyspark.ml.feature import StringIndexer, VectorAssembler\n",
    "            \n",
    "            indexers = [\n",
    "                StringIndexer(inputCol=column, outputCol=f\"{column}_indexed\").fit(cls.data)\n",
    "                for column in [\"position\", \"foot\"]\n",
    "            ]\n",
    "            for indexer in indexers:\n",
    "                cls.data = indexer.transform(cls.data)\n",
    "            cls.data = cls.data.drop(\"position\", \"foot\")\n",
    "            \n",
    "            cls.feature_columns = [\n",
    "                \"position_indexed\", \"foot_indexed\", \"age\", \"height_in_cm\",\n",
    "                \"contract_months_left_to_expire\", \"total_goals\", \"total_assists\",\n",
    "                \"avg_minutes_played\", \"total_yellow_cards\", \"total_red_cards\",\n",
    "                \"total_game_events\", \"max_market_value_at_transfer\", \n",
    "                \"min_market_value_at_transfer\", \"squad_size\", \"average_age\",\n",
    "                \"foreigners_percentage\", \"is_major_national_league\"\n",
    "            ]\n",
    "            \n",
    "            assembler = VectorAssembler(inputCols=cls.feature_columns, outputCol=\"features\")\n",
    "            cls.data = assembler.transform(cls.data).select(\"player_id\", \"first_name\", \"last_name\", \n",
    "                                                          \"features\", \"market_value_in_eur\")\n",
    "            \n",
    "            # Train-test split\n",
    "            cls.train_data, cls.test_data = cls.data.randomSplit([0.8, 0.2], seed=42)\n",
    "            \n",
    "            # Model training\n",
    "            cls.model = XGBRegressor(**cls.parameters)\n",
    "            train_pdf = cls.train_data.toPandas()\n",
    "            cls.X_train = train_pdf[\"features\"].apply(lambda x: x.toArray()).tolist()\n",
    "            cls.y_train = train_pdf[\"market_value_in_eur\"].values\n",
    "            cls.model.fit(cls.X_train, cls.y_train)\n",
    "            \n",
    "            # Generate predictions\n",
    "            test_pdf = cls.test_data.toPandas()\n",
    "            cls.X_test = test_pdf[\"features\"].apply(lambda x: x.toArray()).tolist()\n",
    "            cls.y_test = test_pdf[\"market_value_in_eur\"].values\n",
    "            cls.y_pred = cls.model.predict(cls.X_test)\n",
    "            \n",
    "            # Log metrics to MLflow\n",
    "            mae = mean_absolute_error(cls.y_test, cls.y_pred)\n",
    "            r2 = r2_score(cls.y_test, cls.y_pred)\n",
    "            with mlflow.start_run() as run:\n",
    "                mlflow.log_metric(\"MAE\", mae)\n",
    "                mlflow.log_metric(\"R2\", r2)\n",
    "                for param, value in cls.parameters.items():\n",
    "                    mlflow.log_param(param, value)\n",
    "            \n",
    "            # Save predictions\n",
    "            test_pdf['actual_market_value'] = cls.y_test\n",
    "            test_pdf['predicted_market_value'] = cls.y_pred\n",
    "            \n",
    "            # Select only the required columns for the output\n",
    "            output_columns = [\"player_id\", \"first_name\", \"last_name\", \"actual_market_value\", \"predicted_market_value\"]\n",
    "            predictions_df = spark.createDataFrame(test_pdf[output_columns])\n",
    "            predictions_df.write.format(\"delta\").mode(\"overwrite\").saveAsTable(output_table)\n",
    "            \n",
    "        except Exception as e:\n",
    "            raise RuntimeError(f\"Pipeline execution failed: {e}\")\n",
    "\n",
    "    def test_data_loading(self):\n",
    "        \"\"\"Test if input data is loaded correctly\"\"\"\n",
    "        self.assertIsNotNone(self.data)\n",
    "        self.assertGreater(self.data.count(), 0)\n",
    "        self.assertTrue(\"market_value_in_eur\" in self.data.columns)\n",
    "\n",
    "    def test_preprocessing(self):\n",
    "        \"\"\"Test feature engineering steps\"\"\"\n",
    "        columns = self.data.columns\n",
    "        self.assertNotIn(\"position\", columns)\n",
    "        self.assertNotIn(\"foot\", columns)\n",
    "        self.assertIn(\"features\", columns)\n",
    "\n",
    "    def test_train_test_split(self):\n",
    "        \"\"\"Test data splitting\"\"\"\n",
    "        total_count = self.data.count()\n",
    "        train_count = self.train_data.count()\n",
    "        test_count = self.test_data.count()\n",
    "        \n",
    "        self.assertGreater(train_count, 0)\n",
    "        self.assertGreater(test_count, 0)\n",
    "        self.assertEqual(train_count + test_count, total_count)\n",
    "\n",
    "    def test_model_training(self):\n",
    "        \"\"\"Test model initialization and training\"\"\"\n",
    "        self.assertEqual(len(self.model.feature_importances_), \n",
    "                         len(self.feature_columns))\n",
    "\n",
    "    def test_output_generation(self):\n",
    "        \"\"\"Test output table creation\"\"\"\n",
    "        output_df = self.spark.read.table(test_output_table)\n",
    "        required_columns = {\"player_id\", \"first_name\", \"last_name\",\n",
    "                           \"actual_market_value\", \"predicted_market_value\"}\n",
    "        self.assertTrue(required_columns.issubset(set(output_df.columns)))\n",
    "\n",
    "    @classmethod\n",
    "    def tearDownClass(cls):\n",
    "        \"\"\"Clean up test tables\"\"\"\n",
    "        cls.spark.sql(f\"DROP TABLE IF EXISTS {test_input_table}\")\n",
    "        cls.spark.sql(f\"DROP TABLE IF EXISTS {test_output_table}\")\n",
    "\n",
    "\n",
    "# Run Tests\n",
    "\n",
    "suite = unittest.TestLoader().loadTestsFromTestCase(TestPlayerValuationPipeline)\n",
    "runner = unittest.TextTestRunner(verbosity=2)\n",
    "test_result = runner.run(suite)\n",
    "\n",
    "\n",
    "# Verify MLflow logging\n",
    "runs = mlflow.search_runs()\n",
    "if runs.empty:\n",
    "    raise RuntimeError(\"No MLflow runs found. Please ensure metrics and parameters are logged.\")\n",
    "\n",
    "latest_run = runs.iloc[0]\n",
    "\n",
    "# Check if active run exists\n",
    "assert mlflow.active_run() is None, \"Active run found - did you forget to end the run?\"\n",
    "\n",
    "# Verify metrics\n",
    "assert \"metrics.MAE\" in latest_run, \"MAE metric not logged\"\n",
    "assert \"metrics.R2\" in latest_run, \"R2 metric not logged\"\n",
    "\n",
    "# Verify parameters\n",
    "assert \"params.n_estimators\" in latest_run, \"Model parameters not logged\"\n",
    "\n",
    "print(\"\\nMLflow logging verified successfully!\")\n",
    "\n",
    "if test_result.wasSuccessful():\n",
    "    print(\"All tests passed successfully!\")\n",
    "else:\n",
    "    print(\"Some tests failed. Please check the output above for details.\")\n",
    "    "
   ]
  },
  {
   "cell_type": "code",
   "execution_count": 0,
   "metadata": {
    "application/vnd.databricks.v1+cell": {
     "cellMetadata": {
      "byteLimit": 2048000,
      "rowLimit": 10000
     },
     "inputWidgets": {},
     "nuid": "358b4b3b-5cff-46d0-8c6c-b7da027f1bdd",
     "showTitle": false,
     "tableResultSettingsMap": {},
     "title": ""
    }
   },
   "outputs": [],
   "source": []
  }
 ],
 "metadata": {
  "application/vnd.databricks.v1+notebook": {
   "computePreferences": null,
   "dashboards": [],
   "environmentMetadata": {
    "base_environment": "",
    "environment_version": "2"
   },
   "language": "python",
   "notebookMetadata": {
    "mostRecentlyExecutedCommandWithImplicitDF": {
     "commandId": 5683152045702643,
     "dataframes": [
      "_sqldf"
     ]
    },
    "pythonIndentUnit": 4
   },
   "notebookName": "test_ml_player_valuation_pipeline",
   "widgets": {}
  },
  "language_info": {
   "name": "python"
  }
 },
 "nbformat": 4,
 "nbformat_minor": 0
}