{
 "cells": [
  {
   "cell_type": "code",
   "execution_count": 0,
   "metadata": {
    "application/vnd.databricks.v1+cell": {
     "cellMetadata": {
      "byteLimit": 2048000,
      "rowLimit": 10000
     },
     "inputWidgets": {},
     "nuid": "52df4751-bbb7-45d8-bcaf-0d2c211db1b8",
     "showTitle": false,
     "tableResultSettingsMap": {},
     "title": ""
    }
   },
   "outputs": [
    {
     "output_type": "stream",
     "name": "stdout",
     "output_type": "stream",
     "text": [
      "Collecting pytest\n  Downloading pytest-8.3.5-py3-none-any.whl.metadata (7.6 kB)\nCollecting iniconfig (from pytest)\n  Downloading iniconfig-2.0.0-py3-none-any.whl.metadata (2.6 kB)\nRequirement already satisfied: packaging in /databricks/python3/lib/python3.12/site-packages (from pytest) (24.1)\nCollecting pluggy<2,>=1.5 (from pytest)\n  Downloading pluggy-1.5.0-py3-none-any.whl.metadata (4.8 kB)\nDownloading pytest-8.3.5-py3-none-any.whl (343 kB)\n\u001B[?25l   \u001B[90m━━━━━━━━━━━━━━━━━━━━━━━━━━━━━━━━━━━━━━━━\u001B[0m \u001B[32m0.0/343.6 kB\u001B[0m \u001B[31m?\u001B[0m eta \u001B[36m-:--:--\u001B[0m\n\u001B[2K   \u001B[91m━━━━━━━━━━━━━━━━━━━━━━━━━━━━━━━━━━━━\u001B[0m\u001B[91m╸\u001B[0m\u001B[90m━━━\u001B[0m \u001B[32m317.4/343.6 kB\u001B[0m \u001B[31m9.4 MB/s\u001B[0m eta \u001B[36m0:00:01\u001B[0m\n\u001B[2K   \u001B[90m━━━━━━━━━━━━━━━━━━━━━━━━━━━━━━━━━━━━━━━━\u001B[0m \u001B[32m343.6/343.6 kB\u001B[0m \u001B[31m6.6 MB/s\u001B[0m eta \u001B[36m0:00:00\u001B[0m\n\u001B[?25hDownloading pluggy-1.5.0-py3-none-any.whl (20 kB)\nDownloading iniconfig-2.0.0-py3-none-any.whl (5.9 kB)\nInstalling collected packages: pluggy, iniconfig, pytest\n  Attempting uninstall: pluggy\n    Found existing installation: pluggy 1.0.0\n    Not uninstalling pluggy at /databricks/python3/lib/python3.12/site-packages, outside environment /local_disk0/.ephemeral_nfs/envs/pythonEnv-557e5d47-9eda-44bb-b223-4af0f95784e6\n    Can't uninstall 'pluggy'. No files were found to uninstall.\nSuccessfully installed iniconfig-2.0.0 pluggy-1.5.0 pytest-8.3.5\n\u001B[43mNote: you may need to restart the kernel using %restart_python or dbutils.library.restartPython() to use updated packages.\u001B[0m\n"
     ]
    }
   ],
   "source": [
    "%pip install pytest\n",
    "dbutils.library.restartPython()\n"
   ]
  },
  {
   "cell_type": "code",
   "execution_count": 0,
   "metadata": {
    "application/vnd.databricks.v1+cell": {
     "cellMetadata": {
      "byteLimit": 2048000,
      "rowLimit": 10000
     },
     "inputWidgets": {},
     "nuid": "fb9bd3f9-0888-4631-9ead-69269074b2f5",
     "showTitle": false,
     "tableResultSettingsMap": {},
     "title": ""
    }
   },
   "outputs": [],
   "source": [
    "import pytest\n",
    "import logging\n",
    "from pyspark.testing import assertSchemaEqual\n",
    "from pyspark.sql.types import StructType, StructField, StringType, IntegerType, DateType, BooleanType, DoubleType, FloatType\n",
    "\n",
    "# Enable logging\n",
    "logging.basicConfig(level=logging.INFO)\n",
    "\n",
    "# Define the expected schemas for different tables\n",
    "expected_schemas = {\n",
    "    \"silver.appearance\": StructType([\n",
    "        StructField(\"appearance_id\", StringType(), True),  \n",
    "        StructField(\"game_id\", IntegerType(), True),\n",
    "        StructField(\"player_id\", IntegerType(), True),\n",
    "        StructField(\"player_club_id\", IntegerType(), True),\n",
    "        StructField(\"player_current_club_id\", IntegerType(), True),\n",
    "        StructField(\"date\", DateType(), True), \n",
    "        StructField(\"player_name\", StringType(), True),\n",
    "        StructField(\"competition_id\", StringType(), True),\n",
    "        StructField(\"yellow_cards\", IntegerType(), True),\n",
    "        StructField(\"red_cards\", IntegerType(), True),\n",
    "        StructField(\"goals\", IntegerType(), True),\n",
    "        StructField(\"assists\", IntegerType(), True),\n",
    "        StructField(\"minutes_played\", IntegerType(), True)\n",
    "    ]),\n",
    "    \"silver.game_events\": StructType([\n",
    "        StructField(\"game_event_id\", StringType(), True),\n",
    "        StructField(\"date\", DateType(), True),\n",
    "        StructField(\"game_id\", IntegerType(), True),\n",
    "        StructField(\"minute\", IntegerType(), True),\n",
    "        StructField(\"type\", StringType(), True),\n",
    "        StructField(\"club_id\", IntegerType(), True),\n",
    "        StructField(\"player_id\", IntegerType(), True),\n",
    "        StructField(\"description\", StringType(), True)\n",
    "    ]),\n",
    "    \"silver.club_games\": StructType([\n",
    "        StructField(\"game_id\", IntegerType(), True),\n",
    "        StructField(\"club_id\", IntegerType(), True),\n",
    "        StructField(\"own_goals\", IntegerType(), True),\n",
    "        StructField(\"own_position\", IntegerType(), True),\n",
    "        StructField(\"own_manager_name\", StringType(), True),\n",
    "        StructField(\"opponent_id\", IntegerType(), True),\n",
    "        StructField(\"opponent_goals\", IntegerType(), True),\n",
    "        StructField(\"opponent_position\", IntegerType(), True),\n",
    "        StructField(\"opponent_manager_name\", StringType(), True),\n",
    "        StructField(\"hosting\", StringType(), True),\n",
    "        StructField(\"is_win\", BooleanType(), True)\n",
    "    ]), \n",
    "    \"silver.clubs\": StructType([\n",
    "        StructField(\"club_id\", IntegerType(), True),\n",
    "        StructField(\"club_code\", StringType(), True),\n",
    "        StructField(\"name\", StringType(), True),\n",
    "        StructField(\"domestic_competition_id\", IntegerType(), True),\n",
    "        StructField(\"squad_size\", IntegerType(), True),\n",
    "        StructField(\"average_age\", DoubleType(), True),\n",
    "        StructField(\"foreigners_number\", IntegerType(), True),\n",
    "        StructField(\"foreigners_percentage\", DoubleType(), True),\n",
    "        StructField(\"national_team_players\", IntegerType(), True),\n",
    "        StructField(\"stadium_name\", StringType(), True),\n",
    "        StructField(\"stadium_seats\", IntegerType(), True),\n",
    "        StructField(\"net_transfer_record\", StringType(), True),\n",
    "        StructField(\"last_season\", IntegerType(), True),\n",
    "        StructField(\"filename\", StringType(), True),\n",
    "        StructField(\"url\", StringType(), True)\n",
    "    ]),\n",
    "    \"silver.competitions\": StructType([\n",
    "        StructField(\"competition_id\", StringType(), True),\n",
    "        StructField(\"competition_code\", StringType(), True),\n",
    "        StructField(\"name\", StringType(), True),\n",
    "        StructField(\"sub_type\", StringType(), True),\n",
    "        StructField(\"type\", StringType(), True),\n",
    "        StructField(\"country_id\", IntegerType(), True),\n",
    "        StructField(\"country_name\", StringType(), True),\n",
    "        StructField(\"domestic_league_code\", StringType(), True),\n",
    "        StructField(\"confederation\", StringType(), True),\n",
    "        StructField(\"is_major_national_league\", BooleanType(), True)\n",
    "    ]), \n",
    "    \"silver.game_events\": StructType([\n",
    "        StructField(\"game_event_id\", StringType(), True),\n",
    "        StructField(\"date\", DateType(), True),\n",
    "        StructField(\"game_id\", IntegerType(), True),\n",
    "        StructField(\"minute\", IntegerType(), True),\n",
    "        StructField(\"type\", StringType(), True),\n",
    "        StructField(\"club_id\", IntegerType(), True),\n",
    "        StructField(\"player_id\", IntegerType(), True),\n",
    "        StructField(\"description\", StringType(), True)\n",
    "    ]), \n",
    "    \"silver.game_lineups\": StructType([\n",
    "        StructField(\"date\", StringType(), True),\n",
    "        StructField(\"game_id\", IntegerType(), True),\n",
    "        StructField(\"player_id\", IntegerType(), True),\n",
    "        StructField(\"club_id\", IntegerType(), True),\n",
    "        StructField(\"player_name\", StringType(), True),\n",
    "        StructField(\"type\", StringType(), True),\n",
    "        StructField(\"position\", StringType(), True),\n",
    "        StructField(\"number\", IntegerType(), True)\n",
    "    ]),\n",
    "    \"silver.games\": StructType([\n",
    "        StructField(\"game_id\", IntegerType(), True),\n",
    "        StructField(\"competition_id\", StringType(), True),\n",
    "        StructField(\"season\", IntegerType(), True),\n",
    "        StructField(\"round\", StringType(), True),\n",
    "        StructField(\"date\", DateType(), True),\n",
    "        StructField(\"home_club_id\", IntegerType(), True),\n",
    "        StructField(\"away_club_id\", IntegerType(), True),\n",
    "        StructField(\"home_club_goals\", IntegerType(), True),\n",
    "        StructField(\"away_club_goals\", IntegerType(), True),\n",
    "        StructField(\"home_club_position\", FloatType(), True),\n",
    "        StructField(\"away_club_position\", FloatType(), True),\n",
    "        StructField(\"home_club_manager_name\", StringType(), True),\n",
    "        StructField(\"away_club_manager_name\", StringType(), True),\n",
    "        StructField(\"stadium\", StringType(), True),\n",
    "        StructField(\"attendance\", IntegerType(), True),\n",
    "        StructField(\"referee\", StringType(), True),\n",
    "        StructField(\"home_club_formation\", StringType(), True),\n",
    "        StructField(\"away_club_formation\", StringType(), True),\n",
    "        StructField(\"home_club_name\", StringType(), True),\n",
    "        StructField(\"away_club_name\", StringType(), True),\n",
    "        StructField(\"competition_type\", StringType(), True)\n",
    "    ]),\n",
    "    \"silver.player_valuations\": StructType([\n",
    "        StructField(\"player_id\", IntegerType(), True),\n",
    "        StructField(\"date\", DateType(), True),\n",
    "        StructField(\"market_value_in_eur\", FloatType(), True),\n",
    "        StructField(\"current_club_id\", IntegerType(), True),\n",
    "        StructField(\"player_club_domestic_competition_id\", StringType(), True)\n",
    "    ]),\n",
    "    \"silver.players\": StructType([\n",
    "        StructField(\"player_id\", IntegerType(), True),\n",
    "        StructField(\"first_name\", StringType(), True),\n",
    "        StructField(\"last_name\", StringType(), True),\n",
    "        StructField(\"last_season\", DateType(), True),\n",
    "        StructField(\"current_club_id\", IntegerType(), True),\n",
    "        StructField(\"player_code\", StringType(), True),\n",
    "        StructField(\"country_of_birth\", StringType(), True),\n",
    "        StructField(\"city_of_birth\", StringType(), True),\n",
    "        StructField(\"country_of_citizenship\", StringType(), True),\n",
    "        StructField(\"date_of_birth\", DateType(), True),\n",
    "        StructField(\"sub_position\", StringType(), True),\n",
    "        StructField(\"position\", StringType(), True),\n",
    "        StructField(\"foot\", StringType(), True),\n",
    "        StructField(\"height_in_cm\", DoubleType(), True),\n",
    "        StructField(\"contract_expiration_date\", DateType(), True),\n",
    "        StructField(\"agent_name\", StringType(), True),\n",
    "        StructField(\"current_club_domestic_competition_id\", StringType(), True),\n",
    "        StructField(\"current_club_name\", StringType(), True),\n",
    "        StructField(\"market_value_in_eur\", FloatType(), True),\n",
    "        StructField(\"highest_market_value_in_eur\", FloatType(), True)\n",
    "    ]),\n",
    "    \"silver.transfers\": StructType([\n",
    "        StructField(\"player_id\", IntegerType(), True),\n",
    "        StructField(\"transfer_date\", DateType(), True),\n",
    "        StructField(\"transfer_season\", StringType(), True),\n",
    "        StructField(\"from_club_id\", IntegerType(), True),\n",
    "        StructField(\"to_club_id\", IntegerType(), True),\n",
    "        StructField(\"from_club_name\", StringType(), True),\n",
    "        StructField(\"to_club_name\", StringType(), True),\n",
    "        StructField(\"market_value_in_eur\", DoubleType(), True),\n",
    "        StructField(\"player_name\", StringType(), True)\n",
    "    ])\n",
    "}\n"
   ]
  },
  {
   "cell_type": "code",
   "execution_count": 0,
   "metadata": {
    "application/vnd.databricks.v1+cell": {
     "cellMetadata": {
      "byteLimit": 2048000,
      "rowLimit": 10000
     },
     "inputWidgets": {},
     "nuid": "5334454c-fe18-4b11-b037-d24c0f82b564",
     "showTitle": false,
     "tableResultSettingsMap": {},
     "title": ""
    }
   },
   "outputs": [],
   "source": [
    "# Load tables dynamically\n",
    "tables = {table: spark.read.table(table) for table in expected_schemas.keys()}"
   ]
  },
  {
   "cell_type": "code",
   "execution_count": 0,
   "metadata": {
    "application/vnd.databricks.v1+cell": {
     "cellMetadata": {
      "byteLimit": 2048000,
      "rowLimit": 10000
     },
     "inputWidgets": {},
     "nuid": "6bfada2a-c60f-40af-b2a0-a80ec54f4b95",
     "showTitle": false,
     "tableResultSettingsMap": {},
     "title": ""
    }
   },
   "outputs": [],
   "source": [
    "# Strict Schema Validation\n",
    "def test_strict_schema():\n",
    "    for table_name, df in tables.items():\n",
    "        expected_schema = expected_schemas[table_name]\n",
    "        try:\n",
    "            # Validate schema using assertSchemaEqual\n",
    "            assertSchemaEqual(df.schema, expected_schema)\n",
    "            # Log success if schemas match\n",
    "            logging.info(f\"Schema validation passed for {table_name}\")\n",
    "        except AssertionError as e:\n",
    "            # Log and raise a detailed error message if schemas do not match\n",
    "            error_message = f\"Schema mismatch in {table_name}! Expected: {expected_schema}, but got: {df.schema}\"\n",
    "            logging.error(error_message)\n",
    "            raise AssertionError(error_message) from e"
   ]
  },
  {
   "cell_type": "code",
   "execution_count": 0,
   "metadata": {
    "application/vnd.databricks.v1+cell": {
     "cellMetadata": {
      "byteLimit": 2048000,
      "rowLimit": 10000
     },
     "inputWidgets": {},
     "nuid": "915633bb-31da-431a-b10a-c180e1438f2d",
     "showTitle": false,
     "tableResultSettingsMap": {},
     "title": ""
    }
   },
   "outputs": [],
   "source": [
    "# Schema Evolution: Ignore Extra Columns\n",
    "def test_schema_ignore_extra():\n",
    "    for table_name, df in tables.items():\n",
    "        expected_fields = {f.name for f in expected_schemas[table_name].fields}\n",
    "        actual_fields = {f.name for f in df.schema.fields}\n",
    "\n",
    "        missing_columns = expected_fields - actual_fields\n",
    "        assert not missing_columns, f\"Missing columns in {table_name}: {missing_columns}\"\n",
    "\n",
    "        logging.info(f\"Schema validation passed (ignoring extra columns) for {table_name}\")\n"
   ]
  },
  {
   "cell_type": "code",
   "execution_count": 0,
   "metadata": {
    "application/vnd.databricks.v1+cell": {
     "cellMetadata": {
      "byteLimit": 2048000,
      "rowLimit": 10000
     },
     "inputWidgets": {},
     "nuid": "7729f5ac-41e2-4318-95a8-714a042cc9cb",
     "showTitle": false,
     "tableResultSettingsMap": {},
     "title": ""
    }
   },
   "outputs": [],
   "source": [
    "# Schema Evolution: Log Warnings Instead of Failing\n",
    "def test_schema_with_warnings():\n",
    "    for table_name, df in tables.items():\n",
    "        actual_schema_dict = {field.name: field.dataType for field in df.schema.fields}\n",
    "        expected_schema_dict = {field.name: field.dataType for field in expected_schemas[table_name].fields}\n",
    "\n",
    "        for col, expected_dtype in expected_schema_dict.items():\n",
    "            if col not in actual_schema_dict:\n",
    "                logging.warning(f\"Warning: Column {col} is missing in {table_name}!\")\n",
    "            elif actual_schema_dict[col] != expected_dtype:\n",
    "                logging.warning(f\"Warning: Column {col} changed from {expected_dtype} to {actual_schema_dict[col]} in {table_name}!\")\n",
    "\n",
    "        logging.info(f\"Schema check completed with warnings (if any) for {table_name}\")\n"
   ]
  },
  {
   "cell_type": "code",
   "execution_count": 0,
   "metadata": {
    "application/vnd.databricks.v1+cell": {
     "cellMetadata": {
      "byteLimit": 2048000,
      "rowLimit": 10000
     },
     "inputWidgets": {},
     "nuid": "bbbf1acd-df14-4f6f-9236-8abaa64ed1f7",
     "showTitle": false,
     "tableResultSettingsMap": {},
     "title": ""
    }
   },
   "outputs": [],
   "source": [
    "# Dynamic Schema Update\n",
    "def test_dynamic_schema_update():\n",
    "    global expected_schemas\n",
    "    for table_name, df in tables.items():\n",
    "        expected_schemas[table_name] = df.schema\n",
    "        logging.info(f\"Updated expected schema for {table_name}\")\n"
   ]
  },
  {
   "cell_type": "code",
   "execution_count": 0,
   "metadata": {
    "application/vnd.databricks.v1+cell": {
     "cellMetadata": {
      "byteLimit": 2048000,
      "rowLimit": 10000
     },
     "inputWidgets": {},
     "nuid": "c99ecaa9-5c82-4e94-9fd5-fe74e0e5e3b2",
     "showTitle": false,
     "tableResultSettingsMap": {},
     "title": ""
    }
   },
   "outputs": [],
   "source": [
    "# Check for Duplicate Rows\n",
    "def test_duplicate_rows():\n",
    "    for table_name, df in tables.items():\n",
    "        total_count = df.count()\n",
    "        unique_count = df.dropDuplicates().count()\n",
    "\n",
    "        assert total_count == unique_count, f\"Duplicate rows detected in {table_name}! Total: {total_count}, Unique: {unique_count}\"\n",
    "        logging.info(f\"No duplicate rows found in {table_name}\")"
   ]
  },
  {
   "cell_type": "code",
   "execution_count": 0,
   "metadata": {
    "application/vnd.databricks.v1+cell": {
     "cellMetadata": {
      "byteLimit": 2048000,
      "rowLimit": 10000
     },
     "inputWidgets": {},
     "nuid": "f69e4071-a714-4a7f-be3d-2e0806f74a74",
     "showTitle": false,
     "tableResultSettingsMap": {},
     "title": ""
    }
   },
   "outputs": [],
   "source": [
    "# Validate Data Types\n",
    "def test_data_types():\n",
    "    for table_name, df in tables.items():\n",
    "        expected_dtypes = {field.name: field.dataType for field in expected_schemas[table_name].fields}\n",
    "        actual_dtypes = {field.name: field.dataType for field in df.schema.fields}\n",
    "\n",
    "        for col, expected_dtype in expected_dtypes.items():\n",
    "            assert actual_dtypes.get(col) == expected_dtype, f\"Column {col} type mismatch in {table_name}: Expected {expected_dtype}, got {actual_dtypes.get(col)}\"\n",
    "\n",
    "        logging.info(f\"Data type validation passed for {table_name}\")\n"
   ]
  },
  {
   "cell_type": "code",
   "execution_count": 0,
   "metadata": {
    "application/vnd.databricks.v1+cell": {
     "cellMetadata": {
      "byteLimit": 2048000,
      "rowLimit": 10000
     },
     "inputWidgets": {},
     "nuid": "7a329497-d4f4-4f7c-b863-c14f6eda9c08",
     "showTitle": false,
     "tableResultSettingsMap": {},
     "title": ""
    }
   },
   "outputs": [
    {
     "output_type": "stream",
     "name": "stdout",
     "output_type": "stream",
     "text": [
      "All tests completed successfully!\n"
     ]
    }
   ],
   "source": [
    "# Run All Tests\n",
    "if __name__ == \"__main__\":\n",
    "    test_strict_schema()\n",
    "    test_schema_ignore_extra()\n",
    "    test_schema_with_warnings()\n",
    "    test_dynamic_schema_update()\n",
    "    test_duplicate_rows()\n",
    "    test_data_types()\n",
    "\n",
    "    print(\"All tests completed successfully!\")"
   ]
  }
 ],
 "metadata": {
  "application/vnd.databricks.v1+notebook": {
   "computePreferences": null,
   "dashboards": [],
   "environmentMetadata": {
    "base_environment": "",
    "environment_version": "2"
   },
   "language": "python",
   "notebookMetadata": {
    "pythonIndentUnit": 4
   },
   "notebookName": "test_schema_validation",
   "widgets": {}
  },
  "language_info": {
   "name": "python"
  }
 },
 "nbformat": 4,
 "nbformat_minor": 0
}