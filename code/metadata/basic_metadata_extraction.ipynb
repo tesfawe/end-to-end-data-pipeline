{
 "cells": [
  {
   "cell_type": "markdown",
   "metadata": {
    "application/vnd.databricks.v1+cell": {
     "cellMetadata": {
      "byteLimit": 2048000,
      "rowLimit": 10000
     },
     "inputWidgets": {},
     "nuid": "e339fb22-fbf2-4298-8c5f-4bb1a7eb126e",
     "showTitle": false,
     "tableResultSettingsMap": {},
     "title": ""
    }
   },
   "source": [
    "### Basic Metadata"
   ]
  },
  {
   "cell_type": "code",
   "execution_count": 0,
   "metadata": {
    "application/vnd.databricks.v1+cell": {
     "cellMetadata": {
      "byteLimit": 2048000,
      "implicitDf": true,
      "rowLimit": 10000
     },
     "inputWidgets": {},
     "nuid": "12e48474-10fa-4205-b121-9abecb16e5a2",
     "showTitle": false,
     "tableResultSettingsMap": {},
     "title": ""
    }
   },
   "outputs": [
    {
     "output_type": "display_data",
     "data": {
      "text/html": [
       "<style scoped>\n",
       "  .table-result-container {\n",
       "    max-height: 300px;\n",
       "    overflow: auto;\n",
       "  }\n",
       "  table, th, td {\n",
       "    border: 1px solid black;\n",
       "    border-collapse: collapse;\n",
       "  }\n",
       "  th, td {\n",
       "    padding: 5px;\n",
       "  }\n",
       "  th {\n",
       "    text-align: left;\n",
       "  }\n",
       "</style><div class='table-result-container'><table class='table-result'><thead style='background-color: white'><tr></tr></thead><tbody></tbody></table></div>"
      ]
     },
     "metadata": {
      "application/vnd.databricks.v1+output": {
       "addedWidgets": {},
       "aggData": [],
       "aggError": "",
       "aggOverflow": false,
       "aggSchema": [],
       "aggSeriesLimitReached": false,
       "aggType": "",
       "arguments": {},
       "columnCustomDisplayInfos": {},
       "data": [],
       "datasetInfos": [],
       "dbfsResultPath": null,
       "isJsonSchema": true,
       "metadata": {
        "dataframeName": null
       },
       "overflow": false,
       "plotOptions": {
        "customPlotOptions": {},
        "displayType": "table",
        "pivotAggregation": null,
        "pivotColumns": null,
        "xColumns": null,
        "yColumns": null
       },
       "removedWidgets": [],
       "schema": [],
       "type": "table"
      }
     },
     "output_type": "display_data"
    }
   ],
   "source": [
    "%sql\n",
    "CREATE SCHEMA IF NOT EXISTS custom_information_schema;\n"
   ]
  },
  {
   "cell_type": "code",
   "execution_count": 0,
   "metadata": {
    "application/vnd.databricks.v1+cell": {
     "cellMetadata": {
      "byteLimit": 2048000,
      "implicitDf": true,
      "rowLimit": 10000
     },
     "inputWidgets": {},
     "nuid": "3a4e3f07-d9ab-4555-b534-7cba2df7d4e4",
     "showTitle": false,
     "tableResultSettingsMap": {},
     "title": ""
    }
   },
   "outputs": [
    {
     "output_type": "display_data",
     "data": {
      "text/html": [
       "<style scoped>\n",
       "  .table-result-container {\n",
       "    max-height: 300px;\n",
       "    overflow: auto;\n",
       "  }\n",
       "  table, th, td {\n",
       "    border: 1px solid black;\n",
       "    border-collapse: collapse;\n",
       "  }\n",
       "  th, td {\n",
       "    padding: 5px;\n",
       "  }\n",
       "  th {\n",
       "    text-align: left;\n",
       "  }\n",
       "</style><div class='table-result-container'><table class='table-result'><thead style='background-color: white'><tr></tr></thead><tbody></tbody></table></div>"
      ]
     },
     "metadata": {
      "application/vnd.databricks.v1+output": {
       "addedWidgets": {},
       "aggData": [],
       "aggError": "",
       "aggOverflow": false,
       "aggSchema": [],
       "aggSeriesLimitReached": false,
       "aggType": "",
       "arguments": {},
       "columnCustomDisplayInfos": {},
       "data": [],
       "datasetInfos": [],
       "dbfsResultPath": null,
       "isJsonSchema": true,
       "metadata": {
        "dataframeName": null
       },
       "overflow": false,
       "plotOptions": {
        "customPlotOptions": {},
        "displayType": "table",
        "pivotAggregation": null,
        "pivotColumns": null,
        "xColumns": null,
        "yColumns": null
       },
       "removedWidgets": [],
       "schema": [],
       "type": "table"
      }
     },
     "output_type": "display_data"
    }
   ],
   "source": [
    "%sql\n",
    "CREATE OR REPLACE TABLE custom_information_schema.columns_info (\n",
    "    table_catalog STRING,\n",
    "    table_schema STRING,\n",
    "    table_name STRING,\n",
    "    column_name STRING,\n",
    "    data_type STRING\n",
    ");"
   ]
  },
  {
   "cell_type": "markdown",
   "metadata": {
    "application/vnd.databricks.v1+cell": {
     "cellMetadata": {
      "byteLimit": 2048000,
      "rowLimit": 10000
     },
     "inputWidgets": {},
     "nuid": "abccfa1f-67cd-47a8-886f-7fe51c16ba51",
     "showTitle": false,
     "tableResultSettingsMap": {},
     "title": ""
    }
   },
   "source": [
    "**Storing basic metadata for all the tables created for the ETL pipeline**"
   ]
  },
  {
   "cell_type": "code",
   "execution_count": 0,
   "metadata": {
    "application/vnd.databricks.v1+cell": {
     "cellMetadata": {
      "byteLimit": 2048000,
      "rowLimit": 10000
     },
     "inputWidgets": {},
     "nuid": "670072e7-5052-4f56-b615-322bee59124f",
     "showTitle": false,
     "tableResultSettingsMap": {},
     "title": ""
    }
   },
   "outputs": [],
   "source": [
    "import logging\n",
    "from pyspark.sql import SparkSession\n",
    "\n",
    "# Configure structured logging\n",
    "logging.basicConfig(\n",
    "    level=logging.INFO,\n",
    "    format=\"%(asctime)s - %(levelname)s - %(module)s - %(message)s\",\n",
    "    handlers=[logging.StreamHandler()]\n",
    ")\n",
    "\n",
    "# Initialize Spark session\n",
    "spark = SparkSession.builder.appName(\"MetadataExtraction\").getOrCreate()\n",
    "\n",
    "try:\n",
    "    # Define catalog name\n",
    "    catalog = \"ddca_final_project_databricks_workspace\"\n",
    "    logging.info(f\"Using catalog: {catalog}\")\n",
    "\n",
    "    # Set the active catalog\n",
    "    spark.sql(f\"USE CATALOG {catalog}\")\n",
    "    logging.info(f\"Successfully set active catalog: {catalog}\")\n",
    "\n",
    "    # Fetch all schemas (databases) in the catalog\n",
    "    try:\n",
    "        df = spark.sql(f\"SHOW DATABASES IN {catalog}\").collect()\n",
    "        schema_list = [row.databaseName for row in df]\n",
    "        logging.info(f\"Fetched {len(schema_list)} schemas from catalog: {catalog}\")\n",
    "    except Exception as e:\n",
    "        logging.error(f\"Failed to fetch schemas from catalog: {catalog}. Error: {str(e)}\")\n",
    "        raise RuntimeError(f\"Error fetching schemas: {str(e)}\") from e\n",
    "\n",
    "    # Loop through each schema\n",
    "    for schema in schema_list:\n",
    "        try:\n",
    "            # Skip the \"information_schema\"\n",
    "            if schema == \"information_schema\":\n",
    "                logging.info(f\"Skipping reserved schema: {schema}\")\n",
    "                continue\n",
    "\n",
    "            logging.info(f\"Processing schema: {schema}\")\n",
    "            spark.sql(f\"USE {catalog}.{schema}\")\n",
    "            logging.info(f\"Successfully set active schema: {schema}\")\n",
    "\n",
    "            # Fetch all tables in the schema\n",
    "            df = spark.sql(f\"SHOW TABLES IN {catalog}.{schema}\").collect()\n",
    "            table_list = [row.tableName for row in df if not row.isTemporary]\n",
    "\n",
    "            if not table_list:\n",
    "                logging.info(f\"No tables found in schema: {schema}\")\n",
    "                continue\n",
    "\n",
    "            logging.info(f\"Fetched {len(table_list)} tables in schema: {schema}\")\n",
    "\n",
    "            # Loop through each table\n",
    "            for table_name in table_list:\n",
    "                try:\n",
    "                    # Skip temporary or internal tables\n",
    "                    if table_name.startswith(\"_sqldf\"):\n",
    "                        logging.info(f\"Skipping temporary/internal table: {table_name}\")\n",
    "                        continue\n",
    "\n",
    "                    # Verify table existence\n",
    "                    check_table = spark.sql(f\"SHOW TABLES IN {catalog}.{schema}\").filter(f\"tableName = '{table_name}'\").collect()\n",
    "                    if not check_table:\n",
    "                        logging.warning(f\"Table not found: {table_name}\")\n",
    "                        continue\n",
    "\n",
    "                    logging.info(f\"Processing table: {table_name}\")\n",
    "\n",
    "                    # Fetch table metadata using DESCRIBE TABLE EXTENDED\n",
    "                    table_info = spark.sql(f\"DESCRIBE TABLE EXTENDED {catalog}.{schema}.{table_name}\").collect()\n",
    "                    logging.info(f\"Successfully fetched metadata for table: {table_name}\")\n",
    "\n",
    "                    # Store table-level metadata in a dictionary\n",
    "                    table_info_dict = {}\n",
    "                    first_row_keys = table_info[0].asDict().keys()\n",
    "\n",
    "                    for row in table_info:\n",
    "                        row_dict = row.asDict()\n",
    "                        for key, value in row_dict.items():\n",
    "                            if key and value:\n",
    "                                table_info_dict[key] = value\n",
    "\n",
    "                    # Fetch column-level metadata\n",
    "                    table_column_info = spark.sql(f\"DESCRIBE TABLE {catalog}.{schema}.{table_name}\").collect()\n",
    "                    logging.info(f\"Successfully fetched column-level metadata for table: {table_name}\")\n",
    "\n",
    "                    # Insert column-level metadata into custom information schema table\n",
    "                    for row in table_column_info:\n",
    "                        column_name = row['col_name']\n",
    "                        data_type = row['data_type']\n",
    "\n",
    "                        insert_query = f\"\"\"\n",
    "                            INSERT INTO {catalog}.custom_information_schema.columns_info \n",
    "                            VALUES ('{catalog}', \n",
    "                                    '{schema}', \n",
    "                                    '{table_name}',\n",
    "                                    '{column_name}', \n",
    "                                    '{data_type}')\n",
    "                        \"\"\"\n",
    "                        try:\n",
    "                            spark.sql(insert_query)\n",
    "                            logging.info(f\"Inserted metadata for column: {column_name} in table: {table_name}\")\n",
    "                        except Exception as e:\n",
    "                            logging.error(f\"Error inserting metadata for column: {column_name} in table: {table_name}. Error: {str(e)}\")\n",
    "                            raise RuntimeError(f\"Error during metadata insertion: {str(e)}\") from e\n",
    "\n",
    "                except Exception as e:\n",
    "                    logging.error(f\"Critical failure while processing table: {table_name}. Error: {str(e)}\")\n",
    "                    raise RuntimeError(f\"Critical failure: {str(e)}\") from e\n",
    "\n",
    "        except Exception as e:\n",
    "            logging.error(f\"Critical failure while processing schema: {schema}. Error: {str(e)}\")\n",
    "            raise RuntimeError(f\"Critical failure: {str(e)}\") from e\n",
    "\n",
    "    logging.info(\"Metadata extraction completed successfully!\")\n",
    "\n",
    "except Exception as e:\n",
    "    logging.error(f\"Critical failure during the metadata extraction process. Error: {str(e)}\")\n",
    "    raise RuntimeError(f\"Critical failure: {str(e)}\") from e"
   ]
  },
  {
   "cell_type": "markdown",
   "metadata": {
    "application/vnd.databricks.v1+cell": {
     "cellMetadata": {
      "byteLimit": 2048000,
      "rowLimit": 10000
     },
     "inputWidgets": {},
     "nuid": "612d4e57-c221-45a4-b51e-251b1f98eda2",
     "showTitle": false,
     "tableResultSettingsMap": {},
     "title": ""
    }
   },
   "source": [
    "**Example basic metadata for tables in gold schema**"
   ]
  },
  {
   "cell_type": "code",
   "execution_count": 0,
   "metadata": {
    "application/vnd.databricks.v1+cell": {
     "cellMetadata": {
      "byteLimit": 2048000,
      "implicitDf": true,
      "rowLimit": 10000
     },
     "inputWidgets": {},
     "nuid": "faa557ba-c9ce-4c19-9bfe-d359fcd143cc",
     "showTitle": false,
     "tableResultSettingsMap": {},
     "title": ""
    }
   },
   "outputs": [
    {
     "output_type": "display_data",
     "data": {
      "text/html": [
       "<style scoped>\n",
       "  .table-result-container {\n",
       "    max-height: 300px;\n",
       "    overflow: auto;\n",
       "  }\n",
       "  table, th, td {\n",
       "    border: 1px solid black;\n",
       "    border-collapse: collapse;\n",
       "  }\n",
       "  th, td {\n",
       "    padding: 5px;\n",
       "  }\n",
       "  th {\n",
       "    text-align: left;\n",
       "  }\n",
       "</style><div class='table-result-container'><table class='table-result'><thead style='background-color: white'><tr><th>table_catalog</th><th>table_schema</th><th>table_name</th><th>column_name</th><th>data_type</th></tr></thead><tbody><tr><td>ddca_final_project_databricks_workspace</td><td>bronze</td><td>appearance</td><td>appearance_id</td><td>string</td></tr><tr><td>ddca_final_project_databricks_workspace</td><td>bronze</td><td>appearance</td><td>game_id</td><td>int</td></tr><tr><td>ddca_final_project_databricks_workspace</td><td>bronze</td><td>appearance</td><td>player_id</td><td>int</td></tr><tr><td>ddca_final_project_databricks_workspace</td><td>bronze</td><td>appearance</td><td>player_club_id</td><td>int</td></tr><tr><td>ddca_final_project_databricks_workspace</td><td>bronze</td><td>appearance</td><td>player_current_club_id</td><td>int</td></tr><tr><td>ddca_final_project_databricks_workspace</td><td>bronze</td><td>appearance</td><td>date</td><td>date</td></tr><tr><td>ddca_final_project_databricks_workspace</td><td>bronze</td><td>appearance</td><td>player_name</td><td>string</td></tr><tr><td>ddca_final_project_databricks_workspace</td><td>bronze</td><td>appearance</td><td>competition_id</td><td>string</td></tr><tr><td>ddca_final_project_databricks_workspace</td><td>bronze</td><td>appearance</td><td>yellow_cards</td><td>int</td></tr><tr><td>ddca_final_project_databricks_workspace</td><td>bronze</td><td>appearance</td><td>red_cards</td><td>int</td></tr><tr><td>ddca_final_project_databricks_workspace</td><td>bronze</td><td>appearance</td><td>goals</td><td>int</td></tr><tr><td>ddca_final_project_databricks_workspace</td><td>bronze</td><td>appearance</td><td>assists</td><td>int</td></tr><tr><td>ddca_final_project_databricks_workspace</td><td>bronze</td><td>appearance</td><td>minutes_played</td><td>int</td></tr><tr><td>ddca_final_project_databricks_workspace</td><td>bronze</td><td>club_games</td><td>game_id</td><td>int</td></tr><tr><td>ddca_final_project_databricks_workspace</td><td>bronze</td><td>club_games</td><td>club_id</td><td>int</td></tr><tr><td>ddca_final_project_databricks_workspace</td><td>bronze</td><td>club_games</td><td>own_goals</td><td>int</td></tr><tr><td>ddca_final_project_databricks_workspace</td><td>bronze</td><td>club_games</td><td>own_position</td><td>int</td></tr><tr><td>ddca_final_project_databricks_workspace</td><td>bronze</td><td>club_games</td><td>own_manager_name</td><td>string</td></tr><tr><td>ddca_final_project_databricks_workspace</td><td>bronze</td><td>club_games</td><td>opponent_id</td><td>int</td></tr><tr><td>ddca_final_project_databricks_workspace</td><td>bronze</td><td>club_games</td><td>opponent_goals</td><td>int</td></tr><tr><td>ddca_final_project_databricks_workspace</td><td>bronze</td><td>club_games</td><td>opponent_position</td><td>int</td></tr><tr><td>ddca_final_project_databricks_workspace</td><td>bronze</td><td>club_games</td><td>opponent_manager_name</td><td>string</td></tr><tr><td>ddca_final_project_databricks_workspace</td><td>bronze</td><td>club_games</td><td>hosting</td><td>string</td></tr><tr><td>ddca_final_project_databricks_workspace</td><td>bronze</td><td>club_games</td><td>is_win</td><td>int</td></tr><tr><td>ddca_final_project_databricks_workspace</td><td>bronze</td><td>clubs</td><td>club_id</td><td>int</td></tr><tr><td>ddca_final_project_databricks_workspace</td><td>bronze</td><td>clubs</td><td>club_code</td><td>string</td></tr><tr><td>ddca_final_project_databricks_workspace</td><td>bronze</td><td>clubs</td><td>name</td><td>string</td></tr><tr><td>ddca_final_project_databricks_workspace</td><td>bronze</td><td>clubs</td><td>domestic_competition_id</td><td>string</td></tr><tr><td>ddca_final_project_databricks_workspace</td><td>bronze</td><td>clubs</td><td>total_market_value</td><td>string</td></tr><tr><td>ddca_final_project_databricks_workspace</td><td>bronze</td><td>clubs</td><td>squad_size</td><td>int</td></tr><tr><td>ddca_final_project_databricks_workspace</td><td>bronze</td><td>clubs</td><td>average_age</td><td>double</td></tr><tr><td>ddca_final_project_databricks_workspace</td><td>bronze</td><td>clubs</td><td>foreigners_number</td><td>int</td></tr><tr><td>ddca_final_project_databricks_workspace</td><td>bronze</td><td>clubs</td><td>foreigners_percentage</td><td>double</td></tr><tr><td>ddca_final_project_databricks_workspace</td><td>bronze</td><td>clubs</td><td>national_team_players</td><td>int</td></tr><tr><td>ddca_final_project_databricks_workspace</td><td>bronze</td><td>clubs</td><td>stadium_name</td><td>string</td></tr><tr><td>ddca_final_project_databricks_workspace</td><td>bronze</td><td>clubs</td><td>stadium_seats</td><td>int</td></tr><tr><td>ddca_final_project_databricks_workspace</td><td>bronze</td><td>clubs</td><td>net_transfer_record</td><td>string</td></tr><tr><td>ddca_final_project_databricks_workspace</td><td>bronze</td><td>clubs</td><td>coach_name</td><td>string</td></tr><tr><td>ddca_final_project_databricks_workspace</td><td>bronze</td><td>clubs</td><td>last_season</td><td>int</td></tr><tr><td>ddca_final_project_databricks_workspace</td><td>bronze</td><td>clubs</td><td>filename</td><td>string</td></tr><tr><td>ddca_final_project_databricks_workspace</td><td>bronze</td><td>clubs</td><td>url</td><td>string</td></tr><tr><td>ddca_final_project_databricks_workspace</td><td>bronze</td><td>competitions</td><td>competition_id</td><td>string</td></tr><tr><td>ddca_final_project_databricks_workspace</td><td>bronze</td><td>competitions</td><td>competition_code</td><td>string</td></tr><tr><td>ddca_final_project_databricks_workspace</td><td>bronze</td><td>competitions</td><td>name</td><td>string</td></tr><tr><td>ddca_final_project_databricks_workspace</td><td>bronze</td><td>competitions</td><td>sub_type</td><td>string</td></tr><tr><td>ddca_final_project_databricks_workspace</td><td>bronze</td><td>competitions</td><td>type</td><td>string</td></tr><tr><td>ddca_final_project_databricks_workspace</td><td>bronze</td><td>competitions</td><td>country_id</td><td>int</td></tr><tr><td>ddca_final_project_databricks_workspace</td><td>bronze</td><td>competitions</td><td>country_name</td><td>string</td></tr><tr><td>ddca_final_project_databricks_workspace</td><td>bronze</td><td>competitions</td><td>domestic_league_code</td><td>string</td></tr><tr><td>ddca_final_project_databricks_workspace</td><td>bronze</td><td>competitions</td><td>confederation</td><td>string</td></tr><tr><td>ddca_final_project_databricks_workspace</td><td>bronze</td><td>competitions</td><td>url</td><td>string</td></tr><tr><td>ddca_final_project_databricks_workspace</td><td>bronze</td><td>competitions</td><td>is_major_national_league</td><td>boolean</td></tr><tr><td>ddca_final_project_databricks_workspace</td><td>bronze</td><td>game_events</td><td>game_event_id</td><td>string</td></tr><tr><td>ddca_final_project_databricks_workspace</td><td>bronze</td><td>game_events</td><td>date</td><td>date</td></tr><tr><td>ddca_final_project_databricks_workspace</td><td>bronze</td><td>game_events</td><td>game_id</td><td>int</td></tr><tr><td>ddca_final_project_databricks_workspace</td><td>bronze</td><td>game_events</td><td>minute</td><td>int</td></tr><tr><td>ddca_final_project_databricks_workspace</td><td>bronze</td><td>game_events</td><td>type</td><td>string</td></tr><tr><td>ddca_final_project_databricks_workspace</td><td>bronze</td><td>game_events</td><td>club_id</td><td>int</td></tr><tr><td>ddca_final_project_databricks_workspace</td><td>bronze</td><td>game_events</td><td>player_id</td><td>int</td></tr><tr><td>ddca_final_project_databricks_workspace</td><td>bronze</td><td>game_events</td><td>description</td><td>string</td></tr><tr><td>ddca_final_project_databricks_workspace</td><td>bronze</td><td>game_events</td><td>player_in_id</td><td>double</td></tr><tr><td>ddca_final_project_databricks_workspace</td><td>bronze</td><td>game_events</td><td>player_assist_id</td><td>double</td></tr><tr><td>ddca_final_project_databricks_workspace</td><td>bronze</td><td>game_lineups</td><td>game_lineups_id</td><td>string</td></tr><tr><td>ddca_final_project_databricks_workspace</td><td>bronze</td><td>game_lineups</td><td>date</td><td>string</td></tr><tr><td>ddca_final_project_databricks_workspace</td><td>bronze</td><td>game_lineups</td><td>game_id</td><td>int</td></tr><tr><td>ddca_final_project_databricks_workspace</td><td>bronze</td><td>game_lineups</td><td>player_id</td><td>int</td></tr><tr><td>ddca_final_project_databricks_workspace</td><td>bronze</td><td>game_lineups</td><td>club_id</td><td>int</td></tr><tr><td>ddca_final_project_databricks_workspace</td><td>bronze</td><td>game_lineups</td><td>player_name</td><td>string</td></tr><tr><td>ddca_final_project_databricks_workspace</td><td>bronze</td><td>game_lineups</td><td>type</td><td>string</td></tr><tr><td>ddca_final_project_databricks_workspace</td><td>bronze</td><td>game_lineups</td><td>position</td><td>string</td></tr><tr><td>ddca_final_project_databricks_workspace</td><td>bronze</td><td>game_lineups</td><td>number</td><td>string</td></tr><tr><td>ddca_final_project_databricks_workspace</td><td>bronze</td><td>game_lineups</td><td>team_captain</td><td>int</td></tr><tr><td>ddca_final_project_databricks_workspace</td><td>bronze</td><td>games</td><td>game_id</td><td>int</td></tr><tr><td>ddca_final_project_databricks_workspace</td><td>bronze</td><td>games</td><td>competition_id</td><td>string</td></tr><tr><td>ddca_final_project_databricks_workspace</td><td>bronze</td><td>games</td><td>season</td><td>int</td></tr><tr><td>ddca_final_project_databricks_workspace</td><td>bronze</td><td>games</td><td>date</td><td>date</td></tr><tr><td>ddca_final_project_databricks_workspace</td><td>bronze</td><td>games</td><td>round</td><td>string</td></tr><tr><td>ddca_final_project_databricks_workspace</td><td>bronze</td><td>games</td><td>home_club_id</td><td>double</td></tr><tr><td>ddca_final_project_databricks_workspace</td><td>bronze</td><td>games</td><td>away_club_id</td><td>double</td></tr><tr><td>ddca_final_project_databricks_workspace</td><td>bronze</td><td>games</td><td>home_club_goals</td><td>double</td></tr><tr><td>ddca_final_project_databricks_workspace</td><td>bronze</td><td>games</td><td>away_club_goals</td><td>double</td></tr><tr><td>ddca_final_project_databricks_workspace</td><td>bronze</td><td>games</td><td>home_club_position</td><td>double</td></tr><tr><td>ddca_final_project_databricks_workspace</td><td>bronze</td><td>games</td><td>away_club_position</td><td>double</td></tr><tr><td>ddca_final_project_databricks_workspace</td><td>bronze</td><td>games</td><td>home_club_manager_name</td><td>string</td></tr><tr><td>ddca_final_project_databricks_workspace</td><td>bronze</td><td>games</td><td>stadium</td><td>string</td></tr><tr><td>ddca_final_project_databricks_workspace</td><td>bronze</td><td>games</td><td>away_club_manager_name</td><td>string</td></tr><tr><td>ddca_final_project_databricks_workspace</td><td>bronze</td><td>games</td><td>attendance</td><td>double</td></tr><tr><td>ddca_final_project_databricks_workspace</td><td>bronze</td><td>games</td><td>referee</td><td>string</td></tr><tr><td>ddca_final_project_databricks_workspace</td><td>bronze</td><td>games</td><td>url</td><td>string</td></tr><tr><td>ddca_final_project_databricks_workspace</td><td>bronze</td><td>games</td><td>home_club_formation</td><td>string</td></tr><tr><td>ddca_final_project_databricks_workspace</td><td>bronze</td><td>games</td><td>away_club_formation</td><td>string</td></tr><tr><td>ddca_final_project_databricks_workspace</td><td>bronze</td><td>games</td><td>home_club_name</td><td>string</td></tr><tr><td>ddca_final_project_databricks_workspace</td><td>bronze</td><td>games</td><td>away_club_name</td><td>string</td></tr><tr><td>ddca_final_project_databricks_workspace</td><td>bronze</td><td>games</td><td>aggregate</td><td>timestamp</td></tr><tr><td>ddca_final_project_databricks_workspace</td><td>bronze</td><td>games</td><td>competition_type</td><td>string</td></tr><tr><td>ddca_final_project_databricks_workspace</td><td>bronze</td><td>player_valuations</td><td>player_id</td><td>int</td></tr><tr><td>ddca_final_project_databricks_workspace</td><td>bronze</td><td>player_valuations</td><td>date</td><td>date</td></tr><tr><td>ddca_final_project_databricks_workspace</td><td>bronze</td><td>player_valuations</td><td>market_value_in_eur</td><td>int</td></tr><tr><td>ddca_final_project_databricks_workspace</td><td>bronze</td><td>player_valuations</td><td>current_club_id</td><td>int</td></tr><tr><td>ddca_final_project_databricks_workspace</td><td>bronze</td><td>player_valuations</td><td>player_club_domestic_competition_id</td><td>string</td></tr><tr><td>ddca_final_project_databricks_workspace</td><td>bronze</td><td>players</td><td>player_id</td><td>int</td></tr><tr><td>ddca_final_project_databricks_workspace</td><td>bronze</td><td>players</td><td>first_name</td><td>string</td></tr><tr><td>ddca_final_project_databricks_workspace</td><td>bronze</td><td>players</td><td>last_name</td><td>string</td></tr><tr><td>ddca_final_project_databricks_workspace</td><td>bronze</td><td>players</td><td>name</td><td>string</td></tr><tr><td>ddca_final_project_databricks_workspace</td><td>bronze</td><td>players</td><td>last_season</td><td>date</td></tr><tr><td>ddca_final_project_databricks_workspace</td><td>bronze</td><td>players</td><td>current_club_id</td><td>int</td></tr><tr><td>ddca_final_project_databricks_workspace</td><td>bronze</td><td>players</td><td>player_code</td><td>string</td></tr><tr><td>ddca_final_project_databricks_workspace</td><td>bronze</td><td>players</td><td>country_of_birth</td><td>string</td></tr><tr><td>ddca_final_project_databricks_workspace</td><td>bronze</td><td>players</td><td>city_of_birth</td><td>string</td></tr><tr><td>ddca_final_project_databricks_workspace</td><td>bronze</td><td>players</td><td>country_of_citizenship</td><td>string</td></tr><tr><td>ddca_final_project_databricks_workspace</td><td>bronze</td><td>players</td><td>sub_position</td><td>string</td></tr><tr><td>ddca_final_project_databricks_workspace</td><td>bronze</td><td>players</td><td>date_of_birth</td><td>timestamp</td></tr><tr><td>ddca_final_project_databricks_workspace</td><td>bronze</td><td>players</td><td>position</td><td>string</td></tr><tr><td>ddca_final_project_databricks_workspace</td><td>bronze</td><td>players</td><td>foot</td><td>string</td></tr><tr><td>ddca_final_project_databricks_workspace</td><td>bronze</td><td>players</td><td>height_in_cm</td><td>double</td></tr><tr><td>ddca_final_project_databricks_workspace</td><td>bronze</td><td>players</td><td>contract_expiration_date</td><td>timestamp</td></tr><tr><td>ddca_final_project_databricks_workspace</td><td>bronze</td><td>players</td><td>image_url</td><td>string</td></tr><tr><td>ddca_final_project_databricks_workspace</td><td>bronze</td><td>players</td><td>agent_name</td><td>string</td></tr><tr><td>ddca_final_project_databricks_workspace</td><td>bronze</td><td>players</td><td>url</td><td>string</td></tr><tr><td>ddca_final_project_databricks_workspace</td><td>bronze</td><td>players</td><td>current_club_domestic_competition_id</td><td>string</td></tr><tr><td>ddca_final_project_databricks_workspace</td><td>bronze</td><td>players</td><td>current_club_name</td><td>string</td></tr><tr><td>ddca_final_project_databricks_workspace</td><td>bronze</td><td>players</td><td>market_value_in_eur</td><td>double</td></tr><tr><td>ddca_final_project_databricks_workspace</td><td>bronze</td><td>players</td><td>highest_market_value_in_eur</td><td>double</td></tr><tr><td>ddca_final_project_databricks_workspace</td><td>bronze</td><td>transfers</td><td>player_id</td><td>int</td></tr><tr><td>ddca_final_project_databricks_workspace</td><td>bronze</td><td>transfers</td><td>transfer_date</td><td>date</td></tr><tr><td>ddca_final_project_databricks_workspace</td><td>bronze</td><td>transfers</td><td>transfer_season</td><td>string</td></tr><tr><td>ddca_final_project_databricks_workspace</td><td>bronze</td><td>transfers</td><td>from_club_id</td><td>int</td></tr><tr><td>ddca_final_project_databricks_workspace</td><td>bronze</td><td>transfers</td><td>to_club_id</td><td>int</td></tr><tr><td>ddca_final_project_databricks_workspace</td><td>bronze</td><td>transfers</td><td>from_club_name</td><td>string</td></tr><tr><td>ddca_final_project_databricks_workspace</td><td>bronze</td><td>transfers</td><td>to_club_name</td><td>string</td></tr><tr><td>ddca_final_project_databricks_workspace</td><td>bronze</td><td>transfers</td><td>transfer_fee</td><td>double</td></tr><tr><td>ddca_final_project_databricks_workspace</td><td>bronze</td><td>transfers</td><td>market_value_in_eur</td><td>double</td></tr><tr><td>ddca_final_project_databricks_workspace</td><td>bronze</td><td>transfers</td><td>player_name</td><td>string</td></tr></tbody></table></div>"
      ]
     },
     "metadata": {
      "application/vnd.databricks.v1+output": {
       "addedWidgets": {},
       "aggData": [],
       "aggError": "",
       "aggOverflow": false,
       "aggSchema": [],
       "aggSeriesLimitReached": false,
       "aggType": "",
       "arguments": {},
       "columnCustomDisplayInfos": {},
       "data": [
        [
         "ddca_final_project_databricks_workspace",
         "bronze",
         "appearance",
         "appearance_id",
         "string"
        ],
        [
         "ddca_final_project_databricks_workspace",
         "bronze",
         "appearance",
         "game_id",
         "int"
        ],
        [
         "ddca_final_project_databricks_workspace",
         "bronze",
         "appearance",
         "player_id",
         "int"
        ],
        [
         "ddca_final_project_databricks_workspace",
         "bronze",
         "appearance",
         "player_club_id",
         "int"
        ],
        [
         "ddca_final_project_databricks_workspace",
         "bronze",
         "appearance",
         "player_current_club_id",
         "int"
        ],
        [
         "ddca_final_project_databricks_workspace",
         "bronze",
         "appearance",
         "date",
         "date"
        ],
        [
         "ddca_final_project_databricks_workspace",
         "bronze",
         "appearance",
         "player_name",
         "string"
        ],
        [
         "ddca_final_project_databricks_workspace",
         "bronze",
         "appearance",
         "competition_id",
         "string"
        ],
        [
         "ddca_final_project_databricks_workspace",
         "bronze",
         "appearance",
         "yellow_cards",
         "int"
        ],
        [
         "ddca_final_project_databricks_workspace",
         "bronze",
         "appearance",
         "red_cards",
         "int"
        ],
        [
         "ddca_final_project_databricks_workspace",
         "bronze",
         "appearance",
         "goals",
         "int"
        ],
        [
         "ddca_final_project_databricks_workspace",
         "bronze",
         "appearance",
         "assists",
         "int"
        ],
        [
         "ddca_final_project_databricks_workspace",
         "bronze",
         "appearance",
         "minutes_played",
         "int"
        ],
        [
         "ddca_final_project_databricks_workspace",
         "bronze",
         "club_games",
         "game_id",
         "int"
        ],
        [
         "ddca_final_project_databricks_workspace",
         "bronze",
         "club_games",
         "club_id",
         "int"
        ],
        [
         "ddca_final_project_databricks_workspace",
         "bronze",
         "club_games",
         "own_goals",
         "int"
        ],
        [
         "ddca_final_project_databricks_workspace",
         "bronze",
         "club_games",
         "own_position",
         "int"
        ],
        [
         "ddca_final_project_databricks_workspace",
         "bronze",
         "club_games",
         "own_manager_name",
         "string"
        ],
        [
         "ddca_final_project_databricks_workspace",
         "bronze",
         "club_games",
         "opponent_id",
         "int"
        ],
        [
         "ddca_final_project_databricks_workspace",
         "bronze",
         "club_games",
         "opponent_goals",
         "int"
        ],
        [
         "ddca_final_project_databricks_workspace",
         "bronze",
         "club_games",
         "opponent_position",
         "int"
        ],
        [
         "ddca_final_project_databricks_workspace",
         "bronze",
         "club_games",
         "opponent_manager_name",
         "string"
        ],
        [
         "ddca_final_project_databricks_workspace",
         "bronze",
         "club_games",
         "hosting",
         "string"
        ],
        [
         "ddca_final_project_databricks_workspace",
         "bronze",
         "club_games",
         "is_win",
         "int"
        ],
        [
         "ddca_final_project_databricks_workspace",
         "bronze",
         "clubs",
         "club_id",
         "int"
        ],
        [
         "ddca_final_project_databricks_workspace",
         "bronze",
         "clubs",
         "club_code",
         "string"
        ],
        [
         "ddca_final_project_databricks_workspace",
         "bronze",
         "clubs",
         "name",
         "string"
        ],
        [
         "ddca_final_project_databricks_workspace",
         "bronze",
         "clubs",
         "domestic_competition_id",
         "string"
        ],
        [
         "ddca_final_project_databricks_workspace",
         "bronze",
         "clubs",
         "total_market_value",
         "string"
        ],
        [
         "ddca_final_project_databricks_workspace",
         "bronze",
         "clubs",
         "squad_size",
         "int"
        ],
        [
         "ddca_final_project_databricks_workspace",
         "bronze",
         "clubs",
         "average_age",
         "double"
        ],
        [
         "ddca_final_project_databricks_workspace",
         "bronze",
         "clubs",
         "foreigners_number",
         "int"
        ],
        [
         "ddca_final_project_databricks_workspace",
         "bronze",
         "clubs",
         "foreigners_percentage",
         "double"
        ],
        [
         "ddca_final_project_databricks_workspace",
         "bronze",
         "clubs",
         "national_team_players",
         "int"
        ],
        [
         "ddca_final_project_databricks_workspace",
         "bronze",
         "clubs",
         "stadium_name",
         "string"
        ],
        [
         "ddca_final_project_databricks_workspace",
         "bronze",
         "clubs",
         "stadium_seats",
         "int"
        ],
        [
         "ddca_final_project_databricks_workspace",
         "bronze",
         "clubs",
         "net_transfer_record",
         "string"
        ],
        [
         "ddca_final_project_databricks_workspace",
         "bronze",
         "clubs",
         "coach_name",
         "string"
        ],
        [
         "ddca_final_project_databricks_workspace",
         "bronze",
         "clubs",
         "last_season",
         "int"
        ],
        [
         "ddca_final_project_databricks_workspace",
         "bronze",
         "clubs",
         "filename",
         "string"
        ],
        [
         "ddca_final_project_databricks_workspace",
         "bronze",
         "clubs",
         "url",
         "string"
        ],
        [
         "ddca_final_project_databricks_workspace",
         "bronze",
         "competitions",
         "competition_id",
         "string"
        ],
        [
         "ddca_final_project_databricks_workspace",
         "bronze",
         "competitions",
         "competition_code",
         "string"
        ],
        [
         "ddca_final_project_databricks_workspace",
         "bronze",
         "competitions",
         "name",
         "string"
        ],
        [
         "ddca_final_project_databricks_workspace",
         "bronze",
         "competitions",
         "sub_type",
         "string"
        ],
        [
         "ddca_final_project_databricks_workspace",
         "bronze",
         "competitions",
         "type",
         "string"
        ],
        [
         "ddca_final_project_databricks_workspace",
         "bronze",
         "competitions",
         "country_id",
         "int"
        ],
        [
         "ddca_final_project_databricks_workspace",
         "bronze",
         "competitions",
         "country_name",
         "string"
        ],
        [
         "ddca_final_project_databricks_workspace",
         "bronze",
         "competitions",
         "domestic_league_code",
         "string"
        ],
        [
         "ddca_final_project_databricks_workspace",
         "bronze",
         "competitions",
         "confederation",
         "string"
        ],
        [
         "ddca_final_project_databricks_workspace",
         "bronze",
         "competitions",
         "url",
         "string"
        ],
        [
         "ddca_final_project_databricks_workspace",
         "bronze",
         "competitions",
         "is_major_national_league",
         "boolean"
        ],
        [
         "ddca_final_project_databricks_workspace",
         "bronze",
         "game_events",
         "game_event_id",
         "string"
        ],
        [
         "ddca_final_project_databricks_workspace",
         "bronze",
         "game_events",
         "date",
         "date"
        ],
        [
         "ddca_final_project_databricks_workspace",
         "bronze",
         "game_events",
         "game_id",
         "int"
        ],
        [
         "ddca_final_project_databricks_workspace",
         "bronze",
         "game_events",
         "minute",
         "int"
        ],
        [
         "ddca_final_project_databricks_workspace",
         "bronze",
         "game_events",
         "type",
         "string"
        ],
        [
         "ddca_final_project_databricks_workspace",
         "bronze",
         "game_events",
         "club_id",
         "int"
        ],
        [
         "ddca_final_project_databricks_workspace",
         "bronze",
         "game_events",
         "player_id",
         "int"
        ],
        [
         "ddca_final_project_databricks_workspace",
         "bronze",
         "game_events",
         "description",
         "string"
        ],
        [
         "ddca_final_project_databricks_workspace",
         "bronze",
         "game_events",
         "player_in_id",
         "double"
        ],
        [
         "ddca_final_project_databricks_workspace",
         "bronze",
         "game_events",
         "player_assist_id",
         "double"
        ],
        [
         "ddca_final_project_databricks_workspace",
         "bronze",
         "game_lineups",
         "game_lineups_id",
         "string"
        ],
        [
         "ddca_final_project_databricks_workspace",
         "bronze",
         "game_lineups",
         "date",
         "string"
        ],
        [
         "ddca_final_project_databricks_workspace",
         "bronze",
         "game_lineups",
         "game_id",
         "int"
        ],
        [
         "ddca_final_project_databricks_workspace",
         "bronze",
         "game_lineups",
         "player_id",
         "int"
        ],
        [
         "ddca_final_project_databricks_workspace",
         "bronze",
         "game_lineups",
         "club_id",
         "int"
        ],
        [
         "ddca_final_project_databricks_workspace",
         "bronze",
         "game_lineups",
         "player_name",
         "string"
        ],
        [
         "ddca_final_project_databricks_workspace",
         "bronze",
         "game_lineups",
         "type",
         "string"
        ],
        [
         "ddca_final_project_databricks_workspace",
         "bronze",
         "game_lineups",
         "position",
         "string"
        ],
        [
         "ddca_final_project_databricks_workspace",
         "bronze",
         "game_lineups",
         "number",
         "string"
        ],
        [
         "ddca_final_project_databricks_workspace",
         "bronze",
         "game_lineups",
         "team_captain",
         "int"
        ],
        [
         "ddca_final_project_databricks_workspace",
         "bronze",
         "games",
         "game_id",
         "int"
        ],
        [
         "ddca_final_project_databricks_workspace",
         "bronze",
         "games",
         "competition_id",
         "string"
        ],
        [
         "ddca_final_project_databricks_workspace",
         "bronze",
         "games",
         "season",
         "int"
        ],
        [
         "ddca_final_project_databricks_workspace",
         "bronze",
         "games",
         "date",
         "date"
        ],
        [
         "ddca_final_project_databricks_workspace",
         "bronze",
         "games",
         "round",
         "string"
        ],
        [
         "ddca_final_project_databricks_workspace",
         "bronze",
         "games",
         "home_club_id",
         "double"
        ],
        [
         "ddca_final_project_databricks_workspace",
         "bronze",
         "games",
         "away_club_id",
         "double"
        ],
        [
         "ddca_final_project_databricks_workspace",
         "bronze",
         "games",
         "home_club_goals",
         "double"
        ],
        [
         "ddca_final_project_databricks_workspace",
         "bronze",
         "games",
         "away_club_goals",
         "double"
        ],
        [
         "ddca_final_project_databricks_workspace",
         "bronze",
         "games",
         "home_club_position",
         "double"
        ],
        [
         "ddca_final_project_databricks_workspace",
         "bronze",
         "games",
         "away_club_position",
         "double"
        ],
        [
         "ddca_final_project_databricks_workspace",
         "bronze",
         "games",
         "home_club_manager_name",
         "string"
        ],
        [
         "ddca_final_project_databricks_workspace",
         "bronze",
         "games",
         "stadium",
         "string"
        ],
        [
         "ddca_final_project_databricks_workspace",
         "bronze",
         "games",
         "away_club_manager_name",
         "string"
        ],
        [
         "ddca_final_project_databricks_workspace",
         "bronze",
         "games",
         "attendance",
         "double"
        ],
        [
         "ddca_final_project_databricks_workspace",
         "bronze",
         "games",
         "referee",
         "string"
        ],
        [
         "ddca_final_project_databricks_workspace",
         "bronze",
         "games",
         "url",
         "string"
        ],
        [
         "ddca_final_project_databricks_workspace",
         "bronze",
         "games",
         "home_club_formation",
         "string"
        ],
        [
         "ddca_final_project_databricks_workspace",
         "bronze",
         "games",
         "away_club_formation",
         "string"
        ],
        [
         "ddca_final_project_databricks_workspace",
         "bronze",
         "games",
         "home_club_name",
         "string"
        ],
        [
         "ddca_final_project_databricks_workspace",
         "bronze",
         "games",
         "away_club_name",
         "string"
        ],
        [
         "ddca_final_project_databricks_workspace",
         "bronze",
         "games",
         "aggregate",
         "timestamp"
        ],
        [
         "ddca_final_project_databricks_workspace",
         "bronze",
         "games",
         "competition_type",
         "string"
        ],
        [
         "ddca_final_project_databricks_workspace",
         "bronze",
         "player_valuations",
         "player_id",
         "int"
        ],
        [
         "ddca_final_project_databricks_workspace",
         "bronze",
         "player_valuations",
         "date",
         "date"
        ],
        [
         "ddca_final_project_databricks_workspace",
         "bronze",
         "player_valuations",
         "market_value_in_eur",
         "int"
        ],
        [
         "ddca_final_project_databricks_workspace",
         "bronze",
         "player_valuations",
         "current_club_id",
         "int"
        ],
        [
         "ddca_final_project_databricks_workspace",
         "bronze",
         "player_valuations",
         "player_club_domestic_competition_id",
         "string"
        ],
        [
         "ddca_final_project_databricks_workspace",
         "bronze",
         "players",
         "player_id",
         "int"
        ],
        [
         "ddca_final_project_databricks_workspace",
         "bronze",
         "players",
         "first_name",
         "string"
        ],
        [
         "ddca_final_project_databricks_workspace",
         "bronze",
         "players",
         "last_name",
         "string"
        ],
        [
         "ddca_final_project_databricks_workspace",
         "bronze",
         "players",
         "name",
         "string"
        ],
        [
         "ddca_final_project_databricks_workspace",
         "bronze",
         "players",
         "last_season",
         "date"
        ],
        [
         "ddca_final_project_databricks_workspace",
         "bronze",
         "players",
         "current_club_id",
         "int"
        ],
        [
         "ddca_final_project_databricks_workspace",
         "bronze",
         "players",
         "player_code",
         "string"
        ],
        [
         "ddca_final_project_databricks_workspace",
         "bronze",
         "players",
         "country_of_birth",
         "string"
        ],
        [
         "ddca_final_project_databricks_workspace",
         "bronze",
         "players",
         "city_of_birth",
         "string"
        ],
        [
         "ddca_final_project_databricks_workspace",
         "bronze",
         "players",
         "country_of_citizenship",
         "string"
        ],
        [
         "ddca_final_project_databricks_workspace",
         "bronze",
         "players",
         "sub_position",
         "string"
        ],
        [
         "ddca_final_project_databricks_workspace",
         "bronze",
         "players",
         "date_of_birth",
         "timestamp"
        ],
        [
         "ddca_final_project_databricks_workspace",
         "bronze",
         "players",
         "position",
         "string"
        ],
        [
         "ddca_final_project_databricks_workspace",
         "bronze",
         "players",
         "foot",
         "string"
        ],
        [
         "ddca_final_project_databricks_workspace",
         "bronze",
         "players",
         "height_in_cm",
         "double"
        ],
        [
         "ddca_final_project_databricks_workspace",
         "bronze",
         "players",
         "contract_expiration_date",
         "timestamp"
        ],
        [
         "ddca_final_project_databricks_workspace",
         "bronze",
         "players",
         "image_url",
         "string"
        ],
        [
         "ddca_final_project_databricks_workspace",
         "bronze",
         "players",
         "agent_name",
         "string"
        ],
        [
         "ddca_final_project_databricks_workspace",
         "bronze",
         "players",
         "url",
         "string"
        ],
        [
         "ddca_final_project_databricks_workspace",
         "bronze",
         "players",
         "current_club_domestic_competition_id",
         "string"
        ],
        [
         "ddca_final_project_databricks_workspace",
         "bronze",
         "players",
         "current_club_name",
         "string"
        ],
        [
         "ddca_final_project_databricks_workspace",
         "bronze",
         "players",
         "market_value_in_eur",
         "double"
        ],
        [
         "ddca_final_project_databricks_workspace",
         "bronze",
         "players",
         "highest_market_value_in_eur",
         "double"
        ],
        [
         "ddca_final_project_databricks_workspace",
         "bronze",
         "transfers",
         "player_id",
         "int"
        ],
        [
         "ddca_final_project_databricks_workspace",
         "bronze",
         "transfers",
         "transfer_date",
         "date"
        ],
        [
         "ddca_final_project_databricks_workspace",
         "bronze",
         "transfers",
         "transfer_season",
         "string"
        ],
        [
         "ddca_final_project_databricks_workspace",
         "bronze",
         "transfers",
         "from_club_id",
         "int"
        ],
        [
         "ddca_final_project_databricks_workspace",
         "bronze",
         "transfers",
         "to_club_id",
         "int"
        ],
        [
         "ddca_final_project_databricks_workspace",
         "bronze",
         "transfers",
         "from_club_name",
         "string"
        ],
        [
         "ddca_final_project_databricks_workspace",
         "bronze",
         "transfers",
         "to_club_name",
         "string"
        ],
        [
         "ddca_final_project_databricks_workspace",
         "bronze",
         "transfers",
         "transfer_fee",
         "double"
        ],
        [
         "ddca_final_project_databricks_workspace",
         "bronze",
         "transfers",
         "market_value_in_eur",
         "double"
        ],
        [
         "ddca_final_project_databricks_workspace",
         "bronze",
         "transfers",
         "player_name",
         "string"
        ]
       ],
       "datasetInfos": [],
       "dbfsResultPath": null,
       "isJsonSchema": true,
       "metadata": {
        "createTempViewForImplicitDf": true,
        "dataframeName": "_sqldf",
        "executionCount": 13
       },
       "overflow": false,
       "plotOptions": {
        "customPlotOptions": {},
        "displayType": "table",
        "pivotAggregation": null,
        "pivotColumns": null,
        "xColumns": null,
        "yColumns": null
       },
       "removedWidgets": [],
       "schema": [
        {
         "metadata": "{}",
         "name": "table_catalog",
         "type": "\"string\""
        },
        {
         "metadata": "{}",
         "name": "table_schema",
         "type": "\"string\""
        },
        {
         "metadata": "{}",
         "name": "table_name",
         "type": "\"string\""
        },
        {
         "metadata": "{}",
         "name": "column_name",
         "type": "\"string\""
        },
        {
         "metadata": "{}",
         "name": "data_type",
         "type": "\"string\""
        }
       ],
       "type": "table"
      }
     },
     "output_type": "display_data"
    }
   ],
   "source": [
    "%sql\n",
    "SELECT * FROM custom_information_schema.columns_info WHERE table_schema = 'bronze'\n"
   ]
  },
  {
   "cell_type": "markdown",
   "metadata": {
    "application/vnd.databricks.v1+cell": {
     "cellMetadata": {
      "byteLimit": 2048000,
      "rowLimit": 10000
     },
     "inputWidgets": {},
     "nuid": "8c32e52d-e28e-44bb-adf0-f34d354601be",
     "showTitle": false,
     "tableResultSettingsMap": {},
     "title": ""
    }
   },
   "source": [
    "### Relationships of the original dataset\n",
    "Source of the image below: https://www.kaggle.com/datasets/davidcariboo/player-scores/data\n"
   ]
  },
  {
   "cell_type": "code",
   "execution_count": 0,
   "metadata": {
    "application/vnd.databricks.v1+cell": {
     "cellMetadata": {
      "byteLimit": 2048000,
      "rowLimit": 10000
     },
     "inputWidgets": {},
     "nuid": "c49bd18a-dd57-4dca-92a9-4f43cf6c00bb",
     "showTitle": false,
     "tableResultSettingsMap": {},
     "title": ""
    }
   },
   "outputs": [
    {
     "output_type": "execute_result",
     "data": {
      "image/png": "[encoded data removed]",
      "text/plain": [
       "<IPython.core.display.Image object>"
      ]
     },
     "execution_count": 3,
     "metadata": {},
     "output_type": "execute_result"
    }
   ],
   "source": [
    "from IPython.display import Image\n",
    "\n",
    "image_path = \"/Workspace/Users/tesfamit03@gmail.com/images/original-dataset-connection.png\"\n",
    "\n",
    "Image(image_path)\n"
   ]
  },
  {
   "cell_type": "code",
   "execution_count": 0,
   "metadata": {
    "application/vnd.databricks.v1+cell": {
     "cellMetadata": {},
     "inputWidgets": {},
     "nuid": "3bf71b47-2992-4c49-9347-dc0fcc299fa7",
     "showTitle": false,
     "tableResultSettingsMap": {},
     "title": ""
    }
   },
   "outputs": [],
   "source": []
  }
 ],
 "metadata": {
  "application/vnd.databricks.v1+notebook": {
   "computePreferences": null,
   "dashboards": [],
   "environmentMetadata": {
    "base_environment": "",
    "environment_version": "2"
   },
   "language": "python",
   "notebookMetadata": {
    "mostRecentlyExecutedCommandWithImplicitDF": {
     "commandId": 3612831496567532,
     "dataframes": [
      "_sqldf"
     ]
    },
    "pythonIndentUnit": 4
   },
   "notebookName": "basic_metadata_extraction",
   "widgets": {}
  },
  "language_info": {
   "name": "python"
  }
 },
 "nbformat": 4,
 "nbformat_minor": 0
}