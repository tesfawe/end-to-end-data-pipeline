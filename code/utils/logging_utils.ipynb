{
 "cells": [
  {
   "cell_type": "code",
   "execution_count": 0,
   "metadata": {
    "application/vnd.databricks.v1+cell": {
     "cellMetadata": {
      "byteLimit": 2048000,
      "rowLimit": 10000
     },
     "inputWidgets": {},
     "nuid": "7f8cfa1e-37f5-40cf-b99d-0825817f4d48",
     "showTitle": false,
     "tableResultSettingsMap": {},
     "title": ""
    }
   },
   "outputs": [],
   "source": [
    "from pyspark.sql import Row\n",
    "import datetime\n",
    "import json\n",
    "import os"
   ]
  },
  {
   "cell_type": "code",
   "execution_count": 0,
   "metadata": {
    "application/vnd.databricks.v1+cell": {
     "cellMetadata": {
      "byteLimit": 2048000,
      "rowLimit": 10000
     },
     "inputWidgets": {},
     "nuid": "801f35c3-ed46-4061-b9c5-f97285c6224e",
     "showTitle": false,
     "tableResultSettingsMap": {},
     "title": ""
    }
   },
   "outputs": [],
   "source": [
    "# utils/logging_utils\n",
    "\n",
    "from pyspark.sql import Row\n",
    "import datetime\n",
    "\n",
    "def log_pipeline_stats(stage, stats, table_name=\"pipeline.pipeline_stats\"):\n",
    "    \"\"\"\n",
    "    Logs pipeline statistics to a Delta table.\n",
    "    :param stage: The pipeline stage (e.g., \"ingestion\").\n",
    "    :param stats: A dictionary of metrics to log.\n",
    "    :param table_name: The name of the Delta table to store logs (default: \"pipeline.pipeline_stats\").\n",
    "    \"\"\"\n",
    "    try:\n",
    "        # Add common fields to the stats dictionary\n",
    "        stats[\"stage\"] = stage\n",
    "        stats[\"timestamp\"] = datetime.datetime.now()  # Keep as TIMESTAMP\n",
    "        \n",
    "        # Convert stats to a DataFrame\n",
    "        logs_df = spark.createDataFrame([Row(**stats)])\n",
    "        \n",
    "        # Write logs to the Delta table\n",
    "        logs_df.write.format(\"delta\") \\\n",
    "               .mode(\"append\") \\\n",
    "               .option(\"mergeSchema\", \"true\") \\\n",
    "               .saveAsTable(table_name)\n",
    "    \n",
    "    except Exception as e:\n",
    "        # Log errors if writing to the Delta table fails\n",
    "        print(f\"Failed to log pipeline stats for stage '{stage}' in table '{table_name}'. Error: {str(e)}\")\n",
    "        raise"
   ]
  },
  {
   "cell_type": "code",
   "execution_count": 0,
   "metadata": {
    "application/vnd.databricks.v1+cell": {
     "cellMetadata": {},
     "inputWidgets": {},
     "nuid": "53cbd03f-f06d-453b-9e89-30516791f0b4",
     "showTitle": false,
     "tableResultSettingsMap": {},
     "title": ""
    }
   },
   "outputs": [],
   "source": []
  }
 ],
 "metadata": {
  "application/vnd.databricks.v1+notebook": {
   "computePreferences": null,
   "dashboards": [],
   "environmentMetadata": {
    "base_environment": "",
    "environment_version": "2"
   },
   "language": "python",
   "notebookMetadata": {
    "mostRecentlyExecutedCommandWithImplicitDF": {
     "commandId": 696852992285801,
     "dataframes": [
      "_sqldf"
     ]
    },
    "pythonIndentUnit": 4
   },
   "notebookName": "logging_utils",
   "widgets": {}
  },
  "language_info": {
   "name": "python"
  }
 },
 "nbformat": 4,
 "nbformat_minor": 0
}