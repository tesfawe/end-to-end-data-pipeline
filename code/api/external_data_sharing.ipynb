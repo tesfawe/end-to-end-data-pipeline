{
 "cells": [
  {
   "cell_type": "code",
   "execution_count": 1,
   "id": "c6c485aa-64cf-49fd-9d22-b1932afe7803",
   "metadata": {},
   "outputs": [
    {
     "name": "stdout",
     "output_type": "stream",
     "text": [
      "Requirement already satisfied: databricks-sql-connector in /home/tesfay/anaconda3/lib/python3.12/site-packages (4.0.0)\n",
      "Requirement already satisfied: lz4<5.0.0,>=4.0.2 in /home/tesfay/anaconda3/lib/python3.12/site-packages (from databricks-sql-connector) (4.3.2)\n",
      "Requirement already satisfied: numpy<2.0.0,>=1.23.4 in /home/tesfay/anaconda3/lib/python3.12/site-packages (from databricks-sql-connector) (1.26.4)\n",
      "Requirement already satisfied: oauthlib<4.0.0,>=3.1.0 in /home/tesfay/anaconda3/lib/python3.12/site-packages (from databricks-sql-connector) (3.2.2)\n",
      "Requirement already satisfied: openpyxl<4.0.0,>=3.0.10 in /home/tesfay/anaconda3/lib/python3.12/site-packages (from databricks-sql-connector) (3.1.5)\n",
      "Requirement already satisfied: pandas<2.3.0,>=1.2.5 in /home/tesfay/anaconda3/lib/python3.12/site-packages (from databricks-sql-connector) (2.2.2)\n",
      "Requirement already satisfied: requests<3.0.0,>=2.18.1 in /home/tesfay/anaconda3/lib/python3.12/site-packages (from databricks-sql-connector) (2.32.3)\n",
      "Requirement already satisfied: thrift<0.21.0,>=0.16.0 in /home/tesfay/anaconda3/lib/python3.12/site-packages (from databricks-sql-connector) (0.20.0)\n",
      "Requirement already satisfied: urllib3>=1.26 in /home/tesfay/anaconda3/lib/python3.12/site-packages (from databricks-sql-connector) (2.2.3)\n",
      "Requirement already satisfied: et-xmlfile in /home/tesfay/anaconda3/lib/python3.12/site-packages (from openpyxl<4.0.0,>=3.0.10->databricks-sql-connector) (1.1.0)\n",
      "Requirement already satisfied: python-dateutil>=2.8.2 in /home/tesfay/anaconda3/lib/python3.12/site-packages (from pandas<2.3.0,>=1.2.5->databricks-sql-connector) (2.9.0.post0)\n",
      "Requirement already satisfied: pytz>=2020.1 in /home/tesfay/anaconda3/lib/python3.12/site-packages (from pandas<2.3.0,>=1.2.5->databricks-sql-connector) (2024.1)\n",
      "Requirement already satisfied: tzdata>=2022.7 in /home/tesfay/anaconda3/lib/python3.12/site-packages (from pandas<2.3.0,>=1.2.5->databricks-sql-connector) (2023.3)\n",
      "Requirement already satisfied: charset-normalizer<4,>=2 in /home/tesfay/anaconda3/lib/python3.12/site-packages (from requests<3.0.0,>=2.18.1->databricks-sql-connector) (3.3.2)\n",
      "Requirement already satisfied: idna<4,>=2.5 in /home/tesfay/anaconda3/lib/python3.12/site-packages (from requests<3.0.0,>=2.18.1->databricks-sql-connector) (3.7)\n",
      "Requirement already satisfied: certifi>=2017.4.17 in /home/tesfay/anaconda3/lib/python3.12/site-packages (from requests<3.0.0,>=2.18.1->databricks-sql-connector) (2024.8.30)\n",
      "Requirement already satisfied: six>=1.7.2 in /home/tesfay/anaconda3/lib/python3.12/site-packages (from thrift<0.21.0,>=0.16.0->databricks-sql-connector) (1.16.0)\n",
      "Note: you may need to restart the kernel to use updated packages.\n"
     ]
    }
   ],
   "source": [
    "pip install databricks-sql-connector"
   ]
  },
  {
   "cell_type": "code",
   "execution_count": 3,
   "id": "e30b0e7d-1ba8-47e2-a42c-cac02ba8009a",
   "metadata": {},
   "outputs": [
    {
     "name": "stdout",
     "output_type": "stream",
     "text": [
      "            stage              source_table              target_table  \\\n",
      "0  transformation         bronze.appearance         silver.appearance   \n",
      "1  transformation         bronze.club_games         silver.club_games   \n",
      "2  transformation              bronze.clubs              silver.clubs   \n",
      "3  transformation       bronze.competitions       silver.competitions   \n",
      "4  transformation        bronze.game_events        silver.game_events   \n",
      "5  transformation       bronze.game_lineups       silver.game_lineups   \n",
      "6  transformation              bronze.games              silver.games   \n",
      "7  transformation  bronze.player_valuations  silver.player_valuations   \n",
      "8  transformation            bronze.players            silver.players   \n",
      "9  transformation          bronze.transfers          silver.transfers   \n",
      "\n",
      "                        start_time                         end_time  \\\n",
      "0 2025-03-19 12:23:38.951522+00:00 2025-03-19 12:23:49.195514+00:00   \n",
      "1 2025-03-19 12:23:54.511866+00:00 2025-03-19 12:23:59.751429+00:00   \n",
      "2 2025-03-19 12:24:02.135398+00:00 2025-03-19 12:24:05.275869+00:00   \n",
      "3 2025-03-19 12:24:06.897344+00:00 2025-03-19 12:24:09.488324+00:00   \n",
      "4 2025-03-19 12:24:10.798925+00:00 2025-03-19 12:24:17.566986+00:00   \n",
      "5 2025-03-19 12:24:20.354392+00:00 2025-03-19 12:24:27.905623+00:00   \n",
      "6 2025-03-19 12:24:32.862289+00:00 2025-03-19 12:24:37.393097+00:00   \n",
      "7 2025-03-19 12:24:38.937879+00:00 2025-03-19 12:24:42.810333+00:00   \n",
      "8 2025-03-19 12:24:44.824217+00:00 2025-03-19 12:24:48.900077+00:00   \n",
      "9 2025-03-19 12:24:50.361020+00:00 2025-03-19 12:24:53.771301+00:00   \n",
      "\n",
      "   processing_duration_seconds  num_records_cleaned error_message  \\\n",
      "0                    10.243992               715463          None   \n",
      "1                     5.239563               147390          None   \n",
      "2                     3.140471                  439          None   \n",
      "3                     2.590980                   44          None   \n",
      "4                     6.768061               471993          None   \n",
      "5                     7.551231               811397          None   \n",
      "6                     4.530808                15831          None   \n",
      "7                     3.872454               195750          None   \n",
      "8                     4.075860                12622          None   \n",
      "9                     3.410281                39251          None   \n",
      "\n",
      "                         timestamp  \n",
      "0 2025-03-19 12:23:51.801396+00:00  \n",
      "1 2025-03-19 12:24:01.095598+00:00  \n",
      "2 2025-03-19 12:24:05.646123+00:00  \n",
      "3 2025-03-19 12:24:09.804850+00:00  \n",
      "4 2025-03-19 12:24:19.367945+00:00  \n",
      "5 2025-03-19 12:24:31.365159+00:00  \n",
      "6 2025-03-19 12:24:38.054878+00:00  \n",
      "7 2025-03-19 12:24:43.914643+00:00  \n",
      "8 2025-03-19 12:24:49.528839+00:00  \n",
      "9 2025-03-19 12:24:54.422405+00:00  \n"
     ]
    }
   ],
   "source": [
    "import pandas as pd\n",
    "from databricks import sql\n",
    "\n",
    "# Connect to Databricks SQL Warehouse\n",
    "\n",
    "connection = sql.connect(\n",
    "                        server_hostname = \"adb-4332105040219628.8.azuredatabricks.net\",\n",
    "                        http_path = \"/sql/1.0/warehouses/f04b5f6343fb99c5\",\n",
    "                        access_token = \"dapi23c9fa1c34935k4348k3kt84332440df704e3-2\"\n",
    ")\n",
    "\n",
    "# Execute query\n",
    "cursor = connection.cursor()\n",
    "cursor.execute(\"SELECT * FROM pipeline.silver_stats LIMIT 10\")\n",
    "\n",
    "# Convert to Pandas DataFrame\n",
    "columns = [desc[0] for desc in cursor.description] \n",
    "df = pd.DataFrame(cursor.fetchall(), columns=columns)\n",
    "\n",
    "# Print DataFrame\n",
    "print(df)\n",
    "df.to_csv(\"silver_stats.csv\")\n",
    "# Close connection\n",
    "cursor.close()\n",
    "connection.close()\n"
   ]
  },
  {
   "cell_type": "code",
   "execution_count": 4,
   "id": "77b3b69d-3768-4818-985b-3bef67ef38c0",
   "metadata": {},
   "outputs": [
    {
     "name": "stdout",
     "output_type": "stream",
     "text": [
      "Requirement already satisfied: azure-storage-blob in /home/tesfay/anaconda3/lib/python3.12/site-packages (12.25.0)\n",
      "Requirement already satisfied: azure-core>=1.30.0 in /home/tesfay/anaconda3/lib/python3.12/site-packages (from azure-storage-blob) (1.32.0)\n",
      "Requirement already satisfied: cryptography>=2.1.4 in /home/tesfay/anaconda3/lib/python3.12/site-packages (from azure-storage-blob) (43.0.0)\n",
      "Requirement already satisfied: typing-extensions>=4.6.0 in /home/tesfay/anaconda3/lib/python3.12/site-packages (from azure-storage-blob) (4.11.0)\n",
      "Requirement already satisfied: isodate>=0.6.1 in /home/tesfay/anaconda3/lib/python3.12/site-packages (from azure-storage-blob) (0.7.2)\n",
      "Requirement already satisfied: requests>=2.21.0 in /home/tesfay/anaconda3/lib/python3.12/site-packages (from azure-core>=1.30.0->azure-storage-blob) (2.32.3)\n",
      "Requirement already satisfied: six>=1.11.0 in /home/tesfay/anaconda3/lib/python3.12/site-packages (from azure-core>=1.30.0->azure-storage-blob) (1.16.0)\n",
      "Requirement already satisfied: cffi>=1.12 in /home/tesfay/anaconda3/lib/python3.12/site-packages (from cryptography>=2.1.4->azure-storage-blob) (1.17.1)\n",
      "Requirement already satisfied: pycparser in /home/tesfay/anaconda3/lib/python3.12/site-packages (from cffi>=1.12->cryptography>=2.1.4->azure-storage-blob) (2.21)\n",
      "Requirement already satisfied: charset-normalizer<4,>=2 in /home/tesfay/anaconda3/lib/python3.12/site-packages (from requests>=2.21.0->azure-core>=1.30.0->azure-storage-blob) (3.3.2)\n",
      "Requirement already satisfied: idna<4,>=2.5 in /home/tesfay/anaconda3/lib/python3.12/site-packages (from requests>=2.21.0->azure-core>=1.30.0->azure-storage-blob) (3.7)\n",
      "Requirement already satisfied: urllib3<3,>=1.21.1 in /home/tesfay/anaconda3/lib/python3.12/site-packages (from requests>=2.21.0->azure-core>=1.30.0->azure-storage-blob) (2.2.3)\n",
      "Requirement already satisfied: certifi>=2017.4.17 in /home/tesfay/anaconda3/lib/python3.12/site-packages (from requests>=2.21.0->azure-core>=1.30.0->azure-storage-blob) (2024.8.30)\n",
      "Note: you may need to restart the kernel to use updated packages.\n"
     ]
    }
   ],
   "source": [
    "pip install azure-storage-blob"
   ]
  },
  {
   "cell_type": "code",
   "execution_count": 5,
   "id": "f5627bd6-7ad1-4390-b4d5-769f6da1484c",
   "metadata": {},
   "outputs": [
    {
     "name": "stdout",
     "output_type": "stream",
     "text": [
      "Public link: https://ddcashareddata.blob.core.windows.net/shareddata/shared_data.csv\n"
     ]
    }
   ],
   "source": [
    "from azure.storage.blob import BlobServiceClient\n",
    "\n",
    "# Azure Storage Connection String\n",
    "connection_string = \"DefaultEndpointsProtocol=https;AccountName=ddcashareddata;AccountKey=YXSXptcMzPGkv9RZ733Cqi63aVmXODGk8KERi/dfd7sye723489eurw8343w89w3/R+sJM+AStg9G/gg==;EndpointSuffix=core.windows.net\"\n",
    "\n",
    "# Initialize Blob Service Client\n",
    "blob_service_client = BlobServiceClient.from_connection_string(connection_string)\n",
    "\n",
    "# Define Container & Blob Name\n",
    "container_name = \"shareddata\"\n",
    "blob_name = \"shared_data.csv\"\n",
    "\n",
    "# Upload File\n",
    "blob_client = blob_service_client.get_blob_client(container=container_name, blob=blob_name)\n",
    "\n",
    "with open(\"silver_stats.csv\", \"rb\") as data:\n",
    "    blob_client.upload_blob(data, overwrite=True)\n",
    "\n",
    "# Generate Public URL\n",
    "public_url = f\"https://ddcashareddata.blob.core.windows.net/{container_name}/{blob_name}\"\n",
    "print(\"Public link:\", public_url)\n"
   ]
  },
  {
   "cell_type": "code",
   "execution_count": null,
   "id": "81e11768-0e3d-41fc-a43d-3ff43b6cf7b7",
   "metadata": {},
   "outputs": [],
   "source": []
  }
 ],
 "metadata": {
  "kernelspec": {
   "display_name": "Python 3 (ipykernel)",
   "language": "python",
   "name": "python3"
  },
  "language_info": {
   "codemirror_mode": {
    "name": "ipython",
    "version": 3
   },
   "file_extension": ".py",
   "mimetype": "text/x-python",
   "name": "python",
   "nbconvert_exporter": "python",
   "pygments_lexer": "ipython3",
   "version": "3.12.7"
  }
 },
 "nbformat": 4,
 "nbformat_minor": 5
}
