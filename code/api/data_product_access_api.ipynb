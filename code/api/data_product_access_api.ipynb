{
 "cells": [
  {
   "cell_type": "code",
   "execution_count": 1,
   "id": "c6c485aa-64cf-49fd-9d22-b1932afe7803",
   "metadata": {},
   "outputs": [
    {
     "name": "stdout",
     "output_type": "stream",
     "text": [
      "Requirement already satisfied: databricks-sql-connector in /home/tesfay/anaconda3/lib/python3.12/site-packages (4.0.0)\n",
      "Requirement already satisfied: lz4<5.0.0,>=4.0.2 in /home/tesfay/anaconda3/lib/python3.12/site-packages (from databricks-sql-connector) (4.3.2)\n",
      "Requirement already satisfied: numpy<2.0.0,>=1.23.4 in /home/tesfay/anaconda3/lib/python3.12/site-packages (from databricks-sql-connector) (1.26.4)\n",
      "Requirement already satisfied: oauthlib<4.0.0,>=3.1.0 in /home/tesfay/anaconda3/lib/python3.12/site-packages (from databricks-sql-connector) (3.2.2)\n",
      "Requirement already satisfied: openpyxl<4.0.0,>=3.0.10 in /home/tesfay/anaconda3/lib/python3.12/site-packages (from databricks-sql-connector) (3.1.5)\n",
      "Requirement already satisfied: pandas<2.3.0,>=1.2.5 in /home/tesfay/anaconda3/lib/python3.12/site-packages (from databricks-sql-connector) (2.2.2)\n",
      "Requirement already satisfied: requests<3.0.0,>=2.18.1 in /home/tesfay/anaconda3/lib/python3.12/site-packages (from databricks-sql-connector) (2.32.3)\n",
      "Requirement already satisfied: thrift<0.21.0,>=0.16.0 in /home/tesfay/anaconda3/lib/python3.12/site-packages (from databricks-sql-connector) (0.20.0)\n",
      "Requirement already satisfied: urllib3>=1.26 in /home/tesfay/anaconda3/lib/python3.12/site-packages (from databricks-sql-connector) (2.2.3)\n",
      "Requirement already satisfied: et-xmlfile in /home/tesfay/anaconda3/lib/python3.12/site-packages (from openpyxl<4.0.0,>=3.0.10->databricks-sql-connector) (1.1.0)\n",
      "Requirement already satisfied: python-dateutil>=2.8.2 in /home/tesfay/anaconda3/lib/python3.12/site-packages (from pandas<2.3.0,>=1.2.5->databricks-sql-connector) (2.9.0.post0)\n",
      "Requirement already satisfied: pytz>=2020.1 in /home/tesfay/anaconda3/lib/python3.12/site-packages (from pandas<2.3.0,>=1.2.5->databricks-sql-connector) (2024.1)\n",
      "Requirement already satisfied: tzdata>=2022.7 in /home/tesfay/anaconda3/lib/python3.12/site-packages (from pandas<2.3.0,>=1.2.5->databricks-sql-connector) (2023.3)\n",
      "Requirement already satisfied: charset-normalizer<4,>=2 in /home/tesfay/anaconda3/lib/python3.12/site-packages (from requests<3.0.0,>=2.18.1->databricks-sql-connector) (3.3.2)\n",
      "Requirement already satisfied: idna<4,>=2.5 in /home/tesfay/anaconda3/lib/python3.12/site-packages (from requests<3.0.0,>=2.18.1->databricks-sql-connector) (3.7)\n",
      "Requirement already satisfied: certifi>=2017.4.17 in /home/tesfay/anaconda3/lib/python3.12/site-packages (from requests<3.0.0,>=2.18.1->databricks-sql-connector) (2024.8.30)\n",
      "Requirement already satisfied: six>=1.7.2 in /home/tesfay/anaconda3/lib/python3.12/site-packages (from thrift<0.21.0,>=0.16.0->databricks-sql-connector) (1.16.0)\n",
      "Note: you may need to restart the kernel to use updated packages.\n"
     ]
    }
   ],
   "source": [
    "pip install databricks-sql-connector"
   ]
  },
  {
   "cell_type": "code",
   "execution_count": 5,
   "id": "ff44714d-523c-4dd4-97d7-73fa0064cf3a",
   "metadata": {},
   "outputs": [
    {
     "name": "stdout",
     "output_type": "stream",
     "text": [
      "   player_id first_name    last_name  total_goals  total_assists  \\\n",
      "0      38253     Robert  Lewandowski          216             44   \n",
      "1     418560     Erling      Haaland          203             41   \n",
      "2     342229     Kylian       Mbappé          176             60   \n",
      "3     132098      Harry         Kane          169             54   \n",
      "4     406625    Lautaro     Martínez          124             43   \n",
      "5     105521       Ciro     Immobile          114             26   \n",
      "6      96341     Romelu       Lukaku          110             35   \n",
      "7     533738   Jonathan        David          108             22   \n",
      "8     401923     Victor      Osimhen          102             24   \n",
      "9     324503   Vangelis     Pavlidis          101             41   \n",
      "\n",
      "   avg_minutes_played position                                   club_name  \\\n",
      "0               83.35   Attack                       Futbol Club Barcelona   \n",
      "1               81.94   Attack               Manchester City Football Club   \n",
      "2               82.16   Attack                  Real Madrid Club de Fútbol   \n",
      "3               84.74   Attack                           FC Bayern München   \n",
      "4               71.97   Attack  Football Club Internazionale Milano S.p.A.   \n",
      "5               74.31   Attack                   Beşiktaş Jimnastik Kulübü   \n",
      "6               72.76   Attack              Società Sportiva Calcio Napoli   \n",
      "7               77.14   Attack               Lille Olympique Sporting Club   \n",
      "8               74.55   Attack                     Galatasaray Spor Kulübü   \n",
      "9               79.87   Attack                      Sport Lisboa e Benfica   \n",
      "\n",
      "   market_value_in_eur  \n",
      "0           15000000.0  \n",
      "1          200000000.0  \n",
      "2          160000000.0  \n",
      "3           90000000.0  \n",
      "4          100000000.0  \n",
      "5            3300000.0  \n",
      "6           25000000.0  \n",
      "7           45000000.0  \n",
      "8           75000000.0  \n",
      "9           23000000.0  \n"
     ]
    }
   ],
   "source": [
    "import pandas as pd\n",
    "from databricks import sql\n",
    "\n",
    "# Connect to Databricks SQL Warehouse\n",
    "connection = sql.connect(\n",
    "                        server_hostname = \"adb-4332105040219628.8.azuredatabricks.net\",\n",
    "                        http_path = \"/sql/1.0/warehouses/f04b5f6343fb99c5\",\n",
    "                        access_token = \"dapi23c9fafdsgsgdsgsdgwetthf0df704e3-2\"\n",
    ")\n",
    "\n",
    "# Execute query\n",
    "cursor = connection.cursor()\n",
    "cursor.execute(\"SELECT * FROM gold.player_stats LIMIT 10\")\n",
    "\n",
    "# Convert to Pandas DataFrame\n",
    "columns = [desc[0] for desc in cursor.description]  # Get column names\n",
    "df = pd.DataFrame(cursor.fetchall(), columns=columns)\n",
    "\n",
    "# Print DataFrame\n",
    "print(df)\n",
    "\n",
    "# Close connection\n",
    "cursor.close()\n",
    "connection.close()\n"
   ]
  },
  {
   "cell_type": "code",
   "execution_count": null,
   "id": "e30b0e7d-1ba8-47e2-a42c-cac02ba8009a",
   "metadata": {},
   "outputs": [],
   "source": []
  }
 ],
 "metadata": {
  "kernelspec": {
   "display_name": "Python 3 (ipykernel)",
   "language": "python",
   "name": "python3"
  },
  "language_info": {
   "codemirror_mode": {
    "name": "ipython",
    "version": 3
   },
   "file_extension": ".py",
   "mimetype": "text/x-python",
   "name": "python",
   "nbconvert_exporter": "python",
   "pygments_lexer": "ipython3",
   "version": "3.12.7"
  }
 },
 "nbformat": 4,
 "nbformat_minor": 5
}
