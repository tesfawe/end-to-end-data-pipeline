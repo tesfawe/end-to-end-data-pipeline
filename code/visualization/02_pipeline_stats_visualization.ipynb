{
 "cells": [
  {
   "cell_type": "markdown",
   "metadata": {
    "application/vnd.databricks.v1+cell": {
     "cellMetadata": {
      "byteLimit": 2048000,
      "rowLimit": 10000
     },
     "inputWidgets": {},
     "nuid": "d9b69ef4-de56-479f-96ea-e20d2297420e",
     "showTitle": false,
     "tableResultSettingsMap": {},
     "title": ""
    }
   },
   "source": [
    "## Record and Pipeline Statistics"
   ]
  },
  {
   "cell_type": "markdown",
   "metadata": {
    "application/vnd.databricks.v1+cell": {
     "cellMetadata": {
      "byteLimit": 2048000,
      "rowLimit": 10000
     },
     "inputWidgets": {},
     "nuid": "972c2086-eb2e-44c5-928e-9bf5ed9252c4",
     "showTitle": false,
     "tableResultSettingsMap": {},
     "title": ""
    }
   },
   "source": [
    "### Bronze Layer"
   ]
  },
  {
   "cell_type": "markdown",
   "metadata": {
    "application/vnd.databricks.v1+cell": {
     "cellMetadata": {
      "byteLimit": 2048000,
      "rowLimit": 10000
     },
     "inputWidgets": {},
     "nuid": "42ee0d6c-c3d2-422f-a16f-b2ade8da9aff",
     "showTitle": false,
     "tableResultSettingsMap": {},
     "title": ""
    }
   },
   "source": [
    "#### Tabular"
   ]
  },
  {
   "cell_type": "code",
   "execution_count": 0,
   "metadata": {
    "application/vnd.databricks.v1+cell": {
     "cellMetadata": {
      "byteLimit": 2048000,
      "implicitDf": true,
      "rowLimit": 10000
     },
     "inputWidgets": {},
     "nuid": "c17b5d36-2d3b-4da3-862d-3e77159d713e",
     "showTitle": false,
     "tableResultSettingsMap": {},
     "title": ""
    }
   },
   "outputs": [
    {
     "output_type": "display_data",
     "data": {
      "text/html": [
       "<style scoped>\n",
       "  .table-result-container {\n",
       "    max-height: 300px;\n",
       "    overflow: auto;\n",
       "  }\n",
       "  table, th, td {\n",
       "    border: 1px solid black;\n",
       "    border-collapse: collapse;\n",
       "  }\n",
       "  th, td {\n",
       "    padding: 5px;\n",
       "  }\n",
       "  th {\n",
       "    text-align: left;\n",
       "  }\n",
       "</style><div class='table-result-container'><table class='table-result'><thead style='background-color: white'><tr><th>file_name</th><th>stage</th><th>executed_at</th><th>read_duration_seconds</th><th>write_duration_seconds</th><th>num_records_ingested</th><th>file_size_mb</th></tr></thead><tbody><tr><td>transfers.csv</td><td>ingestion</td><td>8 minutes ago</td><td>0.71</td><td>2.9</td><td>39251</td><td>3.12</td></tr><tr><td>player_valuations.csv</td><td>ingestion</td><td>8 minutes ago</td><td>0.97</td><td>2.94</td><td>195750</td><td>6.29</td></tr><tr><td>players.csv</td><td>ingestion</td><td>8 minutes ago</td><td>0.56</td><td>4.0</td><td>17621</td><td>6.15</td></tr><tr><td>games.csv</td><td>ingestion</td><td>8 minutes ago</td><td>0.76</td><td>3.79</td><td>30141</td><td>8.73</td></tr><tr><td>game_lineups.csv</td><td>ingestion</td><td>8 minutes ago</td><td>1.98</td><td>34.4</td><td>904772</td><td>87.43</td></tr><tr><td>game_events.csv</td><td>ingestion</td><td>9 minutes ago</td><td>1.34</td><td>3.86</td><td>471993</td><td>49.34</td></tr><tr><td>competitions.csv</td><td>ingestion</td><td>9 minutes ago</td><td>0.32</td><td>1.87</td><td>44</td><td>0.01</td></tr><tr><td>clubs.csv</td><td>ingestion</td><td>9 minutes ago</td><td>0.49</td><td>1.82</td><td>439</td><td>0.09</td></tr><tr><td>club_games.csv</td><td>ingestion</td><td>9 minutes ago</td><td>0.88</td><td>2.73</td><td>147390</td><td>8.7</td></tr><tr><td>appearance.csv</td><td>ingestion</td><td>9 minutes ago</td><td>2.65</td><td>5.92</td><td>715463</td><td>53.95</td></tr><tr><td>transfers.csv</td><td>ingestion</td><td>3 hours ago</td><td>0.51</td><td>2.37</td><td>39251</td><td>3.12</td></tr><tr><td>player_valuations.csv</td><td>ingestion</td><td>3 hours ago</td><td>0.88</td><td>2.5</td><td>195750</td><td>6.29</td></tr><tr><td>players.csv</td><td>ingestion</td><td>3 hours ago</td><td>0.55</td><td>3.05</td><td>17621</td><td>6.15</td></tr><tr><td>games.csv</td><td>ingestion</td><td>3 hours ago</td><td>0.59</td><td>3.41</td><td>30141</td><td>8.73</td></tr><tr><td>game_lineups.csv</td><td>ingestion</td><td>3 hours ago</td><td>1.79</td><td>34.57</td><td>904772</td><td>87.43</td></tr><tr><td>game_events.csv</td><td>ingestion</td><td>3 hours ago</td><td>1.28</td><td>3.74</td><td>471993</td><td>49.34</td></tr><tr><td>competitions.csv</td><td>ingestion</td><td>3 hours ago</td><td>0.36</td><td>1.74</td><td>44</td><td>0.01</td></tr><tr><td>clubs.csv</td><td>ingestion</td><td>3 hours ago</td><td>0.27</td><td>1.59</td><td>439</td><td>0.09</td></tr><tr><td>club_games.csv</td><td>ingestion</td><td>3 hours ago</td><td>0.78</td><td>3.06</td><td>147390</td><td>8.7</td></tr><tr><td>appearance.csv</td><td>ingestion</td><td>3 hours ago</td><td>1.87</td><td>4.86</td><td>715463</td><td>53.95</td></tr><tr><td>transfers.csv</td><td>ingestion</td><td>3 hours ago</td><td>0.52</td><td>1.86</td><td>39251</td><td>3.12</td></tr><tr><td>player_valuations.csv</td><td>ingestion</td><td>3 hours ago</td><td>0.82</td><td>2.05</td><td>195750</td><td>6.29</td></tr><tr><td>players.csv</td><td>ingestion</td><td>3 hours ago</td><td>0.49</td><td>2.64</td><td>17621</td><td>6.15</td></tr><tr><td>games.csv</td><td>ingestion</td><td>3 hours ago</td><td>0.65</td><td>2.84</td><td>30141</td><td>8.73</td></tr><tr><td>game_lineups.csv</td><td>ingestion</td><td>3 hours ago</td><td>1.8</td><td>33.66</td><td>904772</td><td>87.43</td></tr><tr><td>game_events.csv</td><td>ingestion</td><td>3 hours ago</td><td>1.29</td><td>3.2</td><td>471993</td><td>49.34</td></tr><tr><td>competitions.csv</td><td>ingestion</td><td>3 hours ago</td><td>0.28</td><td>1.0</td><td>44</td><td>0.01</td></tr><tr><td>clubs.csv</td><td>ingestion</td><td>3 hours ago</td><td>0.34</td><td>0.97</td><td>439</td><td>0.09</td></tr><tr><td>club_games.csv</td><td>ingestion</td><td>3 hours ago</td><td>0.77</td><td>2.21</td><td>147390</td><td>8.7</td></tr><tr><td>appearance.csv</td><td>ingestion</td><td>3 hours ago</td><td>2.79</td><td>4.68</td><td>715463</td><td>53.95</td></tr><tr><td>transfers.csv</td><td>ingestion</td><td>22 hours ago</td><td>0.58</td><td>2.58</td><td>39251</td><td>3.12</td></tr><tr><td>player_valuations.csv</td><td>ingestion</td><td>22 hours ago</td><td>0.87</td><td>2.61</td><td>195750</td><td>6.29</td></tr><tr><td>players.csv</td><td>ingestion</td><td>22 hours ago</td><td>0.59</td><td>3.1</td><td>17621</td><td>6.15</td></tr><tr><td>games.csv</td><td>ingestion</td><td>22 hours ago</td><td>0.62</td><td>3.04</td><td>30141</td><td>8.73</td></tr><tr><td>game_lineups.csv</td><td>ingestion</td><td>22 hours ago</td><td>1.77</td><td>35.72</td><td>904772</td><td>87.43</td></tr><tr><td>game_events.csv</td><td>ingestion</td><td>22 hours ago</td><td>1.23</td><td>4.46</td><td>471993</td><td>49.34</td></tr><tr><td>competitions.csv</td><td>ingestion</td><td>22 hours ago</td><td>0.34</td><td>2.18</td><td>44</td><td>0.01</td></tr><tr><td>clubs.csv</td><td>ingestion</td><td>22 hours ago</td><td>0.5</td><td>2.49</td><td>439</td><td>0.09</td></tr><tr><td>club_games.csv</td><td>ingestion</td><td>22 hours ago</td><td>0.8</td><td>3.44</td><td>147390</td><td>8.7</td></tr><tr><td>appearance.csv</td><td>ingestion</td><td>22 hours ago</td><td>3.14</td><td>7.08</td><td>715463</td><td>53.95</td></tr><tr><td>transfers.csv</td><td>ingestion</td><td>1 days ago</td><td>0.59</td><td>3.28</td><td>39251</td><td>3.12</td></tr><tr><td>player_valuations.csv</td><td>ingestion</td><td>1 days ago</td><td>0.8</td><td>3.34</td><td>195750</td><td>6.29</td></tr><tr><td>players.csv</td><td>ingestion</td><td>1 days ago</td><td>0.57</td><td>3.6</td><td>17621</td><td>6.15</td></tr><tr><td>games.csv</td><td>ingestion</td><td>1 days ago</td><td>0.56</td><td>5.12</td><td>30141</td><td>8.73</td></tr><tr><td>game_lineups.csv</td><td>ingestion</td><td>1 days ago</td><td>1.72</td><td>34.79</td><td>904772</td><td>87.43</td></tr><tr><td>game_events.csv</td><td>ingestion</td><td>1 days ago</td><td>1.22</td><td>4.48</td><td>471993</td><td>49.34</td></tr><tr><td>competitions.csv</td><td>ingestion</td><td>1 days ago</td><td>0.34</td><td>2.3</td><td>44</td><td>0.01</td></tr><tr><td>clubs.csv</td><td>ingestion</td><td>1 days ago</td><td>0.44</td><td>2.67</td><td>439</td><td>0.09</td></tr><tr><td>club_games.csv</td><td>ingestion</td><td>1 days ago</td><td>0.73</td><td>3.7</td><td>147390</td><td>8.7</td></tr><tr><td>appearance.csv</td><td>ingestion</td><td>1 days ago</td><td>2.79</td><td>6.27</td><td>715463</td><td>53.95</td></tr><tr><td>transfers.csv</td><td>ingestion</td><td>2 days ago</td><td>0.55</td><td>2.36</td><td>39251</td><td>3.12</td></tr><tr><td>player_valuations.csv</td><td>ingestion</td><td>2 days ago</td><td>0.96</td><td>2.57</td><td>195750</td><td>6.29</td></tr><tr><td>players.csv</td><td>ingestion</td><td>2 days ago</td><td>0.58</td><td>3.23</td><td>17621</td><td>6.15</td></tr><tr><td>games.csv</td><td>ingestion</td><td>2 days ago</td><td>0.78</td><td>3.62</td><td>30141</td><td>8.73</td></tr><tr><td>game_lineups.csv</td><td>ingestion</td><td>2 days ago</td><td>2.29</td><td>35.15</td><td>904772</td><td>87.43</td></tr><tr><td>game_events.csv</td><td>ingestion</td><td>2 days ago</td><td>1.39</td><td>3.91</td><td>471993</td><td>49.34</td></tr><tr><td>competitions.csv</td><td>ingestion</td><td>2 days ago</td><td>0.29</td><td>1.62</td><td>44</td><td>0.01</td></tr><tr><td>clubs.csv</td><td>ingestion</td><td>2 days ago</td><td>0.34</td><td>1.56</td><td>439</td><td>0.09</td></tr><tr><td>club_games.csv</td><td>ingestion</td><td>2 days ago</td><td>0.88</td><td>4.72</td><td>147390</td><td>8.7</td></tr><tr><td>appearance.csv</td><td>ingestion</td><td>2 days ago</td><td>2.28</td><td>5.05</td><td>715463</td><td>53.95</td></tr><tr><td>transfers.csv</td><td>ingestion</td><td>2 days ago</td><td>0.74</td><td>3.1</td><td>39251</td><td>3.12</td></tr><tr><td>player_valuations.csv</td><td>ingestion</td><td>2 days ago</td><td>1.05</td><td>3.24</td><td>195750</td><td>6.29</td></tr><tr><td>players.csv</td><td>ingestion</td><td>2 days ago</td><td>0.65</td><td>3.66</td><td>17621</td><td>6.15</td></tr><tr><td>games.csv</td><td>ingestion</td><td>2 days ago</td><td>0.9</td><td>4.05</td><td>30141</td><td>8.73</td></tr><tr><td>game_lineups.csv</td><td>ingestion</td><td>2 days ago</td><td>2.02</td><td>36.7</td><td>904772</td><td>87.43</td></tr><tr><td>game_events.csv</td><td>ingestion</td><td>2 days ago</td><td>1.24</td><td>3.98</td><td>471993</td><td>49.34</td></tr><tr><td>competitions.csv</td><td>ingestion</td><td>2 days ago</td><td>0.28</td><td>1.66</td><td>44</td><td>0.01</td></tr><tr><td>clubs.csv</td><td>ingestion</td><td>2 days ago</td><td>0.44</td><td>1.95</td><td>439</td><td>0.09</td></tr><tr><td>club_games.csv</td><td>ingestion</td><td>2 days ago</td><td>0.91</td><td>3.18</td><td>147390</td><td>8.7</td></tr><tr><td>appearance.csv</td><td>ingestion</td><td>2 days ago</td><td>2.25</td><td>4.98</td><td>715463</td><td>53.95</td></tr><tr><td>transfers.csv</td><td>ingestion</td><td>2 days ago</td><td>0.56</td><td>2.43</td><td>39251</td><td>3.12</td></tr><tr><td>player_valuations.csv</td><td>ingestion</td><td>2 days ago</td><td>0.95</td><td>2.79</td><td>195750</td><td>6.29</td></tr><tr><td>players.csv</td><td>ingestion</td><td>2 days ago</td><td>0.51</td><td>3.45</td><td>17621</td><td>6.15</td></tr><tr><td>games.csv</td><td>ingestion</td><td>2 days ago</td><td>0.7</td><td>3.54</td><td>30141</td><td>8.73</td></tr><tr><td>game_lineups.csv</td><td>ingestion</td><td>2 days ago</td><td>2.08</td><td>35.68</td><td>904772</td><td>87.43</td></tr><tr><td>game_events.csv</td><td>ingestion</td><td>2 days ago</td><td>1.48</td><td>3.99</td><td>471993</td><td>49.34</td></tr><tr><td>competitions.csv</td><td>ingestion</td><td>2 days ago</td><td>0.52</td><td>1.79</td><td>44</td><td>0.01</td></tr><tr><td>clubs.csv</td><td>ingestion</td><td>2 days ago</td><td>0.33</td><td>1.9</td><td>439</td><td>0.09</td></tr><tr><td>club_games.csv</td><td>ingestion</td><td>2 days ago</td><td>0.92</td><td>3.22</td><td>147390</td><td>8.7</td></tr><tr><td>appearance.csv</td><td>ingestion</td><td>2 days ago</td><td>2.59</td><td>5.11</td><td>715463</td><td>53.95</td></tr></tbody></table></div>"
      ]
     },
     "metadata": {
      "application/vnd.databricks.v1+output": {
       "addedWidgets": {},
       "aggData": [],
       "aggError": "",
       "aggOverflow": false,
       "aggSchema": [],
       "aggSeriesLimitReached": false,
       "aggType": "",
       "arguments": {},
       "columnCustomDisplayInfos": {},
       "data": [
        [
         "transfers.csv",
         "ingestion",
         "8 minutes ago",
         0.71,
         2.9,
         39251,
         3.12
        ],
        [
         "player_valuations.csv",
         "ingestion",
         "8 minutes ago",
         0.97,
         2.94,
         195750,
         6.29
        ],
        [
         "players.csv",
         "ingestion",
         "8 minutes ago",
         0.56,
         4.0,
         17621,
         6.15
        ],
        [
         "games.csv",
         "ingestion",
         "8 minutes ago",
         0.76,
         3.79,
         30141,
         8.73
        ],
        [
         "game_lineups.csv",
         "ingestion",
         "8 minutes ago",
         1.98,
         34.4,
         904772,
         87.43
        ],
        [
         "game_events.csv",
         "ingestion",
         "9 minutes ago",
         1.34,
         3.86,
         471993,
         49.34
        ],
        [
         "competitions.csv",
         "ingestion",
         "9 minutes ago",
         0.32,
         1.87,
         44,
         0.01
        ],
        [
         "clubs.csv",
         "ingestion",
         "9 minutes ago",
         0.49,
         1.82,
         439,
         0.09
        ],
        [
         "club_games.csv",
         "ingestion",
         "9 minutes ago",
         0.88,
         2.73,
         147390,
         8.7
        ],
        [
         "appearance.csv",
         "ingestion",
         "9 minutes ago",
         2.65,
         5.92,
         715463,
         53.95
        ],
        [
         "transfers.csv",
         "ingestion",
         "3 hours ago",
         0.51,
         2.37,
         39251,
         3.12
        ],
        [
         "player_valuations.csv",
         "ingestion",
         "3 hours ago",
         0.88,
         2.5,
         195750,
         6.29
        ],
        [
         "players.csv",
         "ingestion",
         "3 hours ago",
         0.55,
         3.05,
         17621,
         6.15
        ],
        [
         "games.csv",
         "ingestion",
         "3 hours ago",
         0.59,
         3.41,
         30141,
         8.73
        ],
        [
         "game_lineups.csv",
         "ingestion",
         "3 hours ago",
         1.79,
         34.57,
         904772,
         87.43
        ],
        [
         "game_events.csv",
         "ingestion",
         "3 hours ago",
         1.28,
         3.74,
         471993,
         49.34
        ],
        [
         "competitions.csv",
         "ingestion",
         "3 hours ago",
         0.36,
         1.74,
         44,
         0.01
        ],
        [
         "clubs.csv",
         "ingestion",
         "3 hours ago",
         0.27,
         1.59,
         439,
         0.09
        ],
        [
         "club_games.csv",
         "ingestion",
         "3 hours ago",
         0.78,
         3.06,
         147390,
         8.7
        ],
        [
         "appearance.csv",
         "ingestion",
         "3 hours ago",
         1.87,
         4.86,
         715463,
         53.95
        ],
        [
         "transfers.csv",
         "ingestion",
         "3 hours ago",
         0.52,
         1.86,
         39251,
         3.12
        ],
        [
         "player_valuations.csv",
         "ingestion",
         "3 hours ago",
         0.82,
         2.05,
         195750,
         6.29
        ],
        [
         "players.csv",
         "ingestion",
         "3 hours ago",
         0.49,
         2.64,
         17621,
         6.15
        ],
        [
         "games.csv",
         "ingestion",
         "3 hours ago",
         0.65,
         2.84,
         30141,
         8.73
        ],
        [
         "game_lineups.csv",
         "ingestion",
         "3 hours ago",
         1.8,
         33.66,
         904772,
         87.43
        ],
        [
         "game_events.csv",
         "ingestion",
         "3 hours ago",
         1.29,
         3.2,
         471993,
         49.34
        ],
        [
         "competitions.csv",
         "ingestion",
         "3 hours ago",
         0.28,
         1.0,
         44,
         0.01
        ],
        [
         "clubs.csv",
         "ingestion",
         "3 hours ago",
         0.34,
         0.97,
         439,
         0.09
        ],
        [
         "club_games.csv",
         "ingestion",
         "3 hours ago",
         0.77,
         2.21,
         147390,
         8.7
        ],
        [
         "appearance.csv",
         "ingestion",
         "3 hours ago",
         2.79,
         4.68,
         715463,
         53.95
        ],
        [
         "transfers.csv",
         "ingestion",
         "22 hours ago",
         0.58,
         2.58,
         39251,
         3.12
        ],
        [
         "player_valuations.csv",
         "ingestion",
         "22 hours ago",
         0.87,
         2.61,
         195750,
         6.29
        ],
        [
         "players.csv",
         "ingestion",
         "22 hours ago",
         0.59,
         3.1,
         17621,
         6.15
        ],
        [
         "games.csv",
         "ingestion",
         "22 hours ago",
         0.62,
         3.04,
         30141,
         8.73
        ],
        [
         "game_lineups.csv",
         "ingestion",
         "22 hours ago",
         1.77,
         35.72,
         904772,
         87.43
        ],
        [
         "game_events.csv",
         "ingestion",
         "22 hours ago",
         1.23,
         4.46,
         471993,
         49.34
        ],
        [
         "competitions.csv",
         "ingestion",
         "22 hours ago",
         0.34,
         2.18,
         44,
         0.01
        ],
        [
         "clubs.csv",
         "ingestion",
         "22 hours ago",
         0.5,
         2.49,
         439,
         0.09
        ],
        [
         "club_games.csv",
         "ingestion",
         "22 hours ago",
         0.8,
         3.44,
         147390,
         8.7
        ],
        [
         "appearance.csv",
         "ingestion",
         "22 hours ago",
         3.14,
         7.08,
         715463,
         53.95
        ],
        [
         "transfers.csv",
         "ingestion",
         "1 days ago",
         0.59,
         3.28,
         39251,
         3.12
        ],
        [
         "player_valuations.csv",
         "ingestion",
         "1 days ago",
         0.8,
         3.34,
         195750,
         6.29
        ],
        [
         "players.csv",
         "ingestion",
         "1 days ago",
         0.57,
         3.6,
         17621,
         6.15
        ],
        [
         "games.csv",
         "ingestion",
         "1 days ago",
         0.56,
         5.12,
         30141,
         8.73
        ],
        [
         "game_lineups.csv",
         "ingestion",
         "1 days ago",
         1.72,
         34.79,
         904772,
         87.43
        ],
        [
         "game_events.csv",
         "ingestion",
         "1 days ago",
         1.22,
         4.48,
         471993,
         49.34
        ],
        [
         "competitions.csv",
         "ingestion",
         "1 days ago",
         0.34,
         2.3,
         44,
         0.01
        ],
        [
         "clubs.csv",
         "ingestion",
         "1 days ago",
         0.44,
         2.67,
         439,
         0.09
        ],
        [
         "club_games.csv",
         "ingestion",
         "1 days ago",
         0.73,
         3.7,
         147390,
         8.7
        ],
        [
         "appearance.csv",
         "ingestion",
         "1 days ago",
         2.79,
         6.27,
         715463,
         53.95
        ],
        [
         "transfers.csv",
         "ingestion",
         "2 days ago",
         0.55,
         2.36,
         39251,
         3.12
        ],
        [
         "player_valuations.csv",
         "ingestion",
         "2 days ago",
         0.96,
         2.57,
         195750,
         6.29
        ],
        [
         "players.csv",
         "ingestion",
         "2 days ago",
         0.58,
         3.23,
         17621,
         6.15
        ],
        [
         "games.csv",
         "ingestion",
         "2 days ago",
         0.78,
         3.62,
         30141,
         8.73
        ],
        [
         "game_lineups.csv",
         "ingestion",
         "2 days ago",
         2.29,
         35.15,
         904772,
         87.43
        ],
        [
         "game_events.csv",
         "ingestion",
         "2 days ago",
         1.39,
         3.91,
         471993,
         49.34
        ],
        [
         "competitions.csv",
         "ingestion",
         "2 days ago",
         0.29,
         1.62,
         44,
         0.01
        ],
        [
         "clubs.csv",
         "ingestion",
         "2 days ago",
         0.34,
         1.56,
         439,
         0.09
        ],
        [
         "club_games.csv",
         "ingestion",
         "2 days ago",
         0.88,
         4.72,
         147390,
         8.7
        ],
        [
         "appearance.csv",
         "ingestion",
         "2 days ago",
         2.28,
         5.05,
         715463,
         53.95
        ],
        [
         "transfers.csv",
         "ingestion",
         "2 days ago",
         0.74,
         3.1,
         39251,
         3.12
        ],
        [
         "player_valuations.csv",
         "ingestion",
         "2 days ago",
         1.05,
         3.24,
         195750,
         6.29
        ],
        [
         "players.csv",
         "ingestion",
         "2 days ago",
         0.65,
         3.66,
         17621,
         6.15
        ],
        [
         "games.csv",
         "ingestion",
         "2 days ago",
         0.9,
         4.05,
         30141,
         8.73
        ],
        [
         "game_lineups.csv",
         "ingestion",
         "2 days ago",
         2.02,
         36.7,
         904772,
         87.43
        ],
        [
         "game_events.csv",
         "ingestion",
         "2 days ago",
         1.24,
         3.98,
         471993,
         49.34
        ],
        [
         "competitions.csv",
         "ingestion",
         "2 days ago",
         0.28,
         1.66,
         44,
         0.01
        ],
        [
         "clubs.csv",
         "ingestion",
         "2 days ago",
         0.44,
         1.95,
         439,
         0.09
        ],
        [
         "club_games.csv",
         "ingestion",
         "2 days ago",
         0.91,
         3.18,
         147390,
         8.7
        ],
        [
         "appearance.csv",
         "ingestion",
         "2 days ago",
         2.25,
         4.98,
         715463,
         53.95
        ],
        [
         "transfers.csv",
         "ingestion",
         "2 days ago",
         0.56,
         2.43,
         39251,
         3.12
        ],
        [
         "player_valuations.csv",
         "ingestion",
         "2 days ago",
         0.95,
         2.79,
         195750,
         6.29
        ],
        [
         "players.csv",
         "ingestion",
         "2 days ago",
         0.51,
         3.45,
         17621,
         6.15
        ],
        [
         "games.csv",
         "ingestion",
         "2 days ago",
         0.7,
         3.54,
         30141,
         8.73
        ],
        [
         "game_lineups.csv",
         "ingestion",
         "2 days ago",
         2.08,
         35.68,
         904772,
         87.43
        ],
        [
         "game_events.csv",
         "ingestion",
         "2 days ago",
         1.48,
         3.99,
         471993,
         49.34
        ],
        [
         "competitions.csv",
         "ingestion",
         "2 days ago",
         0.52,
         1.79,
         44,
         0.01
        ],
        [
         "clubs.csv",
         "ingestion",
         "2 days ago",
         0.33,
         1.9,
         439,
         0.09
        ],
        [
         "club_games.csv",
         "ingestion",
         "2 days ago",
         0.92,
         3.22,
         147390,
         8.7
        ],
        [
         "appearance.csv",
         "ingestion",
         "2 days ago",
         2.59,
         5.11,
         715463,
         53.95
        ]
       ],
       "datasetInfos": [],
       "dbfsResultPath": null,
       "isJsonSchema": true,
       "metadata": {
        "createTempViewForImplicitDf": true,
        "dataframeName": "_sqldf",
        "executionCount": 1
       },
       "overflow": false,
       "plotOptions": {
        "customPlotOptions": {},
        "displayType": "table",
        "pivotAggregation": null,
        "pivotColumns": null,
        "xColumns": null,
        "yColumns": null
       },
       "removedWidgets": [],
       "schema": [
        {
         "metadata": "{}",
         "name": "file_name",
         "type": "\"string\""
        },
        {
         "metadata": "{}",
         "name": "stage",
         "type": "\"string\""
        },
        {
         "metadata": "{}",
         "name": "executed_at",
         "type": "\"string\""
        },
        {
         "metadata": "{}",
         "name": "read_duration_seconds",
         "type": "\"double\""
        },
        {
         "metadata": "{}",
         "name": "write_duration_seconds",
         "type": "\"double\""
        },
        {
         "metadata": "{}",
         "name": "num_records_ingested",
         "type": "\"long\""
        },
        {
         "metadata": "{}",
         "name": "file_size_mb",
         "type": "\"double\""
        }
       ],
       "type": "table"
      }
     },
     "output_type": "display_data"
    }
   ],
   "source": [
    "%sql\n",
    "SELECT\n",
    "    file_name,\n",
    "    stage,\n",
    "    CASE\n",
    "        WHEN TIMESTAMPDIFF(SECOND, end_time, CURRENT_TIMESTAMP) < 60 THEN CONCAT(TIMESTAMPDIFF(SECOND, end_time, CURRENT_TIMESTAMP), ' seconds ago')\n",
    "        WHEN TIMESTAMPDIFF(MINUTE, end_time, CURRENT_TIMESTAMP) < 60 THEN CONCAT(TIMESTAMPDIFF(MINUTE, end_time, CURRENT_TIMESTAMP), ' minutes ago')\n",
    "        WHEN TIMESTAMPDIFF(HOUR, end_time, CURRENT_TIMESTAMP) < 24 THEN CONCAT(TIMESTAMPDIFF(HOUR, end_time, CURRENT_TIMESTAMP), ' hours ago')\n",
    "        ELSE CONCAT(TIMESTAMPDIFF(DAY, end_time, CURRENT_TIMESTAMP), ' days ago')\n",
    "    END AS executed_at,\n",
    "    round(read_duration_seconds, 2) AS read_duration_seconds,\n",
    "    round(write_duration_seconds, 2) AS write_duration_seconds,\n",
    "    num_records_ingested,\n",
    "    file_size_mb\n",
    "FROM pipeline.bronze_stats\n",
    "WHERE stage = 'ingestion'\n",
    "ORDER BY end_time DESC; -- Sort by the latest execution time"
   ]
  },
  {
   "cell_type": "code",
   "execution_count": 0,
   "metadata": {
    "application/vnd.databricks.v1+cell": {
     "cellMetadata": {
      "byteLimit": 2048000,
      "rowLimit": 10000
     },
     "inputWidgets": {},
     "nuid": "f1a81e38-31ca-4845-a722-7e3df0811407",
     "showTitle": false,
     "tableResultSettingsMap": {},
     "title": ""
    }
   },
   "outputs": [],
   "source": [
    "import plotly.express as px\n",
    "import pandas as pd\n",
    "\n",
    "# Query the bronze_stats table\n",
    "query = \"\"\"\n",
    "    SELECT \n",
    "        stage,\n",
    "        file_name,\n",
    "        start_time,\n",
    "        read_end_time,\n",
    "        end_time,\n",
    "        file_size_mb,\n",
    "        num_records_ingested,\n",
    "        read_duration_seconds,\n",
    "        write_duration_seconds,\n",
    "        error_message,\n",
    "        timestamp\n",
    "    FROM pipeline.bronze_stats\n",
    "\"\"\"\n",
    "stats_df = spark.sql(query).toPandas()\n",
    "\n",
    "# Ensure timestamps are parsed correctly\n",
    "stats_df['start_time'] = pd.to_datetime(stats_df['start_time'])\n",
    "stats_df['read_end_time'] = pd.to_datetime(stats_df['read_end_time'])\n",
    "stats_df['end_time'] = pd.to_datetime(stats_df['end_time'])\n",
    "stats_df['timestamp'] = pd.to_datetime(stats_df['timestamp'])\n",
    "\n",
    "# Drop rows with missing data \n",
    "stats_df.dropna(subset=['file_size_mb', 'num_records_ingested', 'read_duration_seconds', 'write_duration_seconds'], inplace=True)\n",
    "\n"
   ]
  },
  {
   "cell_type": "markdown",
   "metadata": {
    "application/vnd.databricks.v1+cell": {
     "cellMetadata": {
      "byteLimit": 2048000,
      "rowLimit": 10000
     },
     "inputWidgets": {},
     "nuid": "a20e7be8-aef5-4810-979f-50fd3db156c8",
     "showTitle": false,
     "tableResultSettingsMap": {},
     "title": ""
    }
   },
   "source": [
    "#### Visualizations "
   ]
  },
  {
   "cell_type": "markdown",
   "metadata": {
    "application/vnd.databricks.v1+cell": {
     "cellMetadata": {
      "byteLimit": 2048000,
      "rowLimit": 10000
     },
     "inputWidgets": {},
     "nuid": "59dbe3a5-7753-483a-9918-18279b7c9dee",
     "showTitle": false,
     "tableResultSettingsMap": {},
     "title": ""
    }
   },
   "source": [
    "**File Size vs. Number of Records Ingested**"
   ]
  },
  {
   "cell_type": "code",
   "execution_count": 0,
   "metadata": {
    "application/vnd.databricks.v1+cell": {
     "cellMetadata": {
      "byteLimit": 2048000,
      "rowLimit": 10000
     },
     "inputWidgets": {},
     "nuid": "c843b9a0-8f2e-4a90-be28-6970e5feaeab",
     "showTitle": false,
     "tableResultSettingsMap": {},
     "title": ""
    }
   },
   "outputs": [
    {
     "output_type": "display_data",
     "data": {
      "text/html": [
       "<html>\n",
       "<head><meta charset=\"utf-8\" /></head>\n",
       "<body>\n",
       "    <div>            <script src=\"https://cdnjs.cloudflare.com/ajax/libs/mathjax/2.7.5/MathJax.js?config=TeX-AMS-MML_SVG\"></script><script type=\"text/javascript\">if (window.MathJax && window.MathJax.Hub && window.MathJax.Hub.Config) {window.MathJax.Hub.Config({SVG: {font: \"STIX-Web\"}});}</script>                <script type=\"text/javascript\">window.PlotlyConfig = {MathJaxConfig: 'local'};</script>\n",
       "        <script charset=\"utf-8\" src=\"https://cdn.plot.ly/plotly-2.32.0.min.js\"></script>                <div id=\"4b401a82-b76d-4e9c-b7ae-0238d3088c94\" class=\"plotly-graph-div\" style=\"height:100%; width:100%;\"></div>            <script type=\"text/javascript\">                                    window.PLOTLYENV=window.PLOTLYENV || {};                                    if (document.getElementById(\"4b401a82-b76d-4e9c-b7ae-0238d3088c94\")) {                    Plotly.newPlot(                        \"4b401a82-b76d-4e9c-b7ae-0238d3088c94\",                        [{\"customdata\":[[\"appearance.csv\",\"2025-03-19T12:21:48.881058\"],[\"appearance.csv\",\"2025-03-19T12:35:20.524670\"],[\"appearance.csv\",\"2025-03-19T12:50:59.533626\"],[\"appearance.csv\",\"2025-03-20T12:51:01.870194\"],[\"appearance.csv\",\"2025-03-21T12:51:01.428397\"],[\"appearance.csv\",\"2025-03-22T07:55:03.228940\"],[\"appearance.csv\",\"2025-03-22T07:59:30.240750\"],[\"appearance.csv\",\"2025-03-22T11:09:45.399310\"]],\"hovertemplate\":\"file_name=%{customdata[0]}\\u003cbr\\u003eFile Size (MB)=%{x}\\u003cbr\\u003eNumber of Records Ingested=%{y}\\u003cbr\\u003estart_time=%{customdata[1]}\\u003cextra\\u003e\\u003c\\u002fextra\\u003e\",\"legendgroup\":\"appearance.csv\",\"marker\":{\"color\":\"#636efa\",\"symbol\":\"circle\"},\"mode\":\"markers\",\"name\":\"appearance.csv\",\"orientation\":\"v\",\"showlegend\":true,\"x\":[53.95,53.95,53.95,53.95,53.95,53.95,53.95,53.95],\"xaxis\":\"x\",\"y\":[715463,715463,715463,715463,715463,715463,715463,715463],\"yaxis\":\"y\",\"type\":\"scatter\"},{\"customdata\":[[\"club_games.csv\",\"2025-03-19T12:21:59.775407\"],[\"club_games.csv\",\"2025-03-19T12:35:30.570334\"],[\"club_games.csv\",\"2025-03-19T12:51:09.831327\"],[\"club_games.csv\",\"2025-03-20T12:51:16.116789\"],[\"club_games.csv\",\"2025-03-21T12:51:14.961480\"],[\"club_games.csv\",\"2025-03-22T07:55:13.661898\"],[\"club_games.csv\",\"2025-03-22T07:59:38.747762\"],[\"club_games.csv\",\"2025-03-22T11:09:57.145644\"]],\"hovertemplate\":\"file_name=%{customdata[0]}\\u003cbr\\u003eFile Size (MB)=%{x}\\u003cbr\\u003eNumber of Records Ingested=%{y}\\u003cbr\\u003estart_time=%{customdata[1]}\\u003cextra\\u003e\\u003c\\u002fextra\\u003e\",\"legendgroup\":\"club_games.csv\",\"marker\":{\"color\":\"#EF553B\",\"symbol\":\"circle\"},\"mode\":\"markers\",\"name\":\"club_games.csv\",\"orientation\":\"v\",\"showlegend\":true,\"x\":[8.7,8.7,8.7,8.7,8.7,8.7,8.7,8.7],\"xaxis\":\"x\",\"y\":[147390,147390,147390,147390,147390,147390,147390,147390],\"yaxis\":\"y\",\"type\":\"scatter\"},{\"customdata\":[[\"clubs.csv\",\"2025-03-19T12:22:05.121256\"],[\"clubs.csv\",\"2025-03-19T12:35:36.204349\"],[\"clubs.csv\",\"2025-03-19T12:51:17.637412\"],[\"clubs.csv\",\"2025-03-20T12:51:21.988743\"],[\"clubs.csv\",\"2025-03-21T12:51:20.373912\"],[\"clubs.csv\",\"2025-03-22T07:55:17.821504\"],[\"clubs.csv\",\"2025-03-22T07:59:43.644391\"],[\"clubs.csv\",\"2025-03-22T11:10:02.082285\"]],\"hovertemplate\":\"file_name=%{customdata[0]}\\u003cbr\\u003eFile Size (MB)=%{x}\\u003cbr\\u003eNumber of Records Ingested=%{y}\\u003cbr\\u003estart_time=%{customdata[1]}\\u003cextra\\u003e\\u003c\\u002fextra\\u003e\",\"legendgroup\":\"clubs.csv\",\"marker\":{\"color\":\"#00cc96\",\"symbol\":\"circle\"},\"mode\":\"markers\",\"name\":\"clubs.csv\",\"orientation\":\"v\",\"showlegend\":true,\"x\":[0.09,0.09,0.09,0.09,0.09,0.09,0.09,0.09],\"xaxis\":\"x\",\"y\":[439,439,439,439,439,439,439,439],\"yaxis\":\"y\",\"type\":\"scatter\"},{\"customdata\":[[\"competitions.csv\",\"2025-03-19T12:22:08.541133\"],[\"competitions.csv\",\"2025-03-19T12:35:39.601704\"],[\"competitions.csv\",\"2025-03-19T12:51:20.547906\"],[\"competitions.csv\",\"2025-03-20T12:51:26.302094\"],[\"competitions.csv\",\"2025-03-21T12:51:24.567563\"],[\"competitions.csv\",\"2025-03-22T07:55:20.351810\"],[\"competitions.csv\",\"2025-03-22T07:59:46.506715\"],[\"competitions.csv\",\"2025-03-22T11:10:05.471264\"]],\"hovertemplate\":\"file_name=%{customdata[0]}\\u003cbr\\u003eFile Size (MB)=%{x}\\u003cbr\\u003eNumber of Records Ingested=%{y}\\u003cbr\\u003estart_time=%{customdata[1]}\\u003cextra\\u003e\\u003c\\u002fextra\\u003e\",\"legendgroup\":\"competitions.csv\",\"marker\":{\"color\":\"#ab63fa\",\"symbol\":\"circle\"},\"mode\":\"markers\",\"name\":\"competitions.csv\",\"orientation\":\"v\",\"showlegend\":true,\"x\":[0.01,0.01,0.01,0.01,0.01,0.01,0.01,0.01],\"xaxis\":\"x\",\"y\":[44,44,44,44,44,44,44,44],\"yaxis\":\"y\",\"type\":\"scatter\"},{\"customdata\":[[\"game_events.csv\",\"2025-03-19T12:22:11.984760\"],[\"game_events.csv\",\"2025-03-19T12:35:42.499588\"],[\"game_events.csv\",\"2025-03-19T12:51:23.970444\"],[\"game_events.csv\",\"2025-03-20T12:51:30.041751\"],[\"game_events.csv\",\"2025-03-21T12:51:28.047972\"],[\"game_events.csv\",\"2025-03-22T07:55:22.553015\"],[\"game_events.csv\",\"2025-03-22T07:59:49.695294\"],[\"game_events.csv\",\"2025-03-22T11:10:08.705216\"]],\"hovertemplate\":\"file_name=%{customdata[0]}\\u003cbr\\u003eFile Size (MB)=%{x}\\u003cbr\\u003eNumber of Records Ingested=%{y}\\u003cbr\\u003estart_time=%{customdata[1]}\\u003cextra\\u003e\\u003c\\u002fextra\\u003e\",\"legendgroup\":\"game_events.csv\",\"marker\":{\"color\":\"#FFA15A\",\"symbol\":\"circle\"},\"mode\":\"markers\",\"name\":\"game_events.csv\",\"orientation\":\"v\",\"showlegend\":true,\"x\":[49.34,49.34,49.34,49.34,49.34,49.34,49.34,49.34],\"xaxis\":\"x\",\"y\":[471993,471993,471993,471993,471993,471993,471993,471993],\"yaxis\":\"y\",\"type\":\"scatter\"},{\"customdata\":[[\"game_lineups.csv\",\"2025-03-19T12:22:19.076047\"],[\"game_lineups.csv\",\"2025-03-19T12:35:49.214864\"],[\"game_lineups.csv\",\"2025-03-19T12:51:30.671747\"],[\"game_lineups.csv\",\"2025-03-20T12:51:40.329651\"],[\"game_lineups.csv\",\"2025-03-21T12:51:35.206596\"],[\"game_lineups.csv\",\"2025-03-22T07:55:28.582957\"],[\"game_lineups.csv\",\"2025-03-22T11:10:15.504192\"],[\"game_lineups.csv\",\"2025-03-22T07:59:56.162542\"]],\"hovertemplate\":\"file_name=%{customdata[0]}\\u003cbr\\u003eFile Size (MB)=%{x}\\u003cbr\\u003eNumber of Records Ingested=%{y}\\u003cbr\\u003estart_time=%{customdata[1]}\\u003cextra\\u003e\\u003c\\u002fextra\\u003e\",\"legendgroup\":\"game_lineups.csv\",\"marker\":{\"color\":\"#19d3f3\",\"symbol\":\"circle\"},\"mode\":\"markers\",\"name\":\"game_lineups.csv\",\"orientation\":\"v\",\"showlegend\":true,\"x\":[87.43,87.43,87.43,87.43,87.43,87.43,87.43,87.43],\"xaxis\":\"x\",\"y\":[904772,904772,904772,904772,904772,904772,904772,904772],\"yaxis\":\"y\",\"type\":\"scatter\"},{\"customdata\":[[\"games.csv\",\"2025-03-19T12:22:59.125902\"],[\"games.csv\",\"2025-03-19T12:36:30.023289\"],[\"games.csv\",\"2025-03-19T12:52:10.168106\"],[\"games.csv\",\"2025-03-20T12:52:19.356168\"],[\"games.csv\",\"2025-03-21T12:52:14.700258\"],[\"games.csv\",\"2025-03-22T07:56:05.839316\"],[\"games.csv\",\"2025-03-22T11:10:54.864261\"],[\"games.csv\",\"2025-03-22T08:00:34.221904\"]],\"hovertemplate\":\"file_name=%{customdata[0]}\\u003cbr\\u003eFile Size (MB)=%{x}\\u003cbr\\u003eNumber of Records Ingested=%{y}\\u003cbr\\u003estart_time=%{customdata[1]}\\u003cextra\\u003e\\u003c\\u002fextra\\u003e\",\"legendgroup\":\"games.csv\",\"marker\":{\"color\":\"#FF6692\",\"symbol\":\"circle\"},\"mode\":\"markers\",\"name\":\"games.csv\",\"orientation\":\"v\",\"showlegend\":true,\"x\":[8.73,8.73,8.73,8.73,8.73,8.73,8.73,8.73],\"xaxis\":\"x\",\"y\":[30141,30141,30141,30141,30141,30141,30141,30141],\"yaxis\":\"y\",\"type\":\"scatter\"},{\"customdata\":[[\"players.csv\",\"2025-03-19T12:23:04.872056\"],[\"players.csv\",\"2025-03-19T12:36:36.466872\"],[\"players.csv\",\"2025-03-19T12:52:15.879356\"],[\"players.csv\",\"2025-03-20T12:52:26.378621\"],[\"players.csv\",\"2025-03-21T12:52:19.696197\"],[\"players.csv\",\"2025-03-22T07:56:10.376887\"],[\"players.csv\",\"2025-03-22T08:00:39.480190\"],[\"players.csv\",\"2025-03-22T11:11:01.419089\"]],\"hovertemplate\":\"file_name=%{customdata[0]}\\u003cbr\\u003eFile Size (MB)=%{x}\\u003cbr\\u003eNumber of Records Ingested=%{y}\\u003cbr\\u003estart_time=%{customdata[1]}\\u003cextra\\u003e\\u003c\\u002fextra\\u003e\",\"legendgroup\":\"players.csv\",\"marker\":{\"color\":\"#B6E880\",\"symbol\":\"circle\"},\"mode\":\"markers\",\"name\":\"players.csv\",\"orientation\":\"v\",\"showlegend\":true,\"x\":[6.15,6.15,6.15,6.15,6.15,6.15,6.15,6.15],\"xaxis\":\"x\",\"y\":[17621,17621,17621,17621,17621,17621,17621,17621],\"yaxis\":\"y\",\"type\":\"scatter\"},{\"customdata\":[[\"player_valuations.csv\",\"2025-03-19T12:23:10.092597\"],[\"player_valuations.csv\",\"2025-03-19T12:36:42.530384\"],[\"player_valuations.csv\",\"2025-03-19T12:52:20.844574\"],[\"player_valuations.csv\",\"2025-03-20T12:52:31.858805\"],[\"player_valuations.csv\",\"2025-03-21T12:52:24.675819\"],[\"player_valuations.csv\",\"2025-03-22T07:56:14.771173\"],[\"player_valuations.csv\",\"2025-03-22T11:11:07.142169\"],[\"player_valuations.csv\",\"2025-03-22T08:00:44.254647\"]],\"hovertemplate\":\"file_name=%{customdata[0]}\\u003cbr\\u003eFile Size (MB)=%{x}\\u003cbr\\u003eNumber of Records Ingested=%{y}\\u003cbr\\u003estart_time=%{customdata[1]}\\u003cextra\\u003e\\u003c\\u002fextra\\u003e\",\"legendgroup\":\"player_valuations.csv\",\"marker\":{\"color\":\"#FF97FF\",\"symbol\":\"circle\"},\"mode\":\"markers\",\"name\":\"player_valuations.csv\",\"orientation\":\"v\",\"showlegend\":true,\"x\":[6.29,6.29,6.29,6.29,6.29,6.29,6.29,6.29],\"xaxis\":\"x\",\"y\":[195750,195750,195750,195750,195750,195750,195750,195750],\"yaxis\":\"y\",\"type\":\"scatter\"},{\"customdata\":[[\"transfers.csv\",\"2025-03-19T12:23:15.059417\"],[\"transfers.csv\",\"2025-03-19T12:36:49.137250\"],[\"transfers.csv\",\"2025-03-19T12:52:25.591358\"],[\"transfers.csv\",\"2025-03-20T12:52:38.167361\"],[\"transfers.csv\",\"2025-03-21T12:52:29.365522\"],[\"transfers.csv\",\"2025-03-22T07:56:18.996759\"],[\"transfers.csv\",\"2025-03-22T11:11:12.331501\"],[\"transfers.csv\",\"2025-03-22T08:00:48.766278\"]],\"hovertemplate\":\"file_name=%{customdata[0]}\\u003cbr\\u003eFile Size (MB)=%{x}\\u003cbr\\u003eNumber of Records Ingested=%{y}\\u003cbr\\u003estart_time=%{customdata[1]}\\u003cextra\\u003e\\u003c\\u002fextra\\u003e\",\"legendgroup\":\"transfers.csv\",\"marker\":{\"color\":\"#FECB52\",\"symbol\":\"circle\"},\"mode\":\"markers\",\"name\":\"transfers.csv\",\"orientation\":\"v\",\"showlegend\":true,\"x\":[3.12,3.12,3.12,3.12,3.12,3.12,3.12,3.12],\"xaxis\":\"x\",\"y\":[39251,39251,39251,39251,39251,39251,39251,39251],\"yaxis\":\"y\",\"type\":\"scatter\"}],                        {\"template\":{\"data\":{\"histogram2dcontour\":[{\"type\":\"histogram2dcontour\",\"colorbar\":{\"outlinewidth\":0,\"ticks\":\"\"},\"colorscale\":[[0.0,\"#0d0887\"],[0.1111111111111111,\"#46039f\"],[0.2222222222222222,\"#7201a8\"],[0.3333333333333333,\"#9c179e\"],[0.4444444444444444,\"#bd3786\"],[0.5555555555555556,\"#d8576b\"],[0.6666666666666666,\"#ed7953\"],[0.7777777777777778,\"#fb9f3a\"],[0.8888888888888888,\"#fdca26\"],[1.0,\"#f0f921\"]]}],\"choropleth\":[{\"type\":\"choropleth\",\"colorbar\":{\"outlinewidth\":0,\"ticks\":\"\"}}],\"histogram2d\":[{\"type\":\"histogram2d\",\"colorbar\":{\"outlinewidth\":0,\"ticks\":\"\"},\"colorscale\":[[0.0,\"#0d0887\"],[0.1111111111111111,\"#46039f\"],[0.2222222222222222,\"#7201a8\"],[0.3333333333333333,\"#9c179e\"],[0.4444444444444444,\"#bd3786\"],[0.5555555555555556,\"#d8576b\"],[0.6666666666666666,\"#ed7953\"],[0.7777777777777778,\"#fb9f3a\"],[0.8888888888888888,\"#fdca26\"],[1.0,\"#f0f921\"]]}],\"heatmap\":[{\"type\":\"heatmap\",\"colorbar\":{\"outlinewidth\":0,\"ticks\":\"\"},\"colorscale\":[[0.0,\"#0d0887\"],[0.1111111111111111,\"#46039f\"],[0.2222222222222222,\"#7201a8\"],[0.3333333333333333,\"#9c179e\"],[0.4444444444444444,\"#bd3786\"],[0.5555555555555556,\"#d8576b\"],[0.6666666666666666,\"#ed7953\"],[0.7777777777777778,\"#fb9f3a\"],[0.8888888888888888,\"#fdca26\"],[1.0,\"#f0f921\"]]}],\"heatmapgl\":[{\"type\":\"heatmapgl\",\"colorbar\":{\"outlinewidth\":0,\"ticks\":\"\"},\"colorscale\":[[0.0,\"#0d0887\"],[0.1111111111111111,\"#46039f\"],[0.2222222222222222,\"#7201a8\"],[0.3333333333333333,\"#9c179e\"],[0.4444444444444444,\"#bd3786\"],[0.5555555555555556,\"#d8576b\"],[0.6666666666666666,\"#ed7953\"],[0.7777777777777778,\"#fb9f3a\"],[0.8888888888888888,\"#fdca26\"],[1.0,\"#f0f921\"]]}],\"contourcarpet\":[{\"type\":\"contourcarpet\",\"colorbar\":{\"outlinewidth\":0,\"ticks\":\"\"}}],\"contour\":[{\"type\":\"contour\",\"colorbar\":{\"outlinewidth\":0,\"ticks\":\"\"},\"colorscale\":[[0.0,\"#0d0887\"],[0.1111111111111111,\"#46039f\"],[0.2222222222222222,\"#7201a8\"],[0.3333333333333333,\"#9c179e\"],[0.4444444444444444,\"#bd3786\"],[0.5555555555555556,\"#d8576b\"],[0.6666666666666666,\"#ed7953\"],[0.7777777777777778,\"#fb9f3a\"],[0.8888888888888888,\"#fdca26\"],[1.0,\"#f0f921\"]]}],\"surface\":[{\"type\":\"surface\",\"colorbar\":{\"outlinewidth\":0,\"ticks\":\"\"},\"colorscale\":[[0.0,\"#0d0887\"],[0.1111111111111111,\"#46039f\"],[0.2222222222222222,\"#7201a8\"],[0.3333333333333333,\"#9c179e\"],[0.4444444444444444,\"#bd3786\"],[0.5555555555555556,\"#d8576b\"],[0.6666666666666666,\"#ed7953\"],[0.7777777777777778,\"#fb9f3a\"],[0.8888888888888888,\"#fdca26\"],[1.0,\"#f0f921\"]]}],\"mesh3d\":[{\"type\":\"mesh3d\",\"colorbar\":{\"outlinewidth\":0,\"ticks\":\"\"}}],\"scatter\":[{\"fillpattern\":{\"fillmode\":\"overlay\",\"size\":10,\"solidity\":0.2},\"type\":\"scatter\"}],\"parcoords\":[{\"type\":\"parcoords\",\"line\":{\"colorbar\":{\"outlinewidth\":0,\"ticks\":\"\"}}}],\"scatterpolargl\":[{\"type\":\"scatterpolargl\",\"marker\":{\"colorbar\":{\"outlinewidth\":0,\"ticks\":\"\"}}}],\"bar\":[{\"error_x\":{\"color\":\"#2a3f5f\"},\"error_y\":{\"color\":\"#2a3f5f\"},\"marker\":{\"line\":{\"color\":\"#E5ECF6\",\"width\":0.5},\"pattern\":{\"fillmode\":\"overlay\",\"size\":10,\"solidity\":0.2}},\"type\":\"bar\"}],\"scattergeo\":[{\"type\":\"scattergeo\",\"marker\":{\"colorbar\":{\"outlinewidth\":0,\"ticks\":\"\"}}}],\"scatterpolar\":[{\"type\":\"scatterpolar\",\"marker\":{\"colorbar\":{\"outlinewidth\":0,\"ticks\":\"\"}}}],\"histogram\":[{\"marker\":{\"pattern\":{\"fillmode\":\"overlay\",\"size\":10,\"solidity\":0.2}},\"type\":\"histogram\"}],\"scattergl\":[{\"type\":\"scattergl\",\"marker\":{\"colorbar\":{\"outlinewidth\":0,\"ticks\":\"\"}}}],\"scatter3d\":[{\"type\":\"scatter3d\",\"line\":{\"colorbar\":{\"outlinewidth\":0,\"ticks\":\"\"}},\"marker\":{\"colorbar\":{\"outlinewidth\":0,\"ticks\":\"\"}}}],\"scattermapbox\":[{\"type\":\"scattermapbox\",\"marker\":{\"colorbar\":{\"outlinewidth\":0,\"ticks\":\"\"}}}],\"scatterternary\":[{\"type\":\"scatterternary\",\"marker\":{\"colorbar\":{\"outlinewidth\":0,\"ticks\":\"\"}}}],\"scattercarpet\":[{\"type\":\"scattercarpet\",\"marker\":{\"colorbar\":{\"outlinewidth\":0,\"ticks\":\"\"}}}],\"carpet\":[{\"aaxis\":{\"endlinecolor\":\"#2a3f5f\",\"gridcolor\":\"white\",\"linecolor\":\"white\",\"minorgridcolor\":\"white\",\"startlinecolor\":\"#2a3f5f\"},\"baxis\":{\"endlinecolor\":\"#2a3f5f\",\"gridcolor\":\"white\",\"linecolor\":\"white\",\"minorgridcolor\":\"white\",\"startlinecolor\":\"#2a3f5f\"},\"type\":\"carpet\"}],\"table\":[{\"cells\":{\"fill\":{\"color\":\"#EBF0F8\"},\"line\":{\"color\":\"white\"}},\"header\":{\"fill\":{\"color\":\"#C8D4E3\"},\"line\":{\"color\":\"white\"}},\"type\":\"table\"}],\"barpolar\":[{\"marker\":{\"line\":{\"color\":\"#E5ECF6\",\"width\":0.5},\"pattern\":{\"fillmode\":\"overlay\",\"size\":10,\"solidity\":0.2}},\"type\":\"barpolar\"}],\"pie\":[{\"automargin\":true,\"type\":\"pie\"}]},\"layout\":{\"autotypenumbers\":\"strict\",\"colorway\":[\"#636efa\",\"#EF553B\",\"#00cc96\",\"#ab63fa\",\"#FFA15A\",\"#19d3f3\",\"#FF6692\",\"#B6E880\",\"#FF97FF\",\"#FECB52\"],\"font\":{\"color\":\"#2a3f5f\"},\"hovermode\":\"closest\",\"hoverlabel\":{\"align\":\"left\"},\"paper_bgcolor\":\"white\",\"plot_bgcolor\":\"#E5ECF6\",\"polar\":{\"bgcolor\":\"#E5ECF6\",\"angularaxis\":{\"gridcolor\":\"white\",\"linecolor\":\"white\",\"ticks\":\"\"},\"radialaxis\":{\"gridcolor\":\"white\",\"linecolor\":\"white\",\"ticks\":\"\"}},\"ternary\":{\"bgcolor\":\"#E5ECF6\",\"aaxis\":{\"gridcolor\":\"white\",\"linecolor\":\"white\",\"ticks\":\"\"},\"baxis\":{\"gridcolor\":\"white\",\"linecolor\":\"white\",\"ticks\":\"\"},\"caxis\":{\"gridcolor\":\"white\",\"linecolor\":\"white\",\"ticks\":\"\"}},\"coloraxis\":{\"colorbar\":{\"outlinewidth\":0,\"ticks\":\"\"}},\"colorscale\":{\"sequential\":[[0.0,\"#0d0887\"],[0.1111111111111111,\"#46039f\"],[0.2222222222222222,\"#7201a8\"],[0.3333333333333333,\"#9c179e\"],[0.4444444444444444,\"#bd3786\"],[0.5555555555555556,\"#d8576b\"],[0.6666666666666666,\"#ed7953\"],[0.7777777777777778,\"#fb9f3a\"],[0.8888888888888888,\"#fdca26\"],[1.0,\"#f0f921\"]],\"sequentialminus\":[[0.0,\"#0d0887\"],[0.1111111111111111,\"#46039f\"],[0.2222222222222222,\"#7201a8\"],[0.3333333333333333,\"#9c179e\"],[0.4444444444444444,\"#bd3786\"],[0.5555555555555556,\"#d8576b\"],[0.6666666666666666,\"#ed7953\"],[0.7777777777777778,\"#fb9f3a\"],[0.8888888888888888,\"#fdca26\"],[1.0,\"#f0f921\"]],\"diverging\":[[0,\"#8e0152\"],[0.1,\"#c51b7d\"],[0.2,\"#de77ae\"],[0.3,\"#f1b6da\"],[0.4,\"#fde0ef\"],[0.5,\"#f7f7f7\"],[0.6,\"#e6f5d0\"],[0.7,\"#b8e186\"],[0.8,\"#7fbc41\"],[0.9,\"#4d9221\"],[1,\"#276419\"]]},\"xaxis\":{\"gridcolor\":\"white\",\"linecolor\":\"white\",\"ticks\":\"\",\"title\":{\"standoff\":15},\"zerolinecolor\":\"white\",\"automargin\":true,\"zerolinewidth\":2},\"yaxis\":{\"gridcolor\":\"white\",\"linecolor\":\"white\",\"ticks\":\"\",\"title\":{\"standoff\":15},\"zerolinecolor\":\"white\",\"automargin\":true,\"zerolinewidth\":2},\"scene\":{\"xaxis\":{\"backgroundcolor\":\"#E5ECF6\",\"gridcolor\":\"white\",\"linecolor\":\"white\",\"showbackground\":true,\"ticks\":\"\",\"zerolinecolor\":\"white\",\"gridwidth\":2},\"yaxis\":{\"backgroundcolor\":\"#E5ECF6\",\"gridcolor\":\"white\",\"linecolor\":\"white\",\"showbackground\":true,\"ticks\":\"\",\"zerolinecolor\":\"white\",\"gridwidth\":2},\"zaxis\":{\"backgroundcolor\":\"#E5ECF6\",\"gridcolor\":\"white\",\"linecolor\":\"white\",\"showbackground\":true,\"ticks\":\"\",\"zerolinecolor\":\"white\",\"gridwidth\":2}},\"shapedefaults\":{\"line\":{\"color\":\"#2a3f5f\"}},\"annotationdefaults\":{\"arrowcolor\":\"#2a3f5f\",\"arrowhead\":0,\"arrowwidth\":1},\"geo\":{\"bgcolor\":\"white\",\"landcolor\":\"#E5ECF6\",\"subunitcolor\":\"white\",\"showland\":true,\"showlakes\":true,\"lakecolor\":\"white\"},\"title\":{\"x\":0.05},\"mapbox\":{\"style\":\"light\"}}},\"xaxis\":{\"anchor\":\"y\",\"domain\":[0.0,1.0],\"title\":{\"text\":\"File Size (MB)\"}},\"yaxis\":{\"anchor\":\"x\",\"domain\":[0.0,1.0],\"title\":{\"text\":\"Number of Records Ingested\"}},\"legend\":{\"title\":{\"text\":\"file_name\"},\"tracegroupgap\":0},\"title\":{\"text\":\"File Size vs. Number of Records Ingested\",\"x\":0.5}},                        {\"responsive\": true}                    )                };                            </script>        </div>\n",
       "</body>\n",
       "</html>"
      ]
     },
     "metadata": {},
     "output_type": "display_data"
    }
   ],
   "source": [
    "# File Size vs. Number of Records Ingested\n",
    "fig1 = px.scatter(\n",
    "    stats_df,\n",
    "    x=\"file_size_mb\",\n",
    "    y=\"num_records_ingested\",\n",
    "    color=\"file_name\",\n",
    "    title=\"File Size vs. Number of Records Ingested\",\n",
    "    labels={\"file_size_mb\": \"File Size (MB)\", \"num_records_ingested\": \"Number of Records Ingested\"},\n",
    "    hover_data=[\"file_name\", \"start_time\"]\n",
    ")\n",
    "fig1.update_layout(title_x=0.5)  # Center the title\n",
    "fig1.show()"
   ]
  },
  {
   "cell_type": "markdown",
   "metadata": {
    "application/vnd.databricks.v1+cell": {
     "cellMetadata": {
      "byteLimit": 2048000,
      "rowLimit": 10000
     },
     "inputWidgets": {},
     "nuid": "7c544799-8fa0-4f7e-9b77-fe286aa20cbf",
     "showTitle": false,
     "tableResultSettingsMap": {},
     "title": ""
    }
   },
   "source": [
    "**Ingestion Durations (Read + Write)**"
   ]
  },
  {
   "cell_type": "code",
   "execution_count": 0,
   "metadata": {
    "application/vnd.databricks.v1+cell": {
     "cellMetadata": {
      "byteLimit": 2048000,
      "rowLimit": 10000
     },
     "inputWidgets": {},
     "nuid": "677da5c4-d7e6-429e-8ed4-6baa0e5b34a1",
     "showTitle": false,
     "tableResultSettingsMap": {},
     "title": ""
    }
   },
   "outputs": [
    {
     "output_type": "display_data",
     "data": {
      "text/html": [
       "<html>\n",
       "<head><meta charset=\"utf-8\" /></head>\n",
       "<body>\n",
       "    <div>            <script src=\"https://cdnjs.cloudflare.com/ajax/libs/mathjax/2.7.5/MathJax.js?config=TeX-AMS-MML_SVG\"></script><script type=\"text/javascript\">if (window.MathJax && window.MathJax.Hub && window.MathJax.Hub.Config) {window.MathJax.Hub.Config({SVG: {font: \"STIX-Web\"}});}</script>                <script type=\"text/javascript\">window.PlotlyConfig = {MathJaxConfig: 'local'};</script>\n",
       "        <script charset=\"utf-8\" src=\"https://cdn.plot.ly/plotly-2.32.0.min.js\"></script>                <div id=\"3cec5210-bc20-4773-a1a9-f1a24d93d2df\" class=\"plotly-graph-div\" style=\"height:100%; width:100%;\"></div>            <script type=\"text/javascript\">                                    window.PLOTLYENV=window.PLOTLYENV || {};                                    if (document.getElementById(\"3cec5210-bc20-4773-a1a9-f1a24d93d2df\")) {                    Plotly.newPlot(                        \"3cec5210-bc20-4773-a1a9-f1a24d93d2df\",                        [{\"alignmentgroup\":\"True\",\"hovertemplate\":\"Stage=read_duration_seconds\\u003cbr\\u003efile_name=%{x}\\u003cbr\\u003eDuration (Seconds)=%{y}\\u003cextra\\u003e\\u003c\\u002fextra\\u003e\",\"legendgroup\":\"read_duration_seconds\",\"marker\":{\"color\":\"#636efa\",\"pattern\":{\"shape\":\"\"}},\"name\":\"read_duration_seconds\",\"offsetgroup\":\"read_duration_seconds\",\"orientation\":\"v\",\"showlegend\":true,\"textposition\":\"auto\",\"x\":[\"appearance.csv\",\"club_games.csv\",\"clubs.csv\",\"competitions.csv\",\"game_events.csv\",\"game_lineups.csv\",\"games.csv\",\"players.csv\",\"player_valuations.csv\",\"transfers.csv\",\"appearance.csv\",\"club_games.csv\",\"clubs.csv\",\"competitions.csv\",\"game_events.csv\",\"game_lineups.csv\",\"games.csv\",\"players.csv\",\"player_valuations.csv\",\"transfers.csv\",\"appearance.csv\",\"club_games.csv\",\"clubs.csv\",\"competitions.csv\",\"game_events.csv\",\"game_lineups.csv\",\"games.csv\",\"players.csv\",\"player_valuations.csv\",\"transfers.csv\",\"appearance.csv\",\"club_games.csv\",\"clubs.csv\",\"competitions.csv\",\"game_events.csv\",\"game_lineups.csv\",\"games.csv\",\"players.csv\",\"player_valuations.csv\",\"transfers.csv\",\"appearance.csv\",\"club_games.csv\",\"clubs.csv\",\"competitions.csv\",\"game_events.csv\",\"game_lineups.csv\",\"games.csv\",\"players.csv\",\"player_valuations.csv\",\"transfers.csv\",\"appearance.csv\",\"club_games.csv\",\"clubs.csv\",\"competitions.csv\",\"game_events.csv\",\"game_lineups.csv\",\"games.csv\",\"players.csv\",\"player_valuations.csv\",\"transfers.csv\",\"appearance.csv\",\"club_games.csv\",\"clubs.csv\",\"player_valuations.csv\",\"player_valuations.csv\",\"competitions.csv\",\"competitions.csv\",\"game_lineups.csv\",\"game_lineups.csv\",\"game_events.csv\",\"game_events.csv\",\"appearance.csv\",\"club_games.csv\",\"transfers.csv\",\"transfers.csv\",\"players.csv\",\"players.csv\",\"clubs.csv\",\"games.csv\",\"games.csv\"],\"xaxis\":\"x\",\"y\":[2.591925,0.919735,0.332882,0.519676,1.480222,2.081811,0.69767,0.509899,0.953817,0.56074,2.247036,0.907081,0.438421,0.276012,1.241592,2.020614,0.903856,0.654269,1.050264,0.741156,2.279092,0.882286,0.341745,0.29335,1.394005,2.292065,0.780185,0.583406,0.959716,0.551986,2.787311,0.726335,0.443068,0.338067,1.224778,1.720112,0.561967,0.568243,0.796873,0.593605,3.138485,0.799037,0.499311,0.337584,1.230752,1.769202,0.622741,0.586531,0.865148,0.583741,2.78563,0.774215,0.341943,0.278779,1.289269,1.804617,0.649516,0.489945,0.824353,0.515765,1.870371,0.780818,0.270989,0.974232,0.879768,0.357637,0.31897,1.979413,1.789399,1.283326,1.340839,2.654995,0.880953,0.705621,0.513837,0.548612,0.555822,0.491495,0.758243,0.585756],\"yaxis\":\"y\",\"type\":\"bar\"},{\"alignmentgroup\":\"True\",\"hovertemplate\":\"Stage=write_duration_seconds\\u003cbr\\u003efile_name=%{x}\\u003cbr\\u003eDuration (Seconds)=%{y}\\u003cextra\\u003e\\u003c\\u002fextra\\u003e\",\"legendgroup\":\"write_duration_seconds\",\"marker\":{\"color\":\"#EF553B\",\"pattern\":{\"shape\":\"\"}},\"name\":\"write_duration_seconds\",\"offsetgroup\":\"write_duration_seconds\",\"orientation\":\"v\",\"showlegend\":true,\"textposition\":\"auto\",\"x\":[\"appearance.csv\",\"club_games.csv\",\"clubs.csv\",\"competitions.csv\",\"game_events.csv\",\"game_lineups.csv\",\"games.csv\",\"players.csv\",\"player_valuations.csv\",\"transfers.csv\",\"appearance.csv\",\"club_games.csv\",\"clubs.csv\",\"competitions.csv\",\"game_events.csv\",\"game_lineups.csv\",\"games.csv\",\"players.csv\",\"player_valuations.csv\",\"transfers.csv\",\"appearance.csv\",\"club_games.csv\",\"clubs.csv\",\"competitions.csv\",\"game_events.csv\",\"game_lineups.csv\",\"games.csv\",\"players.csv\",\"player_valuations.csv\",\"transfers.csv\",\"appearance.csv\",\"club_games.csv\",\"clubs.csv\",\"competitions.csv\",\"game_events.csv\",\"game_lineups.csv\",\"games.csv\",\"players.csv\",\"player_valuations.csv\",\"transfers.csv\",\"appearance.csv\",\"club_games.csv\",\"clubs.csv\",\"competitions.csv\",\"game_events.csv\",\"game_lineups.csv\",\"games.csv\",\"players.csv\",\"player_valuations.csv\",\"transfers.csv\",\"appearance.csv\",\"club_games.csv\",\"clubs.csv\",\"competitions.csv\",\"game_events.csv\",\"game_lineups.csv\",\"games.csv\",\"players.csv\",\"player_valuations.csv\",\"transfers.csv\",\"appearance.csv\",\"club_games.csv\",\"clubs.csv\",\"player_valuations.csv\",\"player_valuations.csv\",\"competitions.csv\",\"competitions.csv\",\"game_lineups.csv\",\"game_lineups.csv\",\"game_events.csv\",\"game_events.csv\",\"appearance.csv\",\"club_games.csv\",\"transfers.csv\",\"transfers.csv\",\"players.csv\",\"players.csv\",\"clubs.csv\",\"games.csv\",\"games.csv\"],\"xaxis\":\"x\",\"y\":[5.114948,3.21902,1.898188,1.786106,3.985131,35.679417,3.543565,3.454674,2.791423,2.43172,4.980612,3.184081,1.95056,1.660093,3.976829,36.702926,4.047484,3.660412,3.241539,3.101297,5.046977,4.720878,1.559749,1.621374,3.906993,35.148305,3.620288,3.227113,2.565925,2.359313,6.266444,3.698232,2.665113,2.302287,4.482317,34.789001,5.116085,3.604778,3.338155,3.275112,7.082656,3.436592,2.494733,2.178027,4.461308,35.716911,3.04092,3.099197,2.608006,2.580519,4.681637,2.206229,0.965632,0.998962,3.204327,33.661533,2.843239,2.639905,2.05113,1.856688,4.861222,3.056555,1.588891,2.943195,2.498576,1.739543,1.874985,34.404803,34.566338,3.740697,3.855613,5.91512,2.728102,2.897971,2.37271,3.046847,3.995675,1.816518,3.786588,3.407583],\"yaxis\":\"y\",\"type\":\"bar\"}],                        {\"template\":{\"data\":{\"histogram2dcontour\":[{\"type\":\"histogram2dcontour\",\"colorbar\":{\"outlinewidth\":0,\"ticks\":\"\"},\"colorscale\":[[0.0,\"#0d0887\"],[0.1111111111111111,\"#46039f\"],[0.2222222222222222,\"#7201a8\"],[0.3333333333333333,\"#9c179e\"],[0.4444444444444444,\"#bd3786\"],[0.5555555555555556,\"#d8576b\"],[0.6666666666666666,\"#ed7953\"],[0.7777777777777778,\"#fb9f3a\"],[0.8888888888888888,\"#fdca26\"],[1.0,\"#f0f921\"]]}],\"choropleth\":[{\"type\":\"choropleth\",\"colorbar\":{\"outlinewidth\":0,\"ticks\":\"\"}}],\"histogram2d\":[{\"type\":\"histogram2d\",\"colorbar\":{\"outlinewidth\":0,\"ticks\":\"\"},\"colorscale\":[[0.0,\"#0d0887\"],[0.1111111111111111,\"#46039f\"],[0.2222222222222222,\"#7201a8\"],[0.3333333333333333,\"#9c179e\"],[0.4444444444444444,\"#bd3786\"],[0.5555555555555556,\"#d8576b\"],[0.6666666666666666,\"#ed7953\"],[0.7777777777777778,\"#fb9f3a\"],[0.8888888888888888,\"#fdca26\"],[1.0,\"#f0f921\"]]}],\"heatmap\":[{\"type\":\"heatmap\",\"colorbar\":{\"outlinewidth\":0,\"ticks\":\"\"},\"colorscale\":[[0.0,\"#0d0887\"],[0.1111111111111111,\"#46039f\"],[0.2222222222222222,\"#7201a8\"],[0.3333333333333333,\"#9c179e\"],[0.4444444444444444,\"#bd3786\"],[0.5555555555555556,\"#d8576b\"],[0.6666666666666666,\"#ed7953\"],[0.7777777777777778,\"#fb9f3a\"],[0.8888888888888888,\"#fdca26\"],[1.0,\"#f0f921\"]]}],\"heatmapgl\":[{\"type\":\"heatmapgl\",\"colorbar\":{\"outlinewidth\":0,\"ticks\":\"\"},\"colorscale\":[[0.0,\"#0d0887\"],[0.1111111111111111,\"#46039f\"],[0.2222222222222222,\"#7201a8\"],[0.3333333333333333,\"#9c179e\"],[0.4444444444444444,\"#bd3786\"],[0.5555555555555556,\"#d8576b\"],[0.6666666666666666,\"#ed7953\"],[0.7777777777777778,\"#fb9f3a\"],[0.8888888888888888,\"#fdca26\"],[1.0,\"#f0f921\"]]}],\"contourcarpet\":[{\"type\":\"contourcarpet\",\"colorbar\":{\"outlinewidth\":0,\"ticks\":\"\"}}],\"contour\":[{\"type\":\"contour\",\"colorbar\":{\"outlinewidth\":0,\"ticks\":\"\"},\"colorscale\":[[0.0,\"#0d0887\"],[0.1111111111111111,\"#46039f\"],[0.2222222222222222,\"#7201a8\"],[0.3333333333333333,\"#9c179e\"],[0.4444444444444444,\"#bd3786\"],[0.5555555555555556,\"#d8576b\"],[0.6666666666666666,\"#ed7953\"],[0.7777777777777778,\"#fb9f3a\"],[0.8888888888888888,\"#fdca26\"],[1.0,\"#f0f921\"]]}],\"surface\":[{\"type\":\"surface\",\"colorbar\":{\"outlinewidth\":0,\"ticks\":\"\"},\"colorscale\":[[0.0,\"#0d0887\"],[0.1111111111111111,\"#46039f\"],[0.2222222222222222,\"#7201a8\"],[0.3333333333333333,\"#9c179e\"],[0.4444444444444444,\"#bd3786\"],[0.5555555555555556,\"#d8576b\"],[0.6666666666666666,\"#ed7953\"],[0.7777777777777778,\"#fb9f3a\"],[0.8888888888888888,\"#fdca26\"],[1.0,\"#f0f921\"]]}],\"mesh3d\":[{\"type\":\"mesh3d\",\"colorbar\":{\"outlinewidth\":0,\"ticks\":\"\"}}],\"scatter\":[{\"fillpattern\":{\"fillmode\":\"overlay\",\"size\":10,\"solidity\":0.2},\"type\":\"scatter\"}],\"parcoords\":[{\"type\":\"parcoords\",\"line\":{\"colorbar\":{\"outlinewidth\":0,\"ticks\":\"\"}}}],\"scatterpolargl\":[{\"type\":\"scatterpolargl\",\"marker\":{\"colorbar\":{\"outlinewidth\":0,\"ticks\":\"\"}}}],\"bar\":[{\"error_x\":{\"color\":\"#2a3f5f\"},\"error_y\":{\"color\":\"#2a3f5f\"},\"marker\":{\"line\":{\"color\":\"#E5ECF6\",\"width\":0.5},\"pattern\":{\"fillmode\":\"overlay\",\"size\":10,\"solidity\":0.2}},\"type\":\"bar\"}],\"scattergeo\":[{\"type\":\"scattergeo\",\"marker\":{\"colorbar\":{\"outlinewidth\":0,\"ticks\":\"\"}}}],\"scatterpolar\":[{\"type\":\"scatterpolar\",\"marker\":{\"colorbar\":{\"outlinewidth\":0,\"ticks\":\"\"}}}],\"histogram\":[{\"marker\":{\"pattern\":{\"fillmode\":\"overlay\",\"size\":10,\"solidity\":0.2}},\"type\":\"histogram\"}],\"scattergl\":[{\"type\":\"scattergl\",\"marker\":{\"colorbar\":{\"outlinewidth\":0,\"ticks\":\"\"}}}],\"scatter3d\":[{\"type\":\"scatter3d\",\"line\":{\"colorbar\":{\"outlinewidth\":0,\"ticks\":\"\"}},\"marker\":{\"colorbar\":{\"outlinewidth\":0,\"ticks\":\"\"}}}],\"scattermapbox\":[{\"type\":\"scattermapbox\",\"marker\":{\"colorbar\":{\"outlinewidth\":0,\"ticks\":\"\"}}}],\"scatterternary\":[{\"type\":\"scatterternary\",\"marker\":{\"colorbar\":{\"outlinewidth\":0,\"ticks\":\"\"}}}],\"scattercarpet\":[{\"type\":\"scattercarpet\",\"marker\":{\"colorbar\":{\"outlinewidth\":0,\"ticks\":\"\"}}}],\"carpet\":[{\"aaxis\":{\"endlinecolor\":\"#2a3f5f\",\"gridcolor\":\"white\",\"linecolor\":\"white\",\"minorgridcolor\":\"white\",\"startlinecolor\":\"#2a3f5f\"},\"baxis\":{\"endlinecolor\":\"#2a3f5f\",\"gridcolor\":\"white\",\"linecolor\":\"white\",\"minorgridcolor\":\"white\",\"startlinecolor\":\"#2a3f5f\"},\"type\":\"carpet\"}],\"table\":[{\"cells\":{\"fill\":{\"color\":\"#EBF0F8\"},\"line\":{\"color\":\"white\"}},\"header\":{\"fill\":{\"color\":\"#C8D4E3\"},\"line\":{\"color\":\"white\"}},\"type\":\"table\"}],\"barpolar\":[{\"marker\":{\"line\":{\"color\":\"#E5ECF6\",\"width\":0.5},\"pattern\":{\"fillmode\":\"overlay\",\"size\":10,\"solidity\":0.2}},\"type\":\"barpolar\"}],\"pie\":[{\"automargin\":true,\"type\":\"pie\"}]},\"layout\":{\"autotypenumbers\":\"strict\",\"colorway\":[\"#636efa\",\"#EF553B\",\"#00cc96\",\"#ab63fa\",\"#FFA15A\",\"#19d3f3\",\"#FF6692\",\"#B6E880\",\"#FF97FF\",\"#FECB52\"],\"font\":{\"color\":\"#2a3f5f\"},\"hovermode\":\"closest\",\"hoverlabel\":{\"align\":\"left\"},\"paper_bgcolor\":\"white\",\"plot_bgcolor\":\"#E5ECF6\",\"polar\":{\"bgcolor\":\"#E5ECF6\",\"angularaxis\":{\"gridcolor\":\"white\",\"linecolor\":\"white\",\"ticks\":\"\"},\"radialaxis\":{\"gridcolor\":\"white\",\"linecolor\":\"white\",\"ticks\":\"\"}},\"ternary\":{\"bgcolor\":\"#E5ECF6\",\"aaxis\":{\"gridcolor\":\"white\",\"linecolor\":\"white\",\"ticks\":\"\"},\"baxis\":{\"gridcolor\":\"white\",\"linecolor\":\"white\",\"ticks\":\"\"},\"caxis\":{\"gridcolor\":\"white\",\"linecolor\":\"white\",\"ticks\":\"\"}},\"coloraxis\":{\"colorbar\":{\"outlinewidth\":0,\"ticks\":\"\"}},\"colorscale\":{\"sequential\":[[0.0,\"#0d0887\"],[0.1111111111111111,\"#46039f\"],[0.2222222222222222,\"#7201a8\"],[0.3333333333333333,\"#9c179e\"],[0.4444444444444444,\"#bd3786\"],[0.5555555555555556,\"#d8576b\"],[0.6666666666666666,\"#ed7953\"],[0.7777777777777778,\"#fb9f3a\"],[0.8888888888888888,\"#fdca26\"],[1.0,\"#f0f921\"]],\"sequentialminus\":[[0.0,\"#0d0887\"],[0.1111111111111111,\"#46039f\"],[0.2222222222222222,\"#7201a8\"],[0.3333333333333333,\"#9c179e\"],[0.4444444444444444,\"#bd3786\"],[0.5555555555555556,\"#d8576b\"],[0.6666666666666666,\"#ed7953\"],[0.7777777777777778,\"#fb9f3a\"],[0.8888888888888888,\"#fdca26\"],[1.0,\"#f0f921\"]],\"diverging\":[[0,\"#8e0152\"],[0.1,\"#c51b7d\"],[0.2,\"#de77ae\"],[0.3,\"#f1b6da\"],[0.4,\"#fde0ef\"],[0.5,\"#f7f7f7\"],[0.6,\"#e6f5d0\"],[0.7,\"#b8e186\"],[0.8,\"#7fbc41\"],[0.9,\"#4d9221\"],[1,\"#276419\"]]},\"xaxis\":{\"gridcolor\":\"white\",\"linecolor\":\"white\",\"ticks\":\"\",\"title\":{\"standoff\":15},\"zerolinecolor\":\"white\",\"automargin\":true,\"zerolinewidth\":2},\"yaxis\":{\"gridcolor\":\"white\",\"linecolor\":\"white\",\"ticks\":\"\",\"title\":{\"standoff\":15},\"zerolinecolor\":\"white\",\"automargin\":true,\"zerolinewidth\":2},\"scene\":{\"xaxis\":{\"backgroundcolor\":\"#E5ECF6\",\"gridcolor\":\"white\",\"linecolor\":\"white\",\"showbackground\":true,\"ticks\":\"\",\"zerolinecolor\":\"white\",\"gridwidth\":2},\"yaxis\":{\"backgroundcolor\":\"#E5ECF6\",\"gridcolor\":\"white\",\"linecolor\":\"white\",\"showbackground\":true,\"ticks\":\"\",\"zerolinecolor\":\"white\",\"gridwidth\":2},\"zaxis\":{\"backgroundcolor\":\"#E5ECF6\",\"gridcolor\":\"white\",\"linecolor\":\"white\",\"showbackground\":true,\"ticks\":\"\",\"zerolinecolor\":\"white\",\"gridwidth\":2}},\"shapedefaults\":{\"line\":{\"color\":\"#2a3f5f\"}},\"annotationdefaults\":{\"arrowcolor\":\"#2a3f5f\",\"arrowhead\":0,\"arrowwidth\":1},\"geo\":{\"bgcolor\":\"white\",\"landcolor\":\"#E5ECF6\",\"subunitcolor\":\"white\",\"showland\":true,\"showlakes\":true,\"lakecolor\":\"white\"},\"title\":{\"x\":0.05},\"mapbox\":{\"style\":\"light\"}}},\"xaxis\":{\"anchor\":\"y\",\"domain\":[0.0,1.0],\"title\":{\"text\":\"file_name\"}},\"yaxis\":{\"anchor\":\"x\",\"domain\":[0.0,1.0],\"title\":{\"text\":\"Duration (Seconds)\"}},\"legend\":{\"title\":{\"text\":\"Stage\"},\"tracegroupgap\":0},\"title\":{\"text\":\"Ingestion Durations (Read vs. Write)\",\"x\":0.5},\"barmode\":\"group\"},                        {\"responsive\": true}                    )                };                            </script>        </div>\n",
       "</body>\n",
       "</html>"
      ]
     },
     "metadata": {},
     "output_type": "display_data"
    }
   ],
   "source": [
    "\n",
    "# Ingestion Durations (Read + Write)\n",
    "stats_df['total_duration_seconds'] = stats_df['read_duration_seconds'] + stats_df['write_duration_seconds']\n",
    "fig2 = px.bar(\n",
    "    stats_df,\n",
    "    x=\"file_name\",\n",
    "    y=[\"read_duration_seconds\", \"write_duration_seconds\"],\n",
    "    title=\"Ingestion Durations (Read vs. Write)\",\n",
    "    labels={\"value\": \"Duration (Seconds)\", \"variable\": \"Stage\"},\n",
    "    barmode=\"group\"\n",
    ")\n",
    "fig2.update_layout(title_x=0.5)  # Center the title\n",
    "fig2.show()\n"
   ]
  },
  {
   "cell_type": "markdown",
   "metadata": {
    "application/vnd.databricks.v1+cell": {
     "cellMetadata": {
      "byteLimit": 2048000,
      "rowLimit": 10000
     },
     "inputWidgets": {},
     "nuid": "4a3b6aa0-a08c-4cb2-8655-cffdca9e3497",
     "showTitle": false,
     "tableResultSettingsMap": {},
     "title": ""
    }
   },
   "source": [
    "**Total Records Ingested Over Time**"
   ]
  },
  {
   "cell_type": "code",
   "execution_count": 0,
   "metadata": {
    "application/vnd.databricks.v1+cell": {
     "cellMetadata": {
      "byteLimit": 2048000,
      "rowLimit": 10000
     },
     "inputWidgets": {},
     "nuid": "794387b2-db77-48ec-a2cb-9fa97d83fe91",
     "showTitle": false,
     "tableResultSettingsMap": {},
     "title": ""
    }
   },
   "outputs": [
    {
     "output_type": "display_data",
     "data": {
      "text/html": [
       "<html>\n",
       "<head><meta charset=\"utf-8\" /></head>\n",
       "<body>\n",
       "    <div>            <script src=\"https://cdnjs.cloudflare.com/ajax/libs/mathjax/2.7.5/MathJax.js?config=TeX-AMS-MML_SVG\"></script><script type=\"text/javascript\">if (window.MathJax && window.MathJax.Hub && window.MathJax.Hub.Config) {window.MathJax.Hub.Config({SVG: {font: \"STIX-Web\"}});}</script>                <script type=\"text/javascript\">window.PlotlyConfig = {MathJaxConfig: 'local'};</script>\n",
       "        <script charset=\"utf-8\" src=\"https://cdn.plot.ly/plotly-2.32.0.min.js\"></script>                <div id=\"bf1539bc-9deb-4197-9014-02940e355173\" class=\"plotly-graph-div\" style=\"height:100%; width:100%;\"></div>            <script type=\"text/javascript\">                                    window.PLOTLYENV=window.PLOTLYENV || {};                                    if (document.getElementById(\"bf1539bc-9deb-4197-9014-02940e355173\")) {                    Plotly.newPlot(                        \"bf1539bc-9deb-4197-9014-02940e355173\",                        [{\"hovertemplate\":\"file_name=appearance.csv\\u003cbr\\u003eStart Time=%{x}\\u003cbr\\u003eNumber of Records Ingested=%{y}\\u003cextra\\u003e\\u003c\\u002fextra\\u003e\",\"legendgroup\":\"appearance.csv\",\"line\":{\"color\":\"#636efa\",\"dash\":\"solid\"},\"marker\":{\"symbol\":\"circle\"},\"mode\":\"lines\",\"name\":\"appearance.csv\",\"orientation\":\"v\",\"showlegend\":true,\"x\":[\"2025-03-19T12:21:48.881058\",\"2025-03-19T12:35:20.524670\",\"2025-03-19T12:50:59.533626\",\"2025-03-20T12:51:01.870194\",\"2025-03-21T12:51:01.428397\",\"2025-03-22T07:55:03.228940\",\"2025-03-22T07:59:30.240750\",\"2025-03-22T11:09:45.399310\"],\"xaxis\":\"x\",\"y\":[715463,715463,715463,715463,715463,715463,715463,715463],\"yaxis\":\"y\",\"type\":\"scatter\"},{\"hovertemplate\":\"file_name=club_games.csv\\u003cbr\\u003eStart Time=%{x}\\u003cbr\\u003eNumber of Records Ingested=%{y}\\u003cextra\\u003e\\u003c\\u002fextra\\u003e\",\"legendgroup\":\"club_games.csv\",\"line\":{\"color\":\"#EF553B\",\"dash\":\"solid\"},\"marker\":{\"symbol\":\"circle\"},\"mode\":\"lines\",\"name\":\"club_games.csv\",\"orientation\":\"v\",\"showlegend\":true,\"x\":[\"2025-03-19T12:21:59.775407\",\"2025-03-19T12:35:30.570334\",\"2025-03-19T12:51:09.831327\",\"2025-03-20T12:51:16.116789\",\"2025-03-21T12:51:14.961480\",\"2025-03-22T07:55:13.661898\",\"2025-03-22T07:59:38.747762\",\"2025-03-22T11:09:57.145644\"],\"xaxis\":\"x\",\"y\":[147390,147390,147390,147390,147390,147390,147390,147390],\"yaxis\":\"y\",\"type\":\"scatter\"},{\"hovertemplate\":\"file_name=clubs.csv\\u003cbr\\u003eStart Time=%{x}\\u003cbr\\u003eNumber of Records Ingested=%{y}\\u003cextra\\u003e\\u003c\\u002fextra\\u003e\",\"legendgroup\":\"clubs.csv\",\"line\":{\"color\":\"#00cc96\",\"dash\":\"solid\"},\"marker\":{\"symbol\":\"circle\"},\"mode\":\"lines\",\"name\":\"clubs.csv\",\"orientation\":\"v\",\"showlegend\":true,\"x\":[\"2025-03-19T12:22:05.121256\",\"2025-03-19T12:35:36.204349\",\"2025-03-19T12:51:17.637412\",\"2025-03-20T12:51:21.988743\",\"2025-03-21T12:51:20.373912\",\"2025-03-22T07:55:17.821504\",\"2025-03-22T07:59:43.644391\",\"2025-03-22T11:10:02.082285\"],\"xaxis\":\"x\",\"y\":[439,439,439,439,439,439,439,439],\"yaxis\":\"y\",\"type\":\"scatter\"},{\"hovertemplate\":\"file_name=competitions.csv\\u003cbr\\u003eStart Time=%{x}\\u003cbr\\u003eNumber of Records Ingested=%{y}\\u003cextra\\u003e\\u003c\\u002fextra\\u003e\",\"legendgroup\":\"competitions.csv\",\"line\":{\"color\":\"#ab63fa\",\"dash\":\"solid\"},\"marker\":{\"symbol\":\"circle\"},\"mode\":\"lines\",\"name\":\"competitions.csv\",\"orientation\":\"v\",\"showlegend\":true,\"x\":[\"2025-03-19T12:22:08.541133\",\"2025-03-19T12:35:39.601704\",\"2025-03-19T12:51:20.547906\",\"2025-03-20T12:51:26.302094\",\"2025-03-21T12:51:24.567563\",\"2025-03-22T07:55:20.351810\",\"2025-03-22T07:59:46.506715\",\"2025-03-22T11:10:05.471264\"],\"xaxis\":\"x\",\"y\":[44,44,44,44,44,44,44,44],\"yaxis\":\"y\",\"type\":\"scatter\"},{\"hovertemplate\":\"file_name=game_events.csv\\u003cbr\\u003eStart Time=%{x}\\u003cbr\\u003eNumber of Records Ingested=%{y}\\u003cextra\\u003e\\u003c\\u002fextra\\u003e\",\"legendgroup\":\"game_events.csv\",\"line\":{\"color\":\"#FFA15A\",\"dash\":\"solid\"},\"marker\":{\"symbol\":\"circle\"},\"mode\":\"lines\",\"name\":\"game_events.csv\",\"orientation\":\"v\",\"showlegend\":true,\"x\":[\"2025-03-19T12:22:11.984760\",\"2025-03-19T12:35:42.499588\",\"2025-03-19T12:51:23.970444\",\"2025-03-20T12:51:30.041751\",\"2025-03-21T12:51:28.047972\",\"2025-03-22T07:55:22.553015\",\"2025-03-22T07:59:49.695294\",\"2025-03-22T11:10:08.705216\"],\"xaxis\":\"x\",\"y\":[471993,471993,471993,471993,471993,471993,471993,471993],\"yaxis\":\"y\",\"type\":\"scatter\"},{\"hovertemplate\":\"file_name=game_lineups.csv\\u003cbr\\u003eStart Time=%{x}\\u003cbr\\u003eNumber of Records Ingested=%{y}\\u003cextra\\u003e\\u003c\\u002fextra\\u003e\",\"legendgroup\":\"game_lineups.csv\",\"line\":{\"color\":\"#19d3f3\",\"dash\":\"solid\"},\"marker\":{\"symbol\":\"circle\"},\"mode\":\"lines\",\"name\":\"game_lineups.csv\",\"orientation\":\"v\",\"showlegend\":true,\"x\":[\"2025-03-19T12:22:19.076047\",\"2025-03-19T12:35:49.214864\",\"2025-03-19T12:51:30.671747\",\"2025-03-20T12:51:40.329651\",\"2025-03-21T12:51:35.206596\",\"2025-03-22T07:55:28.582957\",\"2025-03-22T11:10:15.504192\",\"2025-03-22T07:59:56.162542\"],\"xaxis\":\"x\",\"y\":[904772,904772,904772,904772,904772,904772,904772,904772],\"yaxis\":\"y\",\"type\":\"scatter\"},{\"hovertemplate\":\"file_name=games.csv\\u003cbr\\u003eStart Time=%{x}\\u003cbr\\u003eNumber of Records Ingested=%{y}\\u003cextra\\u003e\\u003c\\u002fextra\\u003e\",\"legendgroup\":\"games.csv\",\"line\":{\"color\":\"#FF6692\",\"dash\":\"solid\"},\"marker\":{\"symbol\":\"circle\"},\"mode\":\"lines\",\"name\":\"games.csv\",\"orientation\":\"v\",\"showlegend\":true,\"x\":[\"2025-03-19T12:22:59.125902\",\"2025-03-19T12:36:30.023289\",\"2025-03-19T12:52:10.168106\",\"2025-03-20T12:52:19.356168\",\"2025-03-21T12:52:14.700258\",\"2025-03-22T07:56:05.839316\",\"2025-03-22T11:10:54.864261\",\"2025-03-22T08:00:34.221904\"],\"xaxis\":\"x\",\"y\":[30141,30141,30141,30141,30141,30141,30141,30141],\"yaxis\":\"y\",\"type\":\"scatter\"},{\"hovertemplate\":\"file_name=players.csv\\u003cbr\\u003eStart Time=%{x}\\u003cbr\\u003eNumber of Records Ingested=%{y}\\u003cextra\\u003e\\u003c\\u002fextra\\u003e\",\"legendgroup\":\"players.csv\",\"line\":{\"color\":\"#B6E880\",\"dash\":\"solid\"},\"marker\":{\"symbol\":\"circle\"},\"mode\":\"lines\",\"name\":\"players.csv\",\"orientation\":\"v\",\"showlegend\":true,\"x\":[\"2025-03-19T12:23:04.872056\",\"2025-03-19T12:36:36.466872\",\"2025-03-19T12:52:15.879356\",\"2025-03-20T12:52:26.378621\",\"2025-03-21T12:52:19.696197\",\"2025-03-22T07:56:10.376887\",\"2025-03-22T08:00:39.480190\",\"2025-03-22T11:11:01.419089\"],\"xaxis\":\"x\",\"y\":[17621,17621,17621,17621,17621,17621,17621,17621],\"yaxis\":\"y\",\"type\":\"scatter\"},{\"hovertemplate\":\"file_name=player_valuations.csv\\u003cbr\\u003eStart Time=%{x}\\u003cbr\\u003eNumber of Records Ingested=%{y}\\u003cextra\\u003e\\u003c\\u002fextra\\u003e\",\"legendgroup\":\"player_valuations.csv\",\"line\":{\"color\":\"#FF97FF\",\"dash\":\"solid\"},\"marker\":{\"symbol\":\"circle\"},\"mode\":\"lines\",\"name\":\"player_valuations.csv\",\"orientation\":\"v\",\"showlegend\":true,\"x\":[\"2025-03-19T12:23:10.092597\",\"2025-03-19T12:36:42.530384\",\"2025-03-19T12:52:20.844574\",\"2025-03-20T12:52:31.858805\",\"2025-03-21T12:52:24.675819\",\"2025-03-22T07:56:14.771173\",\"2025-03-22T11:11:07.142169\",\"2025-03-22T08:00:44.254647\"],\"xaxis\":\"x\",\"y\":[195750,195750,195750,195750,195750,195750,195750,195750],\"yaxis\":\"y\",\"type\":\"scatter\"},{\"hovertemplate\":\"file_name=transfers.csv\\u003cbr\\u003eStart Time=%{x}\\u003cbr\\u003eNumber of Records Ingested=%{y}\\u003cextra\\u003e\\u003c\\u002fextra\\u003e\",\"legendgroup\":\"transfers.csv\",\"line\":{\"color\":\"#FECB52\",\"dash\":\"solid\"},\"marker\":{\"symbol\":\"circle\"},\"mode\":\"lines\",\"name\":\"transfers.csv\",\"orientation\":\"v\",\"showlegend\":true,\"x\":[\"2025-03-19T12:23:15.059417\",\"2025-03-19T12:36:49.137250\",\"2025-03-19T12:52:25.591358\",\"2025-03-20T12:52:38.167361\",\"2025-03-21T12:52:29.365522\",\"2025-03-22T07:56:18.996759\",\"2025-03-22T11:11:12.331501\",\"2025-03-22T08:00:48.766278\"],\"xaxis\":\"x\",\"y\":[39251,39251,39251,39251,39251,39251,39251,39251],\"yaxis\":\"y\",\"type\":\"scatter\"}],                        {\"template\":{\"data\":{\"histogram2dcontour\":[{\"type\":\"histogram2dcontour\",\"colorbar\":{\"outlinewidth\":0,\"ticks\":\"\"},\"colorscale\":[[0.0,\"#0d0887\"],[0.1111111111111111,\"#46039f\"],[0.2222222222222222,\"#7201a8\"],[0.3333333333333333,\"#9c179e\"],[0.4444444444444444,\"#bd3786\"],[0.5555555555555556,\"#d8576b\"],[0.6666666666666666,\"#ed7953\"],[0.7777777777777778,\"#fb9f3a\"],[0.8888888888888888,\"#fdca26\"],[1.0,\"#f0f921\"]]}],\"choropleth\":[{\"type\":\"choropleth\",\"colorbar\":{\"outlinewidth\":0,\"ticks\":\"\"}}],\"histogram2d\":[{\"type\":\"histogram2d\",\"colorbar\":{\"outlinewidth\":0,\"ticks\":\"\"},\"colorscale\":[[0.0,\"#0d0887\"],[0.1111111111111111,\"#46039f\"],[0.2222222222222222,\"#7201a8\"],[0.3333333333333333,\"#9c179e\"],[0.4444444444444444,\"#bd3786\"],[0.5555555555555556,\"#d8576b\"],[0.6666666666666666,\"#ed7953\"],[0.7777777777777778,\"#fb9f3a\"],[0.8888888888888888,\"#fdca26\"],[1.0,\"#f0f921\"]]}],\"heatmap\":[{\"type\":\"heatmap\",\"colorbar\":{\"outlinewidth\":0,\"ticks\":\"\"},\"colorscale\":[[0.0,\"#0d0887\"],[0.1111111111111111,\"#46039f\"],[0.2222222222222222,\"#7201a8\"],[0.3333333333333333,\"#9c179e\"],[0.4444444444444444,\"#bd3786\"],[0.5555555555555556,\"#d8576b\"],[0.6666666666666666,\"#ed7953\"],[0.7777777777777778,\"#fb9f3a\"],[0.8888888888888888,\"#fdca26\"],[1.0,\"#f0f921\"]]}],\"heatmapgl\":[{\"type\":\"heatmapgl\",\"colorbar\":{\"outlinewidth\":0,\"ticks\":\"\"},\"colorscale\":[[0.0,\"#0d0887\"],[0.1111111111111111,\"#46039f\"],[0.2222222222222222,\"#7201a8\"],[0.3333333333333333,\"#9c179e\"],[0.4444444444444444,\"#bd3786\"],[0.5555555555555556,\"#d8576b\"],[0.6666666666666666,\"#ed7953\"],[0.7777777777777778,\"#fb9f3a\"],[0.8888888888888888,\"#fdca26\"],[1.0,\"#f0f921\"]]}],\"contourcarpet\":[{\"type\":\"contourcarpet\",\"colorbar\":{\"outlinewidth\":0,\"ticks\":\"\"}}],\"contour\":[{\"type\":\"contour\",\"colorbar\":{\"outlinewidth\":0,\"ticks\":\"\"},\"colorscale\":[[0.0,\"#0d0887\"],[0.1111111111111111,\"#46039f\"],[0.2222222222222222,\"#7201a8\"],[0.3333333333333333,\"#9c179e\"],[0.4444444444444444,\"#bd3786\"],[0.5555555555555556,\"#d8576b\"],[0.6666666666666666,\"#ed7953\"],[0.7777777777777778,\"#fb9f3a\"],[0.8888888888888888,\"#fdca26\"],[1.0,\"#f0f921\"]]}],\"surface\":[{\"type\":\"surface\",\"colorbar\":{\"outlinewidth\":0,\"ticks\":\"\"},\"colorscale\":[[0.0,\"#0d0887\"],[0.1111111111111111,\"#46039f\"],[0.2222222222222222,\"#7201a8\"],[0.3333333333333333,\"#9c179e\"],[0.4444444444444444,\"#bd3786\"],[0.5555555555555556,\"#d8576b\"],[0.6666666666666666,\"#ed7953\"],[0.7777777777777778,\"#fb9f3a\"],[0.8888888888888888,\"#fdca26\"],[1.0,\"#f0f921\"]]}],\"mesh3d\":[{\"type\":\"mesh3d\",\"colorbar\":{\"outlinewidth\":0,\"ticks\":\"\"}}],\"scatter\":[{\"fillpattern\":{\"fillmode\":\"overlay\",\"size\":10,\"solidity\":0.2},\"type\":\"scatter\"}],\"parcoords\":[{\"type\":\"parcoords\",\"line\":{\"colorbar\":{\"outlinewidth\":0,\"ticks\":\"\"}}}],\"scatterpolargl\":[{\"type\":\"scatterpolargl\",\"marker\":{\"colorbar\":{\"outlinewidth\":0,\"ticks\":\"\"}}}],\"bar\":[{\"error_x\":{\"color\":\"#2a3f5f\"},\"error_y\":{\"color\":\"#2a3f5f\"},\"marker\":{\"line\":{\"color\":\"#E5ECF6\",\"width\":0.5},\"pattern\":{\"fillmode\":\"overlay\",\"size\":10,\"solidity\":0.2}},\"type\":\"bar\"}],\"scattergeo\":[{\"type\":\"scattergeo\",\"marker\":{\"colorbar\":{\"outlinewidth\":0,\"ticks\":\"\"}}}],\"scatterpolar\":[{\"type\":\"scatterpolar\",\"marker\":{\"colorbar\":{\"outlinewidth\":0,\"ticks\":\"\"}}}],\"histogram\":[{\"marker\":{\"pattern\":{\"fillmode\":\"overlay\",\"size\":10,\"solidity\":0.2}},\"type\":\"histogram\"}],\"scattergl\":[{\"type\":\"scattergl\",\"marker\":{\"colorbar\":{\"outlinewidth\":0,\"ticks\":\"\"}}}],\"scatter3d\":[{\"type\":\"scatter3d\",\"line\":{\"colorbar\":{\"outlinewidth\":0,\"ticks\":\"\"}},\"marker\":{\"colorbar\":{\"outlinewidth\":0,\"ticks\":\"\"}}}],\"scattermapbox\":[{\"type\":\"scattermapbox\",\"marker\":{\"colorbar\":{\"outlinewidth\":0,\"ticks\":\"\"}}}],\"scatterternary\":[{\"type\":\"scatterternary\",\"marker\":{\"colorbar\":{\"outlinewidth\":0,\"ticks\":\"\"}}}],\"scattercarpet\":[{\"type\":\"scattercarpet\",\"marker\":{\"colorbar\":{\"outlinewidth\":0,\"ticks\":\"\"}}}],\"carpet\":[{\"aaxis\":{\"endlinecolor\":\"#2a3f5f\",\"gridcolor\":\"white\",\"linecolor\":\"white\",\"minorgridcolor\":\"white\",\"startlinecolor\":\"#2a3f5f\"},\"baxis\":{\"endlinecolor\":\"#2a3f5f\",\"gridcolor\":\"white\",\"linecolor\":\"white\",\"minorgridcolor\":\"white\",\"startlinecolor\":\"#2a3f5f\"},\"type\":\"carpet\"}],\"table\":[{\"cells\":{\"fill\":{\"color\":\"#EBF0F8\"},\"line\":{\"color\":\"white\"}},\"header\":{\"fill\":{\"color\":\"#C8D4E3\"},\"line\":{\"color\":\"white\"}},\"type\":\"table\"}],\"barpolar\":[{\"marker\":{\"line\":{\"color\":\"#E5ECF6\",\"width\":0.5},\"pattern\":{\"fillmode\":\"overlay\",\"size\":10,\"solidity\":0.2}},\"type\":\"barpolar\"}],\"pie\":[{\"automargin\":true,\"type\":\"pie\"}]},\"layout\":{\"autotypenumbers\":\"strict\",\"colorway\":[\"#636efa\",\"#EF553B\",\"#00cc96\",\"#ab63fa\",\"#FFA15A\",\"#19d3f3\",\"#FF6692\",\"#B6E880\",\"#FF97FF\",\"#FECB52\"],\"font\":{\"color\":\"#2a3f5f\"},\"hovermode\":\"closest\",\"hoverlabel\":{\"align\":\"left\"},\"paper_bgcolor\":\"white\",\"plot_bgcolor\":\"#E5ECF6\",\"polar\":{\"bgcolor\":\"#E5ECF6\",\"angularaxis\":{\"gridcolor\":\"white\",\"linecolor\":\"white\",\"ticks\":\"\"},\"radialaxis\":{\"gridcolor\":\"white\",\"linecolor\":\"white\",\"ticks\":\"\"}},\"ternary\":{\"bgcolor\":\"#E5ECF6\",\"aaxis\":{\"gridcolor\":\"white\",\"linecolor\":\"white\",\"ticks\":\"\"},\"baxis\":{\"gridcolor\":\"white\",\"linecolor\":\"white\",\"ticks\":\"\"},\"caxis\":{\"gridcolor\":\"white\",\"linecolor\":\"white\",\"ticks\":\"\"}},\"coloraxis\":{\"colorbar\":{\"outlinewidth\":0,\"ticks\":\"\"}},\"colorscale\":{\"sequential\":[[0.0,\"#0d0887\"],[0.1111111111111111,\"#46039f\"],[0.2222222222222222,\"#7201a8\"],[0.3333333333333333,\"#9c179e\"],[0.4444444444444444,\"#bd3786\"],[0.5555555555555556,\"#d8576b\"],[0.6666666666666666,\"#ed7953\"],[0.7777777777777778,\"#fb9f3a\"],[0.8888888888888888,\"#fdca26\"],[1.0,\"#f0f921\"]],\"sequentialminus\":[[0.0,\"#0d0887\"],[0.1111111111111111,\"#46039f\"],[0.2222222222222222,\"#7201a8\"],[0.3333333333333333,\"#9c179e\"],[0.4444444444444444,\"#bd3786\"],[0.5555555555555556,\"#d8576b\"],[0.6666666666666666,\"#ed7953\"],[0.7777777777777778,\"#fb9f3a\"],[0.8888888888888888,\"#fdca26\"],[1.0,\"#f0f921\"]],\"diverging\":[[0,\"#8e0152\"],[0.1,\"#c51b7d\"],[0.2,\"#de77ae\"],[0.3,\"#f1b6da\"],[0.4,\"#fde0ef\"],[0.5,\"#f7f7f7\"],[0.6,\"#e6f5d0\"],[0.7,\"#b8e186\"],[0.8,\"#7fbc41\"],[0.9,\"#4d9221\"],[1,\"#276419\"]]},\"xaxis\":{\"gridcolor\":\"white\",\"linecolor\":\"white\",\"ticks\":\"\",\"title\":{\"standoff\":15},\"zerolinecolor\":\"white\",\"automargin\":true,\"zerolinewidth\":2},\"yaxis\":{\"gridcolor\":\"white\",\"linecolor\":\"white\",\"ticks\":\"\",\"title\":{\"standoff\":15},\"zerolinecolor\":\"white\",\"automargin\":true,\"zerolinewidth\":2},\"scene\":{\"xaxis\":{\"backgroundcolor\":\"#E5ECF6\",\"gridcolor\":\"white\",\"linecolor\":\"white\",\"showbackground\":true,\"ticks\":\"\",\"zerolinecolor\":\"white\",\"gridwidth\":2},\"yaxis\":{\"backgroundcolor\":\"#E5ECF6\",\"gridcolor\":\"white\",\"linecolor\":\"white\",\"showbackground\":true,\"ticks\":\"\",\"zerolinecolor\":\"white\",\"gridwidth\":2},\"zaxis\":{\"backgroundcolor\":\"#E5ECF6\",\"gridcolor\":\"white\",\"linecolor\":\"white\",\"showbackground\":true,\"ticks\":\"\",\"zerolinecolor\":\"white\",\"gridwidth\":2}},\"shapedefaults\":{\"line\":{\"color\":\"#2a3f5f\"}},\"annotationdefaults\":{\"arrowcolor\":\"#2a3f5f\",\"arrowhead\":0,\"arrowwidth\":1},\"geo\":{\"bgcolor\":\"white\",\"landcolor\":\"#E5ECF6\",\"subunitcolor\":\"white\",\"showland\":true,\"showlakes\":true,\"lakecolor\":\"white\"},\"title\":{\"x\":0.05},\"mapbox\":{\"style\":\"light\"}}},\"xaxis\":{\"anchor\":\"y\",\"domain\":[0.0,1.0],\"title\":{\"text\":\"Start Time\"}},\"yaxis\":{\"anchor\":\"x\",\"domain\":[0.0,1.0],\"title\":{\"text\":\"Number of Records Ingested\"}},\"legend\":{\"title\":{\"text\":\"file_name\"},\"tracegroupgap\":0},\"title\":{\"text\":\"Total Records Ingested Over Time\",\"x\":0.5}},                        {\"responsive\": true}                    )                };                            </script>        </div>\n",
       "</body>\n",
       "</html>"
      ]
     },
     "metadata": {},
     "output_type": "display_data"
    }
   ],
   "source": [
    "# Total Records Ingested Over Time\n",
    "fig4 = px.line(\n",
    "    stats_df,\n",
    "    x=\"start_time\",\n",
    "    y=\"num_records_ingested\",\n",
    "    color=\"file_name\",\n",
    "    title=\"Total Records Ingested Over Time\",\n",
    "    labels={\"start_time\": \"Start Time\", \"num_records_ingested\": \"Number of Records Ingested\"}\n",
    ")\n",
    "fig4.update_layout(title_x=0.5)  # Center the title\n",
    "fig4.show()"
   ]
  },
  {
   "cell_type": "markdown",
   "metadata": {
    "application/vnd.databricks.v1+cell": {
     "cellMetadata": {
      "byteLimit": 2048000,
      "rowLimit": 10000
     },
     "inputWidgets": {},
     "nuid": "21bc3fce-40cd-4514-9909-0227a464f1b0",
     "showTitle": false,
     "tableResultSettingsMap": {},
     "title": ""
    }
   },
   "source": [
    "### Silver Layer"
   ]
  },
  {
   "cell_type": "markdown",
   "metadata": {
    "application/vnd.databricks.v1+cell": {
     "cellMetadata": {
      "byteLimit": 2048000,
      "rowLimit": 10000
     },
     "inputWidgets": {},
     "nuid": "3e1b315f-57c6-4e7f-bb54-c6da8865f70d",
     "showTitle": false,
     "tableResultSettingsMap": {},
     "title": ""
    }
   },
   "source": [
    "#### Tabular"
   ]
  },
  {
   "cell_type": "code",
   "execution_count": 0,
   "metadata": {
    "application/vnd.databricks.v1+cell": {
     "cellMetadata": {
      "byteLimit": 2048000,
      "implicitDf": true,
      "rowLimit": 10000
     },
     "inputWidgets": {},
     "nuid": "942f7330-5080-4870-82d4-5474836b5500",
     "showTitle": false,
     "tableResultSettingsMap": {},
     "title": ""
    }
   },
   "outputs": [
    {
     "output_type": "display_data",
     "data": {
      "text/html": [
       "<style scoped>\n",
       "  .table-result-container {\n",
       "    max-height: 300px;\n",
       "    overflow: auto;\n",
       "  }\n",
       "  table, th, td {\n",
       "    border: 1px solid black;\n",
       "    border-collapse: collapse;\n",
       "  }\n",
       "  th, td {\n",
       "    padding: 5px;\n",
       "  }\n",
       "  th {\n",
       "    text-align: left;\n",
       "  }\n",
       "</style><div class='table-result-container'><table class='table-result'><thead style='background-color: white'><tr><th>stage</th><th>source_table</th><th>target_table</th><th>executed_at</th><th>processing_duration_seconds</th><th>num_records_cleaned</th></tr></thead><tbody><tr><td>transformation</td><td>bronze.transfers</td><td>silver.transfers</td><td>7 minutes ago</td><td>3.54</td><td>39251</td></tr><tr><td>transformation</td><td>bronze.players</td><td>silver.players</td><td>7 minutes ago</td><td>4.14</td><td>12622</td></tr><tr><td>transformation</td><td>bronze.player_valuations</td><td>silver.player_valuations</td><td>7 minutes ago</td><td>4.21</td><td>195750</td></tr><tr><td>transformation</td><td>bronze.games</td><td>silver.games</td><td>7 minutes ago</td><td>4.58</td><td>15831</td></tr><tr><td>transformation</td><td>bronze.game_lineups</td><td>silver.game_lineups</td><td>7 minutes ago</td><td>7.1</td><td>811397</td></tr><tr><td>transformation</td><td>bronze.game_events</td><td>silver.game_events</td><td>7 minutes ago</td><td>5.5</td><td>471993</td></tr><tr><td>transformation</td><td>bronze.competitions</td><td>silver.competitions</td><td>7 minutes ago</td><td>2.7</td><td>44</td></tr><tr><td>transformation</td><td>bronze.clubs</td><td>silver.clubs</td><td>7 minutes ago</td><td>2.98</td><td>439</td></tr><tr><td>transformation</td><td>bronze.club_games</td><td>silver.club_games</td><td>7 minutes ago</td><td>4.37</td><td>147390</td></tr><tr><td>transformation</td><td>bronze.appearance</td><td>silver.appearance</td><td>8 minutes ago</td><td>7.24</td><td>715463</td></tr><tr><td>transformation</td><td>bronze.transfers</td><td>silver.transfers</td><td>22 hours ago</td><td>3.69</td><td>39251</td></tr><tr><td>transformation</td><td>bronze.players</td><td>silver.players</td><td>22 hours ago</td><td>4.07</td><td>12622</td></tr><tr><td>transformation</td><td>bronze.player_valuations</td><td>silver.player_valuations</td><td>22 hours ago</td><td>3.91</td><td>195750</td></tr><tr><td>transformation</td><td>bronze.games</td><td>silver.games</td><td>22 hours ago</td><td>4.28</td><td>15831</td></tr><tr><td>transformation</td><td>bronze.game_lineups</td><td>silver.game_lineups</td><td>22 hours ago</td><td>7.06</td><td>811397</td></tr><tr><td>transformation</td><td>bronze.game_events</td><td>silver.game_events</td><td>22 hours ago</td><td>5.27</td><td>471993</td></tr><tr><td>transformation</td><td>bronze.competitions</td><td>silver.competitions</td><td>22 hours ago</td><td>3.01</td><td>44</td></tr><tr><td>transformation</td><td>bronze.clubs</td><td>silver.clubs</td><td>22 hours ago</td><td>3.76</td><td>439</td></tr><tr><td>transformation</td><td>bronze.club_games</td><td>silver.club_games</td><td>22 hours ago</td><td>4.71</td><td>147390</td></tr><tr><td>transformation</td><td>bronze.appearance</td><td>silver.appearance</td><td>22 hours ago</td><td>7.29</td><td>715463</td></tr><tr><td>transformation</td><td>bronze.transfers</td><td>silver.transfers</td><td>1 days ago</td><td>3.58</td><td>39251</td></tr><tr><td>transformation</td><td>bronze.players</td><td>silver.players</td><td>1 days ago</td><td>4.54</td><td>12622</td></tr><tr><td>transformation</td><td>bronze.player_valuations</td><td>silver.player_valuations</td><td>1 days ago</td><td>3.97</td><td>195750</td></tr><tr><td>transformation</td><td>bronze.games</td><td>silver.games</td><td>1 days ago</td><td>4.68</td><td>15831</td></tr><tr><td>transformation</td><td>bronze.game_lineups</td><td>silver.game_lineups</td><td>1 days ago</td><td>9.09</td><td>811397</td></tr><tr><td>transformation</td><td>bronze.game_events</td><td>silver.game_events</td><td>1 days ago</td><td>5.5</td><td>471993</td></tr><tr><td>transformation</td><td>bronze.competitions</td><td>silver.competitions</td><td>1 days ago</td><td>3.21</td><td>44</td></tr><tr><td>transformation</td><td>bronze.clubs</td><td>silver.clubs</td><td>1 days ago</td><td>3.86</td><td>439</td></tr><tr><td>transformation</td><td>bronze.club_games</td><td>silver.club_games</td><td>1 days ago</td><td>4.89</td><td>147390</td></tr><tr><td>transformation</td><td>bronze.appearance</td><td>silver.appearance</td><td>1 days ago</td><td>8.64</td><td>715463</td></tr><tr><td>transformation</td><td>bronze.transfers</td><td>silver.transfers</td><td>2 days ago</td><td>4.93</td><td>39251</td></tr><tr><td>transformation</td><td>bronze.players</td><td>silver.players</td><td>2 days ago</td><td>4.12</td><td>12622</td></tr><tr><td>transformation</td><td>bronze.player_valuations</td><td>silver.player_valuations</td><td>2 days ago</td><td>4.66</td><td>195750</td></tr><tr><td>transformation</td><td>bronze.games</td><td>silver.games</td><td>2 days ago</td><td>7.49</td><td>15831</td></tr><tr><td>transformation</td><td>bronze.game_lineups</td><td>silver.game_lineups</td><td>2 days ago</td><td>11.1</td><td>811397</td></tr><tr><td>transformation</td><td>bronze.game_events</td><td>silver.game_events</td><td>2 days ago</td><td>6.81</td><td>471993</td></tr><tr><td>transformation</td><td>bronze.competitions</td><td>silver.competitions</td><td>2 days ago</td><td>2.93</td><td>44</td></tr><tr><td>transformation</td><td>bronze.clubs</td><td>silver.clubs</td><td>2 days ago</td><td>3.17</td><td>439</td></tr><tr><td>transformation</td><td>bronze.club_games</td><td>silver.club_games</td><td>2 days ago</td><td>5.67</td><td>147390</td></tr><tr><td>transformation</td><td>bronze.appearance</td><td>silver.appearance</td><td>2 days ago</td><td>9.52</td><td>715463</td></tr><tr><td>transformation</td><td>bronze.transfers</td><td>silver.transfers</td><td>2 days ago</td><td>3.98</td><td>39251</td></tr><tr><td>transformation</td><td>bronze.players</td><td>silver.players</td><td>2 days ago</td><td>4.2</td><td>12622</td></tr><tr><td>transformation</td><td>bronze.player_valuations</td><td>silver.player_valuations</td><td>2 days ago</td><td>3.89</td><td>195750</td></tr><tr><td>transformation</td><td>bronze.games</td><td>silver.games</td><td>2 days ago</td><td>4.78</td><td>15831</td></tr><tr><td>transformation</td><td>bronze.game_lineups</td><td>silver.game_lineups</td><td>2 days ago</td><td>9.68</td><td>811397</td></tr><tr><td>transformation</td><td>bronze.game_events</td><td>silver.game_events</td><td>2 days ago</td><td>7.54</td><td>471993</td></tr><tr><td>transformation</td><td>bronze.competitions</td><td>silver.competitions</td><td>2 days ago</td><td>2.81</td><td>44</td></tr><tr><td>transformation</td><td>bronze.clubs</td><td>silver.clubs</td><td>2 days ago</td><td>3.1</td><td>439</td></tr><tr><td>transformation</td><td>bronze.club_games</td><td>silver.club_games</td><td>2 days ago</td><td>5.94</td><td>147390</td></tr><tr><td>transformation</td><td>bronze.appearance</td><td>silver.appearance</td><td>2 days ago</td><td>9.93</td><td>715463</td></tr><tr><td>transformation</td><td>bronze.transfers</td><td>silver.transfers</td><td>2 days ago</td><td>3.41</td><td>39251</td></tr><tr><td>transformation</td><td>bronze.players</td><td>silver.players</td><td>2 days ago</td><td>4.08</td><td>12622</td></tr><tr><td>transformation</td><td>bronze.player_valuations</td><td>silver.player_valuations</td><td>2 days ago</td><td>3.87</td><td>195750</td></tr><tr><td>transformation</td><td>bronze.games</td><td>silver.games</td><td>2 days ago</td><td>4.53</td><td>15831</td></tr><tr><td>transformation</td><td>bronze.game_lineups</td><td>silver.game_lineups</td><td>2 days ago</td><td>7.55</td><td>811397</td></tr><tr><td>transformation</td><td>bronze.game_events</td><td>silver.game_events</td><td>2 days ago</td><td>6.77</td><td>471993</td></tr><tr><td>transformation</td><td>bronze.competitions</td><td>silver.competitions</td><td>2 days ago</td><td>2.59</td><td>44</td></tr><tr><td>transformation</td><td>bronze.clubs</td><td>silver.clubs</td><td>2 days ago</td><td>3.14</td><td>439</td></tr><tr><td>transformation</td><td>bronze.club_games</td><td>silver.club_games</td><td>2 days ago</td><td>5.24</td><td>147390</td></tr><tr><td>transformation</td><td>bronze.appearance</td><td>silver.appearance</td><td>2 days ago</td><td>10.24</td><td>715463</td></tr></tbody></table></div>"
      ]
     },
     "metadata": {
      "application/vnd.databricks.v1+output": {
       "addedWidgets": {},
       "aggData": [],
       "aggError": "",
       "aggOverflow": false,
       "aggSchema": [],
       "aggSeriesLimitReached": false,
       "aggType": "",
       "arguments": {},
       "columnCustomDisplayInfos": {},
       "data": [
        [
         "transformation",
         "bronze.transfers",
         "silver.transfers",
         "7 minutes ago",
         3.54,
         39251
        ],
        [
         "transformation",
         "bronze.players",
         "silver.players",
         "7 minutes ago",
         4.14,
         12622
        ],
        [
         "transformation",
         "bronze.player_valuations",
         "silver.player_valuations",
         "7 minutes ago",
         4.21,
         195750
        ],
        [
         "transformation",
         "bronze.games",
         "silver.games",
         "7 minutes ago",
         4.58,
         15831
        ],
        [
         "transformation",
         "bronze.game_lineups",
         "silver.game_lineups",
         "7 minutes ago",
         7.1,
         811397
        ],
        [
         "transformation",
         "bronze.game_events",
         "silver.game_events",
         "7 minutes ago",
         5.5,
         471993
        ],
        [
         "transformation",
         "bronze.competitions",
         "silver.competitions",
         "7 minutes ago",
         2.7,
         44
        ],
        [
         "transformation",
         "bronze.clubs",
         "silver.clubs",
         "7 minutes ago",
         2.98,
         439
        ],
        [
         "transformation",
         "bronze.club_games",
         "silver.club_games",
         "7 minutes ago",
         4.37,
         147390
        ],
        [
         "transformation",
         "bronze.appearance",
         "silver.appearance",
         "8 minutes ago",
         7.24,
         715463
        ],
        [
         "transformation",
         "bronze.transfers",
         "silver.transfers",
         "22 hours ago",
         3.69,
         39251
        ],
        [
         "transformation",
         "bronze.players",
         "silver.players",
         "22 hours ago",
         4.07,
         12622
        ],
        [
         "transformation",
         "bronze.player_valuations",
         "silver.player_valuations",
         "22 hours ago",
         3.91,
         195750
        ],
        [
         "transformation",
         "bronze.games",
         "silver.games",
         "22 hours ago",
         4.28,
         15831
        ],
        [
         "transformation",
         "bronze.game_lineups",
         "silver.game_lineups",
         "22 hours ago",
         7.06,
         811397
        ],
        [
         "transformation",
         "bronze.game_events",
         "silver.game_events",
         "22 hours ago",
         5.27,
         471993
        ],
        [
         "transformation",
         "bronze.competitions",
         "silver.competitions",
         "22 hours ago",
         3.01,
         44
        ],
        [
         "transformation",
         "bronze.clubs",
         "silver.clubs",
         "22 hours ago",
         3.76,
         439
        ],
        [
         "transformation",
         "bronze.club_games",
         "silver.club_games",
         "22 hours ago",
         4.71,
         147390
        ],
        [
         "transformation",
         "bronze.appearance",
         "silver.appearance",
         "22 hours ago",
         7.29,
         715463
        ],
        [
         "transformation",
         "bronze.transfers",
         "silver.transfers",
         "1 days ago",
         3.58,
         39251
        ],
        [
         "transformation",
         "bronze.players",
         "silver.players",
         "1 days ago",
         4.54,
         12622
        ],
        [
         "transformation",
         "bronze.player_valuations",
         "silver.player_valuations",
         "1 days ago",
         3.97,
         195750
        ],
        [
         "transformation",
         "bronze.games",
         "silver.games",
         "1 days ago",
         4.68,
         15831
        ],
        [
         "transformation",
         "bronze.game_lineups",
         "silver.game_lineups",
         "1 days ago",
         9.09,
         811397
        ],
        [
         "transformation",
         "bronze.game_events",
         "silver.game_events",
         "1 days ago",
         5.5,
         471993
        ],
        [
         "transformation",
         "bronze.competitions",
         "silver.competitions",
         "1 days ago",
         3.21,
         44
        ],
        [
         "transformation",
         "bronze.clubs",
         "silver.clubs",
         "1 days ago",
         3.86,
         439
        ],
        [
         "transformation",
         "bronze.club_games",
         "silver.club_games",
         "1 days ago",
         4.89,
         147390
        ],
        [
         "transformation",
         "bronze.appearance",
         "silver.appearance",
         "1 days ago",
         8.64,
         715463
        ],
        [
         "transformation",
         "bronze.transfers",
         "silver.transfers",
         "2 days ago",
         4.93,
         39251
        ],
        [
         "transformation",
         "bronze.players",
         "silver.players",
         "2 days ago",
         4.12,
         12622
        ],
        [
         "transformation",
         "bronze.player_valuations",
         "silver.player_valuations",
         "2 days ago",
         4.66,
         195750
        ],
        [
         "transformation",
         "bronze.games",
         "silver.games",
         "2 days ago",
         7.49,
         15831
        ],
        [
         "transformation",
         "bronze.game_lineups",
         "silver.game_lineups",
         "2 days ago",
         11.1,
         811397
        ],
        [
         "transformation",
         "bronze.game_events",
         "silver.game_events",
         "2 days ago",
         6.81,
         471993
        ],
        [
         "transformation",
         "bronze.competitions",
         "silver.competitions",
         "2 days ago",
         2.93,
         44
        ],
        [
         "transformation",
         "bronze.clubs",
         "silver.clubs",
         "2 days ago",
         3.17,
         439
        ],
        [
         "transformation",
         "bronze.club_games",
         "silver.club_games",
         "2 days ago",
         5.67,
         147390
        ],
        [
         "transformation",
         "bronze.appearance",
         "silver.appearance",
         "2 days ago",
         9.52,
         715463
        ],
        [
         "transformation",
         "bronze.transfers",
         "silver.transfers",
         "2 days ago",
         3.98,
         39251
        ],
        [
         "transformation",
         "bronze.players",
         "silver.players",
         "2 days ago",
         4.2,
         12622
        ],
        [
         "transformation",
         "bronze.player_valuations",
         "silver.player_valuations",
         "2 days ago",
         3.89,
         195750
        ],
        [
         "transformation",
         "bronze.games",
         "silver.games",
         "2 days ago",
         4.78,
         15831
        ],
        [
         "transformation",
         "bronze.game_lineups",
         "silver.game_lineups",
         "2 days ago",
         9.68,
         811397
        ],
        [
         "transformation",
         "bronze.game_events",
         "silver.game_events",
         "2 days ago",
         7.54,
         471993
        ],
        [
         "transformation",
         "bronze.competitions",
         "silver.competitions",
         "2 days ago",
         2.81,
         44
        ],
        [
         "transformation",
         "bronze.clubs",
         "silver.clubs",
         "2 days ago",
         3.1,
         439
        ],
        [
         "transformation",
         "bronze.club_games",
         "silver.club_games",
         "2 days ago",
         5.94,
         147390
        ],
        [
         "transformation",
         "bronze.appearance",
         "silver.appearance",
         "2 days ago",
         9.93,
         715463
        ],
        [
         "transformation",
         "bronze.transfers",
         "silver.transfers",
         "2 days ago",
         3.41,
         39251
        ],
        [
         "transformation",
         "bronze.players",
         "silver.players",
         "2 days ago",
         4.08,
         12622
        ],
        [
         "transformation",
         "bronze.player_valuations",
         "silver.player_valuations",
         "2 days ago",
         3.87,
         195750
        ],
        [
         "transformation",
         "bronze.games",
         "silver.games",
         "2 days ago",
         4.53,
         15831
        ],
        [
         "transformation",
         "bronze.game_lineups",
         "silver.game_lineups",
         "2 days ago",
         7.55,
         811397
        ],
        [
         "transformation",
         "bronze.game_events",
         "silver.game_events",
         "2 days ago",
         6.77,
         471993
        ],
        [
         "transformation",
         "bronze.competitions",
         "silver.competitions",
         "2 days ago",
         2.59,
         44
        ],
        [
         "transformation",
         "bronze.clubs",
         "silver.clubs",
         "2 days ago",
         3.14,
         439
        ],
        [
         "transformation",
         "bronze.club_games",
         "silver.club_games",
         "2 days ago",
         5.24,
         147390
        ],
        [
         "transformation",
         "bronze.appearance",
         "silver.appearance",
         "2 days ago",
         10.24,
         715463
        ]
       ],
       "datasetInfos": [],
       "dbfsResultPath": null,
       "isJsonSchema": true,
       "metadata": {
        "createTempViewForImplicitDf": true,
        "dataframeName": "_sqldf",
        "executionCount": 6
       },
       "overflow": false,
       "plotOptions": {
        "customPlotOptions": {},
        "displayType": "table",
        "pivotAggregation": null,
        "pivotColumns": null,
        "xColumns": null,
        "yColumns": null
       },
       "removedWidgets": [],
       "schema": [
        {
         "metadata": "{}",
         "name": "stage",
         "type": "\"string\""
        },
        {
         "metadata": "{}",
         "name": "source_table",
         "type": "\"string\""
        },
        {
         "metadata": "{}",
         "name": "target_table",
         "type": "\"string\""
        },
        {
         "metadata": "{}",
         "name": "executed_at",
         "type": "\"string\""
        },
        {
         "metadata": "{}",
         "name": "processing_duration_seconds",
         "type": "\"double\""
        },
        {
         "metadata": "{}",
         "name": "num_records_cleaned",
         "type": "\"long\""
        }
       ],
       "type": "table"
      }
     },
     "output_type": "display_data"
    }
   ],
   "source": [
    "%sql\n",
    "SELECT \n",
    "    stage,\n",
    "    source_table,\n",
    "    target_table,\n",
    "    CASE\n",
    "        WHEN TIMESTAMPDIFF(SECOND, end_time, CURRENT_TIMESTAMP) < 60 THEN CONCAT(TIMESTAMPDIFF(SECOND, end_time, CURRENT_TIMESTAMP), ' seconds ago')\n",
    "        WHEN TIMESTAMPDIFF(MINUTE, end_time, CURRENT_TIMESTAMP) < 60 THEN CONCAT(TIMESTAMPDIFF(MINUTE, end_time, CURRENT_TIMESTAMP), ' minutes ago')\n",
    "        WHEN TIMESTAMPDIFF(HOUR, end_time, CURRENT_TIMESTAMP) < 24 THEN CONCAT(TIMESTAMPDIFF(HOUR, end_time, CURRENT_TIMESTAMP), ' hours ago')\n",
    "        ELSE CONCAT(TIMESTAMPDIFF(DAY, end_time, CURRENT_TIMESTAMP), ' days ago')\n",
    "    END AS executed_at,\n",
    "    round(processing_duration_seconds, 2) AS processing_duration_seconds,\n",
    "    num_records_cleaned\n",
    "FROM pipeline.silver_stats\n",
    "ORDER BY end_time DESC; -- Sort by the latest execution time\n"
   ]
  },
  {
   "cell_type": "markdown",
   "metadata": {
    "application/vnd.databricks.v1+cell": {
     "cellMetadata": {
      "byteLimit": 2048000,
      "rowLimit": 10000
     },
     "inputWidgets": {},
     "nuid": "8e747e83-09d8-4b02-b21d-14f58a4f0a06",
     "showTitle": false,
     "tableResultSettingsMap": {},
     "title": ""
    }
   },
   "source": [
    "### Visualizations"
   ]
  },
  {
   "cell_type": "code",
   "execution_count": 0,
   "metadata": {
    "application/vnd.databricks.v1+cell": {
     "cellMetadata": {
      "byteLimit": 2048000,
      "rowLimit": 10000
     },
     "inputWidgets": {},
     "nuid": "1a396862-96f5-4bad-9c53-b1368e12f929",
     "showTitle": false,
     "tableResultSettingsMap": {},
     "title": ""
    }
   },
   "outputs": [],
   "source": [
    "import plotly.express as px\n",
    "import pandas as pd\n",
    "\n",
    "# Query the silver_stats table\n",
    "query = \"\"\"\n",
    "    SELECT \n",
    "        stage,\n",
    "        source_table,\n",
    "        target_table,\n",
    "        start_time,\n",
    "        end_time,\n",
    "        processing_duration_seconds,\n",
    "        num_records_cleaned,\n",
    "        error_message,\n",
    "        timestamp\n",
    "    FROM pipeline.silver_stats\n",
    "\"\"\"\n",
    "stats_df = spark.sql(query).toPandas()\n",
    "\n",
    "# Ensure timestamps are parsed correctly\n",
    "stats_df['start_time'] = pd.to_datetime(stats_df['start_time'])\n",
    "stats_df['end_time'] = pd.to_datetime(stats_df['end_time'])\n",
    "stats_df['timestamp'] = pd.to_datetime(stats_df['timestamp'])\n"
   ]
  },
  {
   "cell_type": "markdown",
   "metadata": {
    "application/vnd.databricks.v1+cell": {
     "cellMetadata": {
      "byteLimit": 2048000,
      "rowLimit": 10000
     },
     "inputWidgets": {},
     "nuid": "4cca9c23-2245-4092-a506-f8166002e3aa",
     "showTitle": false,
     "tableResultSettingsMap": {},
     "title": ""
    }
   },
   "source": [
    "**Processing Durations by Source Table**"
   ]
  },
  {
   "cell_type": "code",
   "execution_count": 0,
   "metadata": {
    "application/vnd.databricks.v1+cell": {
     "cellMetadata": {
      "byteLimit": 2048000,
      "rowLimit": 10000
     },
     "inputWidgets": {},
     "nuid": "e380421c-c254-4da5-b0f8-4978a5102e5e",
     "showTitle": false,
     "tableResultSettingsMap": {},
     "title": ""
    }
   },
   "outputs": [
    {
     "output_type": "display_data",
     "data": {
      "text/html": [
       "<html>\n",
       "<head><meta charset=\"utf-8\" /></head>\n",
       "<body>\n",
       "    <div>            <script src=\"https://cdnjs.cloudflare.com/ajax/libs/mathjax/2.7.5/MathJax.js?config=TeX-AMS-MML_SVG\"></script><script type=\"text/javascript\">if (window.MathJax && window.MathJax.Hub && window.MathJax.Hub.Config) {window.MathJax.Hub.Config({SVG: {font: \"STIX-Web\"}});}</script>                <script type=\"text/javascript\">window.PlotlyConfig = {MathJaxConfig: 'local'};</script>\n",
       "        <script charset=\"utf-8\" src=\"https://cdn.plot.ly/plotly-2.32.0.min.js\"></script>                <div id=\"3956d4a4-50d6-4f20-82e3-55a4f08210f2\" class=\"plotly-graph-div\" style=\"height:100%; width:100%;\"></div>            <script type=\"text/javascript\">                                    window.PLOTLYENV=window.PLOTLYENV || {};                                    if (document.getElementById(\"3956d4a4-50d6-4f20-82e3-55a4f08210f2\")) {                    Plotly.newPlot(                        \"3956d4a4-50d6-4f20-82e3-55a4f08210f2\",                        [{\"alignmentgroup\":\"True\",\"customdata\":[[\"transformation\",\"2025-03-19T12:23:38.951522\"],[\"transformation\",\"2025-03-19T12:36:12.915314\"],[\"transformation\",\"2025-03-19T12:52:47.059980\"],[\"transformation\",\"2025-03-20T12:53:00.372275\"],[\"transformation\",\"2025-03-21T12:52:46.205491\"],[\"transformation\",\"2025-03-22T11:11:48.770835\"]],\"hovertemplate\":\"target_table=silver.appearance\\u003cbr\\u003eSource Table=%{x}\\u003cbr\\u003eProcessing Duration (Seconds)=%{y}\\u003cbr\\u003estage=%{customdata[0]}\\u003cbr\\u003estart_time=%{customdata[1]}\\u003cextra\\u003e\\u003c\\u002fextra\\u003e\",\"legendgroup\":\"silver.appearance\",\"marker\":{\"color\":\"#636efa\",\"pattern\":{\"shape\":\"\"}},\"name\":\"silver.appearance\",\"offsetgroup\":\"silver.appearance\",\"orientation\":\"v\",\"showlegend\":true,\"textposition\":\"auto\",\"x\":[\"bronze.appearance\",\"bronze.appearance\",\"bronze.appearance\",\"bronze.appearance\",\"bronze.appearance\",\"bronze.appearance\"],\"xaxis\":\"x\",\"y\":[10.243992,9.926162,9.517055,8.644796,7.28897,7.239383],\"yaxis\":\"y\",\"type\":\"bar\"},{\"alignmentgroup\":\"True\",\"customdata\":[[\"transformation\",\"2025-03-19T12:23:54.511866\"],[\"transformation\",\"2025-03-19T12:36:27.988689\"],[\"transformation\",\"2025-03-19T12:53:01.389769\"],[\"transformation\",\"2025-03-20T12:53:15.415293\"],[\"transformation\",\"2025-03-21T12:52:58.061900\"],[\"transformation\",\"2025-03-22T11:12:02.224184\"]],\"hovertemplate\":\"target_table=silver.club_games\\u003cbr\\u003eSource Table=%{x}\\u003cbr\\u003eProcessing Duration (Seconds)=%{y}\\u003cbr\\u003estage=%{customdata[0]}\\u003cbr\\u003estart_time=%{customdata[1]}\\u003cextra\\u003e\\u003c\\u002fextra\\u003e\",\"legendgroup\":\"silver.club_games\",\"marker\":{\"color\":\"#EF553B\",\"pattern\":{\"shape\":\"\"}},\"name\":\"silver.club_games\",\"offsetgroup\":\"silver.club_games\",\"orientation\":\"v\",\"showlegend\":true,\"textposition\":\"auto\",\"x\":[\"bronze.club_games\",\"bronze.club_games\",\"bronze.club_games\",\"bronze.club_games\",\"bronze.club_games\",\"bronze.club_games\"],\"xaxis\":\"x\",\"y\":[5.239563,5.938996,5.665145,4.894755,4.707793,4.365419],\"yaxis\":\"y\",\"type\":\"bar\"},{\"alignmentgroup\":\"True\",\"customdata\":[[\"transformation\",\"2025-03-19T12:24:02.135398\"],[\"transformation\",\"2025-03-19T12:36:36.840588\"],[\"transformation\",\"2025-03-19T12:53:09.393433\"],[\"transformation\",\"2025-03-20T12:53:22.488398\"],[\"transformation\",\"2025-03-21T12:53:04.845001\"],[\"transformation\",\"2025-03-22T11:12:08.564768\"]],\"hovertemplate\":\"target_table=silver.clubs\\u003cbr\\u003eSource Table=%{x}\\u003cbr\\u003eProcessing Duration (Seconds)=%{y}\\u003cbr\\u003estage=%{customdata[0]}\\u003cbr\\u003estart_time=%{customdata[1]}\\u003cextra\\u003e\\u003c\\u002fextra\\u003e\",\"legendgroup\":\"silver.clubs\",\"marker\":{\"color\":\"#00cc96\",\"pattern\":{\"shape\":\"\"}},\"name\":\"silver.clubs\",\"offsetgroup\":\"silver.clubs\",\"orientation\":\"v\",\"showlegend\":true,\"textposition\":\"auto\",\"x\":[\"bronze.clubs\",\"bronze.clubs\",\"bronze.clubs\",\"bronze.clubs\",\"bronze.clubs\",\"bronze.clubs\"],\"xaxis\":\"x\",\"y\":[3.140471,3.100519,3.171453,3.861757,3.75833,2.976618],\"yaxis\":\"y\",\"type\":\"bar\"},{\"alignmentgroup\":\"True\",\"customdata\":[[\"transformation\",\"2025-03-19T12:24:06.897344\"],[\"transformation\",\"2025-03-19T12:36:41.606862\"],[\"transformation\",\"2025-03-19T12:53:13.960358\"],[\"transformation\",\"2025-03-20T12:53:28.007842\"],[\"transformation\",\"2025-03-21T12:53:09.763203\"],[\"transformation\",\"2025-03-22T11:12:13.224110\"]],\"hovertemplate\":\"target_table=silver.competitions\\u003cbr\\u003eSource Table=%{x}\\u003cbr\\u003eProcessing Duration (Seconds)=%{y}\\u003cbr\\u003estage=%{customdata[0]}\\u003cbr\\u003estart_time=%{customdata[1]}\\u003cextra\\u003e\\u003c\\u002fextra\\u003e\",\"legendgroup\":\"silver.competitions\",\"marker\":{\"color\":\"#ab63fa\",\"pattern\":{\"shape\":\"\"}},\"name\":\"silver.competitions\",\"offsetgroup\":\"silver.competitions\",\"orientation\":\"v\",\"showlegend\":true,\"textposition\":\"auto\",\"x\":[\"bronze.competitions\",\"bronze.competitions\",\"bronze.competitions\",\"bronze.competitions\",\"bronze.competitions\",\"bronze.competitions\"],\"xaxis\":\"x\",\"y\":[2.59098,2.811397,2.931012,3.210552,3.008892,2.704281],\"yaxis\":\"y\",\"type\":\"bar\"},{\"alignmentgroup\":\"True\",\"customdata\":[[\"transformation\",\"2025-03-19T12:24:10.798925\"],[\"transformation\",\"2025-03-19T12:36:45.850841\"],[\"transformation\",\"2025-03-19T12:53:18.444211\"],[\"transformation\",\"2025-03-20T12:53:32.385264\"],[\"transformation\",\"2025-03-21T12:53:14.133282\"],[\"transformation\",\"2025-03-22T11:12:17.198768\"]],\"hovertemplate\":\"target_table=silver.game_events\\u003cbr\\u003eSource Table=%{x}\\u003cbr\\u003eProcessing Duration (Seconds)=%{y}\\u003cbr\\u003estage=%{customdata[0]}\\u003cbr\\u003estart_time=%{customdata[1]}\\u003cextra\\u003e\\u003c\\u002fextra\\u003e\",\"legendgroup\":\"silver.game_events\",\"marker\":{\"color\":\"#FFA15A\",\"pattern\":{\"shape\":\"\"}},\"name\":\"silver.game_events\",\"offsetgroup\":\"silver.game_events\",\"orientation\":\"v\",\"showlegend\":true,\"textposition\":\"auto\",\"x\":[\"bronze.game_events\",\"bronze.game_events\",\"bronze.game_events\",\"bronze.game_events\",\"bronze.game_events\",\"bronze.game_events\"],\"xaxis\":\"x\",\"y\":[6.768061,7.541576,6.813669,5.504227,5.271798,5.500216],\"yaxis\":\"y\",\"type\":\"bar\"},{\"alignmentgroup\":\"True\",\"customdata\":[[\"transformation\",\"2025-03-19T12:24:20.354392\"],[\"transformation\",\"2025-03-19T12:36:56.995512\"],[\"transformation\",\"2025-03-19T12:53:28.180533\"],[\"transformation\",\"2025-03-20T12:53:43.482132\"],[\"transformation\",\"2025-03-21T12:53:22.159432\"],[\"transformation\",\"2025-03-22T11:12:25.497059\"]],\"hovertemplate\":\"target_table=silver.game_lineups\\u003cbr\\u003eSource Table=%{x}\\u003cbr\\u003eProcessing Duration (Seconds)=%{y}\\u003cbr\\u003estage=%{customdata[0]}\\u003cbr\\u003estart_time=%{customdata[1]}\\u003cextra\\u003e\\u003c\\u002fextra\\u003e\",\"legendgroup\":\"silver.game_lineups\",\"marker\":{\"color\":\"#19d3f3\",\"pattern\":{\"shape\":\"\"}},\"name\":\"silver.game_lineups\",\"offsetgroup\":\"silver.game_lineups\",\"orientation\":\"v\",\"showlegend\":true,\"textposition\":\"auto\",\"x\":[\"bronze.game_lineups\",\"bronze.game_lineups\",\"bronze.game_lineups\",\"bronze.game_lineups\",\"bronze.game_lineups\",\"bronze.game_lineups\"],\"xaxis\":\"x\",\"y\":[7.551231,9.681903,11.10484,9.087363,7.06362,7.103928],\"yaxis\":\"y\",\"type\":\"bar\"},{\"alignmentgroup\":\"True\",\"customdata\":[[\"transformation\",\"2025-03-19T12:24:32.862289\"],[\"transformation\",\"2025-03-19T12:37:11.995101\"],[\"transformation\",\"2025-03-19T12:53:43.854105\"],[\"transformation\",\"2025-03-21T12:53:32.911258\"],[\"transformation\",\"2025-03-20T12:53:56.934354\"],[\"transformation\",\"2025-03-22T11:12:36.535905\"]],\"hovertemplate\":\"target_table=silver.games\\u003cbr\\u003eSource Table=%{x}\\u003cbr\\u003eProcessing Duration (Seconds)=%{y}\\u003cbr\\u003estage=%{customdata[0]}\\u003cbr\\u003estart_time=%{customdata[1]}\\u003cextra\\u003e\\u003c\\u002fextra\\u003e\",\"legendgroup\":\"silver.games\",\"marker\":{\"color\":\"#FF6692\",\"pattern\":{\"shape\":\"\"}},\"name\":\"silver.games\",\"offsetgroup\":\"silver.games\",\"orientation\":\"v\",\"showlegend\":true,\"textposition\":\"auto\",\"x\":[\"bronze.games\",\"bronze.games\",\"bronze.games\",\"bronze.games\",\"bronze.games\",\"bronze.games\"],\"xaxis\":\"x\",\"y\":[4.530808,4.780265,7.490729,4.275684,4.681526,4.579666],\"yaxis\":\"y\",\"type\":\"bar\"},{\"alignmentgroup\":\"True\",\"customdata\":[[\"transformation\",\"2025-03-19T12:24:38.937879\"],[\"transformation\",\"2025-03-19T12:37:18.451954\"],[\"transformation\",\"2025-03-19T12:53:54.729120\"],[\"transformation\",\"2025-03-20T12:54:03.641032\"],[\"transformation\",\"2025-03-21T12:53:39.083851\"],[\"transformation\",\"2025-03-22T11:12:42.576151\"]],\"hovertemplate\":\"target_table=silver.player_valuations\\u003cbr\\u003eSource Table=%{x}\\u003cbr\\u003eProcessing Duration (Seconds)=%{y}\\u003cbr\\u003estage=%{customdata[0]}\\u003cbr\\u003estart_time=%{customdata[1]}\\u003cextra\\u003e\\u003c\\u002fextra\\u003e\",\"legendgroup\":\"silver.player_valuations\",\"marker\":{\"color\":\"#B6E880\",\"pattern\":{\"shape\":\"\"}},\"name\":\"silver.player_valuations\",\"offsetgroup\":\"silver.player_valuations\",\"orientation\":\"v\",\"showlegend\":true,\"textposition\":\"auto\",\"x\":[\"bronze.player_valuations\",\"bronze.player_valuations\",\"bronze.player_valuations\",\"bronze.player_valuations\",\"bronze.player_valuations\",\"bronze.player_valuations\"],\"xaxis\":\"x\",\"y\":[3.872454,3.889982,4.662805,3.971865,3.908235,4.207696],\"yaxis\":\"y\",\"type\":\"bar\"},{\"alignmentgroup\":\"True\",\"customdata\":[[\"transformation\",\"2025-03-19T12:24:44.824217\"],[\"transformation\",\"2025-03-19T12:37:24.410018\"],[\"transformation\",\"2025-03-19T12:54:02.126518\"],[\"transformation\",\"2025-03-21T12:53:45.040018\"],[\"transformation\",\"2025-03-20T12:54:09.936457\"],[\"transformation\",\"2025-03-22T11:12:48.621695\"]],\"hovertemplate\":\"target_table=silver.players\\u003cbr\\u003eSource Table=%{x}\\u003cbr\\u003eProcessing Duration (Seconds)=%{y}\\u003cbr\\u003estage=%{customdata[0]}\\u003cbr\\u003estart_time=%{customdata[1]}\\u003cextra\\u003e\\u003c\\u002fextra\\u003e\",\"legendgroup\":\"silver.players\",\"marker\":{\"color\":\"#FF97FF\",\"pattern\":{\"shape\":\"\"}},\"name\":\"silver.players\",\"offsetgroup\":\"silver.players\",\"orientation\":\"v\",\"showlegend\":true,\"textposition\":\"auto\",\"x\":[\"bronze.players\",\"bronze.players\",\"bronze.players\",\"bronze.players\",\"bronze.players\",\"bronze.players\"],\"xaxis\":\"x\",\"y\":[4.07586,4.198769,4.122846,4.072207,4.543672,4.142476],\"yaxis\":\"y\",\"type\":\"bar\"},{\"alignmentgroup\":\"True\",\"customdata\":[[\"transformation\",\"2025-03-19T12:24:50.361020\"],[\"transformation\",\"2025-03-19T12:37:30.572621\"],[\"transformation\",\"2025-03-19T12:54:08.976244\"],[\"transformation\",\"2025-03-20T12:54:16.335784\"],[\"transformation\",\"2025-03-21T12:53:50.521876\"],[\"transformation\",\"2025-03-22T11:12:54.614903\"]],\"hovertemplate\":\"target_table=silver.transfers\\u003cbr\\u003eSource Table=%{x}\\u003cbr\\u003eProcessing Duration (Seconds)=%{y}\\u003cbr\\u003estage=%{customdata[0]}\\u003cbr\\u003estart_time=%{customdata[1]}\\u003cextra\\u003e\\u003c\\u002fextra\\u003e\",\"legendgroup\":\"silver.transfers\",\"marker\":{\"color\":\"#FECB52\",\"pattern\":{\"shape\":\"\"}},\"name\":\"silver.transfers\",\"offsetgroup\":\"silver.transfers\",\"orientation\":\"v\",\"showlegend\":true,\"textposition\":\"auto\",\"x\":[\"bronze.transfers\",\"bronze.transfers\",\"bronze.transfers\",\"bronze.transfers\",\"bronze.transfers\",\"bronze.transfers\"],\"xaxis\":\"x\",\"y\":[3.410281,3.976133,4.930136,3.583926,3.688935,3.538863],\"yaxis\":\"y\",\"type\":\"bar\"}],                        {\"template\":{\"data\":{\"histogram2dcontour\":[{\"type\":\"histogram2dcontour\",\"colorbar\":{\"outlinewidth\":0,\"ticks\":\"\"},\"colorscale\":[[0.0,\"#0d0887\"],[0.1111111111111111,\"#46039f\"],[0.2222222222222222,\"#7201a8\"],[0.3333333333333333,\"#9c179e\"],[0.4444444444444444,\"#bd3786\"],[0.5555555555555556,\"#d8576b\"],[0.6666666666666666,\"#ed7953\"],[0.7777777777777778,\"#fb9f3a\"],[0.8888888888888888,\"#fdca26\"],[1.0,\"#f0f921\"]]}],\"choropleth\":[{\"type\":\"choropleth\",\"colorbar\":{\"outlinewidth\":0,\"ticks\":\"\"}}],\"histogram2d\":[{\"type\":\"histogram2d\",\"colorbar\":{\"outlinewidth\":0,\"ticks\":\"\"},\"colorscale\":[[0.0,\"#0d0887\"],[0.1111111111111111,\"#46039f\"],[0.2222222222222222,\"#7201a8\"],[0.3333333333333333,\"#9c179e\"],[0.4444444444444444,\"#bd3786\"],[0.5555555555555556,\"#d8576b\"],[0.6666666666666666,\"#ed7953\"],[0.7777777777777778,\"#fb9f3a\"],[0.8888888888888888,\"#fdca26\"],[1.0,\"#f0f921\"]]}],\"heatmap\":[{\"type\":\"heatmap\",\"colorbar\":{\"outlinewidth\":0,\"ticks\":\"\"},\"colorscale\":[[0.0,\"#0d0887\"],[0.1111111111111111,\"#46039f\"],[0.2222222222222222,\"#7201a8\"],[0.3333333333333333,\"#9c179e\"],[0.4444444444444444,\"#bd3786\"],[0.5555555555555556,\"#d8576b\"],[0.6666666666666666,\"#ed7953\"],[0.7777777777777778,\"#fb9f3a\"],[0.8888888888888888,\"#fdca26\"],[1.0,\"#f0f921\"]]}],\"heatmapgl\":[{\"type\":\"heatmapgl\",\"colorbar\":{\"outlinewidth\":0,\"ticks\":\"\"},\"colorscale\":[[0.0,\"#0d0887\"],[0.1111111111111111,\"#46039f\"],[0.2222222222222222,\"#7201a8\"],[0.3333333333333333,\"#9c179e\"],[0.4444444444444444,\"#bd3786\"],[0.5555555555555556,\"#d8576b\"],[0.6666666666666666,\"#ed7953\"],[0.7777777777777778,\"#fb9f3a\"],[0.8888888888888888,\"#fdca26\"],[1.0,\"#f0f921\"]]}],\"contourcarpet\":[{\"type\":\"contourcarpet\",\"colorbar\":{\"outlinewidth\":0,\"ticks\":\"\"}}],\"contour\":[{\"type\":\"contour\",\"colorbar\":{\"outlinewidth\":0,\"ticks\":\"\"},\"colorscale\":[[0.0,\"#0d0887\"],[0.1111111111111111,\"#46039f\"],[0.2222222222222222,\"#7201a8\"],[0.3333333333333333,\"#9c179e\"],[0.4444444444444444,\"#bd3786\"],[0.5555555555555556,\"#d8576b\"],[0.6666666666666666,\"#ed7953\"],[0.7777777777777778,\"#fb9f3a\"],[0.8888888888888888,\"#fdca26\"],[1.0,\"#f0f921\"]]}],\"surface\":[{\"type\":\"surface\",\"colorbar\":{\"outlinewidth\":0,\"ticks\":\"\"},\"colorscale\":[[0.0,\"#0d0887\"],[0.1111111111111111,\"#46039f\"],[0.2222222222222222,\"#7201a8\"],[0.3333333333333333,\"#9c179e\"],[0.4444444444444444,\"#bd3786\"],[0.5555555555555556,\"#d8576b\"],[0.6666666666666666,\"#ed7953\"],[0.7777777777777778,\"#fb9f3a\"],[0.8888888888888888,\"#fdca26\"],[1.0,\"#f0f921\"]]}],\"mesh3d\":[{\"type\":\"mesh3d\",\"colorbar\":{\"outlinewidth\":0,\"ticks\":\"\"}}],\"scatter\":[{\"fillpattern\":{\"fillmode\":\"overlay\",\"size\":10,\"solidity\":0.2},\"type\":\"scatter\"}],\"parcoords\":[{\"type\":\"parcoords\",\"line\":{\"colorbar\":{\"outlinewidth\":0,\"ticks\":\"\"}}}],\"scatterpolargl\":[{\"type\":\"scatterpolargl\",\"marker\":{\"colorbar\":{\"outlinewidth\":0,\"ticks\":\"\"}}}],\"bar\":[{\"error_x\":{\"color\":\"#2a3f5f\"},\"error_y\":{\"color\":\"#2a3f5f\"},\"marker\":{\"line\":{\"color\":\"#E5ECF6\",\"width\":0.5},\"pattern\":{\"fillmode\":\"overlay\",\"size\":10,\"solidity\":0.2}},\"type\":\"bar\"}],\"scattergeo\":[{\"type\":\"scattergeo\",\"marker\":{\"colorbar\":{\"outlinewidth\":0,\"ticks\":\"\"}}}],\"scatterpolar\":[{\"type\":\"scatterpolar\",\"marker\":{\"colorbar\":{\"outlinewidth\":0,\"ticks\":\"\"}}}],\"histogram\":[{\"marker\":{\"pattern\":{\"fillmode\":\"overlay\",\"size\":10,\"solidity\":0.2}},\"type\":\"histogram\"}],\"scattergl\":[{\"type\":\"scattergl\",\"marker\":{\"colorbar\":{\"outlinewidth\":0,\"ticks\":\"\"}}}],\"scatter3d\":[{\"type\":\"scatter3d\",\"line\":{\"colorbar\":{\"outlinewidth\":0,\"ticks\":\"\"}},\"marker\":{\"colorbar\":{\"outlinewidth\":0,\"ticks\":\"\"}}}],\"scattermapbox\":[{\"type\":\"scattermapbox\",\"marker\":{\"colorbar\":{\"outlinewidth\":0,\"ticks\":\"\"}}}],\"scatterternary\":[{\"type\":\"scatterternary\",\"marker\":{\"colorbar\":{\"outlinewidth\":0,\"ticks\":\"\"}}}],\"scattercarpet\":[{\"type\":\"scattercarpet\",\"marker\":{\"colorbar\":{\"outlinewidth\":0,\"ticks\":\"\"}}}],\"carpet\":[{\"aaxis\":{\"endlinecolor\":\"#2a3f5f\",\"gridcolor\":\"white\",\"linecolor\":\"white\",\"minorgridcolor\":\"white\",\"startlinecolor\":\"#2a3f5f\"},\"baxis\":{\"endlinecolor\":\"#2a3f5f\",\"gridcolor\":\"white\",\"linecolor\":\"white\",\"minorgridcolor\":\"white\",\"startlinecolor\":\"#2a3f5f\"},\"type\":\"carpet\"}],\"table\":[{\"cells\":{\"fill\":{\"color\":\"#EBF0F8\"},\"line\":{\"color\":\"white\"}},\"header\":{\"fill\":{\"color\":\"#C8D4E3\"},\"line\":{\"color\":\"white\"}},\"type\":\"table\"}],\"barpolar\":[{\"marker\":{\"line\":{\"color\":\"#E5ECF6\",\"width\":0.5},\"pattern\":{\"fillmode\":\"overlay\",\"size\":10,\"solidity\":0.2}},\"type\":\"barpolar\"}],\"pie\":[{\"automargin\":true,\"type\":\"pie\"}]},\"layout\":{\"autotypenumbers\":\"strict\",\"colorway\":[\"#636efa\",\"#EF553B\",\"#00cc96\",\"#ab63fa\",\"#FFA15A\",\"#19d3f3\",\"#FF6692\",\"#B6E880\",\"#FF97FF\",\"#FECB52\"],\"font\":{\"color\":\"#2a3f5f\"},\"hovermode\":\"closest\",\"hoverlabel\":{\"align\":\"left\"},\"paper_bgcolor\":\"white\",\"plot_bgcolor\":\"#E5ECF6\",\"polar\":{\"bgcolor\":\"#E5ECF6\",\"angularaxis\":{\"gridcolor\":\"white\",\"linecolor\":\"white\",\"ticks\":\"\"},\"radialaxis\":{\"gridcolor\":\"white\",\"linecolor\":\"white\",\"ticks\":\"\"}},\"ternary\":{\"bgcolor\":\"#E5ECF6\",\"aaxis\":{\"gridcolor\":\"white\",\"linecolor\":\"white\",\"ticks\":\"\"},\"baxis\":{\"gridcolor\":\"white\",\"linecolor\":\"white\",\"ticks\":\"\"},\"caxis\":{\"gridcolor\":\"white\",\"linecolor\":\"white\",\"ticks\":\"\"}},\"coloraxis\":{\"colorbar\":{\"outlinewidth\":0,\"ticks\":\"\"}},\"colorscale\":{\"sequential\":[[0.0,\"#0d0887\"],[0.1111111111111111,\"#46039f\"],[0.2222222222222222,\"#7201a8\"],[0.3333333333333333,\"#9c179e\"],[0.4444444444444444,\"#bd3786\"],[0.5555555555555556,\"#d8576b\"],[0.6666666666666666,\"#ed7953\"],[0.7777777777777778,\"#fb9f3a\"],[0.8888888888888888,\"#fdca26\"],[1.0,\"#f0f921\"]],\"sequentialminus\":[[0.0,\"#0d0887\"],[0.1111111111111111,\"#46039f\"],[0.2222222222222222,\"#7201a8\"],[0.3333333333333333,\"#9c179e\"],[0.4444444444444444,\"#bd3786\"],[0.5555555555555556,\"#d8576b\"],[0.6666666666666666,\"#ed7953\"],[0.7777777777777778,\"#fb9f3a\"],[0.8888888888888888,\"#fdca26\"],[1.0,\"#f0f921\"]],\"diverging\":[[0,\"#8e0152\"],[0.1,\"#c51b7d\"],[0.2,\"#de77ae\"],[0.3,\"#f1b6da\"],[0.4,\"#fde0ef\"],[0.5,\"#f7f7f7\"],[0.6,\"#e6f5d0\"],[0.7,\"#b8e186\"],[0.8,\"#7fbc41\"],[0.9,\"#4d9221\"],[1,\"#276419\"]]},\"xaxis\":{\"gridcolor\":\"white\",\"linecolor\":\"white\",\"ticks\":\"\",\"title\":{\"standoff\":15},\"zerolinecolor\":\"white\",\"automargin\":true,\"zerolinewidth\":2},\"yaxis\":{\"gridcolor\":\"white\",\"linecolor\":\"white\",\"ticks\":\"\",\"title\":{\"standoff\":15},\"zerolinecolor\":\"white\",\"automargin\":true,\"zerolinewidth\":2},\"scene\":{\"xaxis\":{\"backgroundcolor\":\"#E5ECF6\",\"gridcolor\":\"white\",\"linecolor\":\"white\",\"showbackground\":true,\"ticks\":\"\",\"zerolinecolor\":\"white\",\"gridwidth\":2},\"yaxis\":{\"backgroundcolor\":\"#E5ECF6\",\"gridcolor\":\"white\",\"linecolor\":\"white\",\"showbackground\":true,\"ticks\":\"\",\"zerolinecolor\":\"white\",\"gridwidth\":2},\"zaxis\":{\"backgroundcolor\":\"#E5ECF6\",\"gridcolor\":\"white\",\"linecolor\":\"white\",\"showbackground\":true,\"ticks\":\"\",\"zerolinecolor\":\"white\",\"gridwidth\":2}},\"shapedefaults\":{\"line\":{\"color\":\"#2a3f5f\"}},\"annotationdefaults\":{\"arrowcolor\":\"#2a3f5f\",\"arrowhead\":0,\"arrowwidth\":1},\"geo\":{\"bgcolor\":\"white\",\"landcolor\":\"#E5ECF6\",\"subunitcolor\":\"white\",\"showland\":true,\"showlakes\":true,\"lakecolor\":\"white\"},\"title\":{\"x\":0.05},\"mapbox\":{\"style\":\"light\"}}},\"xaxis\":{\"anchor\":\"y\",\"domain\":[0.0,1.0],\"title\":{\"text\":\"Source Table\"}},\"yaxis\":{\"anchor\":\"x\",\"domain\":[0.0,1.0],\"title\":{\"text\":\"Processing Duration (Seconds)\"}},\"legend\":{\"title\":{\"text\":\"target_table\"},\"tracegroupgap\":0},\"title\":{\"text\":\"Processing Durations by Source Table\",\"x\":0.5},\"barmode\":\"relative\"},                        {\"responsive\": true}                    )                };                            </script>        </div>\n",
       "</body>\n",
       "</html>"
      ]
     },
     "metadata": {},
     "output_type": "display_data"
    }
   ],
   "source": [
    "# Processing Durations by Source Table\n",
    "fig1 = px.bar(\n",
    "    stats_df,\n",
    "    x=\"source_table\",\n",
    "    y=\"processing_duration_seconds\",\n",
    "    color=\"target_table\",\n",
    "    title=\"Processing Durations by Source Table\",\n",
    "    labels={\"processing_duration_seconds\": \"Processing Duration (Seconds)\", \"source_table\": \"Source Table\"},\n",
    "    hover_data=[\"stage\", \"start_time\"]\n",
    ")\n",
    "fig1.update_layout(title_x=0.5)  # Center the title\n",
    "fig1.show()\n"
   ]
  },
  {
   "cell_type": "markdown",
   "metadata": {
    "application/vnd.databricks.v1+cell": {
     "cellMetadata": {
      "byteLimit": 2048000,
      "rowLimit": 10000
     },
     "inputWidgets": {},
     "nuid": "b31ccb34-0a75-4a65-9d47-bef6da5614dc",
     "showTitle": false,
     "tableResultSettingsMap": {},
     "title": ""
    }
   },
   "source": [
    "**Number of Records Cleaned Over Time**"
   ]
  },
  {
   "cell_type": "code",
   "execution_count": 0,
   "metadata": {
    "application/vnd.databricks.v1+cell": {
     "cellMetadata": {
      "byteLimit": 2048000,
      "rowLimit": 10000
     },
     "inputWidgets": {},
     "nuid": "3a10c8e0-10db-463f-8782-d7702cc9df2a",
     "showTitle": false,
     "tableResultSettingsMap": {},
     "title": ""
    }
   },
   "outputs": [
    {
     "output_type": "display_data",
     "data": {
      "text/html": [
       "<html>\n",
       "<head><meta charset=\"utf-8\" /></head>\n",
       "<body>\n",
       "    <div>            <script src=\"https://cdnjs.cloudflare.com/ajax/libs/mathjax/2.7.5/MathJax.js?config=TeX-AMS-MML_SVG\"></script><script type=\"text/javascript\">if (window.MathJax && window.MathJax.Hub && window.MathJax.Hub.Config) {window.MathJax.Hub.Config({SVG: {font: \"STIX-Web\"}});}</script>                <script type=\"text/javascript\">window.PlotlyConfig = {MathJaxConfig: 'local'};</script>\n",
       "        <script charset=\"utf-8\" src=\"https://cdn.plot.ly/plotly-2.32.0.min.js\"></script>                <div id=\"0f3d644e-f8b5-430f-8bfc-dd13a7c2b4da\" class=\"plotly-graph-div\" style=\"height:100%; width:100%;\"></div>            <script type=\"text/javascript\">                                    window.PLOTLYENV=window.PLOTLYENV || {};                                    if (document.getElementById(\"0f3d644e-f8b5-430f-8bfc-dd13a7c2b4da\")) {                    Plotly.newPlot(                        \"0f3d644e-f8b5-430f-8bfc-dd13a7c2b4da\",                        [{\"hovertemplate\":\"source_table=bronze.appearance\\u003cbr\\u003eStart Time=%{x}\\u003cbr\\u003eNumber of Records Cleaned=%{y}\\u003cextra\\u003e\\u003c\\u002fextra\\u003e\",\"legendgroup\":\"bronze.appearance\",\"line\":{\"color\":\"#636efa\",\"dash\":\"solid\"},\"marker\":{\"symbol\":\"circle\"},\"mode\":\"lines\",\"name\":\"bronze.appearance\",\"orientation\":\"v\",\"showlegend\":true,\"x\":[\"2025-03-19T12:23:38.951522\",\"2025-03-19T12:36:12.915314\",\"2025-03-19T12:52:47.059980\",\"2025-03-20T12:53:00.372275\",\"2025-03-21T12:52:46.205491\",\"2025-03-22T11:11:48.770835\"],\"xaxis\":\"x\",\"y\":[715463,715463,715463,715463,715463,715463],\"yaxis\":\"y\",\"type\":\"scatter\"},{\"hovertemplate\":\"source_table=bronze.club_games\\u003cbr\\u003eStart Time=%{x}\\u003cbr\\u003eNumber of Records Cleaned=%{y}\\u003cextra\\u003e\\u003c\\u002fextra\\u003e\",\"legendgroup\":\"bronze.club_games\",\"line\":{\"color\":\"#EF553B\",\"dash\":\"solid\"},\"marker\":{\"symbol\":\"circle\"},\"mode\":\"lines\",\"name\":\"bronze.club_games\",\"orientation\":\"v\",\"showlegend\":true,\"x\":[\"2025-03-19T12:23:54.511866\",\"2025-03-19T12:36:27.988689\",\"2025-03-19T12:53:01.389769\",\"2025-03-20T12:53:15.415293\",\"2025-03-21T12:52:58.061900\",\"2025-03-22T11:12:02.224184\"],\"xaxis\":\"x\",\"y\":[147390,147390,147390,147390,147390,147390],\"yaxis\":\"y\",\"type\":\"scatter\"},{\"hovertemplate\":\"source_table=bronze.clubs\\u003cbr\\u003eStart Time=%{x}\\u003cbr\\u003eNumber of Records Cleaned=%{y}\\u003cextra\\u003e\\u003c\\u002fextra\\u003e\",\"legendgroup\":\"bronze.clubs\",\"line\":{\"color\":\"#00cc96\",\"dash\":\"solid\"},\"marker\":{\"symbol\":\"circle\"},\"mode\":\"lines\",\"name\":\"bronze.clubs\",\"orientation\":\"v\",\"showlegend\":true,\"x\":[\"2025-03-19T12:24:02.135398\",\"2025-03-19T12:36:36.840588\",\"2025-03-19T12:53:09.393433\",\"2025-03-20T12:53:22.488398\",\"2025-03-21T12:53:04.845001\",\"2025-03-22T11:12:08.564768\"],\"xaxis\":\"x\",\"y\":[439,439,439,439,439,439],\"yaxis\":\"y\",\"type\":\"scatter\"},{\"hovertemplate\":\"source_table=bronze.competitions\\u003cbr\\u003eStart Time=%{x}\\u003cbr\\u003eNumber of Records Cleaned=%{y}\\u003cextra\\u003e\\u003c\\u002fextra\\u003e\",\"legendgroup\":\"bronze.competitions\",\"line\":{\"color\":\"#ab63fa\",\"dash\":\"solid\"},\"marker\":{\"symbol\":\"circle\"},\"mode\":\"lines\",\"name\":\"bronze.competitions\",\"orientation\":\"v\",\"showlegend\":true,\"x\":[\"2025-03-19T12:24:06.897344\",\"2025-03-19T12:36:41.606862\",\"2025-03-19T12:53:13.960358\",\"2025-03-20T12:53:28.007842\",\"2025-03-21T12:53:09.763203\",\"2025-03-22T11:12:13.224110\"],\"xaxis\":\"x\",\"y\":[44,44,44,44,44,44],\"yaxis\":\"y\",\"type\":\"scatter\"},{\"hovertemplate\":\"source_table=bronze.game_events\\u003cbr\\u003eStart Time=%{x}\\u003cbr\\u003eNumber of Records Cleaned=%{y}\\u003cextra\\u003e\\u003c\\u002fextra\\u003e\",\"legendgroup\":\"bronze.game_events\",\"line\":{\"color\":\"#FFA15A\",\"dash\":\"solid\"},\"marker\":{\"symbol\":\"circle\"},\"mode\":\"lines\",\"name\":\"bronze.game_events\",\"orientation\":\"v\",\"showlegend\":true,\"x\":[\"2025-03-19T12:24:10.798925\",\"2025-03-19T12:36:45.850841\",\"2025-03-19T12:53:18.444211\",\"2025-03-20T12:53:32.385264\",\"2025-03-21T12:53:14.133282\",\"2025-03-22T11:12:17.198768\"],\"xaxis\":\"x\",\"y\":[471993,471993,471993,471993,471993,471993],\"yaxis\":\"y\",\"type\":\"scatter\"},{\"hovertemplate\":\"source_table=bronze.game_lineups\\u003cbr\\u003eStart Time=%{x}\\u003cbr\\u003eNumber of Records Cleaned=%{y}\\u003cextra\\u003e\\u003c\\u002fextra\\u003e\",\"legendgroup\":\"bronze.game_lineups\",\"line\":{\"color\":\"#19d3f3\",\"dash\":\"solid\"},\"marker\":{\"symbol\":\"circle\"},\"mode\":\"lines\",\"name\":\"bronze.game_lineups\",\"orientation\":\"v\",\"showlegend\":true,\"x\":[\"2025-03-19T12:24:20.354392\",\"2025-03-19T12:36:56.995512\",\"2025-03-19T12:53:28.180533\",\"2025-03-20T12:53:43.482132\",\"2025-03-21T12:53:22.159432\",\"2025-03-22T11:12:25.497059\"],\"xaxis\":\"x\",\"y\":[811397,811397,811397,811397,811397,811397],\"yaxis\":\"y\",\"type\":\"scatter\"},{\"hovertemplate\":\"source_table=bronze.games\\u003cbr\\u003eStart Time=%{x}\\u003cbr\\u003eNumber of Records Cleaned=%{y}\\u003cextra\\u003e\\u003c\\u002fextra\\u003e\",\"legendgroup\":\"bronze.games\",\"line\":{\"color\":\"#FF6692\",\"dash\":\"solid\"},\"marker\":{\"symbol\":\"circle\"},\"mode\":\"lines\",\"name\":\"bronze.games\",\"orientation\":\"v\",\"showlegend\":true,\"x\":[\"2025-03-19T12:24:32.862289\",\"2025-03-19T12:37:11.995101\",\"2025-03-19T12:53:43.854105\",\"2025-03-21T12:53:32.911258\",\"2025-03-20T12:53:56.934354\",\"2025-03-22T11:12:36.535905\"],\"xaxis\":\"x\",\"y\":[15831,15831,15831,15831,15831,15831],\"yaxis\":\"y\",\"type\":\"scatter\"},{\"hovertemplate\":\"source_table=bronze.player_valuations\\u003cbr\\u003eStart Time=%{x}\\u003cbr\\u003eNumber of Records Cleaned=%{y}\\u003cextra\\u003e\\u003c\\u002fextra\\u003e\",\"legendgroup\":\"bronze.player_valuations\",\"line\":{\"color\":\"#B6E880\",\"dash\":\"solid\"},\"marker\":{\"symbol\":\"circle\"},\"mode\":\"lines\",\"name\":\"bronze.player_valuations\",\"orientation\":\"v\",\"showlegend\":true,\"x\":[\"2025-03-19T12:24:38.937879\",\"2025-03-19T12:37:18.451954\",\"2025-03-19T12:53:54.729120\",\"2025-03-20T12:54:03.641032\",\"2025-03-21T12:53:39.083851\",\"2025-03-22T11:12:42.576151\"],\"xaxis\":\"x\",\"y\":[195750,195750,195750,195750,195750,195750],\"yaxis\":\"y\",\"type\":\"scatter\"},{\"hovertemplate\":\"source_table=bronze.players\\u003cbr\\u003eStart Time=%{x}\\u003cbr\\u003eNumber of Records Cleaned=%{y}\\u003cextra\\u003e\\u003c\\u002fextra\\u003e\",\"legendgroup\":\"bronze.players\",\"line\":{\"color\":\"#FF97FF\",\"dash\":\"solid\"},\"marker\":{\"symbol\":\"circle\"},\"mode\":\"lines\",\"name\":\"bronze.players\",\"orientation\":\"v\",\"showlegend\":true,\"x\":[\"2025-03-19T12:24:44.824217\",\"2025-03-19T12:37:24.410018\",\"2025-03-19T12:54:02.126518\",\"2025-03-21T12:53:45.040018\",\"2025-03-20T12:54:09.936457\",\"2025-03-22T11:12:48.621695\"],\"xaxis\":\"x\",\"y\":[12622,12622,12622,12622,12622,12622],\"yaxis\":\"y\",\"type\":\"scatter\"},{\"hovertemplate\":\"source_table=bronze.transfers\\u003cbr\\u003eStart Time=%{x}\\u003cbr\\u003eNumber of Records Cleaned=%{y}\\u003cextra\\u003e\\u003c\\u002fextra\\u003e\",\"legendgroup\":\"bronze.transfers\",\"line\":{\"color\":\"#FECB52\",\"dash\":\"solid\"},\"marker\":{\"symbol\":\"circle\"},\"mode\":\"lines\",\"name\":\"bronze.transfers\",\"orientation\":\"v\",\"showlegend\":true,\"x\":[\"2025-03-19T12:24:50.361020\",\"2025-03-19T12:37:30.572621\",\"2025-03-19T12:54:08.976244\",\"2025-03-20T12:54:16.335784\",\"2025-03-21T12:53:50.521876\",\"2025-03-22T11:12:54.614903\"],\"xaxis\":\"x\",\"y\":[39251,39251,39251,39251,39251,39251],\"yaxis\":\"y\",\"type\":\"scatter\"}],                        {\"template\":{\"data\":{\"histogram2dcontour\":[{\"type\":\"histogram2dcontour\",\"colorbar\":{\"outlinewidth\":0,\"ticks\":\"\"},\"colorscale\":[[0.0,\"#0d0887\"],[0.1111111111111111,\"#46039f\"],[0.2222222222222222,\"#7201a8\"],[0.3333333333333333,\"#9c179e\"],[0.4444444444444444,\"#bd3786\"],[0.5555555555555556,\"#d8576b\"],[0.6666666666666666,\"#ed7953\"],[0.7777777777777778,\"#fb9f3a\"],[0.8888888888888888,\"#fdca26\"],[1.0,\"#f0f921\"]]}],\"choropleth\":[{\"type\":\"choropleth\",\"colorbar\":{\"outlinewidth\":0,\"ticks\":\"\"}}],\"histogram2d\":[{\"type\":\"histogram2d\",\"colorbar\":{\"outlinewidth\":0,\"ticks\":\"\"},\"colorscale\":[[0.0,\"#0d0887\"],[0.1111111111111111,\"#46039f\"],[0.2222222222222222,\"#7201a8\"],[0.3333333333333333,\"#9c179e\"],[0.4444444444444444,\"#bd3786\"],[0.5555555555555556,\"#d8576b\"],[0.6666666666666666,\"#ed7953\"],[0.7777777777777778,\"#fb9f3a\"],[0.8888888888888888,\"#fdca26\"],[1.0,\"#f0f921\"]]}],\"heatmap\":[{\"type\":\"heatmap\",\"colorbar\":{\"outlinewidth\":0,\"ticks\":\"\"},\"colorscale\":[[0.0,\"#0d0887\"],[0.1111111111111111,\"#46039f\"],[0.2222222222222222,\"#7201a8\"],[0.3333333333333333,\"#9c179e\"],[0.4444444444444444,\"#bd3786\"],[0.5555555555555556,\"#d8576b\"],[0.6666666666666666,\"#ed7953\"],[0.7777777777777778,\"#fb9f3a\"],[0.8888888888888888,\"#fdca26\"],[1.0,\"#f0f921\"]]}],\"heatmapgl\":[{\"type\":\"heatmapgl\",\"colorbar\":{\"outlinewidth\":0,\"ticks\":\"\"},\"colorscale\":[[0.0,\"#0d0887\"],[0.1111111111111111,\"#46039f\"],[0.2222222222222222,\"#7201a8\"],[0.3333333333333333,\"#9c179e\"],[0.4444444444444444,\"#bd3786\"],[0.5555555555555556,\"#d8576b\"],[0.6666666666666666,\"#ed7953\"],[0.7777777777777778,\"#fb9f3a\"],[0.8888888888888888,\"#fdca26\"],[1.0,\"#f0f921\"]]}],\"contourcarpet\":[{\"type\":\"contourcarpet\",\"colorbar\":{\"outlinewidth\":0,\"ticks\":\"\"}}],\"contour\":[{\"type\":\"contour\",\"colorbar\":{\"outlinewidth\":0,\"ticks\":\"\"},\"colorscale\":[[0.0,\"#0d0887\"],[0.1111111111111111,\"#46039f\"],[0.2222222222222222,\"#7201a8\"],[0.3333333333333333,\"#9c179e\"],[0.4444444444444444,\"#bd3786\"],[0.5555555555555556,\"#d8576b\"],[0.6666666666666666,\"#ed7953\"],[0.7777777777777778,\"#fb9f3a\"],[0.8888888888888888,\"#fdca26\"],[1.0,\"#f0f921\"]]}],\"surface\":[{\"type\":\"surface\",\"colorbar\":{\"outlinewidth\":0,\"ticks\":\"\"},\"colorscale\":[[0.0,\"#0d0887\"],[0.1111111111111111,\"#46039f\"],[0.2222222222222222,\"#7201a8\"],[0.3333333333333333,\"#9c179e\"],[0.4444444444444444,\"#bd3786\"],[0.5555555555555556,\"#d8576b\"],[0.6666666666666666,\"#ed7953\"],[0.7777777777777778,\"#fb9f3a\"],[0.8888888888888888,\"#fdca26\"],[1.0,\"#f0f921\"]]}],\"mesh3d\":[{\"type\":\"mesh3d\",\"colorbar\":{\"outlinewidth\":0,\"ticks\":\"\"}}],\"scatter\":[{\"fillpattern\":{\"fillmode\":\"overlay\",\"size\":10,\"solidity\":0.2},\"type\":\"scatter\"}],\"parcoords\":[{\"type\":\"parcoords\",\"line\":{\"colorbar\":{\"outlinewidth\":0,\"ticks\":\"\"}}}],\"scatterpolargl\":[{\"type\":\"scatterpolargl\",\"marker\":{\"colorbar\":{\"outlinewidth\":0,\"ticks\":\"\"}}}],\"bar\":[{\"error_x\":{\"color\":\"#2a3f5f\"},\"error_y\":{\"color\":\"#2a3f5f\"},\"marker\":{\"line\":{\"color\":\"#E5ECF6\",\"width\":0.5},\"pattern\":{\"fillmode\":\"overlay\",\"size\":10,\"solidity\":0.2}},\"type\":\"bar\"}],\"scattergeo\":[{\"type\":\"scattergeo\",\"marker\":{\"colorbar\":{\"outlinewidth\":0,\"ticks\":\"\"}}}],\"scatterpolar\":[{\"type\":\"scatterpolar\",\"marker\":{\"colorbar\":{\"outlinewidth\":0,\"ticks\":\"\"}}}],\"histogram\":[{\"marker\":{\"pattern\":{\"fillmode\":\"overlay\",\"size\":10,\"solidity\":0.2}},\"type\":\"histogram\"}],\"scattergl\":[{\"type\":\"scattergl\",\"marker\":{\"colorbar\":{\"outlinewidth\":0,\"ticks\":\"\"}}}],\"scatter3d\":[{\"type\":\"scatter3d\",\"line\":{\"colorbar\":{\"outlinewidth\":0,\"ticks\":\"\"}},\"marker\":{\"colorbar\":{\"outlinewidth\":0,\"ticks\":\"\"}}}],\"scattermapbox\":[{\"type\":\"scattermapbox\",\"marker\":{\"colorbar\":{\"outlinewidth\":0,\"ticks\":\"\"}}}],\"scatterternary\":[{\"type\":\"scatterternary\",\"marker\":{\"colorbar\":{\"outlinewidth\":0,\"ticks\":\"\"}}}],\"scattercarpet\":[{\"type\":\"scattercarpet\",\"marker\":{\"colorbar\":{\"outlinewidth\":0,\"ticks\":\"\"}}}],\"carpet\":[{\"aaxis\":{\"endlinecolor\":\"#2a3f5f\",\"gridcolor\":\"white\",\"linecolor\":\"white\",\"minorgridcolor\":\"white\",\"startlinecolor\":\"#2a3f5f\"},\"baxis\":{\"endlinecolor\":\"#2a3f5f\",\"gridcolor\":\"white\",\"linecolor\":\"white\",\"minorgridcolor\":\"white\",\"startlinecolor\":\"#2a3f5f\"},\"type\":\"carpet\"}],\"table\":[{\"cells\":{\"fill\":{\"color\":\"#EBF0F8\"},\"line\":{\"color\":\"white\"}},\"header\":{\"fill\":{\"color\":\"#C8D4E3\"},\"line\":{\"color\":\"white\"}},\"type\":\"table\"}],\"barpolar\":[{\"marker\":{\"line\":{\"color\":\"#E5ECF6\",\"width\":0.5},\"pattern\":{\"fillmode\":\"overlay\",\"size\":10,\"solidity\":0.2}},\"type\":\"barpolar\"}],\"pie\":[{\"automargin\":true,\"type\":\"pie\"}]},\"layout\":{\"autotypenumbers\":\"strict\",\"colorway\":[\"#636efa\",\"#EF553B\",\"#00cc96\",\"#ab63fa\",\"#FFA15A\",\"#19d3f3\",\"#FF6692\",\"#B6E880\",\"#FF97FF\",\"#FECB52\"],\"font\":{\"color\":\"#2a3f5f\"},\"hovermode\":\"closest\",\"hoverlabel\":{\"align\":\"left\"},\"paper_bgcolor\":\"white\",\"plot_bgcolor\":\"#E5ECF6\",\"polar\":{\"bgcolor\":\"#E5ECF6\",\"angularaxis\":{\"gridcolor\":\"white\",\"linecolor\":\"white\",\"ticks\":\"\"},\"radialaxis\":{\"gridcolor\":\"white\",\"linecolor\":\"white\",\"ticks\":\"\"}},\"ternary\":{\"bgcolor\":\"#E5ECF6\",\"aaxis\":{\"gridcolor\":\"white\",\"linecolor\":\"white\",\"ticks\":\"\"},\"baxis\":{\"gridcolor\":\"white\",\"linecolor\":\"white\",\"ticks\":\"\"},\"caxis\":{\"gridcolor\":\"white\",\"linecolor\":\"white\",\"ticks\":\"\"}},\"coloraxis\":{\"colorbar\":{\"outlinewidth\":0,\"ticks\":\"\"}},\"colorscale\":{\"sequential\":[[0.0,\"#0d0887\"],[0.1111111111111111,\"#46039f\"],[0.2222222222222222,\"#7201a8\"],[0.3333333333333333,\"#9c179e\"],[0.4444444444444444,\"#bd3786\"],[0.5555555555555556,\"#d8576b\"],[0.6666666666666666,\"#ed7953\"],[0.7777777777777778,\"#fb9f3a\"],[0.8888888888888888,\"#fdca26\"],[1.0,\"#f0f921\"]],\"sequentialminus\":[[0.0,\"#0d0887\"],[0.1111111111111111,\"#46039f\"],[0.2222222222222222,\"#7201a8\"],[0.3333333333333333,\"#9c179e\"],[0.4444444444444444,\"#bd3786\"],[0.5555555555555556,\"#d8576b\"],[0.6666666666666666,\"#ed7953\"],[0.7777777777777778,\"#fb9f3a\"],[0.8888888888888888,\"#fdca26\"],[1.0,\"#f0f921\"]],\"diverging\":[[0,\"#8e0152\"],[0.1,\"#c51b7d\"],[0.2,\"#de77ae\"],[0.3,\"#f1b6da\"],[0.4,\"#fde0ef\"],[0.5,\"#f7f7f7\"],[0.6,\"#e6f5d0\"],[0.7,\"#b8e186\"],[0.8,\"#7fbc41\"],[0.9,\"#4d9221\"],[1,\"#276419\"]]},\"xaxis\":{\"gridcolor\":\"white\",\"linecolor\":\"white\",\"ticks\":\"\",\"title\":{\"standoff\":15},\"zerolinecolor\":\"white\",\"automargin\":true,\"zerolinewidth\":2},\"yaxis\":{\"gridcolor\":\"white\",\"linecolor\":\"white\",\"ticks\":\"\",\"title\":{\"standoff\":15},\"zerolinecolor\":\"white\",\"automargin\":true,\"zerolinewidth\":2},\"scene\":{\"xaxis\":{\"backgroundcolor\":\"#E5ECF6\",\"gridcolor\":\"white\",\"linecolor\":\"white\",\"showbackground\":true,\"ticks\":\"\",\"zerolinecolor\":\"white\",\"gridwidth\":2},\"yaxis\":{\"backgroundcolor\":\"#E5ECF6\",\"gridcolor\":\"white\",\"linecolor\":\"white\",\"showbackground\":true,\"ticks\":\"\",\"zerolinecolor\":\"white\",\"gridwidth\":2},\"zaxis\":{\"backgroundcolor\":\"#E5ECF6\",\"gridcolor\":\"white\",\"linecolor\":\"white\",\"showbackground\":true,\"ticks\":\"\",\"zerolinecolor\":\"white\",\"gridwidth\":2}},\"shapedefaults\":{\"line\":{\"color\":\"#2a3f5f\"}},\"annotationdefaults\":{\"arrowcolor\":\"#2a3f5f\",\"arrowhead\":0,\"arrowwidth\":1},\"geo\":{\"bgcolor\":\"white\",\"landcolor\":\"#E5ECF6\",\"subunitcolor\":\"white\",\"showland\":true,\"showlakes\":true,\"lakecolor\":\"white\"},\"title\":{\"x\":0.05},\"mapbox\":{\"style\":\"light\"}}},\"xaxis\":{\"anchor\":\"y\",\"domain\":[0.0,1.0],\"title\":{\"text\":\"Start Time\"}},\"yaxis\":{\"anchor\":\"x\",\"domain\":[0.0,1.0],\"title\":{\"text\":\"Number of Records Cleaned\"}},\"legend\":{\"title\":{\"text\":\"source_table\"},\"tracegroupgap\":0},\"title\":{\"text\":\"Number of Records Cleaned Over Time\",\"x\":0.5}},                        {\"responsive\": true}                    )                };                            </script>        </div>\n",
       "</body>\n",
       "</html>"
      ]
     },
     "metadata": {},
     "output_type": "display_data"
    }
   ],
   "source": [
    "# Number of Records Cleaned Over Time\n",
    "fig2 = px.line(\n",
    "    stats_df,\n",
    "    x=\"start_time\",\n",
    "    y=\"num_records_cleaned\",\n",
    "    color=\"source_table\",\n",
    "    title=\"Number of Records Cleaned Over Time\",\n",
    "    labels={\"start_time\": \"Start Time\", \"num_records_cleaned\": \"Number of Records Cleaned\"}\n",
    ")\n",
    "fig2.update_layout(title_x=0.5)  # Center the title\n",
    "fig2.show()"
   ]
  },
  {
   "cell_type": "markdown",
   "metadata": {
    "application/vnd.databricks.v1+cell": {
     "cellMetadata": {
      "byteLimit": 2048000,
      "rowLimit": 10000
     },
     "inputWidgets": {},
     "nuid": "e1c09107-7118-4ecb-962f-2715afc6b082",
     "showTitle": false,
     "tableResultSettingsMap": {},
     "title": ""
    }
   },
   "source": [
    "**Comparison of Processing Durations vs. Records Cleaned**"
   ]
  },
  {
   "cell_type": "code",
   "execution_count": 0,
   "metadata": {
    "application/vnd.databricks.v1+cell": {
     "cellMetadata": {
      "byteLimit": 2048000,
      "rowLimit": 10000
     },
     "inputWidgets": {},
     "nuid": "344f186c-0c99-4857-865d-f0c9ba64b582",
     "showTitle": false,
     "tableResultSettingsMap": {},
     "title": ""
    }
   },
   "outputs": [
    {
     "output_type": "display_data",
     "data": {
      "text/html": [
       "<html>\n",
       "<head><meta charset=\"utf-8\" /></head>\n",
       "<body>\n",
       "    <div>            <script src=\"https://cdnjs.cloudflare.com/ajax/libs/mathjax/2.7.5/MathJax.js?config=TeX-AMS-MML_SVG\"></script><script type=\"text/javascript\">if (window.MathJax && window.MathJax.Hub && window.MathJax.Hub.Config) {window.MathJax.Hub.Config({SVG: {font: \"STIX-Web\"}});}</script>                <script type=\"text/javascript\">window.PlotlyConfig = {MathJaxConfig: 'local'};</script>\n",
       "        <script charset=\"utf-8\" src=\"https://cdn.plot.ly/plotly-2.32.0.min.js\"></script>                <div id=\"a6ec02e0-560a-424c-aff3-e435bf9310c5\" class=\"plotly-graph-div\" style=\"height:100%; width:100%;\"></div>            <script type=\"text/javascript\">                                    window.PLOTLYENV=window.PLOTLYENV || {};                                    if (document.getElementById(\"a6ec02e0-560a-424c-aff3-e435bf9310c5\")) {                    Plotly.newPlot(                        \"a6ec02e0-560a-424c-aff3-e435bf9310c5\",                        [{\"customdata\":[[\"transformation\",\"2025-03-19T12:23:38.951522\"],[\"transformation\",\"2025-03-19T12:36:12.915314\"],[\"transformation\",\"2025-03-19T12:52:47.059980\"],[\"transformation\",\"2025-03-20T12:53:00.372275\"],[\"transformation\",\"2025-03-21T12:52:46.205491\"],[\"transformation\",\"2025-03-22T11:11:48.770835\"]],\"hovertemplate\":\"source_table=bronze.appearance\\u003cbr\\u003eProcessing Duration (Seconds)=%{x}\\u003cbr\\u003eNumber of Records Cleaned=%{y}\\u003cbr\\u003estage=%{customdata[0]}\\u003cbr\\u003estart_time=%{customdata[1]}\\u003cextra\\u003e\\u003c\\u002fextra\\u003e\",\"legendgroup\":\"bronze.appearance\",\"marker\":{\"color\":\"#636efa\",\"symbol\":\"circle\"},\"mode\":\"markers\",\"name\":\"bronze.appearance\",\"orientation\":\"v\",\"showlegend\":true,\"x\":[10.243992,9.926162,9.517055,8.644796,7.28897,7.239383],\"xaxis\":\"x\",\"y\":[715463,715463,715463,715463,715463,715463],\"yaxis\":\"y\",\"type\":\"scatter\"},{\"customdata\":[[\"transformation\",\"2025-03-19T12:23:54.511866\"],[\"transformation\",\"2025-03-19T12:36:27.988689\"],[\"transformation\",\"2025-03-19T12:53:01.389769\"],[\"transformation\",\"2025-03-20T12:53:15.415293\"],[\"transformation\",\"2025-03-21T12:52:58.061900\"],[\"transformation\",\"2025-03-22T11:12:02.224184\"]],\"hovertemplate\":\"source_table=bronze.club_games\\u003cbr\\u003eProcessing Duration (Seconds)=%{x}\\u003cbr\\u003eNumber of Records Cleaned=%{y}\\u003cbr\\u003estage=%{customdata[0]}\\u003cbr\\u003estart_time=%{customdata[1]}\\u003cextra\\u003e\\u003c\\u002fextra\\u003e\",\"legendgroup\":\"bronze.club_games\",\"marker\":{\"color\":\"#EF553B\",\"symbol\":\"circle\"},\"mode\":\"markers\",\"name\":\"bronze.club_games\",\"orientation\":\"v\",\"showlegend\":true,\"x\":[5.239563,5.938996,5.665145,4.894755,4.707793,4.365419],\"xaxis\":\"x\",\"y\":[147390,147390,147390,147390,147390,147390],\"yaxis\":\"y\",\"type\":\"scatter\"},{\"customdata\":[[\"transformation\",\"2025-03-19T12:24:02.135398\"],[\"transformation\",\"2025-03-19T12:36:36.840588\"],[\"transformation\",\"2025-03-19T12:53:09.393433\"],[\"transformation\",\"2025-03-20T12:53:22.488398\"],[\"transformation\",\"2025-03-21T12:53:04.845001\"],[\"transformation\",\"2025-03-22T11:12:08.564768\"]],\"hovertemplate\":\"source_table=bronze.clubs\\u003cbr\\u003eProcessing Duration (Seconds)=%{x}\\u003cbr\\u003eNumber of Records Cleaned=%{y}\\u003cbr\\u003estage=%{customdata[0]}\\u003cbr\\u003estart_time=%{customdata[1]}\\u003cextra\\u003e\\u003c\\u002fextra\\u003e\",\"legendgroup\":\"bronze.clubs\",\"marker\":{\"color\":\"#00cc96\",\"symbol\":\"circle\"},\"mode\":\"markers\",\"name\":\"bronze.clubs\",\"orientation\":\"v\",\"showlegend\":true,\"x\":[3.140471,3.100519,3.171453,3.861757,3.75833,2.976618],\"xaxis\":\"x\",\"y\":[439,439,439,439,439,439],\"yaxis\":\"y\",\"type\":\"scatter\"},{\"customdata\":[[\"transformation\",\"2025-03-19T12:24:06.897344\"],[\"transformation\",\"2025-03-19T12:36:41.606862\"],[\"transformation\",\"2025-03-19T12:53:13.960358\"],[\"transformation\",\"2025-03-20T12:53:28.007842\"],[\"transformation\",\"2025-03-21T12:53:09.763203\"],[\"transformation\",\"2025-03-22T11:12:13.224110\"]],\"hovertemplate\":\"source_table=bronze.competitions\\u003cbr\\u003eProcessing Duration (Seconds)=%{x}\\u003cbr\\u003eNumber of Records Cleaned=%{y}\\u003cbr\\u003estage=%{customdata[0]}\\u003cbr\\u003estart_time=%{customdata[1]}\\u003cextra\\u003e\\u003c\\u002fextra\\u003e\",\"legendgroup\":\"bronze.competitions\",\"marker\":{\"color\":\"#ab63fa\",\"symbol\":\"circle\"},\"mode\":\"markers\",\"name\":\"bronze.competitions\",\"orientation\":\"v\",\"showlegend\":true,\"x\":[2.59098,2.811397,2.931012,3.210552,3.008892,2.704281],\"xaxis\":\"x\",\"y\":[44,44,44,44,44,44],\"yaxis\":\"y\",\"type\":\"scatter\"},{\"customdata\":[[\"transformation\",\"2025-03-19T12:24:10.798925\"],[\"transformation\",\"2025-03-19T12:36:45.850841\"],[\"transformation\",\"2025-03-19T12:53:18.444211\"],[\"transformation\",\"2025-03-20T12:53:32.385264\"],[\"transformation\",\"2025-03-21T12:53:14.133282\"],[\"transformation\",\"2025-03-22T11:12:17.198768\"]],\"hovertemplate\":\"source_table=bronze.game_events\\u003cbr\\u003eProcessing Duration (Seconds)=%{x}\\u003cbr\\u003eNumber of Records Cleaned=%{y}\\u003cbr\\u003estage=%{customdata[0]}\\u003cbr\\u003estart_time=%{customdata[1]}\\u003cextra\\u003e\\u003c\\u002fextra\\u003e\",\"legendgroup\":\"bronze.game_events\",\"marker\":{\"color\":\"#FFA15A\",\"symbol\":\"circle\"},\"mode\":\"markers\",\"name\":\"bronze.game_events\",\"orientation\":\"v\",\"showlegend\":true,\"x\":[6.768061,7.541576,6.813669,5.504227,5.271798,5.500216],\"xaxis\":\"x\",\"y\":[471993,471993,471993,471993,471993,471993],\"yaxis\":\"y\",\"type\":\"scatter\"},{\"customdata\":[[\"transformation\",\"2025-03-19T12:24:20.354392\"],[\"transformation\",\"2025-03-19T12:36:56.995512\"],[\"transformation\",\"2025-03-19T12:53:28.180533\"],[\"transformation\",\"2025-03-20T12:53:43.482132\"],[\"transformation\",\"2025-03-21T12:53:22.159432\"],[\"transformation\",\"2025-03-22T11:12:25.497059\"]],\"hovertemplate\":\"source_table=bronze.game_lineups\\u003cbr\\u003eProcessing Duration (Seconds)=%{x}\\u003cbr\\u003eNumber of Records Cleaned=%{y}\\u003cbr\\u003estage=%{customdata[0]}\\u003cbr\\u003estart_time=%{customdata[1]}\\u003cextra\\u003e\\u003c\\u002fextra\\u003e\",\"legendgroup\":\"bronze.game_lineups\",\"marker\":{\"color\":\"#19d3f3\",\"symbol\":\"circle\"},\"mode\":\"markers\",\"name\":\"bronze.game_lineups\",\"orientation\":\"v\",\"showlegend\":true,\"x\":[7.551231,9.681903,11.10484,9.087363,7.06362,7.103928],\"xaxis\":\"x\",\"y\":[811397,811397,811397,811397,811397,811397],\"yaxis\":\"y\",\"type\":\"scatter\"},{\"customdata\":[[\"transformation\",\"2025-03-19T12:24:32.862289\"],[\"transformation\",\"2025-03-19T12:37:11.995101\"],[\"transformation\",\"2025-03-19T12:53:43.854105\"],[\"transformation\",\"2025-03-21T12:53:32.911258\"],[\"transformation\",\"2025-03-20T12:53:56.934354\"],[\"transformation\",\"2025-03-22T11:12:36.535905\"]],\"hovertemplate\":\"source_table=bronze.games\\u003cbr\\u003eProcessing Duration (Seconds)=%{x}\\u003cbr\\u003eNumber of Records Cleaned=%{y}\\u003cbr\\u003estage=%{customdata[0]}\\u003cbr\\u003estart_time=%{customdata[1]}\\u003cextra\\u003e\\u003c\\u002fextra\\u003e\",\"legendgroup\":\"bronze.games\",\"marker\":{\"color\":\"#FF6692\",\"symbol\":\"circle\"},\"mode\":\"markers\",\"name\":\"bronze.games\",\"orientation\":\"v\",\"showlegend\":true,\"x\":[4.530808,4.780265,7.490729,4.275684,4.681526,4.579666],\"xaxis\":\"x\",\"y\":[15831,15831,15831,15831,15831,15831],\"yaxis\":\"y\",\"type\":\"scatter\"},{\"customdata\":[[\"transformation\",\"2025-03-19T12:24:38.937879\"],[\"transformation\",\"2025-03-19T12:37:18.451954\"],[\"transformation\",\"2025-03-19T12:53:54.729120\"],[\"transformation\",\"2025-03-20T12:54:03.641032\"],[\"transformation\",\"2025-03-21T12:53:39.083851\"],[\"transformation\",\"2025-03-22T11:12:42.576151\"]],\"hovertemplate\":\"source_table=bronze.player_valuations\\u003cbr\\u003eProcessing Duration (Seconds)=%{x}\\u003cbr\\u003eNumber of Records Cleaned=%{y}\\u003cbr\\u003estage=%{customdata[0]}\\u003cbr\\u003estart_time=%{customdata[1]}\\u003cextra\\u003e\\u003c\\u002fextra\\u003e\",\"legendgroup\":\"bronze.player_valuations\",\"marker\":{\"color\":\"#B6E880\",\"symbol\":\"circle\"},\"mode\":\"markers\",\"name\":\"bronze.player_valuations\",\"orientation\":\"v\",\"showlegend\":true,\"x\":[3.872454,3.889982,4.662805,3.971865,3.908235,4.207696],\"xaxis\":\"x\",\"y\":[195750,195750,195750,195750,195750,195750],\"yaxis\":\"y\",\"type\":\"scatter\"},{\"customdata\":[[\"transformation\",\"2025-03-19T12:24:44.824217\"],[\"transformation\",\"2025-03-19T12:37:24.410018\"],[\"transformation\",\"2025-03-19T12:54:02.126518\"],[\"transformation\",\"2025-03-21T12:53:45.040018\"],[\"transformation\",\"2025-03-20T12:54:09.936457\"],[\"transformation\",\"2025-03-22T11:12:48.621695\"]],\"hovertemplate\":\"source_table=bronze.players\\u003cbr\\u003eProcessing Duration (Seconds)=%{x}\\u003cbr\\u003eNumber of Records Cleaned=%{y}\\u003cbr\\u003estage=%{customdata[0]}\\u003cbr\\u003estart_time=%{customdata[1]}\\u003cextra\\u003e\\u003c\\u002fextra\\u003e\",\"legendgroup\":\"bronze.players\",\"marker\":{\"color\":\"#FF97FF\",\"symbol\":\"circle\"},\"mode\":\"markers\",\"name\":\"bronze.players\",\"orientation\":\"v\",\"showlegend\":true,\"x\":[4.07586,4.198769,4.122846,4.072207,4.543672,4.142476],\"xaxis\":\"x\",\"y\":[12622,12622,12622,12622,12622,12622],\"yaxis\":\"y\",\"type\":\"scatter\"},{\"customdata\":[[\"transformation\",\"2025-03-19T12:24:50.361020\"],[\"transformation\",\"2025-03-19T12:37:30.572621\"],[\"transformation\",\"2025-03-19T12:54:08.976244\"],[\"transformation\",\"2025-03-20T12:54:16.335784\"],[\"transformation\",\"2025-03-21T12:53:50.521876\"],[\"transformation\",\"2025-03-22T11:12:54.614903\"]],\"hovertemplate\":\"source_table=bronze.transfers\\u003cbr\\u003eProcessing Duration (Seconds)=%{x}\\u003cbr\\u003eNumber of Records Cleaned=%{y}\\u003cbr\\u003estage=%{customdata[0]}\\u003cbr\\u003estart_time=%{customdata[1]}\\u003cextra\\u003e\\u003c\\u002fextra\\u003e\",\"legendgroup\":\"bronze.transfers\",\"marker\":{\"color\":\"#FECB52\",\"symbol\":\"circle\"},\"mode\":\"markers\",\"name\":\"bronze.transfers\",\"orientation\":\"v\",\"showlegend\":true,\"x\":[3.410281,3.976133,4.930136,3.583926,3.688935,3.538863],\"xaxis\":\"x\",\"y\":[39251,39251,39251,39251,39251,39251],\"yaxis\":\"y\",\"type\":\"scatter\"}],                        {\"template\":{\"data\":{\"histogram2dcontour\":[{\"type\":\"histogram2dcontour\",\"colorbar\":{\"outlinewidth\":0,\"ticks\":\"\"},\"colorscale\":[[0.0,\"#0d0887\"],[0.1111111111111111,\"#46039f\"],[0.2222222222222222,\"#7201a8\"],[0.3333333333333333,\"#9c179e\"],[0.4444444444444444,\"#bd3786\"],[0.5555555555555556,\"#d8576b\"],[0.6666666666666666,\"#ed7953\"],[0.7777777777777778,\"#fb9f3a\"],[0.8888888888888888,\"#fdca26\"],[1.0,\"#f0f921\"]]}],\"choropleth\":[{\"type\":\"choropleth\",\"colorbar\":{\"outlinewidth\":0,\"ticks\":\"\"}}],\"histogram2d\":[{\"type\":\"histogram2d\",\"colorbar\":{\"outlinewidth\":0,\"ticks\":\"\"},\"colorscale\":[[0.0,\"#0d0887\"],[0.1111111111111111,\"#46039f\"],[0.2222222222222222,\"#7201a8\"],[0.3333333333333333,\"#9c179e\"],[0.4444444444444444,\"#bd3786\"],[0.5555555555555556,\"#d8576b\"],[0.6666666666666666,\"#ed7953\"],[0.7777777777777778,\"#fb9f3a\"],[0.8888888888888888,\"#fdca26\"],[1.0,\"#f0f921\"]]}],\"heatmap\":[{\"type\":\"heatmap\",\"colorbar\":{\"outlinewidth\":0,\"ticks\":\"\"},\"colorscale\":[[0.0,\"#0d0887\"],[0.1111111111111111,\"#46039f\"],[0.2222222222222222,\"#7201a8\"],[0.3333333333333333,\"#9c179e\"],[0.4444444444444444,\"#bd3786\"],[0.5555555555555556,\"#d8576b\"],[0.6666666666666666,\"#ed7953\"],[0.7777777777777778,\"#fb9f3a\"],[0.8888888888888888,\"#fdca26\"],[1.0,\"#f0f921\"]]}],\"heatmapgl\":[{\"type\":\"heatmapgl\",\"colorbar\":{\"outlinewidth\":0,\"ticks\":\"\"},\"colorscale\":[[0.0,\"#0d0887\"],[0.1111111111111111,\"#46039f\"],[0.2222222222222222,\"#7201a8\"],[0.3333333333333333,\"#9c179e\"],[0.4444444444444444,\"#bd3786\"],[0.5555555555555556,\"#d8576b\"],[0.6666666666666666,\"#ed7953\"],[0.7777777777777778,\"#fb9f3a\"],[0.8888888888888888,\"#fdca26\"],[1.0,\"#f0f921\"]]}],\"contourcarpet\":[{\"type\":\"contourcarpet\",\"colorbar\":{\"outlinewidth\":0,\"ticks\":\"\"}}],\"contour\":[{\"type\":\"contour\",\"colorbar\":{\"outlinewidth\":0,\"ticks\":\"\"},\"colorscale\":[[0.0,\"#0d0887\"],[0.1111111111111111,\"#46039f\"],[0.2222222222222222,\"#7201a8\"],[0.3333333333333333,\"#9c179e\"],[0.4444444444444444,\"#bd3786\"],[0.5555555555555556,\"#d8576b\"],[0.6666666666666666,\"#ed7953\"],[0.7777777777777778,\"#fb9f3a\"],[0.8888888888888888,\"#fdca26\"],[1.0,\"#f0f921\"]]}],\"surface\":[{\"type\":\"surface\",\"colorbar\":{\"outlinewidth\":0,\"ticks\":\"\"},\"colorscale\":[[0.0,\"#0d0887\"],[0.1111111111111111,\"#46039f\"],[0.2222222222222222,\"#7201a8\"],[0.3333333333333333,\"#9c179e\"],[0.4444444444444444,\"#bd3786\"],[0.5555555555555556,\"#d8576b\"],[0.6666666666666666,\"#ed7953\"],[0.7777777777777778,\"#fb9f3a\"],[0.8888888888888888,\"#fdca26\"],[1.0,\"#f0f921\"]]}],\"mesh3d\":[{\"type\":\"mesh3d\",\"colorbar\":{\"outlinewidth\":0,\"ticks\":\"\"}}],\"scatter\":[{\"fillpattern\":{\"fillmode\":\"overlay\",\"size\":10,\"solidity\":0.2},\"type\":\"scatter\"}],\"parcoords\":[{\"type\":\"parcoords\",\"line\":{\"colorbar\":{\"outlinewidth\":0,\"ticks\":\"\"}}}],\"scatterpolargl\":[{\"type\":\"scatterpolargl\",\"marker\":{\"colorbar\":{\"outlinewidth\":0,\"ticks\":\"\"}}}],\"bar\":[{\"error_x\":{\"color\":\"#2a3f5f\"},\"error_y\":{\"color\":\"#2a3f5f\"},\"marker\":{\"line\":{\"color\":\"#E5ECF6\",\"width\":0.5},\"pattern\":{\"fillmode\":\"overlay\",\"size\":10,\"solidity\":0.2}},\"type\":\"bar\"}],\"scattergeo\":[{\"type\":\"scattergeo\",\"marker\":{\"colorbar\":{\"outlinewidth\":0,\"ticks\":\"\"}}}],\"scatterpolar\":[{\"type\":\"scatterpolar\",\"marker\":{\"colorbar\":{\"outlinewidth\":0,\"ticks\":\"\"}}}],\"histogram\":[{\"marker\":{\"pattern\":{\"fillmode\":\"overlay\",\"size\":10,\"solidity\":0.2}},\"type\":\"histogram\"}],\"scattergl\":[{\"type\":\"scattergl\",\"marker\":{\"colorbar\":{\"outlinewidth\":0,\"ticks\":\"\"}}}],\"scatter3d\":[{\"type\":\"scatter3d\",\"line\":{\"colorbar\":{\"outlinewidth\":0,\"ticks\":\"\"}},\"marker\":{\"colorbar\":{\"outlinewidth\":0,\"ticks\":\"\"}}}],\"scattermapbox\":[{\"type\":\"scattermapbox\",\"marker\":{\"colorbar\":{\"outlinewidth\":0,\"ticks\":\"\"}}}],\"scatterternary\":[{\"type\":\"scatterternary\",\"marker\":{\"colorbar\":{\"outlinewidth\":0,\"ticks\":\"\"}}}],\"scattercarpet\":[{\"type\":\"scattercarpet\",\"marker\":{\"colorbar\":{\"outlinewidth\":0,\"ticks\":\"\"}}}],\"carpet\":[{\"aaxis\":{\"endlinecolor\":\"#2a3f5f\",\"gridcolor\":\"white\",\"linecolor\":\"white\",\"minorgridcolor\":\"white\",\"startlinecolor\":\"#2a3f5f\"},\"baxis\":{\"endlinecolor\":\"#2a3f5f\",\"gridcolor\":\"white\",\"linecolor\":\"white\",\"minorgridcolor\":\"white\",\"startlinecolor\":\"#2a3f5f\"},\"type\":\"carpet\"}],\"table\":[{\"cells\":{\"fill\":{\"color\":\"#EBF0F8\"},\"line\":{\"color\":\"white\"}},\"header\":{\"fill\":{\"color\":\"#C8D4E3\"},\"line\":{\"color\":\"white\"}},\"type\":\"table\"}],\"barpolar\":[{\"marker\":{\"line\":{\"color\":\"#E5ECF6\",\"width\":0.5},\"pattern\":{\"fillmode\":\"overlay\",\"size\":10,\"solidity\":0.2}},\"type\":\"barpolar\"}],\"pie\":[{\"automargin\":true,\"type\":\"pie\"}]},\"layout\":{\"autotypenumbers\":\"strict\",\"colorway\":[\"#636efa\",\"#EF553B\",\"#00cc96\",\"#ab63fa\",\"#FFA15A\",\"#19d3f3\",\"#FF6692\",\"#B6E880\",\"#FF97FF\",\"#FECB52\"],\"font\":{\"color\":\"#2a3f5f\"},\"hovermode\":\"closest\",\"hoverlabel\":{\"align\":\"left\"},\"paper_bgcolor\":\"white\",\"plot_bgcolor\":\"#E5ECF6\",\"polar\":{\"bgcolor\":\"#E5ECF6\",\"angularaxis\":{\"gridcolor\":\"white\",\"linecolor\":\"white\",\"ticks\":\"\"},\"radialaxis\":{\"gridcolor\":\"white\",\"linecolor\":\"white\",\"ticks\":\"\"}},\"ternary\":{\"bgcolor\":\"#E5ECF6\",\"aaxis\":{\"gridcolor\":\"white\",\"linecolor\":\"white\",\"ticks\":\"\"},\"baxis\":{\"gridcolor\":\"white\",\"linecolor\":\"white\",\"ticks\":\"\"},\"caxis\":{\"gridcolor\":\"white\",\"linecolor\":\"white\",\"ticks\":\"\"}},\"coloraxis\":{\"colorbar\":{\"outlinewidth\":0,\"ticks\":\"\"}},\"colorscale\":{\"sequential\":[[0.0,\"#0d0887\"],[0.1111111111111111,\"#46039f\"],[0.2222222222222222,\"#7201a8\"],[0.3333333333333333,\"#9c179e\"],[0.4444444444444444,\"#bd3786\"],[0.5555555555555556,\"#d8576b\"],[0.6666666666666666,\"#ed7953\"],[0.7777777777777778,\"#fb9f3a\"],[0.8888888888888888,\"#fdca26\"],[1.0,\"#f0f921\"]],\"sequentialminus\":[[0.0,\"#0d0887\"],[0.1111111111111111,\"#46039f\"],[0.2222222222222222,\"#7201a8\"],[0.3333333333333333,\"#9c179e\"],[0.4444444444444444,\"#bd3786\"],[0.5555555555555556,\"#d8576b\"],[0.6666666666666666,\"#ed7953\"],[0.7777777777777778,\"#fb9f3a\"],[0.8888888888888888,\"#fdca26\"],[1.0,\"#f0f921\"]],\"diverging\":[[0,\"#8e0152\"],[0.1,\"#c51b7d\"],[0.2,\"#de77ae\"],[0.3,\"#f1b6da\"],[0.4,\"#fde0ef\"],[0.5,\"#f7f7f7\"],[0.6,\"#e6f5d0\"],[0.7,\"#b8e186\"],[0.8,\"#7fbc41\"],[0.9,\"#4d9221\"],[1,\"#276419\"]]},\"xaxis\":{\"gridcolor\":\"white\",\"linecolor\":\"white\",\"ticks\":\"\",\"title\":{\"standoff\":15},\"zerolinecolor\":\"white\",\"automargin\":true,\"zerolinewidth\":2},\"yaxis\":{\"gridcolor\":\"white\",\"linecolor\":\"white\",\"ticks\":\"\",\"title\":{\"standoff\":15},\"zerolinecolor\":\"white\",\"automargin\":true,\"zerolinewidth\":2},\"scene\":{\"xaxis\":{\"backgroundcolor\":\"#E5ECF6\",\"gridcolor\":\"white\",\"linecolor\":\"white\",\"showbackground\":true,\"ticks\":\"\",\"zerolinecolor\":\"white\",\"gridwidth\":2},\"yaxis\":{\"backgroundcolor\":\"#E5ECF6\",\"gridcolor\":\"white\",\"linecolor\":\"white\",\"showbackground\":true,\"ticks\":\"\",\"zerolinecolor\":\"white\",\"gridwidth\":2},\"zaxis\":{\"backgroundcolor\":\"#E5ECF6\",\"gridcolor\":\"white\",\"linecolor\":\"white\",\"showbackground\":true,\"ticks\":\"\",\"zerolinecolor\":\"white\",\"gridwidth\":2}},\"shapedefaults\":{\"line\":{\"color\":\"#2a3f5f\"}},\"annotationdefaults\":{\"arrowcolor\":\"#2a3f5f\",\"arrowhead\":0,\"arrowwidth\":1},\"geo\":{\"bgcolor\":\"white\",\"landcolor\":\"#E5ECF6\",\"subunitcolor\":\"white\",\"showland\":true,\"showlakes\":true,\"lakecolor\":\"white\"},\"title\":{\"x\":0.05},\"mapbox\":{\"style\":\"light\"}}},\"xaxis\":{\"anchor\":\"y\",\"domain\":[0.0,1.0],\"title\":{\"text\":\"Processing Duration (Seconds)\"}},\"yaxis\":{\"anchor\":\"x\",\"domain\":[0.0,1.0],\"title\":{\"text\":\"Number of Records Cleaned\"}},\"legend\":{\"title\":{\"text\":\"source_table\"},\"tracegroupgap\":0},\"title\":{\"text\":\"Processing Durations vs. Records Cleaned\",\"x\":0.5}},                        {\"responsive\": true}                    )                };                            </script>        </div>\n",
       "</body>\n",
       "</html>"
      ]
     },
     "metadata": {},
     "output_type": "display_data"
    }
   ],
   "source": [
    "# Comparison of Processing Durations vs. Records Cleaned\n",
    "fig4 = px.scatter(\n",
    "    stats_df,\n",
    "    x=\"processing_duration_seconds\",\n",
    "    y=\"num_records_cleaned\",\n",
    "    color=\"source_table\",\n",
    "    title=\"Processing Durations vs. Records Cleaned\",\n",
    "    labels={\"processing_duration_seconds\": \"Processing Duration (Seconds)\", \"num_records_cleaned\": \"Number of Records Cleaned\"},\n",
    "    hover_data=[\"stage\", \"start_time\"]\n",
    ")\n",
    "fig4.update_layout(title_x=0.5)  # Center the title\n",
    "fig4.show()"
   ]
  },
  {
   "cell_type": "code",
   "execution_count": 0,
   "metadata": {
    "application/vnd.databricks.v1+cell": {
     "cellMetadata": {
      "byteLimit": 2048000,
      "rowLimit": 10000
     },
     "inputWidgets": {},
     "nuid": "3ea71d77-7832-4153-8de5-9f097d43d8b9",
     "showTitle": false,
     "tableResultSettingsMap": {},
     "title": ""
    }
   },
   "outputs": [],
   "source": []
  }
 ],
 "metadata": {
  "application/vnd.databricks.v1+notebook": {
   "computePreferences": null,
   "dashboards": [],
   "environmentMetadata": {
    "base_environment": "",
    "environment_version": "2"
   },
   "language": "python",
   "notebookMetadata": {
    "mostRecentlyExecutedCommandWithImplicitDF": {
     "commandId": 3612831496567578,
     "dataframes": [
      "_sqldf"
     ]
    },
    "pythonIndentUnit": 4
   },
   "notebookName": "02_pipeline_stats_visualization",
   "widgets": {}
  },
  "language_info": {
   "name": "python"
  }
 },
 "nbformat": 4,
 "nbformat_minor": 0
}