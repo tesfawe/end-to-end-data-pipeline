{
 "cells": [
  {
   "cell_type": "markdown",
   "metadata": {
    "application/vnd.databricks.v1+cell": {
     "cellMetadata": {},
     "inputWidgets": {},
     "nuid": "b58202d2-8b5d-44c6-8be8-80a4cb5424b2",
     "showTitle": false,
     "tableResultSettingsMap": {},
     "title": ""
    }
   },
   "source": [
    "### Gold Layer"
   ]
  },
  {
   "cell_type": "code",
   "execution_count": 0,
   "metadata": {
    "application/vnd.databricks.v1+cell": {
     "cellMetadata": {
      "byteLimit": 2048000,
      "implicitDf": true,
      "rowLimit": 10000
     },
     "inputWidgets": {},
     "nuid": "b05e5d26-b832-4d40-b063-29bf9b18c4a3",
     "showTitle": false,
     "tableResultSettingsMap": {},
     "title": ""
    }
   },
   "outputs": [
    {
     "output_type": "display_data",
     "data": {
      "text/html": [
       "<style scoped>\n",
       "  .table-result-container {\n",
       "    max-height: 300px;\n",
       "    overflow: auto;\n",
       "  }\n",
       "  table, th, td {\n",
       "    border: 1px solid black;\n",
       "    border-collapse: collapse;\n",
       "  }\n",
       "  th, td {\n",
       "    padding: 5px;\n",
       "  }\n",
       "  th {\n",
       "    text-align: left;\n",
       "  }\n",
       "</style><div class='table-result-container'><table class='table-result'><thead style='background-color: white'><tr></tr></thead><tbody></tbody></table></div>"
      ]
     },
     "metadata": {
      "application/vnd.databricks.v1+output": {
       "addedWidgets": {},
       "aggData": [],
       "aggError": "",
       "aggOverflow": false,
       "aggSchema": [],
       "aggSeriesLimitReached": false,
       "aggType": "",
       "arguments": {},
       "columnCustomDisplayInfos": {},
       "data": [],
       "datasetInfos": [],
       "dbfsResultPath": null,
       "isJsonSchema": true,
       "metadata": {
        "dataframeName": null
       },
       "overflow": false,
       "plotOptions": {
        "customPlotOptions": {},
        "displayType": "table",
        "pivotAggregation": null,
        "pivotColumns": null,
        "xColumns": null,
        "yColumns": null
       },
       "removedWidgets": [],
       "schema": [],
       "type": "table"
      }
     },
     "output_type": "display_data"
    }
   ],
   "source": [
    "%sql\n",
    "CREATE SCHEMA IF NOT EXISTS gold"
   ]
  },
  {
   "cell_type": "code",
   "execution_count": 0,
   "metadata": {
    "application/vnd.databricks.v1+cell": {
     "cellMetadata": {
      "byteLimit": 2048000,
      "rowLimit": 10000
     },
     "inputWidgets": {},
     "nuid": "ff5ee9a9-03ef-41bb-ade1-f664973baa8c",
     "showTitle": false,
     "tableResultSettingsMap": {},
     "title": ""
    }
   },
   "outputs": [],
   "source": [
    "from pyspark.sql.functions import * "
   ]
  },
  {
   "cell_type": "markdown",
   "metadata": {
    "application/vnd.databricks.v1+cell": {
     "cellMetadata": {},
     "inputWidgets": {},
     "nuid": "3b661204-4a11-4cdb-92f5-6c0b9dcdc9ce",
     "showTitle": false,
     "tableResultSettingsMap": {},
     "title": ""
    }
   },
   "source": [
    "#### Load Data From Silver Layer"
   ]
  },
  {
   "cell_type": "code",
   "execution_count": 0,
   "metadata": {
    "application/vnd.databricks.v1+cell": {
     "cellMetadata": {
      "byteLimit": 2048000,
      "rowLimit": 10000
     },
     "inputWidgets": {},
     "nuid": "282ad445-2e89-402f-88ad-51e3647d9f0c",
     "showTitle": false,
     "tableResultSettingsMap": {},
     "title": ""
    }
   },
   "outputs": [],
   "source": [
    "import logging\n",
    "from pyspark.sql import SparkSession\n",
    "\n",
    "# Configure structured logging\n",
    "logging.basicConfig(\n",
    "    level=logging.INFO,\n",
    "    format=\"%(asctime)s - %(levelname)s - %(module)s - %(message)s\",\n",
    "    handlers=[logging.StreamHandler()]\n",
    ")\n",
    "\n",
    "# Initialize Spark session\n",
    "spark = SparkSession.builder.getOrCreate()\n",
    "\n",
    "try:\n",
    "    # Log the start of the process\n",
    "    logging.info(\"Starting to read Silver tables for merging.\")\n",
    "\n",
    "    # Read Silver tables\n",
    "    try:\n",
    "        df_appearance_silver = spark.read.table(\"silver.appearance\")\n",
    "        logging.info(\"Successfully read table: silver.appearance\")\n",
    "    except Exception as e:\n",
    "        logging.error(f\"Failed to read table: silver.appearance. Error: {str(e)}\")\n",
    "        raise RuntimeError(f\"Error reading silver.appearance: {str(e)}\") from e\n",
    "\n",
    "    try:\n",
    "        df_players_silver = spark.read.table(\"silver.players\")\n",
    "        logging.info(\"Successfully read table: silver.players\")\n",
    "    except Exception as e:\n",
    "        logging.error(f\"Failed to read table: silver.players. Error: {str(e)}\")\n",
    "        raise RuntimeError(f\"Error reading silver.players: {str(e)}\") from e\n",
    "\n",
    "    try:\n",
    "        df_clubs_silver = spark.read.table(\"silver.clubs\")\n",
    "        logging.info(\"Successfully read table: silver.clubs\")\n",
    "    except Exception as e:\n",
    "        logging.error(f\"Failed to read table: silver.clubs. Error: {str(e)}\")\n",
    "        raise RuntimeError(f\"Error reading silver.clubs: {str(e)}\") from e\n",
    "\n",
    "    try:\n",
    "        df_game_events_silver = spark.read.table(\"silver.game_events\")\n",
    "        logging.info(\"Successfully read table: silver.game_events\")\n",
    "    except Exception as e:\n",
    "        logging.error(f\"Failed to read table: silver.game_events. Error: {str(e)}\")\n",
    "        raise RuntimeError(f\"Error reading silver.game_events: {str(e)}\") from e\n",
    "\n",
    "    try:\n",
    "        df_transfers_silver = spark.read.table(\"silver.transfers\")\n",
    "        logging.info(\"Successfully read table: silver.transfers\")\n",
    "    except Exception as e:\n",
    "        logging.error(f\"Failed to read table: silver.transfers. Error: {str(e)}\")\n",
    "        raise RuntimeError(f\"Error reading silver.transfers: {str(e)}\") from e\n",
    "\n",
    "    try:\n",
    "        df_competitions_silver = spark.read.table(\"silver.competitions\")\n",
    "        logging.info(\"Successfully read table: silver.competitions\")\n",
    "    except Exception as e:\n",
    "        logging.error(f\"Failed to read table: silver.competitions. Error: {str(e)}\")\n",
    "        raise RuntimeError(f\"Error reading silver.competitions: {str(e)}\") from e\n",
    "\n",
    "    try:\n",
    "        df_club_games_silver = spark.read.table(\"silver.club_games\")\n",
    "        logging.info(\"Successfully read table: silver.club_games\")\n",
    "    except Exception as e:\n",
    "        logging.error(f\"Failed to read table: silver.club_games. Error: {str(e)}\")\n",
    "        raise RuntimeError(f\"Error reading silver.club_games: {str(e)}\") from e\n",
    "\n",
    "    try:\n",
    "        df_player_valuations_silver = spark.read.table(\"silver.player_valuations\")\n",
    "        logging.info(\"Successfully read table: silver.player_valuations\")\n",
    "    except Exception as e:\n",
    "        logging.error(f\"Failed to read table: silver.player_valuations. Error: {str(e)}\")\n",
    "        raise RuntimeError(f\"Error reading silver.player_valuations: {str(e)}\") from e\n",
    "\n",
    "    try:\n",
    "        df_games_silver = spark.read.table(\"silver.games\")\n",
    "        logging.info(\"Successfully read table: silver.games\")\n",
    "    except Exception as e:\n",
    "        logging.error(f\"Failed to read table: silver.games. Error: {str(e)}\")\n",
    "        raise RuntimeError(f\"Error reading silver.games: {str(e)}\") from e\n",
    "\n",
    "    # Perform joins\n",
    "    try:\n",
    "        logging.info(\"Starting to merge tables.\")\n",
    "        df_merged = df_appearance_silver.join(df_players_silver, \"player_id\", \"left\") \\\n",
    "                                        .join(df_clubs_silver, df_appearance_silver.player_club_id == df_clubs_silver.club_id, \"left\")\n",
    "        logging.info(\"Successfully merged tables: silver.appearance, silver.players, and silver.clubs.\")\n",
    "    except Exception as e:\n",
    "        logging.error(f\"Failed to merge tables. Error: {str(e)}\")\n",
    "        raise RuntimeError(f\"Error during table merging: {str(e)}\") from e\n",
    "\n",
    "except Exception as e:\n",
    "    logging.error(f\"Critical failure during the process. Error: {str(e)}\")\n",
    "    raise RuntimeError(f\"Critical failure: {str(e)}\") from e"
   ]
  },
  {
   "cell_type": "markdown",
   "metadata": {
    "application/vnd.databricks.v1+cell": {
     "cellMetadata": {},
     "inputWidgets": {},
     "nuid": "924b2dff-955d-4b5d-87a0-0daf87f8a2d9",
     "showTitle": false,
     "tableResultSettingsMap": {},
     "title": ""
    }
   },
   "source": [
    "### Preparing Players Stats "
   ]
  },
  {
   "cell_type": "code",
   "execution_count": 0,
   "metadata": {
    "application/vnd.databricks.v1+cell": {
     "cellMetadata": {
      "byteLimit": 2048000,
      "rowLimit": 10000
     },
     "inputWidgets": {},
     "nuid": "2cfd5fa9-e509-46f5-8adc-aae70f1a8c3c",
     "showTitle": false,
     "tableResultSettingsMap": {},
     "title": ""
    }
   },
   "outputs": [],
   "source": [
    "import logging\n",
    "from pyspark.sql.functions import sum, avg, desc\n",
    "\n",
    "try:\n",
    "    # Log the start of the aggregation process\n",
    "    logging.info(\"Starting to aggregate player statistics.\")\n",
    "\n",
    "    # Aggregate player statistics\n",
    "    try:\n",
    "        df_player_stats = (\n",
    "            df_appearance_silver.groupBy(\"player_id\")\n",
    "            .agg(\n",
    "                sum(\"goals\").alias(\"total_goals\"),\n",
    "                sum(\"assists\").alias(\"total_assists\"),\n",
    "                round(avg(\"minutes_played\"), 2).alias(\"avg_minutes_played\")\n",
    "            )\n",
    "        )\n",
    "        logging.info(\"Successfully aggregated player statistics.\")\n",
    "    except Exception as e:\n",
    "        logging.error(f\"Failed to aggregate player statistics. Error: {str(e)}\")\n",
    "        raise RuntimeError(f\"Error during aggregation: {str(e)}\") from e\n",
    "\n",
    "    # Join with df_players to get first_name and last_name\n",
    "    try:\n",
    "        logging.info(\"Starting to join player statistics with player names.\")\n",
    "        df_player_stats_with_names = (\n",
    "            df_player_stats\n",
    "            .join(df_players_silver, df_player_stats.player_id == df_players_silver.player_id, \"inner\")\n",
    "            .select(\n",
    "                df_players_silver.player_id,\n",
    "                df_players_silver.first_name,\n",
    "                df_players_silver.last_name,\n",
    "                df_player_stats.total_goals,\n",
    "                df_player_stats.total_assists,\n",
    "                df_player_stats.avg_minutes_played\n",
    "            )\n",
    "        )\n",
    "        logging.info(\"Successfully joined player statistics with player names.\")\n",
    "    except Exception as e:\n",
    "        logging.error(f\"Failed to join player statistics with player names. Error: {str(e)}\")\n",
    "        raise RuntimeError(f\"Error during join operation: {str(e)}\") from e\n",
    "\n",
    "except Exception as e:\n",
    "    logging.error(f\"Critical failure during the process. Error: {str(e)}\")\n",
    "    raise RuntimeError(f\"Critical failure: {str(e)}\") from e"
   ]
  },
  {
   "cell_type": "code",
   "execution_count": 0,
   "metadata": {
    "application/vnd.databricks.v1+cell": {
     "cellMetadata": {
      "byteLimit": 2048000,
      "rowLimit": 10000
     },
     "inputWidgets": {},
     "nuid": "06defb4f-cd18-49de-ac03-c302592ad03a",
     "showTitle": false,
     "tableResultSettingsMap": {},
     "title": ""
    }
   },
   "outputs": [
    {
     "output_type": "display_data",
     "data": {
      "text/html": [
       "<style scoped>\n",
       "  .table-result-container {\n",
       "    max-height: 300px;\n",
       "    overflow: auto;\n",
       "  }\n",
       "  table, th, td {\n",
       "    border: 1px solid black;\n",
       "    border-collapse: collapse;\n",
       "  }\n",
       "  th, td {\n",
       "    padding: 5px;\n",
       "  }\n",
       "  th {\n",
       "    text-align: left;\n",
       "  }\n",
       "</style><div class='table-result-container'><table class='table-result'><thead style='background-color: white'><tr><th>player_id</th><th>first_name</th><th>last_name</th><th>total_goals</th><th>total_assists</th><th>avg_minutes_played</th><th>position</th><th>club_name</th><th>market_value_in_eur</th></tr></thead><tbody><tr><td>38253</td><td>Robert</td><td>Lewandowski</td><td>216</td><td>44</td><td>83.35</td><td>Attack</td><td>Futbol Club Barcelona</td><td>1.5E7</td></tr><tr><td>418560</td><td>Erling</td><td>Haaland</td><td>203</td><td>41</td><td>81.94</td><td>Attack</td><td>Manchester City Football Club</td><td>2.0E8</td></tr><tr><td>342229</td><td>Kylian</td><td>Mbappé</td><td>176</td><td>60</td><td>82.16</td><td>Attack</td><td>Real Madrid Club de Fútbol</td><td>1.6E8</td></tr><tr><td>132098</td><td>Harry</td><td>Kane</td><td>169</td><td>54</td><td>84.74</td><td>Attack</td><td>FC Bayern München</td><td>9.0E7</td></tr><tr><td>406625</td><td>Lautaro</td><td>Martínez</td><td>124</td><td>43</td><td>71.97</td><td>Attack</td><td>Football Club Internazionale Milano S.p.A.</td><td>1.0E8</td></tr><tr><td>105521</td><td>Ciro</td><td>Immobile</td><td>114</td><td>26</td><td>74.31</td><td>Attack</td><td>Beşiktaş Jimnastik Kulübü</td><td>3300000.0</td></tr><tr><td>96341</td><td>Romelu</td><td>Lukaku</td><td>110</td><td>35</td><td>72.76</td><td>Attack</td><td>Società Sportiva Calcio Napoli</td><td>2.5E7</td></tr><tr><td>533738</td><td>Jonathan</td><td>David</td><td>108</td><td>22</td><td>77.14</td><td>Attack</td><td>Lille Olympique Sporting Club</td><td>4.5E7</td></tr><tr><td>401923</td><td>Victor</td><td>Osimhen</td><td>102</td><td>24</td><td>74.55</td><td>Attack</td><td>Galatasaray Spor Kulübü</td><td>7.5E7</td></tr><tr><td>324503</td><td>Vangelis</td><td>Pavlidis</td><td>101</td><td>41</td><td>79.87</td><td>Attack</td><td>Sport Lisboa e Benfica</td><td>2.3E7</td></tr></tbody></table></div>"
      ]
     },
     "metadata": {
      "application/vnd.databricks.v1+output": {
       "addedWidgets": {},
       "aggData": [],
       "aggError": "",
       "aggOverflow": false,
       "aggSchema": [],
       "aggSeriesLimitReached": false,
       "aggType": "",
       "arguments": {},
       "columnCustomDisplayInfos": {},
       "data": [
        [
         38253,
         "Robert",
         "Lewandowski",
         216,
         44,
         83.35,
         "Attack",
         "Futbol Club Barcelona",
         1.5E7
        ],
        [
         418560,
         "Erling",
         "Haaland",
         203,
         41,
         81.94,
         "Attack",
         "Manchester City Football Club",
         2.0E8
        ],
        [
         342229,
         "Kylian",
         "Mbappé",
         176,
         60,
         82.16,
         "Attack",
         "Real Madrid Club de Fútbol",
         1.6E8
        ],
        [
         132098,
         "Harry",
         "Kane",
         169,
         54,
         84.74,
         "Attack",
         "FC Bayern München",
         9.0E7
        ],
        [
         406625,
         "Lautaro",
         "Martínez",
         124,
         43,
         71.97,
         "Attack",
         "Football Club Internazionale Milano S.p.A.",
         1.0E8
        ],
        [
         105521,
         "Ciro",
         "Immobile",
         114,
         26,
         74.31,
         "Attack",
         "Beşiktaş Jimnastik Kulübü",
         3300000.0
        ],
        [
         96341,
         "Romelu",
         "Lukaku",
         110,
         35,
         72.76,
         "Attack",
         "Società Sportiva Calcio Napoli",
         2.5E7
        ],
        [
         533738,
         "Jonathan",
         "David",
         108,
         22,
         77.14,
         "Attack",
         "Lille Olympique Sporting Club",
         4.5E7
        ],
        [
         401923,
         "Victor",
         "Osimhen",
         102,
         24,
         74.55,
         "Attack",
         "Galatasaray Spor Kulübü",
         7.5E7
        ],
        [
         324503,
         "Vangelis",
         "Pavlidis",
         101,
         41,
         79.87,
         "Attack",
         "Sport Lisboa e Benfica",
         2.3E7
        ]
       ],
       "datasetInfos": [],
       "dbfsResultPath": null,
       "isJsonSchema": true,
       "metadata": {},
       "overflow": false,
       "plotOptions": {
        "customPlotOptions": {},
        "displayType": "table",
        "pivotAggregation": null,
        "pivotColumns": null,
        "xColumns": null,
        "yColumns": null
       },
       "removedWidgets": [],
       "schema": [
        {
         "metadata": "{}",
         "name": "player_id",
         "type": "\"long\""
        },
        {
         "metadata": "{}",
         "name": "first_name",
         "type": "\"string\""
        },
        {
         "metadata": "{}",
         "name": "last_name",
         "type": "\"string\""
        },
        {
         "metadata": "{}",
         "name": "total_goals",
         "type": "\"long\""
        },
        {
         "metadata": "{}",
         "name": "total_assists",
         "type": "\"long\""
        },
        {
         "metadata": "{}",
         "name": "avg_minutes_played",
         "type": "\"double\""
        },
        {
         "metadata": "{}",
         "name": "position",
         "type": "\"string\""
        },
        {
         "metadata": "{}",
         "name": "club_name",
         "type": "\"string\""
        },
        {
         "metadata": "{}",
         "name": "market_value_in_eur",
         "type": "\"double\""
        }
       ],
       "type": "table"
      }
     },
     "output_type": "display_data"
    }
   ],
   "source": [
    "import logging\n",
    "from pyspark.sql.functions import col, desc\n",
    "\n",
    "try:\n",
    "    # Log the start of the process\n",
    "    logging.info(\"Starting to create the Gold DataFrame.\")\n",
    "\n",
    "    # Create the Gold DataFrame by joining player stats, players, and clubs\n",
    "    try:\n",
    "        df_gold = (\n",
    "            df_player_stats.join(df_players_silver, df_player_stats.player_id == df_players_silver.player_id, \"inner\")\n",
    "            .join(df_clubs_silver, df_players_silver.current_club_id == df_clubs_silver.club_id, \"left\")\n",
    "            .select(\n",
    "                df_player_stats.player_id.alias(\"player_id\"),\n",
    "                \"first_name\",\n",
    "                \"last_name\",\n",
    "                \"total_goals\",\n",
    "                \"total_assists\",\n",
    "                \"avg_minutes_played\",\n",
    "                \"position\",\n",
    "                col(\"name\").alias(\"club_name\"),\n",
    "                \"market_value_in_eur\"\n",
    "            )\n",
    "        )\n",
    "        logging.info(\"Successfully created the Gold DataFrame.\")\n",
    "    except Exception as e:\n",
    "        logging.error(f\"Failed to create the Gold DataFrame. Error: {str(e)}\")\n",
    "        raise RuntimeError(f\"Error during Gold DataFrame creation: {str(e)}\") from e\n",
    "\n",
    "    # Sort by total_goals in descending order\n",
    "    try:\n",
    "        logging.info(\"Sorting the Gold DataFrame by total_goals in descending order.\")\n",
    "        df_sorted_players = df_gold.orderBy(desc(\"total_goals\"))\n",
    "        logging.info(\"Successfully sorted the Gold DataFrame.\")\n",
    "    except Exception as e:\n",
    "        logging.error(f\"Failed to sort the Gold DataFrame. Error: {str(e)}\")\n",
    "        raise RuntimeError(f\"Error during sorting: {str(e)}\") from e\n",
    "\n",
    "    # Display the results\n",
    "    try:\n",
    "        logging.info(\"Displaying the top 10 players by total_goals.\")\n",
    "        display(df_sorted_players.head(10))\n",
    "        logging.info(\"Successfully displayed the top 10 players.\")\n",
    "    except Exception as e:\n",
    "        logging.error(f\"Failed to display the results. Error: {str(e)}\")\n",
    "        raise RuntimeError(f\"Error during result display: {str(e)}\") from e\n",
    "\n",
    "except Exception as e:\n",
    "    logging.error(f\"Critical failure during the process. Error: {str(e)}\")\n",
    "    raise RuntimeError(f\"Critical failure: {str(e)}\") from e"
   ]
  },
  {
   "cell_type": "code",
   "execution_count": 0,
   "metadata": {
    "application/vnd.databricks.v1+cell": {
     "cellMetadata": {
      "byteLimit": 2048000,
      "rowLimit": 10000
     },
     "inputWidgets": {},
     "nuid": "8e1670f5-4bef-4d3e-907a-bd1fe282e178",
     "showTitle": false,
     "tableResultSettingsMap": {},
     "title": ""
    }
   },
   "outputs": [
    {
     "output_type": "stream",
     "name": "stdout",
     "output_type": "stream",
     "text": [
      "Successfully wrote the sorted player stats DataFrame to the Delta table: gold.player_stats.\n"
     ]
    }
   ],
   "source": [
    "try:\n",
    "    # Log the start of the write operation\n",
    "    logging.info(\"Starting to write the sorted player stats DataFrame to the Delta table: gold.player_stats.\")\n",
    "\n",
    "    # Write the sorted DataFrame to the Delta table\n",
    "    try:\n",
    "        df_sorted_players.write.format(\"delta\") \\\n",
    "                         .mode(\"overwrite\") \\\n",
    "                         .option(\"mergeSchema\", \"true\") \\\n",
    "                         .saveAsTable(\"gold.player_stats\")\n",
    "        logging.info(\"Successfully wrote the sorted player stats DataFrame to the Delta table: gold.player_stats.\")\n",
    "        print(\"Successfully wrote the sorted player stats DataFrame to the Delta table: gold.player_stats.\")\n",
    "    except Exception as e:\n",
    "        logging.error(f\"Failed to write the sorted player stats DataFrame to the Delta table. Error: {str(e)}\")\n",
    "        raise RuntimeError(f\"Error during Delta table write: {str(e)}\") from e\n",
    "\n",
    "except Exception as e:\n",
    "    logging.error(f\"Critical failure during the process. Error: {str(e)}\")\n",
    "    raise RuntimeError(f\"Critical failure: {str(e)}\") from e"
   ]
  },
  {
   "cell_type": "markdown",
   "metadata": {
    "application/vnd.databricks.v1+cell": {
     "cellMetadata": {},
     "inputWidgets": {},
     "nuid": "df446fa1-21a7-48f6-b1e0-965a5852036e",
     "showTitle": false,
     "tableResultSettingsMap": {},
     "title": ""
    }
   },
   "source": [
    "**Optimize and Z-Order by club_name, position  and market_value_in_eur**"
   ]
  },
  {
   "cell_type": "code",
   "execution_count": 0,
   "metadata": {
    "application/vnd.databricks.v1+cell": {
     "cellMetadata": {
      "byteLimit": 2048000,
      "implicitDf": true,
      "rowLimit": 10000
     },
     "inputWidgets": {},
     "nuid": "c48d46ea-ec76-4b8e-b771-700929d044c2",
     "showTitle": false,
     "tableResultSettingsMap": {},
     "title": ""
    }
   },
   "outputs": [
    {
     "output_type": "display_data",
     "data": {
      "text/html": [
       "<style scoped>\n",
       "  .table-result-container {\n",
       "    max-height: 300px;\n",
       "    overflow: auto;\n",
       "  }\n",
       "  table, th, td {\n",
       "    border: 1px solid black;\n",
       "    border-collapse: collapse;\n",
       "  }\n",
       "  th, td {\n",
       "    padding: 5px;\n",
       "  }\n",
       "  th {\n",
       "    text-align: left;\n",
       "  }\n",
       "</style><div class='table-result-container'><table class='table-result'><thead style='background-color: white'><tr><th>path</th><th>metrics</th></tr></thead><tbody><tr><td>abfss://unity-catalog-storage@dbstoragebmlwakr3lruh6.dfs.core.windows.net/4332105040219628/__unitystorage/catalogs/882c4f0d-67c4-4c44-a2ce-e33636e464fc/tables/dbebc63d-5a56-43fb-97c5-540607955bf9</td><td>List(0, 0, List(null, null, 0.0, 0, 0), List(null, null, 0.0, 0, 0), 0, List(minCubeSize(107374182400), List(0, 0), List(1, 268167), 0, List(0, 0), 0, null), null, 0, 0, 1, 1, false, 0, 0, 1742383345016, 1742383347360, 4, 0, null, List(0, 0), 9, 9, 0, 0, null)</td></tr></tbody></table></div>"
      ]
     },
     "metadata": {
      "application/vnd.databricks.v1+output": {
       "addedWidgets": {},
       "aggData": [],
       "aggError": "",
       "aggOverflow": false,
       "aggSchema": [],
       "aggSeriesLimitReached": false,
       "aggType": "",
       "arguments": {},
       "columnCustomDisplayInfos": {},
       "data": [
        [
         "abfss://unity-catalog-storage@dbstoragebmlwakr3lruh6.dfs.core.windows.net/4332105040219628/__unitystorage/catalogs/882c4f0d-67c4-4c44-a2ce-e33636e464fc/tables/dbebc63d-5a56-43fb-97c5-540607955bf9",
         [
          0,
          0,
          [
           null,
           null,
           0.0,
           0,
           0
          ],
          [
           null,
           null,
           0.0,
           0,
           0
          ],
          0,
          [
           "minCubeSize(107374182400)",
           [
            0,
            0
           ],
           [
            1,
            268167
           ],
           0,
           [
            0,
            0
           ],
           0,
           null
          ],
          null,
          0,
          0,
          1,
          1,
          false,
          0,
          0,
          1742383345016,
          1742383347360,
          4,
          0,
          null,
          [
           0,
           0
          ],
          9,
          9,
          0,
          0,
          null
         ]
        ]
       ],
       "datasetInfos": [],
       "dbfsResultPath": null,
       "isJsonSchema": true,
       "metadata": {
        "createTempViewForImplicitDf": true,
        "dataframeName": "_sqldf",
        "executionCount": 7
       },
       "overflow": false,
       "plotOptions": {
        "customPlotOptions": {},
        "displayType": "table",
        "pivotAggregation": null,
        "pivotColumns": null,
        "xColumns": null,
        "yColumns": null
       },
       "removedWidgets": [],
       "schema": [
        {
         "metadata": "{}",
         "name": "path",
         "type": "\"string\""
        },
        {
         "metadata": "{}",
         "name": "metrics",
         "type": "{\"type\":\"struct\",\"fields\":[{\"name\":\"numFilesAdded\",\"type\":\"long\",\"nullable\":false,\"metadata\":{}},{\"name\":\"numFilesRemoved\",\"type\":\"long\",\"nullable\":false,\"metadata\":{}},{\"name\":\"filesAdded\",\"type\":{\"type\":\"struct\",\"fields\":[{\"name\":\"min\",\"type\":\"long\",\"nullable\":true,\"metadata\":{}},{\"name\":\"max\",\"type\":\"long\",\"nullable\":true,\"metadata\":{}},{\"name\":\"avg\",\"type\":\"double\",\"nullable\":false,\"metadata\":{}},{\"name\":\"totalFiles\",\"type\":\"long\",\"nullable\":false,\"metadata\":{}},{\"name\":\"totalSize\",\"type\":\"long\",\"nullable\":false,\"metadata\":{}}]},\"nullable\":true,\"metadata\":{}},{\"name\":\"filesRemoved\",\"type\":{\"type\":\"struct\",\"fields\":[{\"name\":\"min\",\"type\":\"long\",\"nullable\":true,\"metadata\":{}},{\"name\":\"max\",\"type\":\"long\",\"nullable\":true,\"metadata\":{}},{\"name\":\"avg\",\"type\":\"double\",\"nullable\":false,\"metadata\":{}},{\"name\":\"totalFiles\",\"type\":\"long\",\"nullable\":false,\"metadata\":{}},{\"name\":\"totalSize\",\"type\":\"long\",\"nullable\":false,\"metadata\":{}}]},\"nullable\":true,\"metadata\":{}},{\"name\":\"partitionsOptimized\",\"type\":\"long\",\"nullable\":false,\"metadata\":{}},{\"name\":\"zOrderStats\",\"type\":{\"type\":\"struct\",\"fields\":[{\"name\":\"strategyName\",\"type\":\"string\",\"nullable\":true,\"metadata\":{}},{\"name\":\"inputCubeFiles\",\"type\":{\"type\":\"struct\",\"fields\":[{\"name\":\"num\",\"type\":\"long\",\"nullable\":false,\"metadata\":{}},{\"name\":\"size\",\"type\":\"long\",\"nullable\":false,\"metadata\":{}}]},\"nullable\":true,\"metadata\":{}},{\"name\":\"inputOtherFiles\",\"type\":{\"type\":\"struct\",\"fields\":[{\"name\":\"num\",\"type\":\"long\",\"nullable\":false,\"metadata\":{}},{\"name\":\"size\",\"type\":\"long\",\"nullable\":false,\"metadata\":{}}]},\"nullable\":true,\"metadata\":{}},{\"name\":\"inputNumCubes\",\"type\":\"long\",\"nullable\":false,\"metadata\":{}},{\"name\":\"mergedFiles\",\"type\":{\"type\":\"struct\",\"fields\":[{\"name\":\"num\",\"type\":\"long\",\"nullable\":false,\"metadata\":{}},{\"name\":\"size\",\"type\":\"long\",\"nullable\":false,\"metadata\":{}}]},\"nullable\":true,\"metadata\":{}},{\"name\":\"numOutputCubes\",\"type\":\"long\",\"nullable\":false,\"metadata\":{}},{\"name\":\"mergedNumCubes\",\"type\":\"long\",\"nullable\":true,\"metadata\":{}}]},\"nullable\":true,\"metadata\":{}},{\"name\":\"clusteringStats\",\"type\":{\"type\":\"struct\",\"fields\":[{\"name\":\"inputZCubeFiles\",\"type\":{\"type\":\"struct\",\"fields\":[{\"name\":\"numFiles\",\"type\":\"long\",\"nullable\":false,\"metadata\":{}},{\"name\":\"size\",\"type\":\"long\",\"nullable\":false,\"metadata\":{}}]},\"nullable\":true,\"metadata\":{}},{\"name\":\"inputOtherFiles\",\"type\":{\"type\":\"struct\",\"fields\":[{\"name\":\"numFiles\",\"type\":\"long\",\"nullable\":false,\"metadata\":{}},{\"name\":\"size\",\"type\":\"long\",\"nullable\":false,\"metadata\":{}}]},\"nullable\":true,\"metadata\":{}},{\"name\":\"inputNumZCubes\",\"type\":\"long\",\"nullable\":false,\"metadata\":{}},{\"name\":\"mergedFiles\",\"type\":{\"type\":\"struct\",\"fields\":[{\"name\":\"numFiles\",\"type\":\"long\",\"nullable\":false,\"metadata\":{}},{\"name\":\"size\",\"type\":\"long\",\"nullable\":false,\"metadata\":{}}]},\"nullable\":true,\"metadata\":{}},{\"name\":\"numOutputZCubes\",\"type\":\"long\",\"nullable\":false,\"metadata\":{}}]},\"nullable\":true,\"metadata\":{}},{\"name\":\"numBins\",\"type\":\"long\",\"nullable\":false,\"metadata\":{}},{\"name\":\"numBatches\",\"type\":\"long\",\"nullable\":false,\"metadata\":{}},{\"name\":\"totalConsideredFiles\",\"type\":\"long\",\"nullable\":false,\"metadata\":{}},{\"name\":\"totalFilesSkipped\",\"type\":\"long\",\"nullable\":false,\"metadata\":{}},{\"name\":\"preserveInsertionOrder\",\"type\":\"boolean\",\"nullable\":false,\"metadata\":{}},{\"name\":\"numFilesSkippedToReduceWriteAmplification\",\"type\":\"long\",\"nullable\":false,\"metadata\":{}},{\"name\":\"numBytesSkippedToReduceWriteAmplification\",\"type\":\"long\",\"nullable\":false,\"metadata\":{}},{\"name\":\"startTimeMs\",\"type\":\"long\",\"nullable\":false,\"metadata\":{}},{\"name\":\"endTimeMs\",\"type\":\"long\",\"nullable\":false,\"metadata\":{}},{\"name\":\"totalClusterParallelism\",\"type\":\"long\",\"nullable\":false,\"metadata\":{}},{\"name\":\"totalScheduledTasks\",\"type\":\"long\",\"nullable\":false,\"metadata\":{}},{\"name\":\"autoCompactParallelismStats\",\"type\":{\"type\":\"struct\",\"fields\":[{\"name\":\"maxClusterActiveParallelism\",\"type\":\"long\",\"nullable\":true,\"metadata\":{}},{\"name\":\"minClusterActiveParallelism\",\"type\":\"long\",\"nullable\":true,\"metadata\":{}},{\"name\":\"maxSessionActiveParallelism\",\"type\":\"long\",\"nullable\":true,\"metadata\":{}},{\"name\":\"minSessionActiveParallelism\",\"type\":\"long\",\"nullable\":true,\"metadata\":{}}]},\"nullable\":true,\"metadata\":{}},{\"name\":\"deletionVectorStats\",\"type\":{\"type\":\"struct\",\"fields\":[{\"name\":\"numDeletionVectorsRemoved\",\"type\":\"long\",\"nullable\":false,\"metadata\":{}},{\"name\":\"numDeletionVectorRowsRemoved\",\"type\":\"long\",\"nullable\":false,\"metadata\":{}}]},\"nullable\":true,\"metadata\":{}},{\"name\":\"numTableColumns\",\"type\":\"long\",\"nullable\":false,\"metadata\":{}},{\"name\":\"numTableColumnsWithStats\",\"type\":\"long\",\"nullable\":false,\"metadata\":{}},{\"name\":\"totalTaskExecutionTimeMs\",\"type\":\"long\",\"nullable\":false,\"metadata\":{}},{\"name\":\"skippedArchivedFiles\",\"type\":\"long\",\"nullable\":false,\"metadata\":{}},{\"name\":\"clusteringMetrics\",\"type\":{\"type\":\"struct\",\"fields\":[{\"name\":\"sizeOfTableInBytesBeforeLazyClustering\",\"type\":\"long\",\"nullable\":false,\"metadata\":{}},{\"name\":\"isNewMetadataCreated\",\"type\":\"boolean\",\"nullable\":false,\"metadata\":{}},{\"name\":\"isPOTriggered\",\"type\":\"boolean\",\"nullable\":false,\"metadata\":{}},{\"name\":\"isFull\",\"type\":\"boolean\",\"nullable\":false,\"metadata\":{}},{\"name\":\"approxClusteringQuality\",\"type\":\"double\",\"nullable\":true,\"metadata\":{}},{\"name\":\"approxClusteringCoverage\",\"type\":\"double\",\"nullable\":true,\"metadata\":{}},{\"name\":\"numFilesSkippedWithoutStats\",\"type\":\"long\",\"nullable\":false,\"metadata\":{}},{\"name\":\"numFilesClassifiedToIntermediateNodes\",\"type\":\"long\",\"nullable\":false,\"metadata\":{}},{\"name\":\"sizeOfFilesClassifiedToIntermediateNodesInBytes\",\"type\":\"long\",\"nullable\":false,\"metadata\":{}},{\"name\":\"logicalSizeOfFilesClassifiedToIntermediateNodesInBytes\",\"type\":\"long\",\"nullable\":false,\"metadata\":{}},{\"name\":\"numFilesClassifiedToLeafNodes\",\"type\":\"long\",\"nullable\":false,\"metadata\":{}},{\"name\":\"sizeOfFilesClassifiedToLeafNodesInBytes\",\"type\":\"long\",\"nullable\":false,\"metadata\":{}},{\"name\":\"logicalSizeOfFilesClassifiedToLeafNodesInBytes\",\"type\":\"long\",\"nullable\":false,\"metadata\":{}},{\"name\":\"numThreadsForClassifier\",\"type\":\"integer\",\"nullable\":true,\"metadata\":{}},{\"name\":\"clusterThresholdStrategy\",\"type\":\"string\",\"nullable\":true,\"metadata\":{}},{\"name\":\"minFileSize\",\"type\":\"long\",\"nullable\":false,\"metadata\":{}},{\"name\":\"maxFileSize\",\"type\":\"long\",\"nullable\":false,\"metadata\":{}},{\"name\":\"nodeMinNumFilesToCompact\",\"type\":\"long\",\"nullable\":false,\"metadata\":{}},{\"name\":\"numIdealFiles\",\"type\":\"long\",\"nullable\":false,\"metadata\":{}},{\"name\":\"numIdealFilesWithTrimmedStringMaxValue\",\"type\":\"long\",\"nullable\":false,\"metadata\":{}},{\"name\":\"numClusteringTasksPlanned\",\"type\":\"integer\",\"nullable\":false,\"metadata\":{}},{\"name\":\"numCompactionTasksPlanned\",\"type\":\"integer\",\"nullable\":false,\"metadata\":{}},{\"name\":\"numOptimizeBatchesPlanned\",\"type\":\"integer\",\"nullable\":false,\"metadata\":{}},{\"name\":\"numLeafNodesExpanded\",\"type\":\"long\",\"nullable\":false,\"metadata\":{}},{\"name\":\"numLeafNodesClustered\",\"type\":\"long\",\"nullable\":false,\"metadata\":{}},{\"name\":\"numGetFilesForNodeCalls\",\"type\":\"long\",\"nullable\":false,\"metadata\":{}},{\"name\":\"numSamplingJobs\",\"type\":\"long\",\"nullable\":false,\"metadata\":{}},{\"name\":\"numLeafNodesCompacted\",\"type\":\"long\",\"nullable\":false,\"metadata\":{}},{\"name\":\"numIntermediateNodesCompacted\",\"type\":\"long\",\"nullable\":false,\"metadata\":{}},{\"name\":\"totalSizeOfDataToCompactInBytes\",\"type\":\"long\",\"nullable\":false,\"metadata\":{}},{\"name\":\"totalLogicalSizeOfDataToCompactInBytes\",\"type\":\"long\",\"nullable\":false,\"metadata\":{}},{\"name\":\"numIntermediateNodesClustered\",\"type\":\"long\",\"nullable\":false,\"metadata\":{}},{\"name\":\"numFilesSkippedAfterExpansion\",\"type\":\"long\",\"nullable\":false,\"metadata\":{}},{\"name\":\"totalSizeOfFilesSkippedAfterExpansionInBytes\",\"type\":\"long\",\"nullable\":false,\"metadata\":{}},{\"name\":\"totalLogicalSizeOfFilesSkippedAfterExpansionInBytes\",\"type\":\"long\",\"nullable\":false,\"metadata\":{}},{\"name\":\"totalSizeOfDataToRewriteInBytes\",\"type\":\"long\",\"nullable\":false,\"metadata\":{}},{\"name\":\"totalLogicalSizeOfDataToRewriteInBytes\",\"type\":\"long\",\"nullable\":false,\"metadata\":{}},{\"name\":\"timeMetrics\",\"type\":{\"type\":\"struct\",\"fields\":[{\"name\":\"classifierTimeMs\",\"type\":\"long\",\"nullable\":false,\"metadata\":{}},{\"name\":\"optimizerTimeMs\",\"type\":\"long\",\"nullable\":false,\"metadata\":{}},{\"name\":\"metadataLoadTimeMs\",\"type\":\"long\",\"nullable\":false,\"metadata\":{}},{\"name\":\"totalGetFilesForNodeCallsTimeMs\",\"type\":\"long\",\"nullable\":false,\"metadata\":{}},{\"name\":\"totalSamplingTimeMs\",\"type\":\"long\",\"nullable\":false,\"metadata\":{}},{\"name\":\"metadataCreationTimeMs\",\"type\":\"long\",\"nullable\":false,\"metadata\":{}}]},\"nullable\":true,\"metadata\":{}},{\"name\":\"maxOptimizeBatchesInParallel\",\"type\":\"long\",\"nullable\":false,\"metadata\":{}},{\"name\":\"currentIteration\",\"type\":\"integer\",\"nullable\":false,\"metadata\":{}},{\"name\":\"maxIterations\",\"type\":\"integer\",\"nullable\":false,\"metadata\":{}},{\"name\":\"clusteringStrategy\",\"type\":\"string\",\"nullable\":true,\"metadata\":{}}]},\"nullable\":true,\"metadata\":{}}]}"
        }
       ],
       "type": "table"
      }
     },
     "output_type": "display_data"
    }
   ],
   "source": [
    "%sql\n",
    "OPTIMIZE gold.player_stats\n",
    "ZORDER BY (club_name, position, market_value_in_eur);"
   ]
  },
  {
   "cell_type": "markdown",
   "metadata": {
    "application/vnd.databricks.v1+cell": {
     "cellMetadata": {},
     "inputWidgets": {},
     "nuid": "a915e407-fcf8-4ad4-936d-ea604552d184",
     "showTitle": false,
     "tableResultSettingsMap": {},
     "title": ""
    }
   },
   "source": [
    "++++++++++++++++++++++++++++++++++++++++++++++++++++++++++++++"
   ]
  },
  {
   "cell_type": "markdown",
   "metadata": {
    "application/vnd.databricks.v1+cell": {
     "cellMetadata": {},
     "inputWidgets": {},
     "nuid": "33276486-c842-476c-a7da-45f48e5f7e4a",
     "showTitle": false,
     "tableResultSettingsMap": {},
     "title": ""
    }
   },
   "source": [
    "#### Player Stat with more feature for ML prediction"
   ]
  },
  {
   "cell_type": "code",
   "execution_count": 0,
   "metadata": {
    "application/vnd.databricks.v1+cell": {
     "cellMetadata": {
      "byteLimit": 2048000,
      "rowLimit": 10000
     },
     "inputWidgets": {},
     "nuid": "66401af3-f7c5-4baf-a32a-bd823f8a38d2",
     "showTitle": false,
     "tableResultSettingsMap": {},
     "title": ""
    }
   },
   "outputs": [],
   "source": [
    "from pyspark.sql.functions import sum, avg, count, max, min, col\n",
    "\n",
    "try:\n",
    "    # Log the start of the aggregation process\n",
    "    logging.info(\"Starting to aggregate performance metrics from df_appearance_silver.\")\n",
    "\n",
    "    # Aggregate performance metrics from df_appearance\n",
    "    try:\n",
    "        df_performance = (\n",
    "            df_appearance_silver.groupBy(\"player_id\")\n",
    "            .agg(\n",
    "                sum(\"goals\").alias(\"total_goals\"),\n",
    "                sum(\"assists\").alias(\"total_assists\"),\n",
    "                round(avg(\"minutes_played\"), 2).alias(\"avg_minutes_played\"),\n",
    "                sum(\"yellow_cards\").alias(\"total_yellow_cards\"),\n",
    "                sum(\"red_cards\").alias(\"total_red_cards\")\n",
    "            )\n",
    "        )\n",
    "        logging.info(\"Successfully aggregated performance metrics from df_appearance_silver.\")\n",
    "    except Exception as e:\n",
    "        logging.error(f\"Failed to aggregate performance metrics from df_appearance_silver. Error: {str(e)}\")\n",
    "        raise RuntimeError(f\"Error during aggregation of df_appearance_silver: {str(e)}\") from e\n",
    "\n",
    "    # Aggregate game events from df_game_events\n",
    "    try:\n",
    "        logging.info(\"Starting to aggregate game events from df_game_events_silver.\")\n",
    "        df_game_events_agg = (\n",
    "            df_game_events_silver.groupBy(\"player_id\")\n",
    "            .agg(\n",
    "                count(\"game_event_id\").alias(\"total_game_events\"),\n",
    "                sum((col(\"type\") == \"Goal\").cast(\"int\")).alias(\"total_goals_from_events\"),\n",
    "                sum((col(\"type\") == \"Assist\").cast(\"int\")).alias(\"total_assists_from_events\")\n",
    "            )\n",
    "        )\n",
    "        logging.info(\"Successfully aggregated game events from df_game_events_silver.\")\n",
    "    except Exception as e:\n",
    "        logging.error(f\"Failed to aggregate game events from df_game_events_silver. Error: {str(e)}\")\n",
    "        raise RuntimeError(f\"Error during aggregation of df_game_events_silver: {str(e)}\") from e\n",
    "\n",
    "    # Aggregate transfer history from df_transfers\n",
    "    try:\n",
    "        logging.info(\"Starting to aggregate transfer history from df_transfers_silver.\")\n",
    "        df_transfer_history = (\n",
    "            df_transfers_silver.groupBy(\"player_id\")\n",
    "            .agg(\n",
    "                max(\"market_value_in_eur\").alias(\"max_market_value_at_transfer\"),\n",
    "                min(\"market_value_in_eur\").alias(\"min_market_value_at_transfer\")\n",
    "            )\n",
    "        )\n",
    "        logging.info(\"Successfully aggregated transfer history from df_transfers_silver.\")\n",
    "    except Exception as e:\n",
    "        logging.error(f\"Failed to aggregate transfer history from df_transfers_silver. Error: {str(e)}\")\n",
    "        raise RuntimeError(f\"Error during aggregation of df_transfers_silver: {str(e)}\") from e\n",
    "\n",
    "except Exception as e:\n",
    "    logging.error(f\"Critical failure during the aggregation process. Error: {str(e)}\")\n",
    "    raise RuntimeError(f\"Critical failure: {str(e)}\") from e"
   ]
  },
  {
   "cell_type": "code",
   "execution_count": 0,
   "metadata": {
    "application/vnd.databricks.v1+cell": {
     "cellMetadata": {
      "byteLimit": 2048000,
      "rowLimit": 10000
     },
     "inputWidgets": {},
     "nuid": "99556f60-fcd5-406c-9c7f-84c83a9e2855",
     "showTitle": false,
     "tableResultSettingsMap": {},
     "title": ""
    }
   },
   "outputs": [],
   "source": [
    "\n",
    "# Calculate age\n",
    "df_players_with_age = df_players_silver.withColumn(\n",
    "    \"age\",\n",
    "    floor(datediff(current_date(), col(\"date_of_birth\")) / 365.25)  \n",
    ")\n"
   ]
  },
  {
   "cell_type": "code",
   "execution_count": 0,
   "metadata": {
    "application/vnd.databricks.v1+cell": {
     "cellMetadata": {
      "byteLimit": 2048000,
      "rowLimit": 10000
     },
     "inputWidgets": {},
     "nuid": "f5138f57-211a-4d1e-b6a0-b82cac45f754",
     "showTitle": false,
     "tableResultSettingsMap": {},
     "title": ""
    }
   },
   "outputs": [],
   "source": [
    "\n",
    "try:\n",
    "    # Log the start of the process\n",
    "    logging.info(\"Starting to join performance metrics into df_player_features.\")\n",
    "\n",
    "    # Join performance metrics\n",
    "    try:\n",
    "        df_player_features = (\n",
    "            df_players_with_age.join(df_performance, df_players_with_age.player_id == df_performance.player_id, \"left\")\n",
    "            .join(df_game_events_agg, df_players_with_age.player_id == df_game_events_agg.player_id, \"left\")\n",
    "            .join(df_transfer_history, df_players_with_age.player_id == df_transfer_history.player_id, \"left\")\n",
    "        )\n",
    "        logging.info(\"Successfully joined performance metrics into df_player_features.\")\n",
    "    except Exception as e:\n",
    "        logging.error(f\"Failed to join performance metrics into df_player_features. Error: {str(e)}\")\n",
    "        raise RuntimeError(f\"Error during joining performance metrics: {str(e)}\") from e\n",
    "\n",
    "    # Add club-related features\n",
    "    try:\n",
    "        logging.info(\"Adding club-related features to df_player_features.\")\n",
    "        df_club_features = (\n",
    "            df_clubs_silver.select(\n",
    "                \"club_id\",\n",
    "                \"squad_size\",\n",
    "                \"average_age\",\n",
    "                \"foreigners_percentage\"\n",
    "            )\n",
    "        )\n",
    "        df_player_features = (\n",
    "            df_player_features\n",
    "            .join(df_club_features, df_player_features.current_club_id == df_club_features.club_id, \"left\")\n",
    "        )\n",
    "        logging.info(\"Successfully added club-related features to df_player_features.\")\n",
    "    except Exception as e:\n",
    "        logging.error(f\"Failed to add club-related features to df_player_features. Error: {str(e)}\")\n",
    "        raise RuntimeError(f\"Error during adding club-related features: {str(e)}\") from e\n",
    "\n",
    "    # Add competition-related features\n",
    "    try:\n",
    "        logging.info(\"Adding competition-related features to df_player_features.\")\n",
    "        df_competition_features = (\n",
    "            df_competitions_silver.select(\n",
    "                \"competition_id\",\n",
    "                \"is_major_national_league\",\n",
    "                \"country_name\"\n",
    "            )\n",
    "        )\n",
    "        df_player_features = (\n",
    "            df_player_features\n",
    "            .join(df_competition_features, df_player_features.current_club_domestic_competition_id == df_competition_features.competition_id, \"left\")\n",
    "        )\n",
    "        logging.info(\"Successfully added competition-related features to df_player_features.\")\n",
    "    except Exception as e:\n",
    "        logging.error(f\"Failed to add competition-related features to df_player_features. Error: {str(e)}\")\n",
    "        raise RuntimeError(f\"Error during adding competition-related features: {str(e)}\") from e\n",
    "\n",
    "except Exception as e:\n",
    "    logging.error(f\"Critical failure during the feature engineering process. Error: {str(e)}\")\n",
    "    raise RuntimeError(f\"Critical failure: {str(e)}\") from e"
   ]
  },
  {
   "cell_type": "code",
   "execution_count": 0,
   "metadata": {
    "application/vnd.databricks.v1+cell": {
     "cellMetadata": {
      "byteLimit": 2048000,
      "rowLimit": 10000
     },
     "inputWidgets": {},
     "nuid": "5bf82fc3-8819-4134-8b92-0714e3a2cf08",
     "showTitle": false,
     "tableResultSettingsMap": {},
     "title": ""
    }
   },
   "outputs": [],
   "source": [
    "df_final = (\n",
    "    df_player_features.select(\n",
    "        df_players_silver.player_id,\n",
    "        \"first_name\",\n",
    "        \"last_name\",\n",
    "        \"position\",\n",
    "        \"age\",  \n",
    "        \"height_in_cm\",\n",
    "        \"foot\",\n",
    "        \"contract_expiration_date\",\n",
    "        \"total_goals\",\n",
    "        \"total_assists\",\n",
    "        \"avg_minutes_played\",\n",
    "        \"total_yellow_cards\",\n",
    "        \"total_red_cards\",\n",
    "        \"total_game_events\",\n",
    "        \"max_market_value_at_transfer\",\n",
    "        \"min_market_value_at_transfer\",\n",
    "        \"squad_size\",\n",
    "        \"average_age\",\n",
    "        \"foreigners_percentage\",\n",
    "        \"is_major_national_league\",\n",
    "        \"market_value_in_eur\"  \n",
    "    )\n",
    "    .dropna() \n",
    ")"
   ]
  },
  {
   "cell_type": "code",
   "execution_count": 0,
   "metadata": {
    "application/vnd.databricks.v1+cell": {
     "cellMetadata": {
      "byteLimit": 2048000,
      "rowLimit": 10000
     },
     "inputWidgets": {},
     "nuid": "79de7b4e-b15b-482a-a12f-98c7db0ce23d",
     "showTitle": false,
     "tableResultSettingsMap": {},
     "title": ""
    }
   },
   "outputs": [],
   "source": [
    "from pyspark.sql.functions import datediff, current_date, col\n",
    "\n",
    "try:\n",
    "    # Log the start of the process\n",
    "    logging.info(\"Starting to transform the 'contract_expiration_date' column.\")\n",
    "\n",
    "    # Replace the old column with the calculated value\n",
    "    try:\n",
    "        df_final = df_final.withColumn(\n",
    "            \"contract_expiration_date\",  \n",
    "            (datediff(col(\"contract_expiration_date\"), current_date()) / 30).cast(\"integer\")\n",
    "        )\n",
    "        logging.info(\"Successfully replaced 'contract_expiration_date' with calculated months left.\")\n",
    "    except Exception as e:\n",
    "        logging.error(f\"Failed to calculate months left for 'contract_expiration_date'. Error: {str(e)}\")\n",
    "        raise RuntimeError(f\"Error during transformation of 'contract_expiration_date': {str(e)}\") from e\n",
    "\n",
    "    # Rename the column to a more meaningful name\n",
    "    try:\n",
    "        df_final = df_final.withColumnRenamed(\n",
    "            \"contract_expiration_date\",  \n",
    "            \"contract_months_left_to_expire\"  \n",
    "        )\n",
    "        logging.info(\"Successfully renamed 'contract_expiration_date' to 'contract_months_left_to_expire'.\")\n",
    "    except Exception as e:\n",
    "        logging.error(f\"Failed to rename 'contract_expiration_date' to 'contract_months_left_to_expire'. Error: {str(e)}\")\n",
    "        raise RuntimeError(f\"Error during column renaming: {str(e)}\") from e\n",
    "\n",
    "except Exception as e:\n",
    "    logging.error(f\"Critical failure during the transformation process. Error: {str(e)}\")\n",
    "    raise RuntimeError(f\"Critical failure: {str(e)}\") from e"
   ]
  },
  {
   "cell_type": "code",
   "execution_count": 0,
   "metadata": {
    "application/vnd.databricks.v1+cell": {
     "cellMetadata": {
      "byteLimit": 2048000,
      "rowLimit": 10000
     },
     "inputWidgets": {},
     "nuid": "e11c7adb-1a32-4189-8a0f-dac9d165c189",
     "showTitle": false,
     "tableResultSettingsMap": {},
     "title": ""
    }
   },
   "outputs": [
    {
     "output_type": "stream",
     "name": "stdout",
     "output_type": "stream",
     "text": [
      "Number of rows: 6762\n"
     ]
    }
   ],
   "source": [
    "row_count = df_final.count()\n",
    "print(f\"Number of rows: {row_count}\")\n"
   ]
  },
  {
   "cell_type": "code",
   "execution_count": 0,
   "metadata": {
    "application/vnd.databricks.v1+cell": {
     "cellMetadata": {
      "byteLimit": 2048000,
      "rowLimit": 10000
     },
     "inputWidgets": {},
     "nuid": "7457a161-03a7-4f04-a503-1b7e4c123912",
     "showTitle": false,
     "tableResultSettingsMap": {},
     "title": ""
    }
   },
   "outputs": [
    {
     "output_type": "stream",
     "name": "stdout",
     "output_type": "stream",
     "text": [
      "+---------+----------+---------+--------+---+------------+----+------------------------------+-----------+-------------+------------------+------------------+---------------+-----------------+----------------------------+----------------------------+----------+-----------+---------------------+------------------------+-------------------+\n|player_id|first_name|last_name|position|age|height_in_cm|foot|contract_months_left_to_expire|total_goals|total_assists|avg_minutes_played|total_yellow_cards|total_red_cards|total_game_events|max_market_value_at_transfer|min_market_value_at_transfer|squad_size|average_age|foreigners_percentage|is_major_national_league|market_value_in_eur|\n+---------+----------+---------+--------+---+------------+----+------------------------------+-----------+-------------+------------------+------------------+---------------+-----------------+----------------------------+----------------------------+----------+-----------+---------------------+------------------------+-------------------+\n|        0|         0|        0|       0|  0|           0|   0|                             0|          0|            0|                 0|                 0|              0|                0|                           0|                           0|         0|          0|                    0|                       0|                  0|\n+---------+----------+---------+--------+---+------------+----+------------------------------+-----------+-------------+------------------+------------------+---------------+-----------------+----------------------------+----------------------------+----------+-----------+---------------------+------------------------+-------------------+\n\n"
     ]
    }
   ],
   "source": [
    "missing_values_count = df_final.select([sum(col(c).isNull().cast(\"int\")).alias(c) for c in df_final.columns])\n",
    "\n",
    "missing_values_count.show()"
   ]
  },
  {
   "cell_type": "code",
   "execution_count": 0,
   "metadata": {
    "application/vnd.databricks.v1+cell": {
     "cellMetadata": {
      "byteLimit": 2048000,
      "rowLimit": 10000
     },
     "inputWidgets": {},
     "nuid": "bd6504d1-68e8-413f-8508-5183c3351399",
     "showTitle": false,
     "tableResultSettingsMap": {},
     "title": ""
    }
   },
   "outputs": [
    {
     "output_type": "stream",
     "name": "stdout",
     "output_type": "stream",
     "text": [
      "Number of records ingested: 6762\n"
     ]
    }
   ],
   "source": [
    "num_records = df_final.count()\n",
    "print(f\"Number of records ingested: {num_records}\")"
   ]
  },
  {
   "cell_type": "code",
   "execution_count": 0,
   "metadata": {
    "application/vnd.databricks.v1+cell": {
     "cellMetadata": {
      "byteLimit": 2048000,
      "rowLimit": 10000
     },
     "inputWidgets": {},
     "nuid": "61a85443-bd7b-4f45-9186-879d1e9f65dd",
     "showTitle": false,
     "tableResultSettingsMap": {},
     "title": ""
    }
   },
   "outputs": [
    {
     "output_type": "display_data",
     "data": {
      "text/html": [
       "<style scoped>\n",
       "  .table-result-container {\n",
       "    max-height: 300px;\n",
       "    overflow: auto;\n",
       "  }\n",
       "  table, th, td {\n",
       "    border: 1px solid black;\n",
       "    border-collapse: collapse;\n",
       "  }\n",
       "  th, td {\n",
       "    padding: 5px;\n",
       "  }\n",
       "  th {\n",
       "    text-align: left;\n",
       "  }\n",
       "</style><div class='table-result-container'><table class='table-result'><thead style='background-color: white'><tr><th>player_id</th><th>first_name</th><th>last_name</th><th>position</th><th>age</th><th>height_in_cm</th><th>foot</th><th>contract_months_left_to_expire</th><th>total_goals</th><th>total_assists</th><th>avg_minutes_played</th><th>total_yellow_cards</th><th>total_red_cards</th><th>total_game_events</th><th>max_market_value_at_transfer</th><th>min_market_value_at_transfer</th><th>squad_size</th><th>average_age</th><th>foreigners_percentage</th><th>is_major_national_league</th><th>market_value_in_eur</th></tr></thead><tbody><tr><td>45026</td><td>Rui</td><td>Patrício</td><td>Goalkeeper</td><td>37</td><td>190.0</td><td>left</td><td>3</td><td>0</td><td>0</td><td>90.26</td><td>8</td><td>0</td><td>12</td><td>1.0E7</td><td>1000000.0</td><td>26</td><td>27.6</td><td>53.8</td><td>true</td><td>1000000.0</td></tr><tr><td>125685</td><td>Luke</td><td>Berry</td><td>Midfield</td><td>32</td><td>177.0</td><td>right</td><td>15</td><td>2</td><td>3</td><td>23.75</td><td>2</td><td>0</td><td>15</td><td>400000.0</td><td>400000.0</td><td>30</td><td>26.1</td><td>53.3</td><td>true</td><td>400000.0</td></tr><tr><td>126014</td><td>Leandro</td><td>Bacuna</td><td>Defender</td><td>33</td><td>180.0</td><td>right</td><td>3</td><td>3</td><td>2</td><td>75.48</td><td>6</td><td>0</td><td>20</td><td>1800000.0</td><td>900000.0</td><td>28</td><td>24.4</td><td>32.1</td><td>false</td><td>350000.0</td></tr><tr><td>168678</td><td>Marvin</td><td>Schulz</td><td>Midfield</td><td>30</td><td>186.0</td><td>right</td><td>3</td><td>0</td><td>0</td><td>30.0</td><td>2</td><td>0</td><td>10</td><td>800000.0</td><td>800000.0</td><td>30</td><td>26.0</td><td>40.0</td><td>true</td><td>700000.0</td></tr><tr><td>257980</td><td>Jeroen</td><td>Houwen</td><td>Goalkeeper</td><td>29</td><td>188.0</td><td>right</td><td>3</td><td>0</td><td>0</td><td>86.42</td><td>0</td><td>0</td><td>2</td><td>400000.0</td><td>250000.0</td><td>30</td><td>26.5</td><td>46.7</td><td>false</td><td>300000.0</td></tr><tr><td>262226</td><td>Timothy</td><td>Castagne</td><td>Defender</td><td>29</td><td>185.0</td><td>right</td><td>27</td><td>7</td><td>12</td><td>78.88</td><td>9</td><td>0</td><td>38</td><td>2.5E7</td><td>1.8E7</td><td>25</td><td>28.2</td><td>80.0</td><td>true</td><td>1.5E7</td></tr><tr><td>273945</td><td>Miroslav</td><td>Bogosavac</td><td>Defender</td><td>28</td><td>176.0</td><td>left</td><td>27</td><td>0</td><td>14</td><td>82.25</td><td>13</td><td>0</td><td>24</td><td>1700000.0</td><td>1400000.0</td><td>28</td><td>27.6</td><td>39.3</td><td>false</td><td>1800000.0</td></tr><tr><td>290532</td><td>Saïd</td><td>Benrahma</td><td>Attack</td><td>29</td><td>172.0</td><td>right</td><td>27</td><td>24</td><td>22</td><td>56.95</td><td>4</td><td>1</td><td>124</td><td>2.2E7</td><td>2.0E7</td><td>27</td><td>28.4</td><td>66.7</td><td>true</td><td>2.0E7</td></tr><tr><td>308133</td><td>Ado</td><td>Onaiwu</td><td>Attack</td><td>29</td><td>180.0</td><td>right</td><td>15</td><td>4</td><td>1</td><td>29.53</td><td>0</td><td>1</td><td>17</td><td>1500000.0</td><td>1200000.0</td><td>28</td><td>25.2</td><td>60.7</td><td>true</td><td>1800000.0</td></tr><tr><td>325223</td><td>Mama</td><td>Baldé</td><td>Attack</td><td>29</td><td>176.0</td><td>right</td><td>27</td><td>30</td><td>15</td><td>60.5</td><td>15</td><td>2</td><td>112</td><td>8000000.0</td><td>4000000.0</td><td>26</td><td>27.1</td><td>38.5</td><td>true</td><td>4500000.0</td></tr></tbody></table></div>"
      ]
     },
     "metadata": {
      "application/vnd.databricks.v1+output": {
       "addedWidgets": {},
       "aggData": [],
       "aggError": "",
       "aggOverflow": false,
       "aggSchema": [],
       "aggSeriesLimitReached": false,
       "aggType": "",
       "arguments": {},
       "columnCustomDisplayInfos": {},
       "data": [
        [
         45026,
         "Rui",
         "Patrício",
         "Goalkeeper",
         37,
         190.0,
         "left",
         3,
         0,
         0,
         90.26,
         8,
         0,
         12,
         1.0E7,
         1000000.0,
         26,
         27.6,
         53.8,
         true,
         1000000.0
        ],
        [
         125685,
         "Luke",
         "Berry",
         "Midfield",
         32,
         177.0,
         "right",
         15,
         2,
         3,
         23.75,
         2,
         0,
         15,
         400000.0,
         400000.0,
         30,
         26.1,
         53.3,
         true,
         400000.0
        ],
        [
         126014,
         "Leandro",
         "Bacuna",
         "Defender",
         33,
         180.0,
         "right",
         3,
         3,
         2,
         75.48,
         6,
         0,
         20,
         1800000.0,
         900000.0,
         28,
         24.4,
         32.1,
         false,
         350000.0
        ],
        [
         168678,
         "Marvin",
         "Schulz",
         "Midfield",
         30,
         186.0,
         "right",
         3,
         0,
         0,
         30.0,
         2,
         0,
         10,
         800000.0,
         800000.0,
         30,
         26.0,
         40.0,
         true,
         700000.0
        ],
        [
         257980,
         "Jeroen",
         "Houwen",
         "Goalkeeper",
         29,
         188.0,
         "right",
         3,
         0,
         0,
         86.42,
         0,
         0,
         2,
         400000.0,
         250000.0,
         30,
         26.5,
         46.7,
         false,
         300000.0
        ],
        [
         262226,
         "Timothy",
         "Castagne",
         "Defender",
         29,
         185.0,
         "right",
         27,
         7,
         12,
         78.88,
         9,
         0,
         38,
         2.5E7,
         1.8E7,
         25,
         28.2,
         80.0,
         true,
         1.5E7
        ],
        [
         273945,
         "Miroslav",
         "Bogosavac",
         "Defender",
         28,
         176.0,
         "left",
         27,
         0,
         14,
         82.25,
         13,
         0,
         24,
         1700000.0,
         1400000.0,
         28,
         27.6,
         39.3,
         false,
         1800000.0
        ],
        [
         290532,
         "Saïd",
         "Benrahma",
         "Attack",
         29,
         172.0,
         "right",
         27,
         24,
         22,
         56.95,
         4,
         1,
         124,
         2.2E7,
         2.0E7,
         27,
         28.4,
         66.7,
         true,
         2.0E7
        ],
        [
         308133,
         "Ado",
         "Onaiwu",
         "Attack",
         29,
         180.0,
         "right",
         15,
         4,
         1,
         29.53,
         0,
         1,
         17,
         1500000.0,
         1200000.0,
         28,
         25.2,
         60.7,
         true,
         1800000.0
        ],
        [
         325223,
         "Mama",
         "Baldé",
         "Attack",
         29,
         176.0,
         "right",
         27,
         30,
         15,
         60.5,
         15,
         2,
         112,
         8000000.0,
         4000000.0,
         26,
         27.1,
         38.5,
         true,
         4500000.0
        ]
       ],
       "datasetInfos": [],
       "dbfsResultPath": null,
       "isJsonSchema": true,
       "metadata": {},
       "overflow": false,
       "plotOptions": {
        "customPlotOptions": {},
        "displayType": "table",
        "pivotAggregation": null,
        "pivotColumns": null,
        "xColumns": null,
        "yColumns": null
       },
       "removedWidgets": [],
       "schema": [
        {
         "metadata": "{}",
         "name": "player_id",
         "type": "\"long\""
        },
        {
         "metadata": "{}",
         "name": "first_name",
         "type": "\"string\""
        },
        {
         "metadata": "{}",
         "name": "last_name",
         "type": "\"string\""
        },
        {
         "metadata": "{}",
         "name": "position",
         "type": "\"string\""
        },
        {
         "metadata": "{}",
         "name": "age",
         "type": "\"long\""
        },
        {
         "metadata": "{}",
         "name": "height_in_cm",
         "type": "\"double\""
        },
        {
         "metadata": "{}",
         "name": "foot",
         "type": "\"string\""
        },
        {
         "metadata": "{}",
         "name": "contract_months_left_to_expire",
         "type": "\"long\""
        },
        {
         "metadata": "{}",
         "name": "total_goals",
         "type": "\"long\""
        },
        {
         "metadata": "{}",
         "name": "total_assists",
         "type": "\"long\""
        },
        {
         "metadata": "{}",
         "name": "avg_minutes_played",
         "type": "\"double\""
        },
        {
         "metadata": "{}",
         "name": "total_yellow_cards",
         "type": "\"long\""
        },
        {
         "metadata": "{}",
         "name": "total_red_cards",
         "type": "\"long\""
        },
        {
         "metadata": "{}",
         "name": "total_game_events",
         "type": "\"long\""
        },
        {
         "metadata": "{}",
         "name": "max_market_value_at_transfer",
         "type": "\"double\""
        },
        {
         "metadata": "{}",
         "name": "min_market_value_at_transfer",
         "type": "\"double\""
        },
        {
         "metadata": "{}",
         "name": "squad_size",
         "type": "\"long\""
        },
        {
         "metadata": "{}",
         "name": "average_age",
         "type": "\"double\""
        },
        {
         "metadata": "{}",
         "name": "foreigners_percentage",
         "type": "\"double\""
        },
        {
         "metadata": "{}",
         "name": "is_major_national_league",
         "type": "\"boolean\""
        },
        {
         "metadata": "{}",
         "name": "market_value_in_eur",
         "type": "\"double\""
        }
       ],
       "type": "table"
      }
     },
     "output_type": "display_data"
    }
   ],
   "source": [
    "display(df_final.head(10))"
   ]
  },
  {
   "cell_type": "code",
   "execution_count": 0,
   "metadata": {
    "application/vnd.databricks.v1+cell": {
     "cellMetadata": {
      "byteLimit": 2048000,
      "rowLimit": 10000
     },
     "inputWidgets": {},
     "nuid": "5d7e0f96-6358-4c7f-a7a7-65059b538c4a",
     "showTitle": false,
     "tableResultSettingsMap": {},
     "title": ""
    }
   },
   "outputs": [
    {
     "output_type": "stream",
     "name": "stdout",
     "output_type": "stream",
     "text": [
      "Final DataFrame written to the Delta table: gold.player_stats_and_valuations.\n"
     ]
    }
   ],
   "source": [
    "try:\n",
    "    # Log the start of the write operation\n",
    "    logging.info(\"Starting to write the final DataFrame to the Delta table: gold.player_stats_and_valuations.\")\n",
    "\n",
    "    # Write the final DataFrame to the Delta table\n",
    "    try:\n",
    "        df_final.write.format(\"delta\") \\\n",
    "                .mode(\"overwrite\") \\\n",
    "                .option(\"mergeSchema\", \"true\") \\\n",
    "                .saveAsTable(\"gold.player_stats_and_valuations\")\n",
    "        logging.info(\"Successfully wrote the final DataFrame to the Delta table: gold.player_stats_and_valuations.\")\n",
    "        print(\"Final DataFrame written to the Delta table: gold.player_stats_and_valuations.\")\n",
    "    except Exception as e:\n",
    "        logging.error(f\"Failed to write the final DataFrame to the Delta table. Error: {str(e)}\")\n",
    "        raise RuntimeError(f\"Error during Delta table write: {str(e)}\") from e\n",
    "\n",
    "except Exception as e:\n",
    "    logging.error(f\"Critical failure during the process. Error: {str(e)}\")\n",
    "    raise RuntimeError(f\"Critical failure: {str(e)}\") from e"
   ]
  },
  {
   "cell_type": "markdown",
   "metadata": {
    "application/vnd.databricks.v1+cell": {
     "cellMetadata": {},
     "inputWidgets": {},
     "nuid": "b5f5312f-e0b5-40c7-b55e-aa1d813f0cbf",
     "showTitle": false,
     "tableResultSettingsMap": {},
     "title": ""
    }
   },
   "source": [
    "**Optimize and Z-Order by player_id, position and market_value_in_eur**"
   ]
  },
  {
   "cell_type": "code",
   "execution_count": 0,
   "metadata": {
    "application/vnd.databricks.v1+cell": {
     "cellMetadata": {
      "byteLimit": 2048000,
      "implicitDf": true,
      "rowLimit": 10000
     },
     "inputWidgets": {},
     "nuid": "c0821a10-32ae-4d78-a9cd-691d7b9d8a31",
     "showTitle": false,
     "tableResultSettingsMap": {},
     "title": ""
    }
   },
   "outputs": [
    {
     "output_type": "display_data",
     "data": {
      "text/html": [
       "<style scoped>\n",
       "  .table-result-container {\n",
       "    max-height: 300px;\n",
       "    overflow: auto;\n",
       "  }\n",
       "  table, th, td {\n",
       "    border: 1px solid black;\n",
       "    border-collapse: collapse;\n",
       "  }\n",
       "  th, td {\n",
       "    padding: 5px;\n",
       "  }\n",
       "  th {\n",
       "    text-align: left;\n",
       "  }\n",
       "</style><div class='table-result-container'><table class='table-result'><thead style='background-color: white'><tr><th>path</th><th>metrics</th></tr></thead><tbody><tr><td>abfss://unity-catalog-storage@dbstoragebmlwakr3lruh6.dfs.core.windows.net/4332105040219628/__unitystorage/catalogs/882c4f0d-67c4-4c44-a2ce-e33636e464fc/tables/cf5bff45-5804-4ce1-b3d5-f048cadbd736</td><td>List(1, 2, List(232283, 232283, 232283.0, 1, 232283), List(106025, 145973, 125999.0, 2, 251998), 0, List(minCubeSize(107374182400), List(0, 0), List(2, 251998), 0, List(2, 251998), 1, null), null, 0, 1, 2, 0, false, 0, 0, 1742384177992, 1742384182532, 4, 1, null, List(0, 0), 21, 21, 607, 0, null)</td></tr></tbody></table></div>"
      ]
     },
     "metadata": {
      "application/vnd.databricks.v1+output": {
       "addedWidgets": {},
       "aggData": [],
       "aggError": "",
       "aggOverflow": false,
       "aggSchema": [],
       "aggSeriesLimitReached": false,
       "aggType": "",
       "arguments": {},
       "columnCustomDisplayInfos": {},
       "data": [
        [
         "abfss://unity-catalog-storage@dbstoragebmlwakr3lruh6.dfs.core.windows.net/4332105040219628/__unitystorage/catalogs/882c4f0d-67c4-4c44-a2ce-e33636e464fc/tables/cf5bff45-5804-4ce1-b3d5-f048cadbd736",
         [
          1,
          2,
          [
           232283,
           232283,
           232283.0,
           1,
           232283
          ],
          [
           106025,
           145973,
           125999.0,
           2,
           251998
          ],
          0,
          [
           "minCubeSize(107374182400)",
           [
            0,
            0
           ],
           [
            2,
            251998
           ],
           0,
           [
            2,
            251998
           ],
           1,
           null
          ],
          null,
          0,
          1,
          2,
          0,
          false,
          0,
          0,
          1742384177992,
          1742384182532,
          4,
          1,
          null,
          [
           0,
           0
          ],
          21,
          21,
          607,
          0,
          null
         ]
        ]
       ],
       "datasetInfos": [],
       "dbfsResultPath": null,
       "isJsonSchema": true,
       "metadata": {
        "createTempViewForImplicitDf": true,
        "dataframeName": "_sqldf",
        "executionCount": 32
       },
       "overflow": false,
       "plotOptions": {
        "customPlotOptions": {},
        "displayType": "table",
        "pivotAggregation": null,
        "pivotColumns": null,
        "xColumns": null,
        "yColumns": null
       },
       "removedWidgets": [],
       "schema": [
        {
         "metadata": "{}",
         "name": "path",
         "type": "\"string\""
        },
        {
         "metadata": "{}",
         "name": "metrics",
         "type": "{\"type\":\"struct\",\"fields\":[{\"name\":\"numFilesAdded\",\"type\":\"long\",\"nullable\":false,\"metadata\":{}},{\"name\":\"numFilesRemoved\",\"type\":\"long\",\"nullable\":false,\"metadata\":{}},{\"name\":\"filesAdded\",\"type\":{\"type\":\"struct\",\"fields\":[{\"name\":\"min\",\"type\":\"long\",\"nullable\":true,\"metadata\":{}},{\"name\":\"max\",\"type\":\"long\",\"nullable\":true,\"metadata\":{}},{\"name\":\"avg\",\"type\":\"double\",\"nullable\":false,\"metadata\":{}},{\"name\":\"totalFiles\",\"type\":\"long\",\"nullable\":false,\"metadata\":{}},{\"name\":\"totalSize\",\"type\":\"long\",\"nullable\":false,\"metadata\":{}}]},\"nullable\":true,\"metadata\":{}},{\"name\":\"filesRemoved\",\"type\":{\"type\":\"struct\",\"fields\":[{\"name\":\"min\",\"type\":\"long\",\"nullable\":true,\"metadata\":{}},{\"name\":\"max\",\"type\":\"long\",\"nullable\":true,\"metadata\":{}},{\"name\":\"avg\",\"type\":\"double\",\"nullable\":false,\"metadata\":{}},{\"name\":\"totalFiles\",\"type\":\"long\",\"nullable\":false,\"metadata\":{}},{\"name\":\"totalSize\",\"type\":\"long\",\"nullable\":false,\"metadata\":{}}]},\"nullable\":true,\"metadata\":{}},{\"name\":\"partitionsOptimized\",\"type\":\"long\",\"nullable\":false,\"metadata\":{}},{\"name\":\"zOrderStats\",\"type\":{\"type\":\"struct\",\"fields\":[{\"name\":\"strategyName\",\"type\":\"string\",\"nullable\":true,\"metadata\":{}},{\"name\":\"inputCubeFiles\",\"type\":{\"type\":\"struct\",\"fields\":[{\"name\":\"num\",\"type\":\"long\",\"nullable\":false,\"metadata\":{}},{\"name\":\"size\",\"type\":\"long\",\"nullable\":false,\"metadata\":{}}]},\"nullable\":true,\"metadata\":{}},{\"name\":\"inputOtherFiles\",\"type\":{\"type\":\"struct\",\"fields\":[{\"name\":\"num\",\"type\":\"long\",\"nullable\":false,\"metadata\":{}},{\"name\":\"size\",\"type\":\"long\",\"nullable\":false,\"metadata\":{}}]},\"nullable\":true,\"metadata\":{}},{\"name\":\"inputNumCubes\",\"type\":\"long\",\"nullable\":false,\"metadata\":{}},{\"name\":\"mergedFiles\",\"type\":{\"type\":\"struct\",\"fields\":[{\"name\":\"num\",\"type\":\"long\",\"nullable\":false,\"metadata\":{}},{\"name\":\"size\",\"type\":\"long\",\"nullable\":false,\"metadata\":{}}]},\"nullable\":true,\"metadata\":{}},{\"name\":\"numOutputCubes\",\"type\":\"long\",\"nullable\":false,\"metadata\":{}},{\"name\":\"mergedNumCubes\",\"type\":\"long\",\"nullable\":true,\"metadata\":{}}]},\"nullable\":true,\"metadata\":{}},{\"name\":\"clusteringStats\",\"type\":{\"type\":\"struct\",\"fields\":[{\"name\":\"inputZCubeFiles\",\"type\":{\"type\":\"struct\",\"fields\":[{\"name\":\"numFiles\",\"type\":\"long\",\"nullable\":false,\"metadata\":{}},{\"name\":\"size\",\"type\":\"long\",\"nullable\":false,\"metadata\":{}}]},\"nullable\":true,\"metadata\":{}},{\"name\":\"inputOtherFiles\",\"type\":{\"type\":\"struct\",\"fields\":[{\"name\":\"numFiles\",\"type\":\"long\",\"nullable\":false,\"metadata\":{}},{\"name\":\"size\",\"type\":\"long\",\"nullable\":false,\"metadata\":{}}]},\"nullable\":true,\"metadata\":{}},{\"name\":\"inputNumZCubes\",\"type\":\"long\",\"nullable\":false,\"metadata\":{}},{\"name\":\"mergedFiles\",\"type\":{\"type\":\"struct\",\"fields\":[{\"name\":\"numFiles\",\"type\":\"long\",\"nullable\":false,\"metadata\":{}},{\"name\":\"size\",\"type\":\"long\",\"nullable\":false,\"metadata\":{}}]},\"nullable\":true,\"metadata\":{}},{\"name\":\"numOutputZCubes\",\"type\":\"long\",\"nullable\":false,\"metadata\":{}}]},\"nullable\":true,\"metadata\":{}},{\"name\":\"numBins\",\"type\":\"long\",\"nullable\":false,\"metadata\":{}},{\"name\":\"numBatches\",\"type\":\"long\",\"nullable\":false,\"metadata\":{}},{\"name\":\"totalConsideredFiles\",\"type\":\"long\",\"nullable\":false,\"metadata\":{}},{\"name\":\"totalFilesSkipped\",\"type\":\"long\",\"nullable\":false,\"metadata\":{}},{\"name\":\"preserveInsertionOrder\",\"type\":\"boolean\",\"nullable\":false,\"metadata\":{}},{\"name\":\"numFilesSkippedToReduceWriteAmplification\",\"type\":\"long\",\"nullable\":false,\"metadata\":{}},{\"name\":\"numBytesSkippedToReduceWriteAmplification\",\"type\":\"long\",\"nullable\":false,\"metadata\":{}},{\"name\":\"startTimeMs\",\"type\":\"long\",\"nullable\":false,\"metadata\":{}},{\"name\":\"endTimeMs\",\"type\":\"long\",\"nullable\":false,\"metadata\":{}},{\"name\":\"totalClusterParallelism\",\"type\":\"long\",\"nullable\":false,\"metadata\":{}},{\"name\":\"totalScheduledTasks\",\"type\":\"long\",\"nullable\":false,\"metadata\":{}},{\"name\":\"autoCompactParallelismStats\",\"type\":{\"type\":\"struct\",\"fields\":[{\"name\":\"maxClusterActiveParallelism\",\"type\":\"long\",\"nullable\":true,\"metadata\":{}},{\"name\":\"minClusterActiveParallelism\",\"type\":\"long\",\"nullable\":true,\"metadata\":{}},{\"name\":\"maxSessionActiveParallelism\",\"type\":\"long\",\"nullable\":true,\"metadata\":{}},{\"name\":\"minSessionActiveParallelism\",\"type\":\"long\",\"nullable\":true,\"metadata\":{}}]},\"nullable\":true,\"metadata\":{}},{\"name\":\"deletionVectorStats\",\"type\":{\"type\":\"struct\",\"fields\":[{\"name\":\"numDeletionVectorsRemoved\",\"type\":\"long\",\"nullable\":false,\"metadata\":{}},{\"name\":\"numDeletionVectorRowsRemoved\",\"type\":\"long\",\"nullable\":false,\"metadata\":{}}]},\"nullable\":true,\"metadata\":{}},{\"name\":\"numTableColumns\",\"type\":\"long\",\"nullable\":false,\"metadata\":{}},{\"name\":\"numTableColumnsWithStats\",\"type\":\"long\",\"nullable\":false,\"metadata\":{}},{\"name\":\"totalTaskExecutionTimeMs\",\"type\":\"long\",\"nullable\":false,\"metadata\":{}},{\"name\":\"skippedArchivedFiles\",\"type\":\"long\",\"nullable\":false,\"metadata\":{}},{\"name\":\"clusteringMetrics\",\"type\":{\"type\":\"struct\",\"fields\":[{\"name\":\"sizeOfTableInBytesBeforeLazyClustering\",\"type\":\"long\",\"nullable\":false,\"metadata\":{}},{\"name\":\"isNewMetadataCreated\",\"type\":\"boolean\",\"nullable\":false,\"metadata\":{}},{\"name\":\"isPOTriggered\",\"type\":\"boolean\",\"nullable\":false,\"metadata\":{}},{\"name\":\"isFull\",\"type\":\"boolean\",\"nullable\":false,\"metadata\":{}},{\"name\":\"approxClusteringQuality\",\"type\":\"double\",\"nullable\":true,\"metadata\":{}},{\"name\":\"approxClusteringCoverage\",\"type\":\"double\",\"nullable\":true,\"metadata\":{}},{\"name\":\"numFilesSkippedWithoutStats\",\"type\":\"long\",\"nullable\":false,\"metadata\":{}},{\"name\":\"numFilesClassifiedToIntermediateNodes\",\"type\":\"long\",\"nullable\":false,\"metadata\":{}},{\"name\":\"sizeOfFilesClassifiedToIntermediateNodesInBytes\",\"type\":\"long\",\"nullable\":false,\"metadata\":{}},{\"name\":\"logicalSizeOfFilesClassifiedToIntermediateNodesInBytes\",\"type\":\"long\",\"nullable\":false,\"metadata\":{}},{\"name\":\"numFilesClassifiedToLeafNodes\",\"type\":\"long\",\"nullable\":false,\"metadata\":{}},{\"name\":\"sizeOfFilesClassifiedToLeafNodesInBytes\",\"type\":\"long\",\"nullable\":false,\"metadata\":{}},{\"name\":\"logicalSizeOfFilesClassifiedToLeafNodesInBytes\",\"type\":\"long\",\"nullable\":false,\"metadata\":{}},{\"name\":\"numThreadsForClassifier\",\"type\":\"integer\",\"nullable\":true,\"metadata\":{}},{\"name\":\"clusterThresholdStrategy\",\"type\":\"string\",\"nullable\":true,\"metadata\":{}},{\"name\":\"minFileSize\",\"type\":\"long\",\"nullable\":false,\"metadata\":{}},{\"name\":\"maxFileSize\",\"type\":\"long\",\"nullable\":false,\"metadata\":{}},{\"name\":\"nodeMinNumFilesToCompact\",\"type\":\"long\",\"nullable\":false,\"metadata\":{}},{\"name\":\"numIdealFiles\",\"type\":\"long\",\"nullable\":false,\"metadata\":{}},{\"name\":\"numIdealFilesWithTrimmedStringMaxValue\",\"type\":\"long\",\"nullable\":false,\"metadata\":{}},{\"name\":\"numClusteringTasksPlanned\",\"type\":\"integer\",\"nullable\":false,\"metadata\":{}},{\"name\":\"numCompactionTasksPlanned\",\"type\":\"integer\",\"nullable\":false,\"metadata\":{}},{\"name\":\"numOptimizeBatchesPlanned\",\"type\":\"integer\",\"nullable\":false,\"metadata\":{}},{\"name\":\"numLeafNodesExpanded\",\"type\":\"long\",\"nullable\":false,\"metadata\":{}},{\"name\":\"numLeafNodesClustered\",\"type\":\"long\",\"nullable\":false,\"metadata\":{}},{\"name\":\"numGetFilesForNodeCalls\",\"type\":\"long\",\"nullable\":false,\"metadata\":{}},{\"name\":\"numSamplingJobs\",\"type\":\"long\",\"nullable\":false,\"metadata\":{}},{\"name\":\"numLeafNodesCompacted\",\"type\":\"long\",\"nullable\":false,\"metadata\":{}},{\"name\":\"numIntermediateNodesCompacted\",\"type\":\"long\",\"nullable\":false,\"metadata\":{}},{\"name\":\"totalSizeOfDataToCompactInBytes\",\"type\":\"long\",\"nullable\":false,\"metadata\":{}},{\"name\":\"totalLogicalSizeOfDataToCompactInBytes\",\"type\":\"long\",\"nullable\":false,\"metadata\":{}},{\"name\":\"numIntermediateNodesClustered\",\"type\":\"long\",\"nullable\":false,\"metadata\":{}},{\"name\":\"numFilesSkippedAfterExpansion\",\"type\":\"long\",\"nullable\":false,\"metadata\":{}},{\"name\":\"totalSizeOfFilesSkippedAfterExpansionInBytes\",\"type\":\"long\",\"nullable\":false,\"metadata\":{}},{\"name\":\"totalLogicalSizeOfFilesSkippedAfterExpansionInBytes\",\"type\":\"long\",\"nullable\":false,\"metadata\":{}},{\"name\":\"totalSizeOfDataToRewriteInBytes\",\"type\":\"long\",\"nullable\":false,\"metadata\":{}},{\"name\":\"totalLogicalSizeOfDataToRewriteInBytes\",\"type\":\"long\",\"nullable\":false,\"metadata\":{}},{\"name\":\"timeMetrics\",\"type\":{\"type\":\"struct\",\"fields\":[{\"name\":\"classifierTimeMs\",\"type\":\"long\",\"nullable\":false,\"metadata\":{}},{\"name\":\"optimizerTimeMs\",\"type\":\"long\",\"nullable\":false,\"metadata\":{}},{\"name\":\"metadataLoadTimeMs\",\"type\":\"long\",\"nullable\":false,\"metadata\":{}},{\"name\":\"totalGetFilesForNodeCallsTimeMs\",\"type\":\"long\",\"nullable\":false,\"metadata\":{}},{\"name\":\"totalSamplingTimeMs\",\"type\":\"long\",\"nullable\":false,\"metadata\":{}},{\"name\":\"metadataCreationTimeMs\",\"type\":\"long\",\"nullable\":false,\"metadata\":{}}]},\"nullable\":true,\"metadata\":{}},{\"name\":\"maxOptimizeBatchesInParallel\",\"type\":\"long\",\"nullable\":false,\"metadata\":{}},{\"name\":\"currentIteration\",\"type\":\"integer\",\"nullable\":false,\"metadata\":{}},{\"name\":\"maxIterations\",\"type\":\"integer\",\"nullable\":false,\"metadata\":{}},{\"name\":\"clusteringStrategy\",\"type\":\"string\",\"nullable\":true,\"metadata\":{}}]},\"nullable\":true,\"metadata\":{}}]}"
        }
       ],
       "type": "table"
      }
     },
     "output_type": "display_data"
    }
   ],
   "source": [
    "%sql\n",
    "OPTIMIZE gold.player_stats_and_valuations\n",
    "ZORDER BY (player_id, position, market_value_in_eur);"
   ]
  },
  {
   "cell_type": "markdown",
   "metadata": {
    "application/vnd.databricks.v1+cell": {
     "cellMetadata": {},
     "inputWidgets": {},
     "nuid": "5d65b36c-51be-4e31-97ff-c0005bf54edf",
     "showTitle": false,
     "tableResultSettingsMap": {},
     "title": ""
    }
   },
   "source": [
    "**Aggregate performance metrics for each club**"
   ]
  },
  {
   "cell_type": "code",
   "execution_count": 0,
   "metadata": {
    "application/vnd.databricks.v1+cell": {
     "cellMetadata": {
      "byteLimit": 2048000,
      "rowLimit": 10000
     },
     "inputWidgets": {},
     "nuid": "97a376e0-5718-44b3-9e34-0648770f0baf",
     "showTitle": false,
     "tableResultSettingsMap": {},
     "title": ""
    }
   },
   "outputs": [],
   "source": [
    "from pyspark.sql.functions import sum, count, when, col\n",
    "\n",
    "try:\n",
    "    # Log the start of the process\n",
    "    logging.info(\"Starting to aggregate performance metrics for each club.\")\n",
    "\n",
    "    # Aggregate performance metrics for each club\n",
    "    try:\n",
    "        df_team_performance = (\n",
    "            df_club_games_silver.groupBy(\"club_id\")\n",
    "            .agg(\n",
    "                sum(when(col(\"is_win\") == 1, 1).otherwise(0)).alias(\"total_wins\"),\n",
    "                sum(when(col(\"is_win\") == 0, 1).otherwise(0)).alias(\"total_losses\"),\n",
    "                sum(when(col(\"own_goals\") == col(\"opponent_goals\"), 1).otherwise(0)).alias(\"total_draws\"),\n",
    "                sum(\"own_goals\").alias(\"total_goals_scored\"),\n",
    "                sum(\"opponent_goals\").alias(\"total_goals_conceded\"),\n",
    "                count(\"game_id\").alias(\"total_games_played\")\n",
    "            )\n",
    "        )\n",
    "        logging.info(\"Successfully aggregated performance metrics for each club.\")\n",
    "    except Exception as e:\n",
    "        logging.error(f\"Failed to aggregate performance metrics for clubs. Error: {str(e)}\")\n",
    "        raise RuntimeError(f\"Error during aggregation of club performance metrics: {str(e)}\") from e\n",
    "\n",
    "    # Calculate points (3 points for a win, 1 point for a draw)\n",
    "    try:\n",
    "        df_team_performance = (\n",
    "            df_team_performance.withColumn(\n",
    "                \"total_points\",\n",
    "                col(\"total_wins\") * 3 + col(\"total_draws\")\n",
    "            )\n",
    "        )\n",
    "        logging.info(\"Successfully calculated total points for each club.\")\n",
    "    except Exception as e:\n",
    "        logging.error(f\"Failed to calculate total points for clubs. Error: {str(e)}\")\n",
    "        raise RuntimeError(f\"Error during calculation of total points: {str(e)}\") from e\n",
    "\n",
    "    # Add average goals scored and conceded per game\n",
    "    try:\n",
    "        df_team_performance = (\n",
    "            df_team_performance.withColumn(\n",
    "                \"avg_goals_scored_per_game\",\n",
    "                col(\"total_goals_scored\") / col(\"total_games_played\")\n",
    "            ).withColumn(\n",
    "                \"avg_goals_conceded_per_game\",\n",
    "                col(\"total_goals_conceded\") / col(\"total_games_played\")\n",
    "            )\n",
    "        )\n",
    "        logging.info(\"Successfully calculated average goals scored and conceded per game for each club.\")\n",
    "    except Exception as e:\n",
    "        logging.error(f\"Failed to calculate average goals scored and conceded per game. Error: {str(e)}\")\n",
    "        raise RuntimeError(f\"Error during calculation of average goals: {str(e)}\") from e\n",
    "\n",
    "except Exception as e:\n",
    "    logging.error(f\"Critical failure during the process. Error: {str(e)}\")\n",
    "    raise RuntimeError(f\"Critical failure: {str(e)}\") from e"
   ]
  },
  {
   "cell_type": "markdown",
   "metadata": {
    "application/vnd.databricks.v1+cell": {
     "cellMetadata": {},
     "inputWidgets": {},
     "nuid": "d50500db-c687-4e80-af31-7350caaf1a6c",
     "showTitle": false,
     "tableResultSettingsMap": {},
     "title": ""
    }
   },
   "source": [
    "**Join with df_clubs to get club names**"
   ]
  },
  {
   "cell_type": "code",
   "execution_count": 0,
   "metadata": {
    "application/vnd.databricks.v1+cell": {
     "cellMetadata": {
      "byteLimit": 2048000,
      "rowLimit": 10000
     },
     "inputWidgets": {},
     "nuid": "b1d81c49-3f43-4766-9f33-42161d5200d1",
     "showTitle": false,
     "tableResultSettingsMap": {},
     "title": ""
    }
   },
   "outputs": [],
   "source": [
    "# Join with df_clubs to get club names\n",
    "df_team_performance_with_names = (\n",
    "    df_team_performance\n",
    "    .join(df_clubs_silver.select(\"club_id\", \"name\"), df_team_performance.club_id == df_clubs_silver.club_id, \"left\")\n",
    "    .select(\n",
    "        \"name\",\n",
    "        \"total_wins\",\n",
    "        \"total_losses\",\n",
    "        \"total_draws\",\n",
    "        \"total_goals_scored\",\n",
    "        \"total_goals_conceded\",\n",
    "        \"total_points\",\n",
    "        round(\"avg_goals_scored_per_game\", 2).alias(\"avg_goals_scored_per_game\"),\n",
    "        round(\"avg_goals_conceded_per_game\", 2).alias(\"avg_goals_conceded_per_game\")\n",
    "    )\n",
    ")"
   ]
  },
  {
   "cell_type": "markdown",
   "metadata": {
    "application/vnd.databricks.v1+cell": {
     "cellMetadata": {},
     "inputWidgets": {},
     "nuid": "57d25331-0a62-4d36-9ab8-f8d49dee21c6",
     "showTitle": false,
     "tableResultSettingsMap": {},
     "title": ""
    }
   },
   "source": [
    "**Show the top-performing teams**"
   ]
  },
  {
   "cell_type": "code",
   "execution_count": 0,
   "metadata": {
    "application/vnd.databricks.v1+cell": {
     "cellMetadata": {
      "byteLimit": 2048000,
      "rowLimit": 10000
     },
     "inputWidgets": {},
     "nuid": "94f55a60-248c-4bbf-93de-293305c12948",
     "showTitle": false,
     "tableResultSettingsMap": {},
     "title": ""
    }
   },
   "outputs": [
    {
     "output_type": "display_data",
     "data": {
      "text/html": [
       "<style scoped>\n",
       "  .table-result-container {\n",
       "    max-height: 300px;\n",
       "    overflow: auto;\n",
       "  }\n",
       "  table, th, td {\n",
       "    border: 1px solid black;\n",
       "    border-collapse: collapse;\n",
       "  }\n",
       "  th, td {\n",
       "    padding: 5px;\n",
       "  }\n",
       "  th {\n",
       "    text-align: left;\n",
       "  }\n",
       "</style><div class='table-result-container'><table class='table-result'><thead style='background-color: white'><tr><th>name</th><th>total_wins</th><th>total_losses</th><th>total_draws</th><th>total_goals_scored</th><th>total_goals_conceded</th><th>total_points</th><th>avg_goals_scored_per_game</th><th>avg_goals_conceded_per_game</th></tr></thead><tbody><tr><td>Real Madrid Club de Fútbol</td><td>500</td><td>232</td><td>121</td><td>1734</td><td>743</td><td>1621</td><td>2.37</td><td>1.02</td></tr><tr><td>Futbol Club Barcelona</td><td>497</td><td>228</td><td>119</td><td>1768</td><td>705</td><td>1610</td><td>2.44</td><td>0.97</td></tr><tr><td>FC Bayern München</td><td>488</td><td>166</td><td>80</td><td>1784</td><td>624</td><td>1544</td><td>2.73</td><td>0.95</td></tr><tr><td>Manchester City Football Club</td><td>463</td><td>227</td><td>103</td><td>1627</td><td>674</td><td>1492</td><td>2.36</td><td>0.98</td></tr><tr><td>The Celtic Football Club</td><td>450</td><td>207</td><td>102</td><td>1519</td><td>594</td><td>1452</td><td>2.31</td><td>0.9</td></tr><tr><td>Juventus Football Club</td><td>434</td><td>241</td><td>128</td><td>1229</td><td>577</td><td>1430</td><td>1.82</td><td>0.85</td></tr><tr><td>Club Atlético de Madrid S.A.D.</td><td>411</td><td>282</td><td>150</td><td>1193</td><td>596</td><td>1383</td><td>1.72</td><td>0.86</td></tr><tr><td>Sport Lisboa e Benfica</td><td>422</td><td>202</td><td>103</td><td>1354</td><td>560</td><td>1369</td><td>2.17</td><td>0.9</td></tr><tr><td>Paris Saint-Germain Football Club</td><td>415</td><td>190</td><td>105</td><td>1420</td><td>523</td><td>1350</td><td>2.35</td><td>0.86</td></tr><tr><td>Liverpool Football Club</td><td>402</td><td>265</td><td>143</td><td>1393</td><td>729</td><td>1349</td><td>2.09</td><td>1.09</td></tr></tbody></table></div>"
      ]
     },
     "metadata": {
      "application/vnd.databricks.v1+output": {
       "addedWidgets": {},
       "aggData": [],
       "aggError": "",
       "aggOverflow": false,
       "aggSchema": [],
       "aggSeriesLimitReached": false,
       "aggType": "",
       "arguments": {},
       "columnCustomDisplayInfos": {},
       "data": [
        [
         "Real Madrid Club de Fútbol",
         500,
         232,
         121,
         1734,
         743,
         1621,
         2.37,
         1.02
        ],
        [
         "Futbol Club Barcelona",
         497,
         228,
         119,
         1768,
         705,
         1610,
         2.44,
         0.97
        ],
        [
         "FC Bayern München",
         488,
         166,
         80,
         1784,
         624,
         1544,
         2.73,
         0.95
        ],
        [
         "Manchester City Football Club",
         463,
         227,
         103,
         1627,
         674,
         1492,
         2.36,
         0.98
        ],
        [
         "The Celtic Football Club",
         450,
         207,
         102,
         1519,
         594,
         1452,
         2.31,
         0.9
        ],
        [
         "Juventus Football Club",
         434,
         241,
         128,
         1229,
         577,
         1430,
         1.82,
         0.85
        ],
        [
         "Club Atlético de Madrid S.A.D.",
         411,
         282,
         150,
         1193,
         596,
         1383,
         1.72,
         0.86
        ],
        [
         "Sport Lisboa e Benfica",
         422,
         202,
         103,
         1354,
         560,
         1369,
         2.17,
         0.9
        ],
        [
         "Paris Saint-Germain Football Club",
         415,
         190,
         105,
         1420,
         523,
         1350,
         2.35,
         0.86
        ],
        [
         "Liverpool Football Club",
         402,
         265,
         143,
         1393,
         729,
         1349,
         2.09,
         1.09
        ]
       ],
       "datasetInfos": [],
       "dbfsResultPath": null,
       "isJsonSchema": true,
       "metadata": {},
       "overflow": false,
       "plotOptions": {
        "customPlotOptions": {},
        "displayType": "table",
        "pivotAggregation": null,
        "pivotColumns": null,
        "xColumns": null,
        "yColumns": null
       },
       "removedWidgets": [],
       "schema": [
        {
         "metadata": "{}",
         "name": "name",
         "type": "\"string\""
        },
        {
         "metadata": "{}",
         "name": "total_wins",
         "type": "\"long\""
        },
        {
         "metadata": "{}",
         "name": "total_losses",
         "type": "\"long\""
        },
        {
         "metadata": "{}",
         "name": "total_draws",
         "type": "\"long\""
        },
        {
         "metadata": "{}",
         "name": "total_goals_scored",
         "type": "\"long\""
        },
        {
         "metadata": "{}",
         "name": "total_goals_conceded",
         "type": "\"long\""
        },
        {
         "metadata": "{}",
         "name": "total_points",
         "type": "\"long\""
        },
        {
         "metadata": "{}",
         "name": "avg_goals_scored_per_game",
         "type": "\"double\""
        },
        {
         "metadata": "{}",
         "name": "avg_goals_conceded_per_game",
         "type": "\"double\""
        }
       ],
       "type": "table"
      }
     },
     "output_type": "display_data"
    }
   ],
   "source": [
    "# Sort by total points in descending order\n",
    "df_team_performance_sorted = df_team_performance_with_names.orderBy(col(\"total_points\").desc())\n",
    "\n",
    "# Show the top-performing teams\n",
    "display(df_team_performance_sorted.head(10))"
   ]
  },
  {
   "cell_type": "markdown",
   "metadata": {
    "application/vnd.databricks.v1+cell": {
     "cellMetadata": {},
     "inputWidgets": {},
     "nuid": "4181d642-afa3-4945-9dfc-4b9afac2f3b1",
     "showTitle": false,
     "tableResultSettingsMap": {},
     "title": ""
    }
   },
   "source": [
    "### Transfer Market Trend"
   ]
  },
  {
   "cell_type": "markdown",
   "metadata": {
    "application/vnd.databricks.v1+cell": {
     "cellMetadata": {},
     "inputWidgets": {},
     "nuid": "ba9bb61e-4f07-47ed-aa10-ec1d7d615b2f",
     "showTitle": false,
     "tableResultSettingsMap": {},
     "title": ""
    }
   },
   "source": [
    "**Aggregate transfer metrics by season**"
   ]
  },
  {
   "cell_type": "code",
   "execution_count": 0,
   "metadata": {
    "application/vnd.databricks.v1+cell": {
     "cellMetadata": {
      "byteLimit": 2048000,
      "rowLimit": 10000
     },
     "inputWidgets": {},
     "nuid": "ea9783c6-85fe-423f-a978-7ccb62eb7a9f",
     "showTitle": false,
     "tableResultSettingsMap": {},
     "title": ""
    }
   },
   "outputs": [],
   "source": [
    "try:\n",
    "    # Log the start of the process\n",
    "    logging.info(\"Starting to aggregate transfer metrics by season.\")\n",
    "\n",
    "    # Aggregate transfer metrics by season\n",
    "    try:\n",
    "        df_transfer_trends = (\n",
    "            df_transfers_silver.groupBy(\"transfer_season\")\n",
    "            .agg(\n",
    "                round(avg(\"market_value_in_eur\"), 2).alias(\"avg_market_value\"),\n",
    "                count(\"player_id\").alias(\"total_transfers\")\n",
    "            )\n",
    "        )\n",
    "        logging.info(\"Successfully aggregated transfer metrics by season.\")\n",
    "    except Exception as e:\n",
    "        logging.error(f\"Failed to aggregate transfer metrics by season. Error: {str(e)}\")\n",
    "        raise RuntimeError(f\"Error during aggregation of transfer metrics: {str(e)}\") from e\n",
    "\n",
    "except Exception as e:\n",
    "    logging.error(f\"Critical failure during the process. Error: {str(e)}\")\n",
    "    raise RuntimeError(f\"Critical failure: {str(e)}\") from e"
   ]
  },
  {
   "cell_type": "markdown",
   "metadata": {
    "application/vnd.databricks.v1+cell": {
     "cellMetadata": {},
     "inputWidgets": {},
     "nuid": "f156a048-31e7-4359-ac9a-1852742a02d5",
     "showTitle": false,
     "tableResultSettingsMap": {},
     "title": ""
    }
   },
   "source": [
    "**Show the results**"
   ]
  },
  {
   "cell_type": "code",
   "execution_count": 0,
   "metadata": {
    "application/vnd.databricks.v1+cell": {
     "cellMetadata": {
      "byteLimit": 2048000,
      "rowLimit": 10000
     },
     "inputWidgets": {},
     "nuid": "c15d6e13-037c-4b3e-9598-69a2a31e0088",
     "showTitle": false,
     "tableResultSettingsMap": {},
     "title": ""
    }
   },
   "outputs": [
    {
     "output_type": "display_data",
     "data": {
      "text/html": [
       "<style scoped>\n",
       "  .table-result-container {\n",
       "    max-height: 300px;\n",
       "    overflow: auto;\n",
       "  }\n",
       "  table, th, td {\n",
       "    border: 1px solid black;\n",
       "    border-collapse: collapse;\n",
       "  }\n",
       "  th, td {\n",
       "    padding: 5px;\n",
       "  }\n",
       "  th {\n",
       "    text-align: left;\n",
       "  }\n",
       "</style><div class='table-result-container'><table class='table-result'><thead style='background-color: white'><tr><th>transfer_season</th><th>avg_market_value</th><th>total_transfers</th></tr></thead><tbody><tr><td>18/19</td><td>0.0</td><td>2</td></tr><tr><td>24/25</td><td>2970707.19</td><td>6038</td></tr><tr><td>19/20</td><td>2100439.37</td><td>2276</td></tr><tr><td>21/22</td><td>1758433.82</td><td>7397</td></tr><tr><td>25/26</td><td>5730743.24</td><td>74</td></tr><tr><td>23/24</td><td>2233307.09</td><td>8509</td></tr><tr><td>22/23</td><td>2095775.05</td><td>8135</td></tr><tr><td>20/21</td><td>1543683.09</td><td>6819</td></tr><tr><td>26/27</td><td>500000.0</td><td>1</td></tr></tbody></table></div>"
      ]
     },
     "metadata": {
      "application/vnd.databricks.v1+output": {
       "addedWidgets": {},
       "aggData": [],
       "aggError": "",
       "aggOverflow": false,
       "aggSchema": [],
       "aggSeriesLimitReached": false,
       "aggType": "",
       "arguments": {},
       "columnCustomDisplayInfos": {},
       "data": [
        [
         "18/19",
         0.0,
         2
        ],
        [
         "24/25",
         2970707.19,
         6038
        ],
        [
         "19/20",
         2100439.37,
         2276
        ],
        [
         "21/22",
         1758433.82,
         7397
        ],
        [
         "25/26",
         5730743.24,
         74
        ],
        [
         "23/24",
         2233307.09,
         8509
        ],
        [
         "22/23",
         2095775.05,
         8135
        ],
        [
         "20/21",
         1543683.09,
         6819
        ],
        [
         "26/27",
         500000.0,
         1
        ]
       ],
       "datasetInfos": [],
       "dbfsResultPath": null,
       "isJsonSchema": true,
       "metadata": {},
       "overflow": false,
       "plotOptions": {
        "customPlotOptions": {},
        "displayType": "table",
        "pivotAggregation": null,
        "pivotColumns": null,
        "xColumns": null,
        "yColumns": null
       },
       "removedWidgets": [],
       "schema": [
        {
         "metadata": "{}",
         "name": "transfer_season",
         "type": "\"string\""
        },
        {
         "metadata": "{}",
         "name": "avg_market_value",
         "type": "\"double\""
        },
        {
         "metadata": "{}",
         "name": "total_transfers",
         "type": "\"long\""
        }
       ],
       "type": "table"
      }
     },
     "output_type": "display_data"
    }
   ],
   "source": [
    "# Show the results\n",
    "display(df_transfer_trends.head(10))"
   ]
  },
  {
   "cell_type": "markdown",
   "metadata": {
    "application/vnd.databricks.v1+cell": {
     "cellMetadata": {},
     "inputWidgets": {},
     "nuid": "7f838cf4-3328-45b1-b195-5ce8a09e90a0",
     "showTitle": false,
     "tableResultSettingsMap": {},
     "title": ""
    }
   },
   "source": [
    "**Save team performance analysis**"
   ]
  },
  {
   "cell_type": "code",
   "execution_count": 0,
   "metadata": {
    "application/vnd.databricks.v1+cell": {
     "cellMetadata": {
      "byteLimit": 2048000,
      "rowLimit": 10000
     },
     "inputWidgets": {},
     "nuid": "ad367156-1483-46a1-bef5-b232e408a303",
     "showTitle": false,
     "tableResultSettingsMap": {},
     "title": ""
    }
   },
   "outputs": [
    {
     "output_type": "stream",
     "name": "stdout",
     "output_type": "stream",
     "text": [
      "Team performance analysis saved to the Delta table: gold.team_performance_analysis.\n"
     ]
    }
   ],
   "source": [
    "try:\n",
    "    # Log the start of the write operation\n",
    "    logging.info(\"Starting to save the team performance analysis to the Delta table: gold.team_performance_analysis.\")\n",
    "\n",
    "    # Save team performance analysis to Delta table\n",
    "    try:\n",
    "        df_team_performance_sorted.write.format(\"delta\") \\\n",
    "                                  .mode(\"overwrite\") \\\n",
    "                                  .option(\"mergeSchema\", \"true\") \\\n",
    "                                  .saveAsTable(\"gold.team_performance_analysis\")\n",
    "        logging.info(\"Successfully saved the team performance analysis to the Delta table: gold.team_performance_analysis.\")\n",
    "        print(\"Team performance analysis saved to the Delta table: gold.team_performance_analysis.\")\n",
    "    except Exception as e:\n",
    "        logging.error(f\"Failed to save the team performance analysis to the Delta table. Error: {str(e)}\")\n",
    "        raise RuntimeError(f\"Error during Delta table write: {str(e)}\") from e\n",
    "\n",
    "except Exception as e:\n",
    "    logging.error(f\"Critical failure during the process. Error: {str(e)}\")\n",
    "    raise RuntimeError(f\"Critical failure: {str(e)}\") from e"
   ]
  },
  {
   "cell_type": "markdown",
   "metadata": {
    "application/vnd.databricks.v1+cell": {
     "cellMetadata": {},
     "inputWidgets": {},
     "nuid": "bc780da5-a949-4aa6-a75b-91da70105cb8",
     "showTitle": false,
     "tableResultSettingsMap": {},
     "title": ""
    }
   },
   "source": [
    "**Optimize and Z-Order by name and total_points**"
   ]
  },
  {
   "cell_type": "code",
   "execution_count": 0,
   "metadata": {
    "application/vnd.databricks.v1+cell": {
     "cellMetadata": {
      "byteLimit": 2048000,
      "implicitDf": true,
      "rowLimit": 10000
     },
     "inputWidgets": {},
     "nuid": "1c9a1b72-52c9-45b8-8d5a-960b3745a553",
     "showTitle": false,
     "tableResultSettingsMap": {},
     "title": ""
    }
   },
   "outputs": [
    {
     "output_type": "display_data",
     "data": {
      "text/html": [
       "<style scoped>\n",
       "  .table-result-container {\n",
       "    max-height: 300px;\n",
       "    overflow: auto;\n",
       "  }\n",
       "  table, th, td {\n",
       "    border: 1px solid black;\n",
       "    border-collapse: collapse;\n",
       "  }\n",
       "  th, td {\n",
       "    padding: 5px;\n",
       "  }\n",
       "  th {\n",
       "    text-align: left;\n",
       "  }\n",
       "</style><div class='table-result-container'><table class='table-result'><thead style='background-color: white'><tr><th>path</th><th>metrics</th></tr></thead><tbody><tr><td>abfss://unity-catalog-storage@dbstoragebmlwakr3lruh6.dfs.core.windows.net/4332105040219628/__unitystorage/catalogs/882c4f0d-67c4-4c44-a2ce-e33636e464fc/tables/0ffc746f-e50e-406e-b7a1-392cdde126ed</td><td>List(0, 0, List(null, null, 0.0, 0, 0), List(null, null, 0.0, 0, 0), 0, List(minCubeSize(107374182400), List(0, 0), List(1, 39724), 0, List(0, 0), 0, null), null, 0, 0, 1, 1, false, 0, 0, 1742350839993, 1742350842337, 4, 0, null, List(0, 0), 9, 9, 0, 0, null)</td></tr></tbody></table></div>"
      ]
     },
     "metadata": {
      "application/vnd.databricks.v1+output": {
       "addedWidgets": {},
       "aggData": [],
       "aggError": "",
       "aggOverflow": false,
       "aggSchema": [],
       "aggSeriesLimitReached": false,
       "aggType": "",
       "arguments": {},
       "columnCustomDisplayInfos": {},
       "data": [
        [
         "abfss://unity-catalog-storage@dbstoragebmlwakr3lruh6.dfs.core.windows.net/4332105040219628/__unitystorage/catalogs/882c4f0d-67c4-4c44-a2ce-e33636e464fc/tables/0ffc746f-e50e-406e-b7a1-392cdde126ed",
         [
          0,
          0,
          [
           null,
           null,
           0.0,
           0,
           0
          ],
          [
           null,
           null,
           0.0,
           0,
           0
          ],
          0,
          [
           "minCubeSize(107374182400)",
           [
            0,
            0
           ],
           [
            1,
            39724
           ],
           0,
           [
            0,
            0
           ],
           0,
           null
          ],
          null,
          0,
          0,
          1,
          1,
          false,
          0,
          0,
          1742350839993,
          1742350842337,
          4,
          0,
          null,
          [
           0,
           0
          ],
          9,
          9,
          0,
          0,
          null
         ]
        ]
       ],
       "datasetInfos": [],
       "dbfsResultPath": null,
       "isJsonSchema": true,
       "metadata": {
        "createTempViewForImplicitDf": true,
        "dataframeName": "_sqldf",
        "executionCount": 46
       },
       "overflow": false,
       "plotOptions": {
        "customPlotOptions": {},
        "displayType": "table",
        "pivotAggregation": null,
        "pivotColumns": null,
        "xColumns": null,
        "yColumns": null
       },
       "removedWidgets": [],
       "schema": [
        {
         "metadata": "{}",
         "name": "path",
         "type": "\"string\""
        },
        {
         "metadata": "{}",
         "name": "metrics",
         "type": "{\"type\":\"struct\",\"fields\":[{\"name\":\"numFilesAdded\",\"type\":\"long\",\"nullable\":false,\"metadata\":{}},{\"name\":\"numFilesRemoved\",\"type\":\"long\",\"nullable\":false,\"metadata\":{}},{\"name\":\"filesAdded\",\"type\":{\"type\":\"struct\",\"fields\":[{\"name\":\"min\",\"type\":\"long\",\"nullable\":true,\"metadata\":{}},{\"name\":\"max\",\"type\":\"long\",\"nullable\":true,\"metadata\":{}},{\"name\":\"avg\",\"type\":\"double\",\"nullable\":false,\"metadata\":{}},{\"name\":\"totalFiles\",\"type\":\"long\",\"nullable\":false,\"metadata\":{}},{\"name\":\"totalSize\",\"type\":\"long\",\"nullable\":false,\"metadata\":{}}]},\"nullable\":true,\"metadata\":{}},{\"name\":\"filesRemoved\",\"type\":{\"type\":\"struct\",\"fields\":[{\"name\":\"min\",\"type\":\"long\",\"nullable\":true,\"metadata\":{}},{\"name\":\"max\",\"type\":\"long\",\"nullable\":true,\"metadata\":{}},{\"name\":\"avg\",\"type\":\"double\",\"nullable\":false,\"metadata\":{}},{\"name\":\"totalFiles\",\"type\":\"long\",\"nullable\":false,\"metadata\":{}},{\"name\":\"totalSize\",\"type\":\"long\",\"nullable\":false,\"metadata\":{}}]},\"nullable\":true,\"metadata\":{}},{\"name\":\"partitionsOptimized\",\"type\":\"long\",\"nullable\":false,\"metadata\":{}},{\"name\":\"zOrderStats\",\"type\":{\"type\":\"struct\",\"fields\":[{\"name\":\"strategyName\",\"type\":\"string\",\"nullable\":true,\"metadata\":{}},{\"name\":\"inputCubeFiles\",\"type\":{\"type\":\"struct\",\"fields\":[{\"name\":\"num\",\"type\":\"long\",\"nullable\":false,\"metadata\":{}},{\"name\":\"size\",\"type\":\"long\",\"nullable\":false,\"metadata\":{}}]},\"nullable\":true,\"metadata\":{}},{\"name\":\"inputOtherFiles\",\"type\":{\"type\":\"struct\",\"fields\":[{\"name\":\"num\",\"type\":\"long\",\"nullable\":false,\"metadata\":{}},{\"name\":\"size\",\"type\":\"long\",\"nullable\":false,\"metadata\":{}}]},\"nullable\":true,\"metadata\":{}},{\"name\":\"inputNumCubes\",\"type\":\"long\",\"nullable\":false,\"metadata\":{}},{\"name\":\"mergedFiles\",\"type\":{\"type\":\"struct\",\"fields\":[{\"name\":\"num\",\"type\":\"long\",\"nullable\":false,\"metadata\":{}},{\"name\":\"size\",\"type\":\"long\",\"nullable\":false,\"metadata\":{}}]},\"nullable\":true,\"metadata\":{}},{\"name\":\"numOutputCubes\",\"type\":\"long\",\"nullable\":false,\"metadata\":{}},{\"name\":\"mergedNumCubes\",\"type\":\"long\",\"nullable\":true,\"metadata\":{}}]},\"nullable\":true,\"metadata\":{}},{\"name\":\"clusteringStats\",\"type\":{\"type\":\"struct\",\"fields\":[{\"name\":\"inputZCubeFiles\",\"type\":{\"type\":\"struct\",\"fields\":[{\"name\":\"numFiles\",\"type\":\"long\",\"nullable\":false,\"metadata\":{}},{\"name\":\"size\",\"type\":\"long\",\"nullable\":false,\"metadata\":{}}]},\"nullable\":true,\"metadata\":{}},{\"name\":\"inputOtherFiles\",\"type\":{\"type\":\"struct\",\"fields\":[{\"name\":\"numFiles\",\"type\":\"long\",\"nullable\":false,\"metadata\":{}},{\"name\":\"size\",\"type\":\"long\",\"nullable\":false,\"metadata\":{}}]},\"nullable\":true,\"metadata\":{}},{\"name\":\"inputNumZCubes\",\"type\":\"long\",\"nullable\":false,\"metadata\":{}},{\"name\":\"mergedFiles\",\"type\":{\"type\":\"struct\",\"fields\":[{\"name\":\"numFiles\",\"type\":\"long\",\"nullable\":false,\"metadata\":{}},{\"name\":\"size\",\"type\":\"long\",\"nullable\":false,\"metadata\":{}}]},\"nullable\":true,\"metadata\":{}},{\"name\":\"numOutputZCubes\",\"type\":\"long\",\"nullable\":false,\"metadata\":{}}]},\"nullable\":true,\"metadata\":{}},{\"name\":\"numBins\",\"type\":\"long\",\"nullable\":false,\"metadata\":{}},{\"name\":\"numBatches\",\"type\":\"long\",\"nullable\":false,\"metadata\":{}},{\"name\":\"totalConsideredFiles\",\"type\":\"long\",\"nullable\":false,\"metadata\":{}},{\"name\":\"totalFilesSkipped\",\"type\":\"long\",\"nullable\":false,\"metadata\":{}},{\"name\":\"preserveInsertionOrder\",\"type\":\"boolean\",\"nullable\":false,\"metadata\":{}},{\"name\":\"numFilesSkippedToReduceWriteAmplification\",\"type\":\"long\",\"nullable\":false,\"metadata\":{}},{\"name\":\"numBytesSkippedToReduceWriteAmplification\",\"type\":\"long\",\"nullable\":false,\"metadata\":{}},{\"name\":\"startTimeMs\",\"type\":\"long\",\"nullable\":false,\"metadata\":{}},{\"name\":\"endTimeMs\",\"type\":\"long\",\"nullable\":false,\"metadata\":{}},{\"name\":\"totalClusterParallelism\",\"type\":\"long\",\"nullable\":false,\"metadata\":{}},{\"name\":\"totalScheduledTasks\",\"type\":\"long\",\"nullable\":false,\"metadata\":{}},{\"name\":\"autoCompactParallelismStats\",\"type\":{\"type\":\"struct\",\"fields\":[{\"name\":\"maxClusterActiveParallelism\",\"type\":\"long\",\"nullable\":true,\"metadata\":{}},{\"name\":\"minClusterActiveParallelism\",\"type\":\"long\",\"nullable\":true,\"metadata\":{}},{\"name\":\"maxSessionActiveParallelism\",\"type\":\"long\",\"nullable\":true,\"metadata\":{}},{\"name\":\"minSessionActiveParallelism\",\"type\":\"long\",\"nullable\":true,\"metadata\":{}}]},\"nullable\":true,\"metadata\":{}},{\"name\":\"deletionVectorStats\",\"type\":{\"type\":\"struct\",\"fields\":[{\"name\":\"numDeletionVectorsRemoved\",\"type\":\"long\",\"nullable\":false,\"metadata\":{}},{\"name\":\"numDeletionVectorRowsRemoved\",\"type\":\"long\",\"nullable\":false,\"metadata\":{}}]},\"nullable\":true,\"metadata\":{}},{\"name\":\"numTableColumns\",\"type\":\"long\",\"nullable\":false,\"metadata\":{}},{\"name\":\"numTableColumnsWithStats\",\"type\":\"long\",\"nullable\":false,\"metadata\":{}},{\"name\":\"totalTaskExecutionTimeMs\",\"type\":\"long\",\"nullable\":false,\"metadata\":{}},{\"name\":\"skippedArchivedFiles\",\"type\":\"long\",\"nullable\":false,\"metadata\":{}},{\"name\":\"clusteringMetrics\",\"type\":{\"type\":\"struct\",\"fields\":[{\"name\":\"sizeOfTableInBytesBeforeLazyClustering\",\"type\":\"long\",\"nullable\":false,\"metadata\":{}},{\"name\":\"isNewMetadataCreated\",\"type\":\"boolean\",\"nullable\":false,\"metadata\":{}},{\"name\":\"isPOTriggered\",\"type\":\"boolean\",\"nullable\":false,\"metadata\":{}},{\"name\":\"isFull\",\"type\":\"boolean\",\"nullable\":false,\"metadata\":{}},{\"name\":\"approxClusteringQuality\",\"type\":\"double\",\"nullable\":true,\"metadata\":{}},{\"name\":\"approxClusteringCoverage\",\"type\":\"double\",\"nullable\":true,\"metadata\":{}},{\"name\":\"numFilesSkippedWithoutStats\",\"type\":\"long\",\"nullable\":false,\"metadata\":{}},{\"name\":\"numFilesClassifiedToIntermediateNodes\",\"type\":\"long\",\"nullable\":false,\"metadata\":{}},{\"name\":\"sizeOfFilesClassifiedToIntermediateNodesInBytes\",\"type\":\"long\",\"nullable\":false,\"metadata\":{}},{\"name\":\"logicalSizeOfFilesClassifiedToIntermediateNodesInBytes\",\"type\":\"long\",\"nullable\":false,\"metadata\":{}},{\"name\":\"numFilesClassifiedToLeafNodes\",\"type\":\"long\",\"nullable\":false,\"metadata\":{}},{\"name\":\"sizeOfFilesClassifiedToLeafNodesInBytes\",\"type\":\"long\",\"nullable\":false,\"metadata\":{}},{\"name\":\"logicalSizeOfFilesClassifiedToLeafNodesInBytes\",\"type\":\"long\",\"nullable\":false,\"metadata\":{}},{\"name\":\"numThreadsForClassifier\",\"type\":\"integer\",\"nullable\":true,\"metadata\":{}},{\"name\":\"clusterThresholdStrategy\",\"type\":\"string\",\"nullable\":true,\"metadata\":{}},{\"name\":\"minFileSize\",\"type\":\"long\",\"nullable\":false,\"metadata\":{}},{\"name\":\"maxFileSize\",\"type\":\"long\",\"nullable\":false,\"metadata\":{}},{\"name\":\"nodeMinNumFilesToCompact\",\"type\":\"long\",\"nullable\":false,\"metadata\":{}},{\"name\":\"numIdealFiles\",\"type\":\"long\",\"nullable\":false,\"metadata\":{}},{\"name\":\"numIdealFilesWithTrimmedStringMaxValue\",\"type\":\"long\",\"nullable\":false,\"metadata\":{}},{\"name\":\"numClusteringTasksPlanned\",\"type\":\"integer\",\"nullable\":false,\"metadata\":{}},{\"name\":\"numCompactionTasksPlanned\",\"type\":\"integer\",\"nullable\":false,\"metadata\":{}},{\"name\":\"numOptimizeBatchesPlanned\",\"type\":\"integer\",\"nullable\":false,\"metadata\":{}},{\"name\":\"numLeafNodesExpanded\",\"type\":\"long\",\"nullable\":false,\"metadata\":{}},{\"name\":\"numLeafNodesClustered\",\"type\":\"long\",\"nullable\":false,\"metadata\":{}},{\"name\":\"numGetFilesForNodeCalls\",\"type\":\"long\",\"nullable\":false,\"metadata\":{}},{\"name\":\"numSamplingJobs\",\"type\":\"long\",\"nullable\":false,\"metadata\":{}},{\"name\":\"numLeafNodesCompacted\",\"type\":\"long\",\"nullable\":false,\"metadata\":{}},{\"name\":\"numIntermediateNodesCompacted\",\"type\":\"long\",\"nullable\":false,\"metadata\":{}},{\"name\":\"totalSizeOfDataToCompactInBytes\",\"type\":\"long\",\"nullable\":false,\"metadata\":{}},{\"name\":\"totalLogicalSizeOfDataToCompactInBytes\",\"type\":\"long\",\"nullable\":false,\"metadata\":{}},{\"name\":\"numIntermediateNodesClustered\",\"type\":\"long\",\"nullable\":false,\"metadata\":{}},{\"name\":\"numFilesSkippedAfterExpansion\",\"type\":\"long\",\"nullable\":false,\"metadata\":{}},{\"name\":\"totalSizeOfFilesSkippedAfterExpansionInBytes\",\"type\":\"long\",\"nullable\":false,\"metadata\":{}},{\"name\":\"totalLogicalSizeOfFilesSkippedAfterExpansionInBytes\",\"type\":\"long\",\"nullable\":false,\"metadata\":{}},{\"name\":\"totalSizeOfDataToRewriteInBytes\",\"type\":\"long\",\"nullable\":false,\"metadata\":{}},{\"name\":\"totalLogicalSizeOfDataToRewriteInBytes\",\"type\":\"long\",\"nullable\":false,\"metadata\":{}},{\"name\":\"timeMetrics\",\"type\":{\"type\":\"struct\",\"fields\":[{\"name\":\"classifierTimeMs\",\"type\":\"long\",\"nullable\":false,\"metadata\":{}},{\"name\":\"optimizerTimeMs\",\"type\":\"long\",\"nullable\":false,\"metadata\":{}},{\"name\":\"metadataLoadTimeMs\",\"type\":\"long\",\"nullable\":false,\"metadata\":{}},{\"name\":\"totalGetFilesForNodeCallsTimeMs\",\"type\":\"long\",\"nullable\":false,\"metadata\":{}},{\"name\":\"totalSamplingTimeMs\",\"type\":\"long\",\"nullable\":false,\"metadata\":{}},{\"name\":\"metadataCreationTimeMs\",\"type\":\"long\",\"nullable\":false,\"metadata\":{}}]},\"nullable\":true,\"metadata\":{}},{\"name\":\"maxOptimizeBatchesInParallel\",\"type\":\"long\",\"nullable\":false,\"metadata\":{}},{\"name\":\"currentIteration\",\"type\":\"integer\",\"nullable\":false,\"metadata\":{}},{\"name\":\"maxIterations\",\"type\":\"integer\",\"nullable\":false,\"metadata\":{}},{\"name\":\"clusteringStrategy\",\"type\":\"string\",\"nullable\":true,\"metadata\":{}}]},\"nullable\":true,\"metadata\":{}}]}"
        }
       ],
       "type": "table"
      }
     },
     "output_type": "display_data"
    }
   ],
   "source": [
    "%sql\n",
    "OPTIMIZE gold.team_performance_analysis\n",
    "ZORDER BY (name, total_points);"
   ]
  },
  {
   "cell_type": "markdown",
   "metadata": {
    "application/vnd.databricks.v1+cell": {
     "cellMetadata": {},
     "inputWidgets": {},
     "nuid": "fa3cca43-4875-436d-b5aa-188df9b50d91",
     "showTitle": false,
     "tableResultSettingsMap": {},
     "title": ""
    }
   },
   "source": [
    "**Save transfer market trends**"
   ]
  },
  {
   "cell_type": "code",
   "execution_count": 0,
   "metadata": {
    "application/vnd.databricks.v1+cell": {
     "cellMetadata": {
      "byteLimit": 2048000,
      "rowLimit": 10000
     },
     "inputWidgets": {},
     "nuid": "b6417a4d-7f2f-4335-ae17-7ea9127bf3b6",
     "showTitle": false,
     "tableResultSettingsMap": {},
     "title": ""
    }
   },
   "outputs": [
    {
     "output_type": "stream",
     "name": "stdout",
     "output_type": "stream",
     "text": [
      "Transfer market trends saved to the Delta table: gold.transfer_market_trends.\n"
     ]
    }
   ],
   "source": [
    "try:\n",
    "    # Log the start of the write operation\n",
    "    logging.info(\"Starting to save the transfer market trends to the Delta table: gold.transfer_market_trends.\")\n",
    "\n",
    "    # Save transfer market trends to Delta table\n",
    "    try:\n",
    "        df_transfer_trends.write.format(\"delta\") \\\n",
    "                          .mode(\"overwrite\") \\\n",
    "                          .option(\"mergeSchema\", \"true\") \\\n",
    "                          .saveAsTable(\"gold.transfer_market_trends\")\n",
    "        logging.info(\"Successfully saved the transfer market trends to the Delta table: gold.transfer_market_trends.\")\n",
    "        print(\"Transfer market trends saved to the Delta table: gold.transfer_market_trends.\")\n",
    "    except Exception as e:\n",
    "        logging.error(f\"Failed to save the transfer market trends to the Delta table. Error: {str(e)}\")\n",
    "        raise RuntimeError(f\"Error during Delta table write: {str(e)}\") from e\n",
    "\n",
    "except Exception as e:\n",
    "    logging.error(f\"Critical failure during the process. Error: {str(e)}\")\n",
    "    raise RuntimeError(f\"Critical failure: {str(e)}\") from e"
   ]
  },
  {
   "cell_type": "markdown",
   "metadata": {
    "application/vnd.databricks.v1+cell": {
     "cellMetadata": {},
     "inputWidgets": {},
     "nuid": "d88aefb1-25fa-4ae8-be9d-b755c3b0b027",
     "showTitle": false,
     "tableResultSettingsMap": {},
     "title": ""
    }
   },
   "source": [
    "**Optimize and Z-Order by transfer_season and avg_market_value**"
   ]
  },
  {
   "cell_type": "code",
   "execution_count": 0,
   "metadata": {
    "application/vnd.databricks.v1+cell": {
     "cellMetadata": {
      "byteLimit": 2048000,
      "implicitDf": true,
      "rowLimit": 10000
     },
     "inputWidgets": {},
     "nuid": "5194b968-d85a-44a9-b9d7-8983f5ae7269",
     "showTitle": false,
     "tableResultSettingsMap": {},
     "title": ""
    }
   },
   "outputs": [
    {
     "output_type": "display_data",
     "data": {
      "text/html": [
       "<style scoped>\n",
       "  .table-result-container {\n",
       "    max-height: 300px;\n",
       "    overflow: auto;\n",
       "  }\n",
       "  table, th, td {\n",
       "    border: 1px solid black;\n",
       "    border-collapse: collapse;\n",
       "  }\n",
       "  th, td {\n",
       "    padding: 5px;\n",
       "  }\n",
       "  th {\n",
       "    text-align: left;\n",
       "  }\n",
       "</style><div class='table-result-container'><table class='table-result'><thead style='background-color: white'><tr><th>path</th><th>metrics</th></tr></thead><tbody><tr><td>abfss://unity-catalog-storage@dbstoragebmlwakr3lruh6.dfs.core.windows.net/4332105040219628/__unitystorage/catalogs/882c4f0d-67c4-4c44-a2ce-e33636e464fc/tables/921228a9-0965-463b-8256-9e2b179cb328</td><td>List(0, 0, List(null, null, 0.0, 0, 0), List(null, null, 0.0, 0, 0), 0, List(minCubeSize(107374182400), List(0, 0), List(1, 1417), 0, List(0, 0), 0, null), null, 0, 0, 1, 1, false, 0, 0, 1742350847027, 1742350849343, 4, 0, null, List(0, 0), 3, 3, 0, 0, null)</td></tr></tbody></table></div>"
      ]
     },
     "metadata": {
      "application/vnd.databricks.v1+output": {
       "addedWidgets": {},
       "aggData": [],
       "aggError": "",
       "aggOverflow": false,
       "aggSchema": [],
       "aggSeriesLimitReached": false,
       "aggType": "",
       "arguments": {},
       "columnCustomDisplayInfos": {},
       "data": [
        [
         "abfss://unity-catalog-storage@dbstoragebmlwakr3lruh6.dfs.core.windows.net/4332105040219628/__unitystorage/catalogs/882c4f0d-67c4-4c44-a2ce-e33636e464fc/tables/921228a9-0965-463b-8256-9e2b179cb328",
         [
          0,
          0,
          [
           null,
           null,
           0.0,
           0,
           0
          ],
          [
           null,
           null,
           0.0,
           0,
           0
          ],
          0,
          [
           "minCubeSize(107374182400)",
           [
            0,
            0
           ],
           [
            1,
            1417
           ],
           0,
           [
            0,
            0
           ],
           0,
           null
          ],
          null,
          0,
          0,
          1,
          1,
          false,
          0,
          0,
          1742350847027,
          1742350849343,
          4,
          0,
          null,
          [
           0,
           0
          ],
          3,
          3,
          0,
          0,
          null
         ]
        ]
       ],
       "datasetInfos": [],
       "dbfsResultPath": null,
       "isJsonSchema": true,
       "metadata": {
        "createTempViewForImplicitDf": true,
        "dataframeName": "_sqldf",
        "executionCount": 48
       },
       "overflow": false,
       "plotOptions": {
        "customPlotOptions": {},
        "displayType": "table",
        "pivotAggregation": null,
        "pivotColumns": null,
        "xColumns": null,
        "yColumns": null
       },
       "removedWidgets": [],
       "schema": [
        {
         "metadata": "{}",
         "name": "path",
         "type": "\"string\""
        },
        {
         "metadata": "{}",
         "name": "metrics",
         "type": "{\"type\":\"struct\",\"fields\":[{\"name\":\"numFilesAdded\",\"type\":\"long\",\"nullable\":false,\"metadata\":{}},{\"name\":\"numFilesRemoved\",\"type\":\"long\",\"nullable\":false,\"metadata\":{}},{\"name\":\"filesAdded\",\"type\":{\"type\":\"struct\",\"fields\":[{\"name\":\"min\",\"type\":\"long\",\"nullable\":true,\"metadata\":{}},{\"name\":\"max\",\"type\":\"long\",\"nullable\":true,\"metadata\":{}},{\"name\":\"avg\",\"type\":\"double\",\"nullable\":false,\"metadata\":{}},{\"name\":\"totalFiles\",\"type\":\"long\",\"nullable\":false,\"metadata\":{}},{\"name\":\"totalSize\",\"type\":\"long\",\"nullable\":false,\"metadata\":{}}]},\"nullable\":true,\"metadata\":{}},{\"name\":\"filesRemoved\",\"type\":{\"type\":\"struct\",\"fields\":[{\"name\":\"min\",\"type\":\"long\",\"nullable\":true,\"metadata\":{}},{\"name\":\"max\",\"type\":\"long\",\"nullable\":true,\"metadata\":{}},{\"name\":\"avg\",\"type\":\"double\",\"nullable\":false,\"metadata\":{}},{\"name\":\"totalFiles\",\"type\":\"long\",\"nullable\":false,\"metadata\":{}},{\"name\":\"totalSize\",\"type\":\"long\",\"nullable\":false,\"metadata\":{}}]},\"nullable\":true,\"metadata\":{}},{\"name\":\"partitionsOptimized\",\"type\":\"long\",\"nullable\":false,\"metadata\":{}},{\"name\":\"zOrderStats\",\"type\":{\"type\":\"struct\",\"fields\":[{\"name\":\"strategyName\",\"type\":\"string\",\"nullable\":true,\"metadata\":{}},{\"name\":\"inputCubeFiles\",\"type\":{\"type\":\"struct\",\"fields\":[{\"name\":\"num\",\"type\":\"long\",\"nullable\":false,\"metadata\":{}},{\"name\":\"size\",\"type\":\"long\",\"nullable\":false,\"metadata\":{}}]},\"nullable\":true,\"metadata\":{}},{\"name\":\"inputOtherFiles\",\"type\":{\"type\":\"struct\",\"fields\":[{\"name\":\"num\",\"type\":\"long\",\"nullable\":false,\"metadata\":{}},{\"name\":\"size\",\"type\":\"long\",\"nullable\":false,\"metadata\":{}}]},\"nullable\":true,\"metadata\":{}},{\"name\":\"inputNumCubes\",\"type\":\"long\",\"nullable\":false,\"metadata\":{}},{\"name\":\"mergedFiles\",\"type\":{\"type\":\"struct\",\"fields\":[{\"name\":\"num\",\"type\":\"long\",\"nullable\":false,\"metadata\":{}},{\"name\":\"size\",\"type\":\"long\",\"nullable\":false,\"metadata\":{}}]},\"nullable\":true,\"metadata\":{}},{\"name\":\"numOutputCubes\",\"type\":\"long\",\"nullable\":false,\"metadata\":{}},{\"name\":\"mergedNumCubes\",\"type\":\"long\",\"nullable\":true,\"metadata\":{}}]},\"nullable\":true,\"metadata\":{}},{\"name\":\"clusteringStats\",\"type\":{\"type\":\"struct\",\"fields\":[{\"name\":\"inputZCubeFiles\",\"type\":{\"type\":\"struct\",\"fields\":[{\"name\":\"numFiles\",\"type\":\"long\",\"nullable\":false,\"metadata\":{}},{\"name\":\"size\",\"type\":\"long\",\"nullable\":false,\"metadata\":{}}]},\"nullable\":true,\"metadata\":{}},{\"name\":\"inputOtherFiles\",\"type\":{\"type\":\"struct\",\"fields\":[{\"name\":\"numFiles\",\"type\":\"long\",\"nullable\":false,\"metadata\":{}},{\"name\":\"size\",\"type\":\"long\",\"nullable\":false,\"metadata\":{}}]},\"nullable\":true,\"metadata\":{}},{\"name\":\"inputNumZCubes\",\"type\":\"long\",\"nullable\":false,\"metadata\":{}},{\"name\":\"mergedFiles\",\"type\":{\"type\":\"struct\",\"fields\":[{\"name\":\"numFiles\",\"type\":\"long\",\"nullable\":false,\"metadata\":{}},{\"name\":\"size\",\"type\":\"long\",\"nullable\":false,\"metadata\":{}}]},\"nullable\":true,\"metadata\":{}},{\"name\":\"numOutputZCubes\",\"type\":\"long\",\"nullable\":false,\"metadata\":{}}]},\"nullable\":true,\"metadata\":{}},{\"name\":\"numBins\",\"type\":\"long\",\"nullable\":false,\"metadata\":{}},{\"name\":\"numBatches\",\"type\":\"long\",\"nullable\":false,\"metadata\":{}},{\"name\":\"totalConsideredFiles\",\"type\":\"long\",\"nullable\":false,\"metadata\":{}},{\"name\":\"totalFilesSkipped\",\"type\":\"long\",\"nullable\":false,\"metadata\":{}},{\"name\":\"preserveInsertionOrder\",\"type\":\"boolean\",\"nullable\":false,\"metadata\":{}},{\"name\":\"numFilesSkippedToReduceWriteAmplification\",\"type\":\"long\",\"nullable\":false,\"metadata\":{}},{\"name\":\"numBytesSkippedToReduceWriteAmplification\",\"type\":\"long\",\"nullable\":false,\"metadata\":{}},{\"name\":\"startTimeMs\",\"type\":\"long\",\"nullable\":false,\"metadata\":{}},{\"name\":\"endTimeMs\",\"type\":\"long\",\"nullable\":false,\"metadata\":{}},{\"name\":\"totalClusterParallelism\",\"type\":\"long\",\"nullable\":false,\"metadata\":{}},{\"name\":\"totalScheduledTasks\",\"type\":\"long\",\"nullable\":false,\"metadata\":{}},{\"name\":\"autoCompactParallelismStats\",\"type\":{\"type\":\"struct\",\"fields\":[{\"name\":\"maxClusterActiveParallelism\",\"type\":\"long\",\"nullable\":true,\"metadata\":{}},{\"name\":\"minClusterActiveParallelism\",\"type\":\"long\",\"nullable\":true,\"metadata\":{}},{\"name\":\"maxSessionActiveParallelism\",\"type\":\"long\",\"nullable\":true,\"metadata\":{}},{\"name\":\"minSessionActiveParallelism\",\"type\":\"long\",\"nullable\":true,\"metadata\":{}}]},\"nullable\":true,\"metadata\":{}},{\"name\":\"deletionVectorStats\",\"type\":{\"type\":\"struct\",\"fields\":[{\"name\":\"numDeletionVectorsRemoved\",\"type\":\"long\",\"nullable\":false,\"metadata\":{}},{\"name\":\"numDeletionVectorRowsRemoved\",\"type\":\"long\",\"nullable\":false,\"metadata\":{}}]},\"nullable\":true,\"metadata\":{}},{\"name\":\"numTableColumns\",\"type\":\"long\",\"nullable\":false,\"metadata\":{}},{\"name\":\"numTableColumnsWithStats\",\"type\":\"long\",\"nullable\":false,\"metadata\":{}},{\"name\":\"totalTaskExecutionTimeMs\",\"type\":\"long\",\"nullable\":false,\"metadata\":{}},{\"name\":\"skippedArchivedFiles\",\"type\":\"long\",\"nullable\":false,\"metadata\":{}},{\"name\":\"clusteringMetrics\",\"type\":{\"type\":\"struct\",\"fields\":[{\"name\":\"sizeOfTableInBytesBeforeLazyClustering\",\"type\":\"long\",\"nullable\":false,\"metadata\":{}},{\"name\":\"isNewMetadataCreated\",\"type\":\"boolean\",\"nullable\":false,\"metadata\":{}},{\"name\":\"isPOTriggered\",\"type\":\"boolean\",\"nullable\":false,\"metadata\":{}},{\"name\":\"isFull\",\"type\":\"boolean\",\"nullable\":false,\"metadata\":{}},{\"name\":\"approxClusteringQuality\",\"type\":\"double\",\"nullable\":true,\"metadata\":{}},{\"name\":\"approxClusteringCoverage\",\"type\":\"double\",\"nullable\":true,\"metadata\":{}},{\"name\":\"numFilesSkippedWithoutStats\",\"type\":\"long\",\"nullable\":false,\"metadata\":{}},{\"name\":\"numFilesClassifiedToIntermediateNodes\",\"type\":\"long\",\"nullable\":false,\"metadata\":{}},{\"name\":\"sizeOfFilesClassifiedToIntermediateNodesInBytes\",\"type\":\"long\",\"nullable\":false,\"metadata\":{}},{\"name\":\"logicalSizeOfFilesClassifiedToIntermediateNodesInBytes\",\"type\":\"long\",\"nullable\":false,\"metadata\":{}},{\"name\":\"numFilesClassifiedToLeafNodes\",\"type\":\"long\",\"nullable\":false,\"metadata\":{}},{\"name\":\"sizeOfFilesClassifiedToLeafNodesInBytes\",\"type\":\"long\",\"nullable\":false,\"metadata\":{}},{\"name\":\"logicalSizeOfFilesClassifiedToLeafNodesInBytes\",\"type\":\"long\",\"nullable\":false,\"metadata\":{}},{\"name\":\"numThreadsForClassifier\",\"type\":\"integer\",\"nullable\":true,\"metadata\":{}},{\"name\":\"clusterThresholdStrategy\",\"type\":\"string\",\"nullable\":true,\"metadata\":{}},{\"name\":\"minFileSize\",\"type\":\"long\",\"nullable\":false,\"metadata\":{}},{\"name\":\"maxFileSize\",\"type\":\"long\",\"nullable\":false,\"metadata\":{}},{\"name\":\"nodeMinNumFilesToCompact\",\"type\":\"long\",\"nullable\":false,\"metadata\":{}},{\"name\":\"numIdealFiles\",\"type\":\"long\",\"nullable\":false,\"metadata\":{}},{\"name\":\"numIdealFilesWithTrimmedStringMaxValue\",\"type\":\"long\",\"nullable\":false,\"metadata\":{}},{\"name\":\"numClusteringTasksPlanned\",\"type\":\"integer\",\"nullable\":false,\"metadata\":{}},{\"name\":\"numCompactionTasksPlanned\",\"type\":\"integer\",\"nullable\":false,\"metadata\":{}},{\"name\":\"numOptimizeBatchesPlanned\",\"type\":\"integer\",\"nullable\":false,\"metadata\":{}},{\"name\":\"numLeafNodesExpanded\",\"type\":\"long\",\"nullable\":false,\"metadata\":{}},{\"name\":\"numLeafNodesClustered\",\"type\":\"long\",\"nullable\":false,\"metadata\":{}},{\"name\":\"numGetFilesForNodeCalls\",\"type\":\"long\",\"nullable\":false,\"metadata\":{}},{\"name\":\"numSamplingJobs\",\"type\":\"long\",\"nullable\":false,\"metadata\":{}},{\"name\":\"numLeafNodesCompacted\",\"type\":\"long\",\"nullable\":false,\"metadata\":{}},{\"name\":\"numIntermediateNodesCompacted\",\"type\":\"long\",\"nullable\":false,\"metadata\":{}},{\"name\":\"totalSizeOfDataToCompactInBytes\",\"type\":\"long\",\"nullable\":false,\"metadata\":{}},{\"name\":\"totalLogicalSizeOfDataToCompactInBytes\",\"type\":\"long\",\"nullable\":false,\"metadata\":{}},{\"name\":\"numIntermediateNodesClustered\",\"type\":\"long\",\"nullable\":false,\"metadata\":{}},{\"name\":\"numFilesSkippedAfterExpansion\",\"type\":\"long\",\"nullable\":false,\"metadata\":{}},{\"name\":\"totalSizeOfFilesSkippedAfterExpansionInBytes\",\"type\":\"long\",\"nullable\":false,\"metadata\":{}},{\"name\":\"totalLogicalSizeOfFilesSkippedAfterExpansionInBytes\",\"type\":\"long\",\"nullable\":false,\"metadata\":{}},{\"name\":\"totalSizeOfDataToRewriteInBytes\",\"type\":\"long\",\"nullable\":false,\"metadata\":{}},{\"name\":\"totalLogicalSizeOfDataToRewriteInBytes\",\"type\":\"long\",\"nullable\":false,\"metadata\":{}},{\"name\":\"timeMetrics\",\"type\":{\"type\":\"struct\",\"fields\":[{\"name\":\"classifierTimeMs\",\"type\":\"long\",\"nullable\":false,\"metadata\":{}},{\"name\":\"optimizerTimeMs\",\"type\":\"long\",\"nullable\":false,\"metadata\":{}},{\"name\":\"metadataLoadTimeMs\",\"type\":\"long\",\"nullable\":false,\"metadata\":{}},{\"name\":\"totalGetFilesForNodeCallsTimeMs\",\"type\":\"long\",\"nullable\":false,\"metadata\":{}},{\"name\":\"totalSamplingTimeMs\",\"type\":\"long\",\"nullable\":false,\"metadata\":{}},{\"name\":\"metadataCreationTimeMs\",\"type\":\"long\",\"nullable\":false,\"metadata\":{}}]},\"nullable\":true,\"metadata\":{}},{\"name\":\"maxOptimizeBatchesInParallel\",\"type\":\"long\",\"nullable\":false,\"metadata\":{}},{\"name\":\"currentIteration\",\"type\":\"integer\",\"nullable\":false,\"metadata\":{}},{\"name\":\"maxIterations\",\"type\":\"integer\",\"nullable\":false,\"metadata\":{}},{\"name\":\"clusteringStrategy\",\"type\":\"string\",\"nullable\":true,\"metadata\":{}}]},\"nullable\":true,\"metadata\":{}}]}"
        }
       ],
       "type": "table"
      }
     },
     "output_type": "display_data"
    }
   ],
   "source": [
    "%sql\n",
    "OPTIMIZE gold.transfer_market_trends\n",
    "ZORDER BY (transfer_season, avg_market_value);"
   ]
  },
  {
   "cell_type": "code",
   "execution_count": 0,
   "metadata": {
    "application/vnd.databricks.v1+cell": {
     "cellMetadata": {
      "byteLimit": 2048000,
      "rowLimit": 10000
     },
     "inputWidgets": {},
     "nuid": "4fb21710-b110-4985-9304-09a785332036",
     "showTitle": false,
     "tableResultSettingsMap": {},
     "title": ""
    }
   },
   "outputs": [],
   "source": []
  }
 ],
 "metadata": {
  "application/vnd.databricks.v1+notebook": {
   "computePreferences": null,
   "dashboards": [],
   "environmentMetadata": {
    "base_environment": "",
    "environment_version": "2"
   },
   "language": "python",
   "notebookMetadata": {
    "mostRecentlyExecutedCommandWithImplicitDF": {
     "commandId": 3708189654446362,
     "dataframes": [
      "_sqldf"
     ]
    },
    "pythonIndentUnit": 4
   },
   "notebookName": "03_aggregations_gold_layer",
   "widgets": {}
  },
  "language_info": {
   "name": "python"
  }
 },
 "nbformat": 4,
 "nbformat_minor": 0
}