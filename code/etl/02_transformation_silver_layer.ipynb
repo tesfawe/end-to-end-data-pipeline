{
 "cells": [
  {
   "cell_type": "markdown",
   "metadata": {
    "application/vnd.databricks.v1+cell": {
     "cellMetadata": {
      "byteLimit": 2048000,
      "rowLimit": 10000
     },
     "inputWidgets": {},
     "nuid": "aa7ee0af-ceeb-4913-a81d-56094e6f6590",
     "showTitle": false,
     "tableResultSettingsMap": {},
     "title": ""
    }
   },
   "source": [
    "### Data Cleaning and Transformation"
   ]
  },
  {
   "cell_type": "code",
   "execution_count": 0,
   "metadata": {
    "application/vnd.databricks.v1+cell": {
     "cellMetadata": {
      "byteLimit": 2048000,
      "implicitDf": true,
      "rowLimit": 10000
     },
     "inputWidgets": {},
     "nuid": "03d1e76e-b073-4c84-b518-eef1e609104c",
     "showTitle": false,
     "tableResultSettingsMap": {},
     "title": ""
    }
   },
   "outputs": [
    {
     "output_type": "display_data",
     "data": {
      "text/html": [
       "<style scoped>\n",
       "  .table-result-container {\n",
       "    max-height: 300px;\n",
       "    overflow: auto;\n",
       "  }\n",
       "  table, th, td {\n",
       "    border: 1px solid black;\n",
       "    border-collapse: collapse;\n",
       "  }\n",
       "  th, td {\n",
       "    padding: 5px;\n",
       "  }\n",
       "  th {\n",
       "    text-align: left;\n",
       "  }\n",
       "</style><div class='table-result-container'><table class='table-result'><thead style='background-color: white'><tr></tr></thead><tbody></tbody></table></div>"
      ]
     },
     "metadata": {
      "application/vnd.databricks.v1+output": {
       "addedWidgets": {},
       "aggData": [],
       "aggError": "",
       "aggOverflow": false,
       "aggSchema": [],
       "aggSeriesLimitReached": false,
       "aggType": "",
       "arguments": {},
       "columnCustomDisplayInfos": {},
       "data": [],
       "datasetInfos": [],
       "dbfsResultPath": null,
       "isJsonSchema": true,
       "metadata": {
        "dataframeName": null
       },
       "overflow": false,
       "plotOptions": {
        "customPlotOptions": {},
        "displayType": "table",
        "pivotAggregation": null,
        "pivotColumns": null,
        "xColumns": null,
        "yColumns": null
       },
       "removedWidgets": [],
       "schema": [],
       "type": "table"
      }
     },
     "output_type": "display_data"
    }
   ],
   "source": [
    "%sql\n",
    "CREATE SCHEMA IF NOT EXISTS silver"
   ]
  },
  {
   "cell_type": "code",
   "execution_count": 0,
   "metadata": {
    "application/vnd.databricks.v1+cell": {
     "cellMetadata": {
      "byteLimit": 2048000,
      "rowLimit": 10000
     },
     "inputWidgets": {},
     "nuid": "93ca153c-4421-452c-a792-89d029e4f1d9",
     "showTitle": false,
     "tableResultSettingsMap": {},
     "title": ""
    }
   },
   "outputs": [],
   "source": [
    "from pyspark.sql.functions import *"
   ]
  },
  {
   "cell_type": "code",
   "execution_count": 0,
   "metadata": {
    "application/vnd.databricks.v1+cell": {
     "cellMetadata": {
      "byteLimit": 2048000,
      "rowLimit": 10000
     },
     "inputWidgets": {},
     "nuid": "78d7c7dd-fa22-403d-8410-60770bf7090a",
     "showTitle": false,
     "tableResultSettingsMap": {},
     "title": ""
    }
   },
   "outputs": [],
   "source": [
    "%run /Workspace/Users/tesfamit03@gmail.com/code/utils/logging_utils"
   ]
  },
  {
   "cell_type": "code",
   "execution_count": 0,
   "metadata": {
    "application/vnd.databricks.v1+cell": {
     "cellMetadata": {
      "byteLimit": 2048000,
      "implicitDf": true,
      "rowLimit": 10000
     },
     "inputWidgets": {},
     "nuid": "67a6eff9-2acf-4454-93fa-d7f45bdff491",
     "showTitle": false,
     "tableResultSettingsMap": {},
     "title": ""
    }
   },
   "outputs": [
    {
     "output_type": "display_data",
     "data": {
      "text/html": [
       "<style scoped>\n",
       "  .table-result-container {\n",
       "    max-height: 300px;\n",
       "    overflow: auto;\n",
       "  }\n",
       "  table, th, td {\n",
       "    border: 1px solid black;\n",
       "    border-collapse: collapse;\n",
       "  }\n",
       "  th, td {\n",
       "    padding: 5px;\n",
       "  }\n",
       "  th {\n",
       "    text-align: left;\n",
       "  }\n",
       "</style><div class='table-result-container'><table class='table-result'><thead style='background-color: white'><tr></tr></thead><tbody></tbody></table></div>"
      ]
     },
     "metadata": {
      "application/vnd.databricks.v1+output": {
       "addedWidgets": {},
       "aggData": [],
       "aggError": "",
       "aggOverflow": false,
       "aggSchema": [],
       "aggSeriesLimitReached": false,
       "aggType": "",
       "arguments": {},
       "columnCustomDisplayInfos": {},
       "data": [],
       "datasetInfos": [],
       "dbfsResultPath": null,
       "isJsonSchema": true,
       "metadata": {
        "dataframeName": null
       },
       "overflow": false,
       "plotOptions": {
        "customPlotOptions": {},
        "displayType": "table",
        "pivotAggregation": null,
        "pivotColumns": null,
        "xColumns": null,
        "yColumns": null
       },
       "removedWidgets": [],
       "schema": [],
       "type": "table"
      }
     },
     "output_type": "display_data"
    }
   ],
   "source": [
    "%sql\n",
    "CREATE TABLE IF NOT EXISTS pipeline.silver_stats (\n",
    "    stage STRING,\n",
    "    source_table STRING,\n",
    "    target_table STRING,\n",
    "    start_time TIMESTAMP,\n",
    "    end_time TIMESTAMP,\n",
    "    processing_duration_seconds DOUBLE,\n",
    "    num_records_cleaned LONG,\n",
    "    error_message STRING,\n",
    "    timestamp TIMESTAMP\n",
    ") USING DELTA;"
   ]
  },
  {
   "cell_type": "markdown",
   "metadata": {
    "application/vnd.databricks.v1+cell": {
     "cellMetadata": {
      "byteLimit": 2048000,
      "rowLimit": 10000
     },
     "inputWidgets": {},
     "nuid": "11de8ba4-ad81-4de4-b024-b597b8c586e9",
     "showTitle": false,
     "tableResultSettingsMap": {},
     "title": ""
    }
   },
   "source": [
    "**Configuration for data cleaning and transformation**"
   ]
  },
  {
   "cell_type": "code",
   "execution_count": 0,
   "metadata": {
    "application/vnd.databricks.v1+cell": {
     "cellMetadata": {
      "byteLimit": 2048000,
      "rowLimit": 10000
     },
     "inputWidgets": {},
     "nuid": "c4b3c353-a2c4-425f-b1a2-9dfae3847d64",
     "showTitle": false,
     "tableResultSettingsMap": {},
     "title": ""
    }
   },
   "outputs": [],
   "source": [
    "silver_cleaning_config = [\n",
    "    {\n",
    "        \"source_table\": \"bronze.appearance\",\n",
    "        \"target_table\": \"silver.appearance\",\n",
    "        \"cleaning_rules\": {\n",
    "            \"fill_missing_values\": {\n",
    "                \"yellow_cards\": 0,\n",
    "                \"red_cards\": 0,\n",
    "                \"goals\": 0,\n",
    "                \"assists\": 0,\n",
    "                \"minutes_played\": 0\n",
    "            },\n",
    "            \"convert_to_date\": [\"date\"],\n",
    "            \"drop_duplicates\": True\n",
    "        }\n",
    "    },\n",
    "    {\n",
    "        \"source_table\": \"bronze.club_games\",\n",
    "        \"target_table\": \"silver.club_games\",\n",
    "        \"cleaning_rules\": {\n",
    "            \"fill_missing_values\": {\n",
    "                \"own_manager_name\": \"Unknown\",\n",
    "                \"opponent_manager_name\": \"Unknown\",\n",
    "                \"own_goals\": 0,\n",
    "                \"opponent_goals\": 0,\n",
    "                \"own_position\": -1,\n",
    "                \"opponent_position\": -1,\n",
    "                \"club_id\": -1,\n",
    "                \"opponent_id\": -1\n",
    "            },\n",
    "            \"cast_columns\": {\n",
    "                \"club_id\": \"int\",\n",
    "                \"game_id\": \"int\",\n",
    "                \"opponent_id\": \"int\",\n",
    "                \"own_goals\": \"int\",\n",
    "                \"opponent_goals\": \"int\",\n",
    "                \"is_win\": \"boolean\"\n",
    "            },\n",
    "            \"drop_duplicates\": True\n",
    "        }\n",
    "    },\n",
    "    {\n",
    "        \"source_table\": \"bronze.clubs\",\n",
    "        \"target_table\": \"silver.clubs\",\n",
    "        \"cleaning_rules\": {\n",
    "            \"drop_columns\": [\"total_market_value\", \"coach_name\"],\n",
    "            \"cast_columns\": {\n",
    "                \"club_id\": \"int\",\n",
    "                \"domestic_competition_id\": \"int\",\n",
    "                \"squad_size\": \"int\",\n",
    "                \"national_team_players\": \"int\",\n",
    "                \"stadium_seats\": \"int\",\n",
    "                \"last_season\": \"int\"\n",
    "            },\n",
    "            \"fill_missing_values\": {\n",
    "                \"club_code\": \"Unknown\",\n",
    "                \"name\": \"Unknown\",\n",
    "                \"domestic_competition_id\": 0,\n",
    "                \"foreigners_number\": 0,\n",
    "                \"foreigners_percentage\": 0.0,\n",
    "                \"stadium_name\": \"Unknown\",\n",
    "                \"stadium_seats\": 0,\n",
    "                \"net_transfer_record\": \"Unknown\",\n",
    "                \"filename\": \"Unknown\",\n",
    "                \"url\": \"Unknown\"\n",
    "            },\n",
    "            \"drop_duplicates\": True\n",
    "        }\n",
    "    },\n",
    "    {\n",
    "        \"source_table\": \"bronze.competitions\",\n",
    "        \"target_table\": \"silver.competitions\",\n",
    "        \"cleaning_rules\": {\n",
    "            \"drop_columns\": [\"url\"],\n",
    "            \"drop_duplicates\": True\n",
    "        }\n",
    "    },\n",
    "    {\n",
    "        \"source_table\": \"bronze.game_events\",\n",
    "        \"target_table\": \"silver.game_events\",\n",
    "        \"cleaning_rules\": {\n",
    "            \"drop_columns\": [\"player_in_id\", \"player_assist_id\"],\n",
    "            \"cast_columns\": {\n",
    "                \"game_id\": \"int\",\n",
    "                \"minute\": \"int\",\n",
    "                \"club_id\": \"int\",\n",
    "                \"player_id\": \"int\"\n",
    "            },\n",
    "            \"fill_missing_values\": {\n",
    "                \"description\": \"Unknown\"\n",
    "            },\n",
    "            \"drop_duplicates\": True\n",
    "        }\n",
    "    },\n",
    "    {\n",
    "        \"source_table\": \"bronze.game_lineups\",\n",
    "        \"target_table\": \"silver.game_lineups\",\n",
    "        \"cleaning_rules\": {\n",
    "            \"drop_columns\": [\"game_lineups_id\", \"team_captain\"],\n",
    "            \"cast_columns\": {\n",
    "                \"game_id\": \"int\",\n",
    "                \"player_id\": \"int\",\n",
    "                \"club_id\": \"int\",\n",
    "                \"number\": \"int\"\n",
    "            },\n",
    "            \"drop_duplicates\": True\n",
    "        }\n",
    "    },\n",
    "    {\n",
    "        \"source_table\": \"bronze.games\",\n",
    "        \"target_table\": \"silver.games\",\n",
    "        \"cleaning_rules\": {\n",
    "            \"drop_columns\": [\"aggregate\", \"url\"],\n",
    "            \"fill_missing_values\": {\n",
    "                \"home_club_formation\": \"Unknown\",\n",
    "                \"away_club_formation\": \"Unknown\",\n",
    "                \"stadium\": \"Unknown\",\n",
    "                \"referee\": \"Unknown\",\n",
    "                \"home_club_name\": \"Unknown\",\n",
    "                \"away_club_name\": \"Unknown\"\n",
    "            },\n",
    "            \"cast_columns\": {\n",
    "                \"game_id\": \"int\",\n",
    "                \"season\": \"int\",\n",
    "                \"home_club_id\": \"int\",\n",
    "                \"away_club_id\": \"int\",\n",
    "                \"home_club_goals\": \"int\",\n",
    "                \"away_club_goals\": \"int\",\n",
    "                \"home_club_position\": \"float\",\n",
    "                \"away_club_position\": \"float\",\n",
    "                \"attendance\": \"int\"\n",
    "            },\n",
    "            \"convert_to_date\": [\"date\"],\n",
    "            \"drop_duplicates\": True,\n",
    "            \"drop_na\": True\n",
    "        }\n",
    "    },\n",
    "    {\n",
    "        \"source_table\": \"bronze.player_valuations\",\n",
    "        \"target_table\": \"silver.player_valuations\",\n",
    "        \"cleaning_rules\": {\n",
    "            \"cast_columns\": {\n",
    "                \"market_value_in_eur\": \"float\"\n",
    "            },\n",
    "            \"convert_to_date\": [\"date\"],\n",
    "            \"drop_duplicates\": True\n",
    "        }\n",
    "    },\n",
    "    {\n",
    "        \"source_table\": \"bronze.players\",\n",
    "        \"target_table\": \"silver.players\",\n",
    "        \"cleaning_rules\": {\n",
    "            \"drop_columns\": [\"image_url\", \"url\", \"name\"],\n",
    "            \"fill_missing_values\": {\n",
    "                \"country_of_birth\": \"Unknown\",\n",
    "                \"city_of_birth\": \"Unknown\",\n",
    "                \"agent_name\": \"Unknown\",\n",
    "                \"foot\": \"Unknown\",\n",
    "                \"position\": \"Unknown\",\n",
    "                \"sub_position\": \"Unknown\",\n",
    "                \"market_value_in_eur\": 0.0,\n",
    "                \"highest_market_value_in_eur\": 0.0\n",
    "            },\n",
    "            \"cast_columns\": {\n",
    "                \"date_of_birth\": \"date\",\n",
    "                \"contract_expiration_date\": \"date\",\n",
    "                \"player_id\": \"int\",\n",
    "                \"current_club_id\": \"int\",\n",
    "                \"market_value_in_eur\": \"float\",\n",
    "                \"highest_market_value_in_eur\": \"float\"\n",
    "            },\n",
    "            \"drop_duplicates\": True,\n",
    "            \"drop_na\": True\n",
    "        }\n",
    "    },\n",
    "    {\n",
    "        \"source_table\": \"bronze.transfers\",\n",
    "        \"target_table\": \"silver.transfers\",\n",
    "        \"cleaning_rules\": {\n",
    "            \"drop_columns\": [\"transfer_fee\"],\n",
    "            \"convert_to_date\": [\"transfer_date\"],\n",
    "            \"fill_missing_values\": {\n",
    "                \"market_value_in_eur\": 0.0\n",
    "            },\n",
    "            \"drop_duplicates\": True,\n",
    "            \"drop_na\": True\n",
    "        }\n",
    "    }\n",
    "]"
   ]
  },
  {
   "cell_type": "markdown",
   "metadata": {
    "application/vnd.databricks.v1+cell": {
     "cellMetadata": {
      "byteLimit": 2048000,
      "rowLimit": 10000
     },
     "inputWidgets": {},
     "nuid": "a78bf91b-4b6d-4976-91f0-e6d083f2f12c",
     "showTitle": false,
     "tableResultSettingsMap": {},
     "title": ""
    }
   },
   "source": [
    "**Data Cleaning**"
   ]
  },
  {
   "cell_type": "code",
   "execution_count": 0,
   "metadata": {
    "application/vnd.databricks.v1+cell": {
     "cellMetadata": {
      "byteLimit": 2048000,
      "rowLimit": 10000
     },
     "inputWidgets": {},
     "nuid": "4c311773-f043-4e36-b7f7-e61b381a5eaa",
     "showTitle": false,
     "tableResultSettingsMap": {},
     "title": ""
    }
   },
   "outputs": [],
   "source": [
    "def clean_data(df, cleaning_rules):\n",
    "    \"\"\"\n",
    "    Cleans a DataFrame based on the provided cleaning rules.\n",
    "    :param df: The input DataFrame.\n",
    "    :param cleaning_rules: A dictionary of cleaning rules.\n",
    "    :return: The cleaned DataFrame.\n",
    "    \"\"\"\n",
    "    # Drop columns\n",
    "    if \"drop_columns\" in cleaning_rules:\n",
    "        df = df.drop(*cleaning_rules[\"drop_columns\"])\n",
    "    \n",
    "    # Fill missing values\n",
    "    if \"fill_missing_values\" in cleaning_rules:\n",
    "        df = df.fillna(cleaning_rules[\"fill_missing_values\"])\n",
    "    \n",
    "    # Cast columns to specified data types\n",
    "    if \"cast_columns\" in cleaning_rules:\n",
    "        for column, dtype in cleaning_rules[\"cast_columns\"].items():\n",
    "            if dtype == \"date\":\n",
    "                df = df.withColumn(column, to_date(col(column)))\n",
    "            else:\n",
    "                df = df.withColumn(column, col(column).cast(dtype))\n",
    "    \n",
    "    # Convert columns to DATE or TIMESTAMP\n",
    "    if \"convert_to_date\" in cleaning_rules:\n",
    "        for column in cleaning_rules[\"convert_to_date\"]:\n",
    "            df = df.withColumn(column, to_date(col(column)))\n",
    "    \n",
    "    # Handle conditional replacements\n",
    "    if \"replace_values\" in cleaning_rules:\n",
    "        for column, replacements in cleaning_rules[\"replace_values\"].items():\n",
    "            for old_value, new_value in replacements.items():\n",
    "                df = df.withColumn(column, when(col(column) == old_value, new_value).otherwise(col(column)))\n",
    "    \n",
    "    # Drop duplicates\n",
    "    if \"drop_duplicates\" in cleaning_rules and cleaning_rules[\"drop_duplicates\"]:\n",
    "        df = df.dropDuplicates()\n",
    "    \n",
    "    # Drop rows with null values\n",
    "    if \"drop_na\" in cleaning_rules and cleaning_rules[\"drop_na\"]:\n",
    "        df = df.dropna()\n",
    "    \n",
    "    return df"
   ]
  },
  {
   "cell_type": "markdown",
   "metadata": {
    "application/vnd.databricks.v1+cell": {
     "cellMetadata": {
      "byteLimit": 2048000,
      "rowLimit": 10000
     },
     "inputWidgets": {},
     "nuid": "b453d178-a646-4eaf-9ca1-7a6a7fabd473",
     "showTitle": false,
     "tableResultSettingsMap": {},
     "title": ""
    }
   },
   "source": [
    "**Transform and save as Delta Tables**"
   ]
  },
  {
   "cell_type": "code",
   "execution_count": 0,
   "metadata": {
    "application/vnd.databricks.v1+cell": {
     "cellMetadata": {
      "byteLimit": 2048000,
      "rowLimit": 10000
     },
     "inputWidgets": {},
     "nuid": "a478fcb8-b2c9-4a6f-9f10-9903868baa81",
     "showTitle": false,
     "tableResultSettingsMap": {},
     "title": ""
    }
   },
   "outputs": [
    {
     "output_type": "stream",
     "name": "stdout",
     "output_type": "stream",
     "text": [
      "Successfully processed bronze.appearance -> silver.appearance.\nSuccessfully processed bronze.club_games -> silver.club_games.\nSuccessfully processed bronze.clubs -> silver.clubs.\nSuccessfully processed bronze.competitions -> silver.competitions.\nSuccessfully processed bronze.game_events -> silver.game_events.\nSuccessfully processed bronze.game_lineups -> silver.game_lineups.\nSuccessfully processed bronze.games -> silver.games.\nSuccessfully processed bronze.player_valuations -> silver.player_valuations.\nSuccessfully processed bronze.players -> silver.players.\nSuccessfully processed bronze.transfers -> silver.transfers.\n"
     ]
    }
   ],
   "source": [
    "from pyspark.sql import SparkSession\n",
    "import datetime\n",
    "import logging\n",
    "\n",
    "# Configure structured logging\n",
    "logging.basicConfig(\n",
    "    level=logging.INFO,\n",
    "    format=\"%(asctime)s - %(levelname)s - %(module)s - %(message)s\",\n",
    "    handlers=[logging.StreamHandler()]\n",
    ")\n",
    "\n",
    "# Initialize Spark session\n",
    "spark = SparkSession.builder.getOrCreate()\n",
    "\n",
    "# Process each table in the configuration\n",
    "for config in silver_cleaning_config:\n",
    "    start_time = datetime.datetime.now()\n",
    "    source_table = None  # Initialize to handle potential errors\n",
    "    target_table = None  # Initialize to handle potential errors\n",
    "    try:\n",
    "        # Extract configuration details\n",
    "        source_table = config.get(\"source_table\")\n",
    "        target_table = config.get(\"target_table\")\n",
    "        cleaning_rules = config.get(\"cleaning_rules\")\n",
    "\n",
    "        # Validate inputs\n",
    "        if not all([source_table, target_table, cleaning_rules]):\n",
    "            error_message = f\"Missing required fields in configuration: {config}\"\n",
    "            logging.error(error_message)\n",
    "            raise ValueError(error_message)\n",
    "\n",
    "        logging.info(f\"Starting transformation process for table: {source_table} -> {target_table}\")\n",
    "\n",
    "        # Read the Bronze table\n",
    "        logging.info(f\"Reading Bronze table: {source_table}\")\n",
    "        df_bronze = spark.read.table(source_table)\n",
    "\n",
    "        # Clean the data\n",
    "        logging.info(f\"Cleaning data using rules: {cleaning_rules}\")\n",
    "        df_silver = clean_data(df_bronze, cleaning_rules)\n",
    "\n",
    "        # Write the cleaned data to the Silver table\n",
    "        logging.info(f\"Writing cleaned data to Silver table: {target_table}\")\n",
    "        df_silver.write.format(\"delta\") \\\n",
    "                 .mode(\"overwrite\") \\\n",
    "                 .option(\"mergeSchema\", \"true\") \\\n",
    "                 .saveAsTable(target_table)\n",
    "\n",
    "        end_time = datetime.datetime.now()\n",
    "        processing_duration = (end_time - start_time).total_seconds()\n",
    "\n",
    "        logging.info(f\"Successfully processed {source_table} -> {target_table}. Duration: {processing_duration} seconds.\")\n",
    "        print(f\"Successfully processed {source_table} -> {target_table}.\")\n",
    "\n",
    "        # Log metadata\n",
    "        log_pipeline_stats(\n",
    "            stage=\"transformation\",\n",
    "            stats={\n",
    "                \"source_table\": source_table,\n",
    "                \"target_table\": target_table,\n",
    "                \"start_time\": start_time,\n",
    "                \"end_time\": end_time,\n",
    "                \"processing_duration_seconds\": processing_duration,\n",
    "                \"num_records_cleaned\": df_silver.count()\n",
    "            },\n",
    "            table_name=\"pipeline.silver_stats\"\n",
    "        )\n",
    "\n",
    "    except Exception as e:\n",
    "        # Log errors if processing fails\n",
    "        end_time = datetime.datetime.now()\n",
    "        error_message = f\"Failed to process table: {source_table} -> {target_table}. Error: {str(e)}\"\n",
    "        logging.error(error_message)\n",
    "\n",
    "        # Log metadata for the failure\n",
    "        log_pipeline_stats(\n",
    "            stage=\"transformation\",\n",
    "            stats={\n",
    "                \"source_table\": source_table,\n",
    "                \"target_table\": target_table,\n",
    "                \"start_time\": start_time.isoformat() if start_time else None,  # Handle potential None\n",
    "                \"end_time\": end_time.isoformat(),\n",
    "                \"error_message\": str(e)\n",
    "            },\n",
    "            table_name=\"pipeline.silver_stats\"\n",
    "        )\n",
    "\n",
    "        logging.error(f\"Error details: {str(e)}\")\n",
    "        raise RuntimeError(error_message) from e"
   ]
  },
  {
   "cell_type": "code",
   "execution_count": 0,
   "metadata": {
    "application/vnd.databricks.v1+cell": {
     "cellMetadata": {
      "byteLimit": 2048000,
      "rowLimit": 10000
     },
     "inputWidgets": {},
     "nuid": "61e6178f-2e5a-4c2d-8130-ec5f3dd1468c",
     "showTitle": false,
     "tableResultSettingsMap": {},
     "title": ""
    }
   },
   "outputs": [],
   "source": []
  }
 ],
 "metadata": {
  "application/vnd.databricks.v1+notebook": {
   "computePreferences": null,
   "dashboards": [],
   "environmentMetadata": {
    "base_environment": "",
    "environment_version": "2"
   },
   "language": "python",
   "notebookMetadata": {
    "mostRecentlyExecutedCommandWithImplicitDF": {
     "commandId": 3612831496567469,
     "dataframes": [
      "_sqldf"
     ]
    },
    "pythonIndentUnit": 4
   },
   "notebookName": "02_transformation_silver_layer",
   "widgets": {}
  },
  "language_info": {
   "name": "python"
  }
 },
 "nbformat": 4,
 "nbformat_minor": 0
}